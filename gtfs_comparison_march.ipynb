{
 "cells": [
  {
   "cell_type": "code",
   "execution_count": 27,
   "id": "korean-financing",
   "metadata": {},
   "outputs": [],
   "source": [
    "import gtfs_kit as gk\n",
    "import os.path\n",
    "import geopandas as gpd\n",
    "import geoplot as gplt\n",
    "import datetime as dt\n",
    "import gtfs_functions as gtfs"
   ]
  },
  {
   "cell_type": "code",
   "execution_count": 2,
   "id": "intended-spain",
   "metadata": {},
   "outputs": [],
   "source": [
    "gtfs_dir = \"/mnt/c/Users/maita.schade/Nextcloud/Documents/Work/Gap_Map/raw/gtfs\"\n",
    "years = [2020, 2021]\n",
    "paths = {y: os.path.join(gtfs_dir,str(y),str(y)+\".zip\") for y in years}\n",
    "#feeds = {y: gk.read_feed(paths[y], dist_units='km') for y in years}"
   ]
  },
  {
   "cell_type": "markdown",
   "id": "bridal-alabama",
   "metadata": {},
   "source": [
    "Just March!"
   ]
  },
  {
   "cell_type": "markdown",
   "id": "guilty-thursday",
   "metadata": {},
   "source": [
    "Helper function to get gtfs_kit dates in range:"
   ]
  },
  {
   "cell_type": "code",
   "execution_count": 3,
   "id": "automated-royal",
   "metadata": {},
   "outputs": [],
   "source": [
    "def getGkDatesInRange(dt1, dt2):\n",
    "    dates = [dt1 + dt.timedelta(d) for d in range((dt2-dt1).days)]\n",
    "    return [gk.helpers.datestr_to_date(d, inverse=True) for d in dates]"
   ]
  },
  {
   "cell_type": "markdown",
   "id": "color-interstate",
   "metadata": {},
   "source": [
    "Restrict feeds..."
   ]
  },
  {
   "cell_type": "code",
   "execution_count": 4,
   "id": "literary-adrian",
   "metadata": {},
   "outputs": [
    {
     "name": "stderr",
     "output_type": "stream",
     "text": [
      "/home/mschade/anaconda3/envs/gapmapbox/lib/python3.9/site-packages/IPython/core/interactiveshell.py:3437: DtypeWarning: Columns (9) have mixed types.Specify dtype option on import or set low_memory=False.\n",
      "  exec(code_obj, self.user_global_ns, self.user_ns)\n"
     ]
    }
   ],
   "source": [
    "f20 = gk.read_feed(paths[2020], dist_units='km').restrict_to_dates(\n",
    "    getGkDatesInRange(dt.date(2020,3,1),dt.date(2020,4,1))\n",
    ")  "
   ]
  },
  {
   "cell_type": "code",
   "execution_count": null,
   "id": "c5119562",
   "metadata": {},
   "outputs": [],
   "source": [
    "f20.trips[\"shape_id\"] = 0"
   ]
  },
  {
   "cell_type": "code",
   "execution_count": 5,
   "id": "beginning-fabric",
   "metadata": {},
   "outputs": [],
   "source": [
    "f21 = gk.read_feed(paths[2021], dist_units='km').restrict_to_dates(\n",
    "    getGkDatesInRange(dt.date(2021,3,1),dt.date(2021,4,1))\n",
    ")  "
   ]
  },
  {
   "cell_type": "code",
   "execution_count": 40,
   "id": "63c4cda5",
   "metadata": {},
   "outputs": [],
   "source": [
    "f21.trips[\"shape_id\"] = 0"
   ]
  },
  {
   "cell_type": "markdown",
   "id": "97466e9c",
   "metadata": {},
   "source": [
    "Write out again to read with different package"
   ]
  },
  {
   "cell_type": "code",
   "execution_count": 26,
   "id": "2aabd254",
   "metadata": {},
   "outputs": [],
   "source": [
    "out_dir = \"/mnt/c/Users/maita.schade/Nextcloud/Documents/Work/Gap_Map/out\""
   ]
  },
  {
   "cell_type": "code",
   "execution_count": 41,
   "id": "resistant-cyprus",
   "metadata": {},
   "outputs": [],
   "source": [
    "f20.clean().write(os.path.join(out_dir, \"2020\", \"2020_mar.zip\"))"
   ]
  },
  {
   "cell_type": "code",
   "execution_count": 42,
   "id": "9048ed3c",
   "metadata": {},
   "outputs": [],
   "source": [
    "f21.clean().write(os.path.join(out_dir, \"2021\", \"2021_mar.zip\"))"
   ]
  },
  {
   "cell_type": "code",
   "execution_count": null,
   "id": "4db07e6d",
   "metadata": {},
   "outputs": [],
   "source": [
    "f20 = gtfs.import_gtfs(os.path.join(out_dir, \"2020\", \"2020_mar.zip\"), busiest_date=False)"
   ]
  },
  {
   "cell_type": "code",
   "execution_count": null,
   "id": "7dcb7b3b",
   "metadata": {},
   "outputs": [],
   "source": [
    "f21 = gtfs.import_gtfs(os.path.join(out_dir, \"2021\", \"2021_mar.zip\"), busiest_date=False)"
   ]
  },
  {
   "cell_type": "code",
   "execution_count": 46,
   "id": "3d032e7a",
   "metadata": {},
   "outputs": [],
   "source": [
    "f20 = {k:v for k,v in zip([\"routes\", \"stops\", \"stop_times\", \"trips\", \"shapes\"],f20)}"
   ]
  },
  {
   "cell_type": "code",
   "execution_count": 47,
   "id": "e135fae1",
   "metadata": {},
   "outputs": [],
   "source": [
    "f21 = {k:v for k,v in zip([\"routes\", \"stops\", \"stop_times\", \"trips\", \"shapes\"],f21)}"
   ]
  },
  {
   "cell_type": "code",
   "execution_count": 50,
   "id": "twelve-maine",
   "metadata": {},
   "outputs": [],
   "source": [
    "cutoffs = [0,24]\n",
    "stop_freq_21 = gtfs.stops_freq(f21[\"stop_times\"], f21[\"stops\"], cutoffs = cutoffs)"
   ]
  },
  {
   "cell_type": "code",
   "execution_count": 57,
   "id": "8e5235d7",
   "metadata": {},
   "outputs": [
    {
     "data": {
      "text/plain": [
       "<AxesSubplot:>"
      ]
     },
     "execution_count": 57,
     "metadata": {},
     "output_type": "execute_result"
    },
    {
     "data": {
      "image/png": "[encoded data removed]",
      "text/plain": [
       "<Figure size 432x288 with 2 Axes>"
      ]
     },
     "metadata": {
      "needs_background": "light"
     },
     "output_type": "display_data"
    }
   ],
   "source": [
    "stop_freq_21.plot(\"frequency\", legend=True)"
   ]
  },
  {
   "cell_type": "code",
   "execution_count": 54,
   "id": "8225c985",
   "metadata": {},
   "outputs": [],
   "source": [
    "stop_freq_20 = gtfs.stops_freq(f20[\"stop_times\"], f20[\"stops\"], cutoffs = cutoffs)"
   ]
  },
  {
   "cell_type": "code",
   "execution_count": 56,
   "id": "6b52d93c",
   "metadata": {},
   "outputs": [
    {
     "data": {
      "text/plain": [
       "<AxesSubplot:>"
      ]
     },
     "execution_count": 56,
     "metadata": {},
     "output_type": "execute_result"
    },
    {
     "data": {
      "image/png": "[encoded data removed]",
      "text/plain": [
       "<Figure size 432x288 with 2 Axes>"
      ]
     },
     "metadata": {
      "needs_background": "light"
     },
     "output_type": "display_data"
    }
   ],
   "source": [
    "stop_freq_20.plot(\"frequency\", legend=True)"
   ]
  },
  {
   "cell_type": "markdown",
   "id": "hired-foundation",
   "metadata": {},
   "source": [
    "Nach der zeitlichen Eingrenzung: ein Blick auf die räumliche, für die schlimmen Kreise."
   ]
  },
  {
   "cell_type": "code",
   "execution_count": 61,
   "id": "colored-study",
   "metadata": {},
   "outputs": [],
   "source": [
    "kreise_gdf = gpd.read_file(\"/mnt/c/Users/maita.schade/Nextcloud/Documents/Work/Gap_Map/raw/geo/vg250-ew_12-31.utm32s.shape.ebenen/vg250-ew_ebenen_1231/VG250_KRS.shp\"\n",
    "                          ).to_crs(\"epsg:4326\")\n",
    "positiv_kreise = kreise_gdf[kreise_gdf.GEN.isin([\"Harz\", \n",
    "                                                 \"Hameln-Pyrmont\", \n",
    "                                                 \"Märkischer Kreis\",\n",
    "                                                 \"Olpe\",\n",
    "                                                 \"Siegen-Wittgenstein\"\n",
    "                                                ])]\n",
    "negativ_kreise = kreise_gdf[kreise_gdf.GEN.isin([\"Wittenberg\",\n",
    "                                                 \"Leer\",\n",
    "                                                 \"Börde\"\n",
    "                                                ])]"
   ]
  },
  {
   "cell_type": "markdown",
   "id": "sealed-software",
   "metadata": {},
   "source": [
    "Erstmal Gebiet auf einen Kreis einschränken und schauen was passiert."
   ]
  },
  {
   "cell_type": "code",
   "execution_count": 63,
   "id": "absent-trial",
   "metadata": {},
   "outputs": [],
   "source": [
    "positiv_area = positiv_kreise[positiv_kreise.GEN==\"Harz\"]\n",
    "negativ_area = negativ_kreise[negativ_kreise.GEN==\"Wittenberg\"]"
   ]
  },
  {
   "cell_type": "code",
   "execution_count": 66,
   "id": "24685466",
   "metadata": {},
   "outputs": [
    {
     "data": {
      "text/plain": [
       "<AxesSubplot:>"
      ]
     },
     "execution_count": 66,
     "metadata": {},
     "output_type": "execute_result"
    },
    {
     "data": {
      "image/png": "[encoded data removed]",
      "text/plain": [
       "<Figure size 432x288 with 2 Axes>"
      ]
     },
     "metadata": {
      "needs_background": "light"
     },
     "output_type": "display_data"
    }
   ],
   "source": [
    "gpd.sjoin(stop_freq_20, positiv_area, op=\"within\").plot(\"frequency\",legend=True)"
   ]
  },
  {
   "cell_type": "markdown",
   "id": "available-brooks",
   "metadata": {},
   "source": [
    "Sehr interessant--haben wir wirklich fast doppelt so viele Haltestellen?!\n",
    "Schauen wir uns die mal an..."
   ]
  },
  {
   "cell_type": "code",
   "execution_count": 94,
   "id": "under-latvia",
   "metadata": {},
   "outputs": [
    {
     "data": {
      "text/plain": [
       "<AxesSubplot:>"
      ]
     },
     "execution_count": 94,
     "metadata": {},
     "output_type": "execute_result"
    },
    {
     "data": {
      "image/png": "[encoded data removed]",
      "text/plain": [
       "<Figure size 432x288 with 1 Axes>"
      ]
     },
     "metadata": {
      "needs_background": "light"
     },
     "output_type": "display_data"
    }
   ],
   "source": [
    "gpd.sjoin(gpd.GeoDataFrame(f20.stops, geometry=gpd.points_from_xy(f20.stops.stop_lon, f20.stops.stop_lat), crs=\"epsg:4326\"),\n",
    "          positiv_area, \n",
    "          op=\"within\").plot()"
   ]
  },
  {
   "cell_type": "code",
   "execution_count": 99,
   "id": "mineral-cement",
   "metadata": {},
   "outputs": [
    {
     "data": {
      "text/plain": [
       "168417"
      ]
     },
     "execution_count": 99,
     "metadata": {},
     "output_type": "execute_result"
    }
   ],
   "source": [
    "len(f21.stop_times)"
   ]
  },
  {
   "cell_type": "code",
   "execution_count": 95,
   "id": "unlimited-article",
   "metadata": {},
   "outputs": [
    {
     "data": {
      "text/plain": [
       "<AxesSubplot:>"
      ]
     },
     "execution_count": 95,
     "metadata": {},
     "output_type": "execute_result"
    },
    {
     "data": {
      "image/png": "[encoded data removed]",
      "text/plain": [
       "<Figure size 432x288 with 1 Axes>"
      ]
     },
     "metadata": {
      "needs_background": "light"
     },
     "output_type": "display_data"
    }
   ],
   "source": [
    "gpd.sjoin(gpd.GeoDataFrame(f21.stops, geometry=gpd.points_from_xy(f21.stops.stop_lon, f21.stops.stop_lat), crs=\"epsg:4326\"),\n",
    "          positiv_area, \n",
    "          op=\"within\").plot()"
   ]
  },
  {
   "cell_type": "code",
   "execution_count": 107,
   "id": "offensive-punch",
   "metadata": {},
   "outputs": [
    {
     "name": "stderr",
     "output_type": "stream",
     "text": [
      "/home/maita/anaconda3/envs/gapmapbox/lib/python3.9/site-packages/seaborn/_decorators.py:36: FutureWarning: Pass the following variable as a keyword arg: y. From version 0.12, the only valid positional argument will be `data`, and passing other arguments without an explicit keyword will result in an error or misinterpretation.\n",
      "  warnings.warn(\n",
      "/home/maita/anaconda3/envs/gapmapbox/lib/python3.9/site-packages/seaborn/distributions.py:1676: UserWarning: `shade_lowest` is now deprecated in favor of `thresh`. Setting `thresh=0.05`, but please update your code.\n",
      "  warnings.warn(msg, UserWarning)\n"
     ]
    },
    {
     "data": {
      "text/plain": [
       "<AxesSubplot:>"
      ]
     },
     "execution_count": 107,
     "metadata": {},
     "output_type": "execute_result"
    },
    {
     "data": {
      "image/png": "[encoded data removed]",
      "text/plain": [
       "<Figure size 576x432 with 1 Axes>"
      ]
     },
     "metadata": {
      "needs_background": "light"
     },
     "output_type": "display_data"
    }
   ],
   "source": [
    "gplt.kdeplot(gpd.sjoin(gpd.GeoDataFrame(f21.stops, geometry=gpd.points_from_xy(f21.stops.stop_lon, f21.stops.stop_lat), crs=\"epsg:4326\"),\n",
    "          positiv_area, \n",
    "          op=\"within\"))"
   ]
  },
  {
   "cell_type": "code",
   "execution_count": 108,
   "id": "official-favor",
   "metadata": {},
   "outputs": [
    {
     "name": "stderr",
     "output_type": "stream",
     "text": [
      "/home/maita/anaconda3/envs/gapmapbox/lib/python3.9/site-packages/seaborn/_decorators.py:36: FutureWarning: Pass the following variable as a keyword arg: y. From version 0.12, the only valid positional argument will be `data`, and passing other arguments without an explicit keyword will result in an error or misinterpretation.\n",
      "  warnings.warn(\n",
      "/home/maita/anaconda3/envs/gapmapbox/lib/python3.9/site-packages/seaborn/distributions.py:1676: UserWarning: `shade_lowest` is now deprecated in favor of `thresh`. Setting `thresh=0.05`, but please update your code.\n",
      "  warnings.warn(msg, UserWarning)\n"
     ]
    },
    {
     "data": {
      "text/plain": [
       "<AxesSubplot:>"
      ]
     },
     "execution_count": 108,
     "metadata": {},
     "output_type": "execute_result"
    },
    {
     "data": {
      "image/png": "[encoded data removed]",
      "text/plain": [
       "<Figure size 576x432 with 1 Axes>"
      ]
     },
     "metadata": {
      "needs_background": "light"
     },
     "output_type": "display_data"
    }
   ],
   "source": [
    "gplt.kdeplot(gpd.sjoin(gpd.GeoDataFrame(f20.stops, geometry=gpd.points_from_xy(f20.stops.stop_lon, f20.stops.stop_lat), crs=\"epsg:4326\"),\n",
    "          positiv_area, \n",
    "          op=\"within\"))"
   ]
  },
  {
   "cell_type": "code",
   "execution_count": 111,
   "id": "exceptional-correlation",
   "metadata": {},
   "outputs": [],
   "source": [
    "stops_harz_20 = gpd.sjoin(gpd.GeoDataFrame(f20.stops, geometry=gpd.points_from_xy(f20.stops.stop_lon, f20.stops.stop_lat), crs=\"epsg:4326\"),\n",
    "          positiv_area, \n",
    "          op=\"within\")"
   ]
  },
  {
   "cell_type": "code",
   "execution_count": 114,
   "id": "exterior-witness",
   "metadata": {},
   "outputs": [],
   "source": [
    "stops_harz_21 = gpd.sjoin(gpd.GeoDataFrame(f21.stops, geometry=gpd.points_from_xy(f21.stops.stop_lon, f21.stops.stop_lat), crs=\"epsg:4326\"),\n",
    "          positiv_area, \n",
    "          op=\"within\")"
   ]
  },
  {
   "cell_type": "code",
   "execution_count": 128,
   "id": "collect-recommendation",
   "metadata": {},
   "outputs": [],
   "source": [
    "stops_harz_21.drop([n for n in stops_harz_21.columns if \"index\" in n], axis=1,inplace=True)\n",
    "stops_harz_20.drop([n for n in stops_harz_20.columns if \"index\" in n], axis=1,inplace=True)"
   ]
  },
  {
   "cell_type": "code",
   "execution_count": 139,
   "id": "artistic-browse",
   "metadata": {},
   "outputs": [
    {
     "data": {
      "text/html": [
       "<div>\n",
       "<style scoped>\n",
       "    .dataframe tbody tr th:only-of-type {\n",
       "        vertical-align: middle;\n",
       "    }\n",
       "\n",
       "    .dataframe tbody tr th {\n",
       "        vertical-align: top;\n",
       "    }\n",
       "\n",
       "    .dataframe thead th {\n",
       "        text-align: right;\n",
       "    }\n",
       "</style>\n",
       "<table border=\"1\" class=\"dataframe\">\n",
       "  <thead>\n",
       "    <tr style=\"text-align: right;\">\n",
       "      <th></th>\n",
       "      <th>stop_id_left</th>\n",
       "      <th>stop_id_right</th>\n",
       "    </tr>\n",
       "  </thead>\n",
       "  <tbody>\n",
       "    <tr>\n",
       "      <th>2397</th>\n",
       "      <td>392342</td>\n",
       "      <td>392342</td>\n",
       "    </tr>\n",
       "    <tr>\n",
       "      <th>2398</th>\n",
       "      <td>49728</td>\n",
       "      <td>49728</td>\n",
       "    </tr>\n",
       "    <tr>\n",
       "      <th>2400</th>\n",
       "      <td>237849</td>\n",
       "      <td>49728</td>\n",
       "    </tr>\n",
       "    <tr>\n",
       "      <th>2398</th>\n",
       "      <td>49728</td>\n",
       "      <td>237849</td>\n",
       "    </tr>\n",
       "    <tr>\n",
       "      <th>2400</th>\n",
       "      <td>237849</td>\n",
       "      <td>237849</td>\n",
       "    </tr>\n",
       "    <tr>\n",
       "      <th>...</th>\n",
       "      <td>...</td>\n",
       "      <td>...</td>\n",
       "    </tr>\n",
       "    <tr>\n",
       "      <th>940924</th>\n",
       "      <td>925268</td>\n",
       "      <td>554741</td>\n",
       "    </tr>\n",
       "    <tr>\n",
       "      <th>942802</th>\n",
       "      <td>181215</td>\n",
       "      <td>181215</td>\n",
       "    </tr>\n",
       "    <tr>\n",
       "      <th>942803</th>\n",
       "      <td>23441</td>\n",
       "      <td>181215</td>\n",
       "    </tr>\n",
       "    <tr>\n",
       "      <th>942802</th>\n",
       "      <td>181215</td>\n",
       "      <td>23441</td>\n",
       "    </tr>\n",
       "    <tr>\n",
       "      <th>942803</th>\n",
       "      <td>23441</td>\n",
       "      <td>23441</td>\n",
       "    </tr>\n",
       "  </tbody>\n",
       "</table>\n",
       "<p>7917 rows × 2 columns</p>\n",
       "</div>"
      ],
      "text/plain": [
       "       stop_id_left stop_id_right\n",
       "2397         392342        392342\n",
       "2398          49728         49728\n",
       "2400         237849         49728\n",
       "2398          49728        237849\n",
       "2400         237849        237849\n",
       "...             ...           ...\n",
       "940924       925268        554741\n",
       "942802       181215        181215\n",
       "942803        23441        181215\n",
       "942802       181215         23441\n",
       "942803        23441         23441\n",
       "\n",
       "[7917 rows x 2 columns]"
      ]
     },
     "execution_count": 139,
     "metadata": {},
     "output_type": "execute_result"
    }
   ],
   "source": []
  },
  {
   "cell_type": "code",
   "execution_count": 166,
   "id": "chronic-tongue",
   "metadata": {},
   "outputs": [],
   "source": [
    "def uniqueGdf(gdf):\n",
    "    uni_gdf = gdf.iloc[[0]]\n",
    "    for i, r in gdf.iterrows():\n",
    "        if not (any([p.equals(r.geometry) for p in uni_gdf.geometry])):\n",
    "            uni_gdf = uni_gdf.append(r) \n",
    "    return uni_gdf"
   ]
  },
  {
   "cell_type": "code",
   "execution_count": 203,
   "id": "employed-combining",
   "metadata": {},
   "outputs": [],
   "source": [
    "point_counts_21 = gpd.sjoin(uni_gdf[[\"stop_id\",\"geometry\"]], stops_harz_21, op='intersects'\n",
    "         ).groupby(\"stop_id_left\"\n",
    "                  ).agg({\"stop_id_right\":\"count\",\n",
    "                         \"geometry\":\"first\", \n",
    "                         \"stop_name\":\"first\"\n",
    "                        })"
   ]
  },
  {
   "cell_type": "code",
   "execution_count": 204,
   "id": "resistant-kitty",
   "metadata": {},
   "outputs": [
    {
     "data": {
      "text/html": [
       "<div>\n",
       "<style scoped>\n",
       "    .dataframe tbody tr th:only-of-type {\n",
       "        vertical-align: middle;\n",
       "    }\n",
       "\n",
       "    .dataframe tbody tr th {\n",
       "        vertical-align: top;\n",
       "    }\n",
       "\n",
       "    .dataframe thead th {\n",
       "        text-align: right;\n",
       "    }\n",
       "</style>\n",
       "<table border=\"1\" class=\"dataframe\">\n",
       "  <thead>\n",
       "    <tr style=\"text-align: right;\">\n",
       "      <th></th>\n",
       "      <th>stop_id_right</th>\n",
       "      <th>geometry</th>\n",
       "      <th>stop_name</th>\n",
       "    </tr>\n",
       "    <tr>\n",
       "      <th>stop_id_left</th>\n",
       "      <th></th>\n",
       "      <th></th>\n",
       "      <th></th>\n",
       "    </tr>\n",
       "  </thead>\n",
       "  <tbody>\n",
       "    <tr>\n",
       "      <th>100636</th>\n",
       "      <td>2</td>\n",
       "      <td>POINT (11.11824 51.93056)</td>\n",
       "      <td>Groß Quenstedt Heerstr.</td>\n",
       "    </tr>\n",
       "    <tr>\n",
       "      <th>101037</th>\n",
       "      <td>2</td>\n",
       "      <td>POINT (11.25363 51.85048)</td>\n",
       "      <td>Hedersleben Neubauten L66</td>\n",
       "    </tr>\n",
       "    <tr>\n",
       "      <th>101161</th>\n",
       "      <td>2</td>\n",
       "      <td>POINT (10.84136 51.91468)</td>\n",
       "      <td>Mulmke Kreisstr.</td>\n",
       "    </tr>\n",
       "    <tr>\n",
       "      <th>102493</th>\n",
       "      <td>2</td>\n",
       "      <td>POINT (10.82037 51.97674)</td>\n",
       "      <td>Dardesheim Alter Bahnhof</td>\n",
       "    </tr>\n",
       "    <tr>\n",
       "      <th>102603</th>\n",
       "      <td>1</td>\n",
       "      <td>POINT (11.00846 51.90848)</td>\n",
       "      <td>Kosakengrab</td>\n",
       "    </tr>\n",
       "    <tr>\n",
       "      <th>...</th>\n",
       "      <td>...</td>\n",
       "      <td>...</td>\n",
       "      <td>...</td>\n",
       "    </tr>\n",
       "    <tr>\n",
       "      <th>98858</th>\n",
       "      <td>1</td>\n",
       "      <td>POINT (10.72649 51.77040)</td>\n",
       "      <td>Drei Annen Hohne Bf.</td>\n",
       "    </tr>\n",
       "    <tr>\n",
       "      <th>98910</th>\n",
       "      <td>3</td>\n",
       "      <td>POINT (11.04097 51.75330)</td>\n",
       "      <td>Thale Karl-Marx-Str.</td>\n",
       "    </tr>\n",
       "    <tr>\n",
       "      <th>991</th>\n",
       "      <td>1</td>\n",
       "      <td>POINT (11.02359 51.91115)</td>\n",
       "      <td>Sargstedter Siedlung</td>\n",
       "    </tr>\n",
       "    <tr>\n",
       "      <th>9952</th>\n",
       "      <td>1</td>\n",
       "      <td>POINT (11.24483 51.71888)</td>\n",
       "      <td>Ballenstedt Landgraben</td>\n",
       "    </tr>\n",
       "    <tr>\n",
       "      <th>99997</th>\n",
       "      <td>2</td>\n",
       "      <td>POINT (11.12464 51.66345)</td>\n",
       "      <td>Drahtzug</td>\n",
       "    </tr>\n",
       "  </tbody>\n",
       "</table>\n",
       "<p>1926 rows × 3 columns</p>\n",
       "</div>"
      ],
      "text/plain": [
       "              stop_id_right                   geometry  \\\n",
       "stop_id_left                                             \n",
       "100636                    2  POINT (11.11824 51.93056)   \n",
       "101037                    2  POINT (11.25363 51.85048)   \n",
       "101161                    2  POINT (10.84136 51.91468)   \n",
       "102493                    2  POINT (10.82037 51.97674)   \n",
       "102603                    1  POINT (11.00846 51.90848)   \n",
       "...                     ...                        ...   \n",
       "98858                     1  POINT (10.72649 51.77040)   \n",
       "98910                     3  POINT (11.04097 51.75330)   \n",
       "991                       1  POINT (11.02359 51.91115)   \n",
       "9952                      1  POINT (11.24483 51.71888)   \n",
       "99997                     2  POINT (11.12464 51.66345)   \n",
       "\n",
       "                              stop_name  \n",
       "stop_id_left                             \n",
       "100636          Groß Quenstedt Heerstr.  \n",
       "101037        Hedersleben Neubauten L66  \n",
       "101161                 Mulmke Kreisstr.  \n",
       "102493         Dardesheim Alter Bahnhof  \n",
       "102603                      Kosakengrab  \n",
       "...                                 ...  \n",
       "98858              Drei Annen Hohne Bf.  \n",
       "98910              Thale Karl-Marx-Str.  \n",
       "991                Sargstedter Siedlung  \n",
       "9952             Ballenstedt Landgraben  \n",
       "99997                          Drahtzug  \n",
       "\n",
       "[1926 rows x 3 columns]"
      ]
     },
     "execution_count": 204,
     "metadata": {},
     "output_type": "execute_result"
    }
   ],
   "source": [
    "point_counts_21"
   ]
  },
  {
   "cell_type": "code",
   "execution_count": 205,
   "id": "sustained-reducing",
   "metadata": {},
   "outputs": [
    {
     "data": {
      "text/plain": [
       "2    1094\n",
       "1     496\n",
       "3     333\n",
       "4       3\n",
       "Name: stop_id_right, dtype: int64"
      ]
     },
     "metadata": {},
     "output_type": "display_data"
    },
    {
     "name": "stdout",
     "output_type": "stream",
     "text": [
      "3695\n"
     ]
    }
   ],
   "source": [
    "display(point_counts_21.stop_id_right.value_counts())\n",
    "print(point_counts_21.stop_id_right.sum())"
   ]
  },
  {
   "cell_type": "code",
   "execution_count": 206,
   "id": "first-responsibility",
   "metadata": {},
   "outputs": [
    {
     "data": {
      "text/html": [
       "<div>\n",
       "<style scoped>\n",
       "    .dataframe tbody tr th:only-of-type {\n",
       "        vertical-align: middle;\n",
       "    }\n",
       "\n",
       "    .dataframe tbody tr th {\n",
       "        vertical-align: top;\n",
       "    }\n",
       "\n",
       "    .dataframe thead th {\n",
       "        text-align: right;\n",
       "    }\n",
       "</style>\n",
       "<table border=\"1\" class=\"dataframe\">\n",
       "  <thead>\n",
       "    <tr style=\"text-align: right;\">\n",
       "      <th></th>\n",
       "      <th>stop_id_right</th>\n",
       "      <th>geometry</th>\n",
       "      <th>stop_name</th>\n",
       "    </tr>\n",
       "    <tr>\n",
       "      <th>stop_id_left</th>\n",
       "      <th></th>\n",
       "      <th></th>\n",
       "      <th></th>\n",
       "    </tr>\n",
       "  </thead>\n",
       "  <tbody>\n",
       "    <tr>\n",
       "      <th>103329</th>\n",
       "      <td>3</td>\n",
       "      <td>POINT (11.33130 51.68451)</td>\n",
       "      <td>Wieserode</td>\n",
       "    </tr>\n",
       "    <tr>\n",
       "      <th>105896</th>\n",
       "      <td>3</td>\n",
       "      <td>POINT (10.73903 51.78809)</td>\n",
       "      <td>Wernigerode Drt_Drw 008 P8</td>\n",
       "    </tr>\n",
       "    <tr>\n",
       "      <th>109894</th>\n",
       "      <td>3</td>\n",
       "      <td>POINT (11.11911 51.60931)</td>\n",
       "      <td>Neudorf Kirche</td>\n",
       "    </tr>\n",
       "    <tr>\n",
       "      <th>116481</th>\n",
       "      <td>3</td>\n",
       "      <td>POINT (10.86625 52.01599)</td>\n",
       "      <td>Westerburg Burg</td>\n",
       "    </tr>\n",
       "    <tr>\n",
       "      <th>116718</th>\n",
       "      <td>3</td>\n",
       "      <td>POINT (11.05044 51.74773)</td>\n",
       "      <td>Thale H.-Heine Str.</td>\n",
       "    </tr>\n",
       "    <tr>\n",
       "      <th>...</th>\n",
       "      <td>...</td>\n",
       "      <td>...</td>\n",
       "      <td>...</td>\n",
       "    </tr>\n",
       "    <tr>\n",
       "      <th>943229</th>\n",
       "      <td>3</td>\n",
       "      <td>POINT (11.13922 51.64013)</td>\n",
       "      <td>Harzgerode Parkplatz</td>\n",
       "    </tr>\n",
       "    <tr>\n",
       "      <th>944087</th>\n",
       "      <td>3</td>\n",
       "      <td>POINT (10.90389 51.86727)</td>\n",
       "      <td>Derenburg Gewerbegebiet</td>\n",
       "    </tr>\n",
       "    <tr>\n",
       "      <th>946055</th>\n",
       "      <td>3</td>\n",
       "      <td>POINT (10.69046 51.86128)</td>\n",
       "      <td>Ilsenburg Sekundarschule</td>\n",
       "    </tr>\n",
       "    <tr>\n",
       "      <th>95710</th>\n",
       "      <td>3</td>\n",
       "      <td>POINT (11.14574 51.78749)</td>\n",
       "      <td>Quedlinburg Bildungshaus</td>\n",
       "    </tr>\n",
       "    <tr>\n",
       "      <th>98910</th>\n",
       "      <td>3</td>\n",
       "      <td>POINT (11.04097 51.75330)</td>\n",
       "      <td>Thale Karl-Marx-Str.</td>\n",
       "    </tr>\n",
       "  </tbody>\n",
       "</table>\n",
       "<p>336 rows × 3 columns</p>\n",
       "</div>"
      ],
      "text/plain": [
       "              stop_id_right                   geometry  \\\n",
       "stop_id_left                                             \n",
       "103329                    3  POINT (11.33130 51.68451)   \n",
       "105896                    3  POINT (10.73903 51.78809)   \n",
       "109894                    3  POINT (11.11911 51.60931)   \n",
       "116481                    3  POINT (10.86625 52.01599)   \n",
       "116718                    3  POINT (11.05044 51.74773)   \n",
       "...                     ...                        ...   \n",
       "943229                    3  POINT (11.13922 51.64013)   \n",
       "944087                    3  POINT (10.90389 51.86727)   \n",
       "946055                    3  POINT (10.69046 51.86128)   \n",
       "95710                     3  POINT (11.14574 51.78749)   \n",
       "98910                     3  POINT (11.04097 51.75330)   \n",
       "\n",
       "                               stop_name  \n",
       "stop_id_left                              \n",
       "103329                         Wieserode  \n",
       "105896        Wernigerode Drt_Drw 008 P8  \n",
       "109894                    Neudorf Kirche  \n",
       "116481                   Westerburg Burg  \n",
       "116718               Thale H.-Heine Str.  \n",
       "...                                  ...  \n",
       "943229              Harzgerode Parkplatz  \n",
       "944087           Derenburg Gewerbegebiet  \n",
       "946055          Ilsenburg Sekundarschule  \n",
       "95710           Quedlinburg Bildungshaus  \n",
       "98910               Thale Karl-Marx-Str.  \n",
       "\n",
       "[336 rows x 3 columns]"
      ]
     },
     "execution_count": 206,
     "metadata": {},
     "output_type": "execute_result"
    }
   ],
   "source": [
    "point_counts_21[point_counts_21.stop_id_right>2]"
   ]
  },
  {
   "cell_type": "code",
   "execution_count": 202,
   "id": "fresh-niger",
   "metadata": {},
   "outputs": [
    {
     "data": {
      "text/html": [
       "<div>\n",
       "<style scoped>\n",
       "    .dataframe tbody tr th:only-of-type {\n",
       "        vertical-align: middle;\n",
       "    }\n",
       "\n",
       "    .dataframe tbody tr th {\n",
       "        vertical-align: top;\n",
       "    }\n",
       "\n",
       "    .dataframe thead th {\n",
       "        text-align: right;\n",
       "    }\n",
       "</style>\n",
       "<table border=\"1\" class=\"dataframe\">\n",
       "  <thead>\n",
       "    <tr style=\"text-align: right;\">\n",
       "      <th></th>\n",
       "      <th>stop_name</th>\n",
       "      <th>parent_station</th>\n",
       "      <th>stop_code</th>\n",
       "      <th>stop_id</th>\n",
       "      <th>stop_lat</th>\n",
       "      <th>stop_lon</th>\n",
       "      <th>location_type</th>\n",
       "      <th>geometry</th>\n",
       "      <th>ADE</th>\n",
       "      <th>GF</th>\n",
       "      <th>...</th>\n",
       "      <th>NUTS</th>\n",
       "      <th>ARS_0</th>\n",
       "      <th>AGS_0</th>\n",
       "      <th>WSK</th>\n",
       "      <th>EWZ</th>\n",
       "      <th>KFL</th>\n",
       "      <th>DEBKG_ID</th>\n",
       "      <th>RS</th>\n",
       "      <th>SDV_RS</th>\n",
       "      <th>RS_0</th>\n",
       "    </tr>\n",
       "  </thead>\n",
       "  <tbody>\n",
       "    <tr>\n",
       "      <th>2407</th>\n",
       "      <td>Abbenrode Wendeplatz</td>\n",
       "      <td>NaN</td>\n",
       "      <td>NaN</td>\n",
       "      <td>199447</td>\n",
       "      <td>51.929550</td>\n",
       "      <td>10.626381</td>\n",
       "      <td>1.0</td>\n",
       "      <td>POINT (10.62638 51.92955)</td>\n",
       "      <td>4</td>\n",
       "      <td>4</td>\n",
       "      <td>...</td>\n",
       "      <td>DEE09</td>\n",
       "      <td>150850000000</td>\n",
       "      <td>15085000</td>\n",
       "      <td>2009-01-01</td>\n",
       "      <td>213310</td>\n",
       "      <td>2104.77</td>\n",
       "      <td>DEBKGDL20000E6Y3</td>\n",
       "      <td>15085</td>\n",
       "      <td>150850135135</td>\n",
       "      <td>150850000000</td>\n",
       "    </tr>\n",
       "    <tr>\n",
       "      <th>15102</th>\n",
       "      <td>Allrode Rosenweg</td>\n",
       "      <td>NaN</td>\n",
       "      <td>NaN</td>\n",
       "      <td>870686</td>\n",
       "      <td>51.674480</td>\n",
       "      <td>10.974545</td>\n",
       "      <td>1.0</td>\n",
       "      <td>POINT (10.97455 51.67448)</td>\n",
       "      <td>4</td>\n",
       "      <td>4</td>\n",
       "      <td>...</td>\n",
       "      <td>DEE09</td>\n",
       "      <td>150850000000</td>\n",
       "      <td>15085000</td>\n",
       "      <td>2009-01-01</td>\n",
       "      <td>213310</td>\n",
       "      <td>2104.77</td>\n",
       "      <td>DEBKGDL20000E6Y3</td>\n",
       "      <td>15085</td>\n",
       "      <td>150850135135</td>\n",
       "      <td>150850000000</td>\n",
       "    </tr>\n",
       "    <tr>\n",
       "      <th>25278</th>\n",
       "      <td>Am Silbernen Mann Drängetal Gleis 1</td>\n",
       "      <td>NaN</td>\n",
       "      <td>NaN</td>\n",
       "      <td>13286</td>\n",
       "      <td>51.798153</td>\n",
       "      <td>10.729809</td>\n",
       "      <td>1.0</td>\n",
       "      <td>POINT (10.72981 51.79815)</td>\n",
       "      <td>4</td>\n",
       "      <td>4</td>\n",
       "      <td>...</td>\n",
       "      <td>DEE09</td>\n",
       "      <td>150850000000</td>\n",
       "      <td>15085000</td>\n",
       "      <td>2009-01-01</td>\n",
       "      <td>213310</td>\n",
       "      <td>2104.77</td>\n",
       "      <td>DEBKGDL20000E6Y3</td>\n",
       "      <td>15085</td>\n",
       "      <td>150850135135</td>\n",
       "      <td>150850000000</td>\n",
       "    </tr>\n",
       "    <tr>\n",
       "      <th>25281</th>\n",
       "      <td>Am Silbernen Mann Drängetal Gleis 2</td>\n",
       "      <td>NaN</td>\n",
       "      <td>NaN</td>\n",
       "      <td>536534</td>\n",
       "      <td>51.798153</td>\n",
       "      <td>10.729896</td>\n",
       "      <td>1.0</td>\n",
       "      <td>POINT (10.72990 51.79815)</td>\n",
       "      <td>4</td>\n",
       "      <td>4</td>\n",
       "      <td>...</td>\n",
       "      <td>DEE09</td>\n",
       "      <td>150850000000</td>\n",
       "      <td>15085000</td>\n",
       "      <td>2009-01-01</td>\n",
       "      <td>213310</td>\n",
       "      <td>2104.77</td>\n",
       "      <td>DEBKGDL20000E6Y3</td>\n",
       "      <td>15085</td>\n",
       "      <td>150850135135</td>\n",
       "      <td>150850000000</td>\n",
       "    </tr>\n",
       "    <tr>\n",
       "      <th>56925</th>\n",
       "      <td>Bad Suderode Markt</td>\n",
       "      <td>NaN</td>\n",
       "      <td>NaN</td>\n",
       "      <td>670974</td>\n",
       "      <td>51.728565</td>\n",
       "      <td>11.120022</td>\n",
       "      <td>1.0</td>\n",
       "      <td>POINT (11.12002 51.72857)</td>\n",
       "      <td>4</td>\n",
       "      <td>4</td>\n",
       "      <td>...</td>\n",
       "      <td>DEE09</td>\n",
       "      <td>150850000000</td>\n",
       "      <td>15085000</td>\n",
       "      <td>2009-01-01</td>\n",
       "      <td>213310</td>\n",
       "      <td>2104.77</td>\n",
       "      <td>DEBKGDL20000E6Y3</td>\n",
       "      <td>15085</td>\n",
       "      <td>150850135135</td>\n",
       "      <td>150850000000</td>\n",
       "    </tr>\n",
       "    <tr>\n",
       "      <th>...</th>\n",
       "      <td>...</td>\n",
       "      <td>...</td>\n",
       "      <td>...</td>\n",
       "      <td>...</td>\n",
       "      <td>...</td>\n",
       "      <td>...</td>\n",
       "      <td>...</td>\n",
       "      <td>...</td>\n",
       "      <td>...</td>\n",
       "      <td>...</td>\n",
       "      <td>...</td>\n",
       "      <td>...</td>\n",
       "      <td>...</td>\n",
       "      <td>...</td>\n",
       "      <td>...</td>\n",
       "      <td>...</td>\n",
       "      <td>...</td>\n",
       "      <td>...</td>\n",
       "      <td>...</td>\n",
       "      <td>...</td>\n",
       "      <td>...</td>\n",
       "    </tr>\n",
       "    <tr>\n",
       "      <th>907213</th>\n",
       "      <td>Wienrode Harzstr.</td>\n",
       "      <td>NaN</td>\n",
       "      <td>NaN</td>\n",
       "      <td>732770</td>\n",
       "      <td>51.765965</td>\n",
       "      <td>10.972901</td>\n",
       "      <td>1.0</td>\n",
       "      <td>POINT (10.97290 51.76597)</td>\n",
       "      <td>4</td>\n",
       "      <td>4</td>\n",
       "      <td>...</td>\n",
       "      <td>DEE09</td>\n",
       "      <td>150850000000</td>\n",
       "      <td>15085000</td>\n",
       "      <td>2009-01-01</td>\n",
       "      <td>213310</td>\n",
       "      <td>2104.77</td>\n",
       "      <td>DEBKGDL20000E6Y3</td>\n",
       "      <td>15085</td>\n",
       "      <td>150850135135</td>\n",
       "      <td>150850000000</td>\n",
       "    </tr>\n",
       "    <tr>\n",
       "      <th>907221</th>\n",
       "      <td>Wienrode Mühlenstr.</td>\n",
       "      <td>NaN</td>\n",
       "      <td>NaN</td>\n",
       "      <td>394285</td>\n",
       "      <td>51.766594</td>\n",
       "      <td>10.973929</td>\n",
       "      <td>1.0</td>\n",
       "      <td>POINT (10.97393 51.76659)</td>\n",
       "      <td>4</td>\n",
       "      <td>4</td>\n",
       "      <td>...</td>\n",
       "      <td>DEE09</td>\n",
       "      <td>150850000000</td>\n",
       "      <td>15085000</td>\n",
       "      <td>2009-01-01</td>\n",
       "      <td>213310</td>\n",
       "      <td>2104.77</td>\n",
       "      <td>DEBKGDL20000E6Y3</td>\n",
       "      <td>15085</td>\n",
       "      <td>150850135135</td>\n",
       "      <td>150850000000</td>\n",
       "    </tr>\n",
       "    <tr>\n",
       "      <th>908954</th>\n",
       "      <td>Wieserode</td>\n",
       "      <td>NaN</td>\n",
       "      <td>NaN</td>\n",
       "      <td>103329</td>\n",
       "      <td>51.684513</td>\n",
       "      <td>11.331302</td>\n",
       "      <td>1.0</td>\n",
       "      <td>POINT (11.33130 51.68451)</td>\n",
       "      <td>4</td>\n",
       "      <td>4</td>\n",
       "      <td>...</td>\n",
       "      <td>DEE09</td>\n",
       "      <td>150850000000</td>\n",
       "      <td>15085000</td>\n",
       "      <td>2009-01-01</td>\n",
       "      <td>213310</td>\n",
       "      <td>2104.77</td>\n",
       "      <td>DEBKGDL20000E6Y3</td>\n",
       "      <td>15085</td>\n",
       "      <td>150850135135</td>\n",
       "      <td>150850000000</td>\n",
       "    </tr>\n",
       "    <tr>\n",
       "      <th>933287</th>\n",
       "      <td>Wülperode Zum Dören</td>\n",
       "      <td>NaN</td>\n",
       "      <td>NaN</td>\n",
       "      <td>491082</td>\n",
       "      <td>51.981240</td>\n",
       "      <td>10.601442</td>\n",
       "      <td>1.0</td>\n",
       "      <td>POINT (10.60144 51.98124)</td>\n",
       "      <td>4</td>\n",
       "      <td>4</td>\n",
       "      <td>...</td>\n",
       "      <td>DEE09</td>\n",
       "      <td>150850000000</td>\n",
       "      <td>15085000</td>\n",
       "      <td>2009-01-01</td>\n",
       "      <td>213310</td>\n",
       "      <td>2104.77</td>\n",
       "      <td>DEBKGDL20000E6Y3</td>\n",
       "      <td>15085</td>\n",
       "      <td>150850135135</td>\n",
       "      <td>150850000000</td>\n",
       "    </tr>\n",
       "    <tr>\n",
       "      <th>940917</th>\n",
       "      <td>Zilly Apotheke</td>\n",
       "      <td>NaN</td>\n",
       "      <td>NaN</td>\n",
       "      <td>629009</td>\n",
       "      <td>51.945778</td>\n",
       "      <td>10.824064</td>\n",
       "      <td>1.0</td>\n",
       "      <td>POINT (10.82406 51.94578)</td>\n",
       "      <td>4</td>\n",
       "      <td>4</td>\n",
       "      <td>...</td>\n",
       "      <td>DEE09</td>\n",
       "      <td>150850000000</td>\n",
       "      <td>15085000</td>\n",
       "      <td>2009-01-01</td>\n",
       "      <td>213310</td>\n",
       "      <td>2104.77</td>\n",
       "      <td>DEBKGDL20000E6Y3</td>\n",
       "      <td>15085</td>\n",
       "      <td>150850135135</td>\n",
       "      <td>150850000000</td>\n",
       "    </tr>\n",
       "  </tbody>\n",
       "</table>\n",
       "<p>336 rows × 36 columns</p>\n",
       "</div>"
      ],
      "text/plain": [
       "                                  stop_name parent_station stop_code stop_id  \\\n",
       "2407                   Abbenrode Wendeplatz            NaN       NaN  199447   \n",
       "15102                      Allrode Rosenweg            NaN       NaN  870686   \n",
       "25278   Am Silbernen Mann Drängetal Gleis 1            NaN       NaN   13286   \n",
       "25281   Am Silbernen Mann Drängetal Gleis 2            NaN       NaN  536534   \n",
       "56925                    Bad Suderode Markt            NaN       NaN  670974   \n",
       "...                                     ...            ...       ...     ...   \n",
       "907213                    Wienrode Harzstr.            NaN       NaN  732770   \n",
       "907221                  Wienrode Mühlenstr.            NaN       NaN  394285   \n",
       "908954                            Wieserode            NaN       NaN  103329   \n",
       "933287                  Wülperode Zum Dören            NaN       NaN  491082   \n",
       "940917                       Zilly Apotheke            NaN       NaN  629009   \n",
       "\n",
       "         stop_lat   stop_lon  location_type                   geometry  ADE  \\\n",
       "2407    51.929550  10.626381            1.0  POINT (10.62638 51.92955)    4   \n",
       "15102   51.674480  10.974545            1.0  POINT (10.97455 51.67448)    4   \n",
       "25278   51.798153  10.729809            1.0  POINT (10.72981 51.79815)    4   \n",
       "25281   51.798153  10.729896            1.0  POINT (10.72990 51.79815)    4   \n",
       "56925   51.728565  11.120022            1.0  POINT (11.12002 51.72857)    4   \n",
       "...           ...        ...            ...                        ...  ...   \n",
       "907213  51.765965  10.972901            1.0  POINT (10.97290 51.76597)    4   \n",
       "907221  51.766594  10.973929            1.0  POINT (10.97393 51.76659)    4   \n",
       "908954  51.684513  11.331302            1.0  POINT (11.33130 51.68451)    4   \n",
       "933287  51.981240  10.601442            1.0  POINT (10.60144 51.98124)    4   \n",
       "940917  51.945778  10.824064            1.0  POINT (10.82406 51.94578)    4   \n",
       "\n",
       "        GF  ...   NUTS         ARS_0     AGS_0         WSK     EWZ      KFL  \\\n",
       "2407     4  ...  DEE09  150850000000  15085000  2009-01-01  213310  2104.77   \n",
       "15102    4  ...  DEE09  150850000000  15085000  2009-01-01  213310  2104.77   \n",
       "25278    4  ...  DEE09  150850000000  15085000  2009-01-01  213310  2104.77   \n",
       "25281    4  ...  DEE09  150850000000  15085000  2009-01-01  213310  2104.77   \n",
       "56925    4  ...  DEE09  150850000000  15085000  2009-01-01  213310  2104.77   \n",
       "...     ..  ...    ...           ...       ...         ...     ...      ...   \n",
       "907213   4  ...  DEE09  150850000000  15085000  2009-01-01  213310  2104.77   \n",
       "907221   4  ...  DEE09  150850000000  15085000  2009-01-01  213310  2104.77   \n",
       "908954   4  ...  DEE09  150850000000  15085000  2009-01-01  213310  2104.77   \n",
       "933287   4  ...  DEE09  150850000000  15085000  2009-01-01  213310  2104.77   \n",
       "940917   4  ...  DEE09  150850000000  15085000  2009-01-01  213310  2104.77   \n",
       "\n",
       "                DEBKG_ID     RS        SDV_RS          RS_0  \n",
       "2407    DEBKGDL20000E6Y3  15085  150850135135  150850000000  \n",
       "15102   DEBKGDL20000E6Y3  15085  150850135135  150850000000  \n",
       "25278   DEBKGDL20000E6Y3  15085  150850135135  150850000000  \n",
       "25281   DEBKGDL20000E6Y3  15085  150850135135  150850000000  \n",
       "56925   DEBKGDL20000E6Y3  15085  150850135135  150850000000  \n",
       "...                  ...    ...           ...           ...  \n",
       "907213  DEBKGDL20000E6Y3  15085  150850135135  150850000000  \n",
       "907221  DEBKGDL20000E6Y3  15085  150850135135  150850000000  \n",
       "908954  DEBKGDL20000E6Y3  15085  150850135135  150850000000  \n",
       "933287  DEBKGDL20000E6Y3  15085  150850135135  150850000000  \n",
       "940917  DEBKGDL20000E6Y3  15085  150850135135  150850000000  \n",
       "\n",
       "[336 rows x 36 columns]"
      ]
     },
     "execution_count": 202,
     "metadata": {},
     "output_type": "execute_result"
    }
   ],
   "source": [
    "stops_harz_21[stops_harz_21.stop_id.isin(point_counts_21[point_counts_21.stop_id_right>2].index)]"
   ]
  },
  {
   "cell_type": "code",
   "execution_count": 192,
   "id": "powerful-hands",
   "metadata": {
    "scrolled": true
   },
   "outputs": [
    {
     "ename": "KeyboardInterrupt",
     "evalue": "",
     "output_type": "error",
     "traceback": [
      "\u001b[0;31m---------------------------------------------------------------------------\u001b[0m",
      "\u001b[0;31mKeyboardInterrupt\u001b[0m                         Traceback (most recent call last)",
      "\u001b[0;32m<ipython-input-192-0234e42b477a>\u001b[0m in \u001b[0;36m<module>\u001b[0;34m\u001b[0m\n\u001b[0;32m----> 1\u001b[0;31m point_counts_20 = gpd.sjoin(uniqueGdf(stops_harz_20)[[\"stop_id\",\"geometry\"]],\n\u001b[0m\u001b[1;32m      2\u001b[0m                             \u001b[0mstops_harz_20\u001b[0m\u001b[0;34m,\u001b[0m\u001b[0;34m\u001b[0m\u001b[0;34m\u001b[0m\u001b[0m\n\u001b[1;32m      3\u001b[0m                             \u001b[0mop\u001b[0m\u001b[0;34m=\u001b[0m\u001b[0;34m'intersects'\u001b[0m\u001b[0;34m\u001b[0m\u001b[0;34m\u001b[0m\u001b[0m\n\u001b[1;32m      4\u001b[0m          \u001b[0;34m)\u001b[0m\u001b[0;34m.\u001b[0m\u001b[0mgroupby\u001b[0m\u001b[0;34m(\u001b[0m\u001b[0;34m\"stop_id_left\"\u001b[0m\u001b[0;34m\u001b[0m\u001b[0;34m\u001b[0m\u001b[0m\n\u001b[1;32m      5\u001b[0m                   ).agg({\"stop_id_right\":\"count\",\n",
      "\u001b[0;32m<ipython-input-166-8433d6bbdb75>\u001b[0m in \u001b[0;36muniqueGdf\u001b[0;34m(gdf)\u001b[0m\n\u001b[1;32m      3\u001b[0m     \u001b[0;32mfor\u001b[0m \u001b[0mi\u001b[0m\u001b[0;34m,\u001b[0m \u001b[0mr\u001b[0m \u001b[0;32min\u001b[0m \u001b[0mstops_harz_21\u001b[0m\u001b[0;34m.\u001b[0m\u001b[0miterrows\u001b[0m\u001b[0;34m(\u001b[0m\u001b[0;34m)\u001b[0m\u001b[0;34m:\u001b[0m\u001b[0;34m\u001b[0m\u001b[0;34m\u001b[0m\u001b[0m\n\u001b[1;32m      4\u001b[0m         \u001b[0;32mif\u001b[0m \u001b[0;32mnot\u001b[0m \u001b[0;34m(\u001b[0m\u001b[0many\u001b[0m\u001b[0;34m(\u001b[0m\u001b[0;34m[\u001b[0m\u001b[0mp\u001b[0m\u001b[0;34m.\u001b[0m\u001b[0mequals\u001b[0m\u001b[0;34m(\u001b[0m\u001b[0mr\u001b[0m\u001b[0;34m.\u001b[0m\u001b[0mgeometry\u001b[0m\u001b[0;34m)\u001b[0m \u001b[0;32mfor\u001b[0m \u001b[0mp\u001b[0m \u001b[0;32min\u001b[0m \u001b[0muni_gdf\u001b[0m\u001b[0;34m.\u001b[0m\u001b[0mgeometry\u001b[0m\u001b[0;34m]\u001b[0m\u001b[0;34m)\u001b[0m\u001b[0;34m)\u001b[0m\u001b[0;34m:\u001b[0m\u001b[0;34m\u001b[0m\u001b[0;34m\u001b[0m\u001b[0m\n\u001b[0;32m----> 5\u001b[0;31m             \u001b[0muni_gdf\u001b[0m \u001b[0;34m=\u001b[0m \u001b[0muni_gdf\u001b[0m\u001b[0;34m.\u001b[0m\u001b[0mappend\u001b[0m\u001b[0;34m(\u001b[0m\u001b[0mr\u001b[0m\u001b[0;34m)\u001b[0m\u001b[0;34m\u001b[0m\u001b[0;34m\u001b[0m\u001b[0m\n\u001b[0m\u001b[1;32m      6\u001b[0m     \u001b[0;32mreturn\u001b[0m \u001b[0muni_gdf\u001b[0m\u001b[0;34m\u001b[0m\u001b[0;34m\u001b[0m\u001b[0m\n",
      "\u001b[0;32m~/anaconda3/envs/gapmapbox/lib/python3.9/site-packages/pandas/core/frame.py\u001b[0m in \u001b[0;36mappend\u001b[0;34m(self, other, ignore_index, verify_integrity, sort)\u001b[0m\n\u001b[1;32m   7955\u001b[0m                 \u001b[0mcombined_columns\u001b[0m \u001b[0;34m=\u001b[0m \u001b[0mself\u001b[0m\u001b[0;34m.\u001b[0m\u001b[0mcolumns\u001b[0m\u001b[0;34m.\u001b[0m\u001b[0mastype\u001b[0m\u001b[0;34m(\u001b[0m\u001b[0mobject\u001b[0m\u001b[0;34m)\u001b[0m\u001b[0;34m.\u001b[0m\u001b[0mappend\u001b[0m\u001b[0;34m(\u001b[0m\u001b[0midx_diff\u001b[0m\u001b[0;34m)\u001b[0m\u001b[0;34m\u001b[0m\u001b[0;34m\u001b[0m\u001b[0m\n\u001b[1;32m   7956\u001b[0m             other = (\n\u001b[0;32m-> 7957\u001b[0;31m                 \u001b[0mother\u001b[0m\u001b[0;34m.\u001b[0m\u001b[0mreindex\u001b[0m\u001b[0;34m(\u001b[0m\u001b[0mcombined_columns\u001b[0m\u001b[0;34m,\u001b[0m \u001b[0mcopy\u001b[0m\u001b[0;34m=\u001b[0m\u001b[0;32mFalse\u001b[0m\u001b[0;34m)\u001b[0m\u001b[0;34m\u001b[0m\u001b[0;34m\u001b[0m\u001b[0m\n\u001b[0m\u001b[1;32m   7958\u001b[0m                 \u001b[0;34m.\u001b[0m\u001b[0mto_frame\u001b[0m\u001b[0;34m(\u001b[0m\u001b[0;34m)\u001b[0m\u001b[0;34m\u001b[0m\u001b[0;34m\u001b[0m\u001b[0m\n\u001b[1;32m   7959\u001b[0m                 \u001b[0;34m.\u001b[0m\u001b[0mT\u001b[0m\u001b[0;34m.\u001b[0m\u001b[0minfer_objects\u001b[0m\u001b[0;34m(\u001b[0m\u001b[0;34m)\u001b[0m\u001b[0;34m\u001b[0m\u001b[0;34m\u001b[0m\u001b[0m\n",
      "\u001b[0;32m~/anaconda3/envs/gapmapbox/lib/python3.9/site-packages/pandas/core/generic.py\u001b[0m in \u001b[0;36minfer_objects\u001b[0;34m(self)\u001b[0m\n\u001b[1;32m   6087\u001b[0m         \u001b[0;31m# native numpy numeric types\u001b[0m\u001b[0;34m\u001b[0m\u001b[0;34m\u001b[0m\u001b[0;34m\u001b[0m\u001b[0m\n\u001b[1;32m   6088\u001b[0m         return self._constructor(\n\u001b[0;32m-> 6089\u001b[0;31m             \u001b[0mself\u001b[0m\u001b[0;34m.\u001b[0m\u001b[0m_mgr\u001b[0m\u001b[0;34m.\u001b[0m\u001b[0mconvert\u001b[0m\u001b[0;34m(\u001b[0m\u001b[0mdatetime\u001b[0m\u001b[0;34m=\u001b[0m\u001b[0;32mTrue\u001b[0m\u001b[0;34m,\u001b[0m \u001b[0mnumeric\u001b[0m\u001b[0;34m=\u001b[0m\u001b[0;32mFalse\u001b[0m\u001b[0;34m,\u001b[0m \u001b[0mtimedelta\u001b[0m\u001b[0;34m=\u001b[0m\u001b[0;32mTrue\u001b[0m\u001b[0;34m,\u001b[0m \u001b[0mcopy\u001b[0m\u001b[0;34m=\u001b[0m\u001b[0;32mTrue\u001b[0m\u001b[0;34m)\u001b[0m\u001b[0;34m\u001b[0m\u001b[0;34m\u001b[0m\u001b[0m\n\u001b[0m\u001b[1;32m   6090\u001b[0m         ).__finalize__(self, method=\"infer_objects\")\n\u001b[1;32m   6091\u001b[0m \u001b[0;34m\u001b[0m\u001b[0m\n",
      "\u001b[0;32m~/anaconda3/envs/gapmapbox/lib/python3.9/site-packages/pandas/core/internals/managers.py\u001b[0m in \u001b[0;36mconvert\u001b[0;34m(self, copy, datetime, numeric, timedelta)\u001b[0m\n\u001b[1;32m    638\u001b[0m         \u001b[0mtimedelta\u001b[0m\u001b[0;34m:\u001b[0m \u001b[0mbool\u001b[0m \u001b[0;34m=\u001b[0m \u001b[0;32mTrue\u001b[0m\u001b[0;34m,\u001b[0m\u001b[0;34m\u001b[0m\u001b[0;34m\u001b[0m\u001b[0m\n\u001b[1;32m    639\u001b[0m     ) -> \"BlockManager\":\n\u001b[0;32m--> 640\u001b[0;31m         return self.apply(\n\u001b[0m\u001b[1;32m    641\u001b[0m             \u001b[0;34m\"convert\"\u001b[0m\u001b[0;34m,\u001b[0m\u001b[0;34m\u001b[0m\u001b[0;34m\u001b[0m\u001b[0m\n\u001b[1;32m    642\u001b[0m             \u001b[0mcopy\u001b[0m\u001b[0;34m=\u001b[0m\u001b[0mcopy\u001b[0m\u001b[0;34m,\u001b[0m\u001b[0;34m\u001b[0m\u001b[0;34m\u001b[0m\u001b[0m\n",
      "\u001b[0;32m~/anaconda3/envs/gapmapbox/lib/python3.9/site-packages/pandas/core/internals/managers.py\u001b[0m in \u001b[0;36mapply\u001b[0;34m(self, f, align_keys, ignore_failures, **kwargs)\u001b[0m\n\u001b[1;32m    425\u001b[0m                     \u001b[0mapplied\u001b[0m \u001b[0;34m=\u001b[0m \u001b[0mb\u001b[0m\u001b[0;34m.\u001b[0m\u001b[0mapply\u001b[0m\u001b[0;34m(\u001b[0m\u001b[0mf\u001b[0m\u001b[0;34m,\u001b[0m \u001b[0;34m**\u001b[0m\u001b[0mkwargs\u001b[0m\u001b[0;34m)\u001b[0m\u001b[0;34m\u001b[0m\u001b[0;34m\u001b[0m\u001b[0m\n\u001b[1;32m    426\u001b[0m                 \u001b[0;32melse\u001b[0m\u001b[0;34m:\u001b[0m\u001b[0;34m\u001b[0m\u001b[0;34m\u001b[0m\u001b[0m\n\u001b[0;32m--> 427\u001b[0;31m                     \u001b[0mapplied\u001b[0m \u001b[0;34m=\u001b[0m \u001b[0mgetattr\u001b[0m\u001b[0;34m(\u001b[0m\u001b[0mb\u001b[0m\u001b[0;34m,\u001b[0m \u001b[0mf\u001b[0m\u001b[0;34m)\u001b[0m\u001b[0;34m(\u001b[0m\u001b[0;34m**\u001b[0m\u001b[0mkwargs\u001b[0m\u001b[0;34m)\u001b[0m\u001b[0;34m\u001b[0m\u001b[0;34m\u001b[0m\u001b[0m\n\u001b[0m\u001b[1;32m    428\u001b[0m             \u001b[0;32mexcept\u001b[0m \u001b[0;34m(\u001b[0m\u001b[0mTypeError\u001b[0m\u001b[0;34m,\u001b[0m \u001b[0mNotImplementedError\u001b[0m\u001b[0;34m)\u001b[0m\u001b[0;34m:\u001b[0m\u001b[0;34m\u001b[0m\u001b[0;34m\u001b[0m\u001b[0m\n\u001b[1;32m    429\u001b[0m                 \u001b[0;32mif\u001b[0m \u001b[0;32mnot\u001b[0m \u001b[0mignore_failures\u001b[0m\u001b[0;34m:\u001b[0m\u001b[0;34m\u001b[0m\u001b[0;34m\u001b[0m\u001b[0m\n",
      "\u001b[0;32m~/anaconda3/envs/gapmapbox/lib/python3.9/site-packages/pandas/core/internals/blocks.py\u001b[0m in \u001b[0;36mconvert\u001b[0;34m(self, copy, datetime, numeric, timedelta)\u001b[0m\n\u001b[1;32m   2575\u001b[0m \u001b[0;34m\u001b[0m\u001b[0m\n\u001b[1;32m   2576\u001b[0m         \u001b[0;32mif\u001b[0m \u001b[0mself\u001b[0m\u001b[0;34m.\u001b[0m\u001b[0mndim\u001b[0m \u001b[0;34m==\u001b[0m \u001b[0;36m2\u001b[0m\u001b[0;34m:\u001b[0m\u001b[0;34m\u001b[0m\u001b[0;34m\u001b[0m\u001b[0m\n\u001b[0;32m-> 2577\u001b[0;31m             \u001b[0mblocks\u001b[0m \u001b[0;34m=\u001b[0m \u001b[0mself\u001b[0m\u001b[0;34m.\u001b[0m\u001b[0msplit_and_operate\u001b[0m\u001b[0;34m(\u001b[0m\u001b[0;32mNone\u001b[0m\u001b[0;34m,\u001b[0m \u001b[0mf\u001b[0m\u001b[0;34m,\u001b[0m \u001b[0;32mFalse\u001b[0m\u001b[0;34m)\u001b[0m\u001b[0;34m\u001b[0m\u001b[0;34m\u001b[0m\u001b[0m\n\u001b[0m\u001b[1;32m   2578\u001b[0m         \u001b[0;32melse\u001b[0m\u001b[0;34m:\u001b[0m\u001b[0;34m\u001b[0m\u001b[0;34m\u001b[0m\u001b[0m\n\u001b[1;32m   2579\u001b[0m             \u001b[0mvalues\u001b[0m \u001b[0;34m=\u001b[0m \u001b[0mf\u001b[0m\u001b[0;34m(\u001b[0m\u001b[0;32mNone\u001b[0m\u001b[0;34m,\u001b[0m \u001b[0mself\u001b[0m\u001b[0;34m.\u001b[0m\u001b[0mvalues\u001b[0m\u001b[0;34m.\u001b[0m\u001b[0mravel\u001b[0m\u001b[0;34m(\u001b[0m\u001b[0;34m)\u001b[0m\u001b[0;34m,\u001b[0m \u001b[0;32mNone\u001b[0m\u001b[0;34m)\u001b[0m\u001b[0;34m\u001b[0m\u001b[0;34m\u001b[0m\u001b[0m\n",
      "\u001b[0;32m~/anaconda3/envs/gapmapbox/lib/python3.9/site-packages/pandas/core/internals/blocks.py\u001b[0m in \u001b[0;36msplit_and_operate\u001b[0;34m(self, mask, f, inplace, ignore_failures)\u001b[0m\n\u001b[1;32m    531\u001b[0m                 \u001b[0;31m#  reduction that is dropping nuisance columns GH#37827\u001b[0m\u001b[0;34m\u001b[0m\u001b[0;34m\u001b[0m\u001b[0;34m\u001b[0m\u001b[0m\n\u001b[1;32m    532\u001b[0m                 \u001b[0;32mtry\u001b[0m\u001b[0;34m:\u001b[0m\u001b[0;34m\u001b[0m\u001b[0;34m\u001b[0m\u001b[0m\n\u001b[0;32m--> 533\u001b[0;31m                     \u001b[0mnv\u001b[0m \u001b[0;34m=\u001b[0m \u001b[0mf\u001b[0m\u001b[0;34m(\u001b[0m\u001b[0mm\u001b[0m\u001b[0;34m,\u001b[0m \u001b[0mv\u001b[0m\u001b[0;34m,\u001b[0m \u001b[0mi\u001b[0m\u001b[0;34m)\u001b[0m\u001b[0;34m\u001b[0m\u001b[0;34m\u001b[0m\u001b[0m\n\u001b[0m\u001b[1;32m    534\u001b[0m                 \u001b[0;32mexcept\u001b[0m \u001b[0mTypeError\u001b[0m\u001b[0;34m:\u001b[0m\u001b[0;34m\u001b[0m\u001b[0;34m\u001b[0m\u001b[0m\n\u001b[1;32m    535\u001b[0m                     \u001b[0;32mif\u001b[0m \u001b[0mignore_failures\u001b[0m\u001b[0;34m:\u001b[0m\u001b[0;34m\u001b[0m\u001b[0;34m\u001b[0m\u001b[0m\n",
      "\u001b[0;32m~/anaconda3/envs/gapmapbox/lib/python3.9/site-packages/pandas/core/internals/blocks.py\u001b[0m in \u001b[0;36mf\u001b[0;34m(mask, val, idx)\u001b[0m\n\u001b[1;32m   2561\u001b[0m         \u001b[0;32mdef\u001b[0m \u001b[0mf\u001b[0m\u001b[0;34m(\u001b[0m\u001b[0mmask\u001b[0m\u001b[0;34m,\u001b[0m \u001b[0mval\u001b[0m\u001b[0;34m,\u001b[0m \u001b[0midx\u001b[0m\u001b[0;34m)\u001b[0m\u001b[0;34m:\u001b[0m\u001b[0;34m\u001b[0m\u001b[0;34m\u001b[0m\u001b[0m\n\u001b[1;32m   2562\u001b[0m             \u001b[0mshape\u001b[0m \u001b[0;34m=\u001b[0m \u001b[0mval\u001b[0m\u001b[0;34m.\u001b[0m\u001b[0mshape\u001b[0m\u001b[0;34m\u001b[0m\u001b[0;34m\u001b[0m\u001b[0m\n\u001b[0;32m-> 2563\u001b[0;31m             values = soft_convert_objects(\n\u001b[0m\u001b[1;32m   2564\u001b[0m                 \u001b[0mval\u001b[0m\u001b[0;34m.\u001b[0m\u001b[0mravel\u001b[0m\u001b[0;34m(\u001b[0m\u001b[0;34m)\u001b[0m\u001b[0;34m,\u001b[0m\u001b[0;34m\u001b[0m\u001b[0;34m\u001b[0m\u001b[0m\n\u001b[1;32m   2565\u001b[0m                 \u001b[0mdatetime\u001b[0m\u001b[0;34m=\u001b[0m\u001b[0mdatetime\u001b[0m\u001b[0;34m,\u001b[0m\u001b[0;34m\u001b[0m\u001b[0;34m\u001b[0m\u001b[0m\n",
      "\u001b[0;32m~/anaconda3/envs/gapmapbox/lib/python3.9/site-packages/pandas/core/dtypes/cast.py\u001b[0m in \u001b[0;36msoft_convert_objects\u001b[0;34m(values, datetime, numeric, timedelta, copy)\u001b[0m\n\u001b[1;32m   1143\u001b[0m     \u001b[0;32mif\u001b[0m \u001b[0mtimedelta\u001b[0m \u001b[0;32mand\u001b[0m \u001b[0mis_object_dtype\u001b[0m\u001b[0;34m(\u001b[0m\u001b[0mvalues\u001b[0m\u001b[0;34m.\u001b[0m\u001b[0mdtype\u001b[0m\u001b[0;34m)\u001b[0m\u001b[0;34m:\u001b[0m\u001b[0;34m\u001b[0m\u001b[0;34m\u001b[0m\u001b[0m\n\u001b[1;32m   1144\u001b[0m         \u001b[0;31m# Object check to ensure only run if previous did not convert\u001b[0m\u001b[0;34m\u001b[0m\u001b[0;34m\u001b[0m\u001b[0;34m\u001b[0m\u001b[0m\n\u001b[0;32m-> 1145\u001b[0;31m         \u001b[0mvalues\u001b[0m \u001b[0;34m=\u001b[0m \u001b[0mlib\u001b[0m\u001b[0;34m.\u001b[0m\u001b[0mmaybe_convert_objects\u001b[0m\u001b[0;34m(\u001b[0m\u001b[0mvalues\u001b[0m\u001b[0;34m,\u001b[0m \u001b[0mconvert_timedelta\u001b[0m\u001b[0;34m=\u001b[0m\u001b[0;32mTrue\u001b[0m\u001b[0;34m)\u001b[0m\u001b[0;34m\u001b[0m\u001b[0;34m\u001b[0m\u001b[0m\n\u001b[0m\u001b[1;32m   1146\u001b[0m \u001b[0;34m\u001b[0m\u001b[0m\n\u001b[1;32m   1147\u001b[0m     \u001b[0;32mif\u001b[0m \u001b[0mnumeric\u001b[0m \u001b[0;32mand\u001b[0m \u001b[0mis_object_dtype\u001b[0m\u001b[0;34m(\u001b[0m\u001b[0mvalues\u001b[0m\u001b[0;34m.\u001b[0m\u001b[0mdtype\u001b[0m\u001b[0;34m)\u001b[0m\u001b[0;34m:\u001b[0m\u001b[0;34m\u001b[0m\u001b[0;34m\u001b[0m\u001b[0m\n",
      "\u001b[0;32mpandas/_libs/lib.pyx\u001b[0m in \u001b[0;36mpandas._libs.lib.maybe_convert_objects\u001b[0;34m()\u001b[0m\n",
      "\u001b[0;32m~/anaconda3/envs/gapmapbox/lib/python3.9/site-packages/numpy/core/numeric.py\u001b[0m in \u001b[0;36mfull\u001b[0;34m(shape, fill_value, dtype, order, like)\u001b[0m\n\u001b[1;32m    286\u001b[0m \u001b[0;34m\u001b[0m\u001b[0m\n\u001b[1;32m    287\u001b[0m \u001b[0;34m\u001b[0m\u001b[0m\n\u001b[0;32m--> 288\u001b[0;31m \u001b[0;34m@\u001b[0m\u001b[0mset_array_function_like_doc\u001b[0m\u001b[0;34m\u001b[0m\u001b[0;34m\u001b[0m\u001b[0m\n\u001b[0m\u001b[1;32m    289\u001b[0m \u001b[0;34m@\u001b[0m\u001b[0mset_module\u001b[0m\u001b[0;34m(\u001b[0m\u001b[0;34m'numpy'\u001b[0m\u001b[0;34m)\u001b[0m\u001b[0;34m\u001b[0m\u001b[0;34m\u001b[0m\u001b[0m\n\u001b[1;32m    290\u001b[0m \u001b[0;32mdef\u001b[0m \u001b[0mfull\u001b[0m\u001b[0;34m(\u001b[0m\u001b[0mshape\u001b[0m\u001b[0;34m,\u001b[0m \u001b[0mfill_value\u001b[0m\u001b[0;34m,\u001b[0m \u001b[0mdtype\u001b[0m\u001b[0;34m=\u001b[0m\u001b[0;32mNone\u001b[0m\u001b[0;34m,\u001b[0m \u001b[0morder\u001b[0m\u001b[0;34m=\u001b[0m\u001b[0;34m'C'\u001b[0m\u001b[0;34m,\u001b[0m \u001b[0;34m*\u001b[0m\u001b[0;34m,\u001b[0m \u001b[0mlike\u001b[0m\u001b[0;34m=\u001b[0m\u001b[0;32mNone\u001b[0m\u001b[0;34m)\u001b[0m\u001b[0;34m:\u001b[0m\u001b[0;34m\u001b[0m\u001b[0;34m\u001b[0m\u001b[0m\n",
      "\u001b[0;31mKeyboardInterrupt\u001b[0m: "
     ]
    }
   ],
   "source": [
    "point_counts_20 = gpd.sjoin(uniqueGdf(stops_harz_20)[[\"stop_id\",\"geometry\"]],\n",
    "                            stops_harz_20, \n",
    "                            op='intersects'\n",
    "         ).groupby(\"stop_id_left\"\n",
    "                  ).agg({\"stop_id_right\":\"count\",\n",
    "                         \"geometry\":\"first\"\n",
    "                        })"
   ]
  },
  {
   "cell_type": "code",
   "execution_count": 207,
   "id": "superior-contributor",
   "metadata": {},
   "outputs": [
    {
     "data": {
      "text/plain": [
       "1    1449\n",
       "2     407\n",
       "3       1\n",
       "Name: stop_id_right, dtype: int64"
      ]
     },
     "metadata": {},
     "output_type": "display_data"
    },
    {
     "name": "stdout",
     "output_type": "stream",
     "text": [
      "2266\n"
     ]
    }
   ],
   "source": [
    "display(point_counts_20.stop_id_right.value_counts())\n",
    "print(point_counts_20.stop_id_right.sum())"
   ]
  },
  {
   "cell_type": "code",
   "execution_count": null,
   "id": "joint-surfing",
   "metadata": {},
   "outputs": [],
   "source": [
    "point"
   ]
  }
 ],
 "metadata": {
  "kernelspec": {
   "display_name": "Python 3",
   "language": "python",
   "name": "python3"
  },
  "language_info": {
   "codemirror_mode": {
    "name": "ipython",
    "version": 3
   },
   "file_extension": ".py",
   "mimetype": "text/x-python",
   "name": "python",
   "nbconvert_exporter": "python",
   "pygments_lexer": "ipython3",
   "version": "3.9.5"
  }
 },
 "nbformat": 4,
 "nbformat_minor": 5
}
