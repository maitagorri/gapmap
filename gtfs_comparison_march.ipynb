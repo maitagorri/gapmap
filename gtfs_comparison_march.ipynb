{
 "cells": [
  {
   "cell_type": "code",
   "execution_count": 1,
   "id": "korean-financing",
   "metadata": {},
   "outputs": [],
   "source": [
    "import gtfs_kit as gk\n",
    "import os.path\n",
    "import geopandas as gpd\n",
    "import geoplot as gplt\n",
    "import datetime as dt"
   ]
  },
  {
   "cell_type": "code",
   "execution_count": 2,
   "id": "intended-spain",
   "metadata": {},
   "outputs": [],
   "source": [
    "gtfs_dir = \"/mnt/c/Users/maita.schade/Nextcloud/Documents/Work/Gap_Map/raw/gtfs\"\n",
    "years = [2020, 2021]\n",
    "paths = {y: os.path.join(gtfs_dir,str(y),str(y)+\".zip\") for y in years}\n",
    "#feeds = {y: gk.read_feed(paths[y], dist_units='km') for y in years}"
   ]
  },
  {
   "cell_type": "markdown",
   "id": "bridal-alabama",
   "metadata": {},
   "source": [
    "Just March!"
   ]
  },
  {
   "cell_type": "markdown",
   "id": "guilty-thursday",
   "metadata": {},
   "source": [
    "Helper function to get gtfs_kit dates in range:"
   ]
  },
  {
   "cell_type": "code",
   "execution_count": 3,
   "id": "automated-royal",
   "metadata": {},
   "outputs": [],
   "source": [
    "def getGkDatesInRange(dt1, dt2):\n",
    "    dates = [dt1 + dt.timedelta(d) for d in range((dt2-dt1).days)]\n",
    "    return [gk.helpers.datestr_to_date(d, inverse=True) for d in dates]"
   ]
  },
  {
   "cell_type": "markdown",
   "id": "color-interstate",
   "metadata": {},
   "source": [
    "Restrict feeds..."
   ]
  },
  {
   "cell_type": "code",
   "execution_count": 4,
   "id": "literary-adrian",
   "metadata": {},
   "outputs": [
    {
     "name": "stderr",
     "output_type": "stream",
     "text": [
      "/home/mschade/anaconda3/envs/gapmapbox/lib/python3.9/site-packages/IPython/core/interactiveshell.py:3437: DtypeWarning: Columns (9) have mixed types.Specify dtype option on import or set low_memory=False.\n",
      "  exec(code_obj, self.user_global_ns, self.user_ns)\n"
     ]
    }
   ],
   "source": [
    "f20 = gk.read_feed(paths[2020], dist_units='km').restrict_to_dates(\n",
    "    getGkDatesInRange(dt.date(2020,3,1),dt.date(2020,4,1))\n",
    ")  "
   ]
  },
  {
   "cell_type": "code",
   "execution_count": 5,
   "id": "beginning-fabric",
   "metadata": {},
   "outputs": [],
   "source": [
    "f21 = gk.read_feed(paths[2021], dist_units='km').restrict_to_dates(\n",
    "    getGkDatesInRange(dt.date(2021,3,1),dt.date(2021,4,1))\n",
    ")  "
   ]
  },
  {
   "cell_type": "code",
   "execution_count": null,
   "id": "resistant-cyprus",
   "metadata": {},
   "outputs": [],
   "source": [
    "f20_sum = f20.summarize()"
   ]
  },
  {
   "cell_type": "code",
   "execution_count": null,
   "id": "9048ed3c",
   "metadata": {},
   "outputs": [],
   "source": [
    "f21_sum = f21.summarize()"
   ]
  },
  {
   "cell_type": "code",
   "execution_count": 4,
   "id": "twelve-maine",
   "metadata": {},
   "outputs": [],
   "source": [
    "# f = gk.read_feed(paths[2020], dist_units='km')"
   ]
  },
  {
   "cell_type": "code",
   "execution_count": 5,
   "id": "specialized-yeast",
   "metadata": {},
   "outputs": [],
   "source": [
    "# [f.get_first_week() for f in feeds.values()]\n",
    "\n",
    "# dates = {2020: feeds[2020].get_week(1),\n",
    "#          2021: feeds[2021].get_week(2)\n",
    "#         }\n",
    "# y=2020\n",
    "# f=feeds[y].restrict_to_dates(dates[y])"
   ]
  },
  {
   "cell_type": "code",
   "execution_count": 6,
   "id": "governmental-newfoundland",
   "metadata": {},
   "outputs": [],
   "source": [
    "def returnStats(feed_path, week_n):\n",
    "    ''' Uses gtfs_kit to return tripstats and feedstats\n",
    "    for a feed located at a given path, for a certain week in the feed\n",
    "    '''\n",
    "    # read feed\n",
    "    print(\"reading feed at \"+feed_path)\n",
    "    f = gk.read_feed(feed_path, dist_units='km')\n",
    "    # get week given\n",
    "    print(\"getting week \"+str(week_n)+\" of feed\")\n",
    "    dates=f.get_week(week_n)\n",
    "    # reduce feed to given week\n",
    "    print(\"reducing feed to week\")\n",
    "    f = f.restrict_to_dates(dates)\n",
    "    # compute stats\n",
    "    print(\"computing trip stats\")\n",
    "    ts = f.compute_trip_stats()\n",
    "    print(\"computing feed stats\")\n",
    "    fs = f.compute_feed_stats(ts, dates)\n",
    "    return ts, fs"
   ]
  },
  {
   "cell_type": "code",
   "execution_count": 7,
   "id": "arranged-bahamas",
   "metadata": {
    "scrolled": true
   },
   "outputs": [
    {
     "name": "stdout",
     "output_type": "stream",
     "text": [
      "reading feed at /home/maita/Nextcloud/Documents/Work/Gap_Map/raw/gtfs/2020/2020.zip\n"
     ]
    },
    {
     "name": "stderr",
     "output_type": "stream",
     "text": [
      "<ipython-input-7-d90664e9ba4a>:1: DtypeWarning: Columns (9) have mixed types.Specify dtype option on import or set low_memory=False.\n",
      "  (ts20, fs20) = returnStats(paths[2020], 1)\n"
     ]
    },
    {
     "name": "stdout",
     "output_type": "stream",
     "text": [
      "getting week 1 of feed\n",
      "reducing feed to week\n",
      "computing trip stats\n",
      "computing feed stats\n"
     ]
    }
   ],
   "source": [
    "(ts20, fs20) = returnStats(paths[2020], 1)"
   ]
  },
  {
   "cell_type": "code",
   "execution_count": 9,
   "id": "white-morocco",
   "metadata": {},
   "outputs": [
    {
     "name": "stdout",
     "output_type": "stream",
     "text": [
      "reading feed at /home/maita/Nextcloud/Documents/Work/Gap_Map/raw/gtfs/2021/2021.zip\n",
      "getting week 2 of feed\n",
      "reducing feed to week\n",
      "computing trip stats\n",
      "computing feed stats\n"
     ]
    }
   ],
   "source": [
    "(ts21, fs21) = returnStats(paths[2021], 2)"
   ]
  },
  {
   "cell_type": "code",
   "execution_count": 21,
   "id": "demographic-nothing",
   "metadata": {},
   "outputs": [
    {
     "data": {
      "text/plain": [
       "dtype('int64')"
      ]
     },
     "execution_count": 21,
     "metadata": {},
     "output_type": "execute_result"
    }
   ],
   "source": [
    "fs20.num_trips.dtype"
   ]
  },
  {
   "cell_type": "code",
   "execution_count": 20,
   "id": "smoking-artwork",
   "metadata": {},
   "outputs": [
    {
     "data": {
      "text/html": [
       "<div>\n",
       "<style scoped>\n",
       "    .dataframe tbody tr th:only-of-type {\n",
       "        vertical-align: middle;\n",
       "    }\n",
       "\n",
       "    .dataframe tbody tr th {\n",
       "        vertical-align: top;\n",
       "    }\n",
       "\n",
       "    .dataframe thead th {\n",
       "        text-align: right;\n",
       "    }\n",
       "</style>\n",
       "<table border=\"1\" class=\"dataframe\">\n",
       "  <thead>\n",
       "    <tr style=\"text-align: right;\">\n",
       "      <th></th>\n",
       "      <th>num_stops</th>\n",
       "      <th>num_routes</th>\n",
       "      <th>num_trips</th>\n",
       "      <th>num_trip_starts</th>\n",
       "      <th>num_trip_ends</th>\n",
       "      <th>service_distance</th>\n",
       "      <th>service_duration</th>\n",
       "      <th>service_speed</th>\n",
       "      <th>peak_num_trips</th>\n",
       "      <th>peak_start_time</th>\n",
       "      <th>peak_end_time</th>\n",
       "      <th>date</th>\n",
       "    </tr>\n",
       "  </thead>\n",
       "  <tbody>\n",
       "    <tr>\n",
       "      <th>0</th>\n",
       "      <td>426762</td>\n",
       "      <td>19101</td>\n",
       "      <td>704502</td>\n",
       "      <td>704502</td>\n",
       "      <td>693572</td>\n",
       "      <td>0.0</td>\n",
       "      <td>379214.230278</td>\n",
       "      <td>0.0</td>\n",
       "      <td>34658</td>\n",
       "      <td>07:15:12</td>\n",
       "      <td>07:15:17</td>\n",
       "      <td>20191216</td>\n",
       "    </tr>\n",
       "    <tr>\n",
       "      <th>0</th>\n",
       "      <td>426762</td>\n",
       "      <td>19121</td>\n",
       "      <td>705469</td>\n",
       "      <td>705469</td>\n",
       "      <td>694499</td>\n",
       "      <td>0.0</td>\n",
       "      <td>379516.900000</td>\n",
       "      <td>0.0</td>\n",
       "      <td>34640</td>\n",
       "      <td>07:16:54</td>\n",
       "      <td>07:17:00</td>\n",
       "      <td>20191217</td>\n",
       "    </tr>\n",
       "    <tr>\n",
       "      <th>0</th>\n",
       "      <td>426762</td>\n",
       "      <td>19058</td>\n",
       "      <td>700061</td>\n",
       "      <td>700061</td>\n",
       "      <td>689112</td>\n",
       "      <td>0.0</td>\n",
       "      <td>377069.632222</td>\n",
       "      <td>0.0</td>\n",
       "      <td>34011</td>\n",
       "      <td>07:15:12</td>\n",
       "      <td>07:15:17</td>\n",
       "      <td>20191218</td>\n",
       "    </tr>\n",
       "    <tr>\n",
       "      <th>0</th>\n",
       "      <td>426762</td>\n",
       "      <td>19085</td>\n",
       "      <td>698408</td>\n",
       "      <td>698408</td>\n",
       "      <td>687374</td>\n",
       "      <td>0.0</td>\n",
       "      <td>376440.346111</td>\n",
       "      <td>0.0</td>\n",
       "      <td>33920</td>\n",
       "      <td>07:15:12</td>\n",
       "      <td>07:15:17</td>\n",
       "      <td>20191219</td>\n",
       "    </tr>\n",
       "    <tr>\n",
       "      <th>0</th>\n",
       "      <td>426762</td>\n",
       "      <td>19302</td>\n",
       "      <td>698334</td>\n",
       "      <td>698334</td>\n",
       "      <td>679938</td>\n",
       "      <td>0.0</td>\n",
       "      <td>377145.302500</td>\n",
       "      <td>0.0</td>\n",
       "      <td>33616</td>\n",
       "      <td>07:15:12</td>\n",
       "      <td>07:15:17</td>\n",
       "      <td>20191220</td>\n",
       "    </tr>\n",
       "    <tr>\n",
       "      <th>0</th>\n",
       "      <td>426762</td>\n",
       "      <td>12285</td>\n",
       "      <td>433467</td>\n",
       "      <td>433467</td>\n",
       "      <td>414322</td>\n",
       "      <td>0.0</td>\n",
       "      <td>240017.404167</td>\n",
       "      <td>0.0</td>\n",
       "      <td>16227</td>\n",
       "      <td>12:40:00</td>\n",
       "      <td>12:40:12</td>\n",
       "      <td>20191221</td>\n",
       "    </tr>\n",
       "    <tr>\n",
       "      <th>0</th>\n",
       "      <td>426762</td>\n",
       "      <td>8994</td>\n",
       "      <td>295690</td>\n",
       "      <td>295690</td>\n",
       "      <td>285105</td>\n",
       "      <td>0.0</td>\n",
       "      <td>163431.608889</td>\n",
       "      <td>0.0</td>\n",
       "      <td>10995</td>\n",
       "      <td>17:36:12</td>\n",
       "      <td>17:36:30</td>\n",
       "      <td>20191222</td>\n",
       "    </tr>\n",
       "  </tbody>\n",
       "</table>\n",
       "</div>"
      ],
      "text/plain": [
       "   num_stops  num_routes  num_trips  num_trip_starts  num_trip_ends  \\\n",
       "0     426762       19101     704502           704502         693572   \n",
       "0     426762       19121     705469           705469         694499   \n",
       "0     426762       19058     700061           700061         689112   \n",
       "0     426762       19085     698408           698408         687374   \n",
       "0     426762       19302     698334           698334         679938   \n",
       "0     426762       12285     433467           433467         414322   \n",
       "0     426762        8994     295690           295690         285105   \n",
       "\n",
       "   service_distance  service_duration  service_speed  peak_num_trips  \\\n",
       "0               0.0     379214.230278            0.0           34658   \n",
       "0               0.0     379516.900000            0.0           34640   \n",
       "0               0.0     377069.632222            0.0           34011   \n",
       "0               0.0     376440.346111            0.0           33920   \n",
       "0               0.0     377145.302500            0.0           33616   \n",
       "0               0.0     240017.404167            0.0           16227   \n",
       "0               0.0     163431.608889            0.0           10995   \n",
       "\n",
       "  peak_start_time peak_end_time      date  \n",
       "0        07:15:12      07:15:17  20191216  \n",
       "0        07:16:54      07:17:00  20191217  \n",
       "0        07:15:12      07:15:17  20191218  \n",
       "0        07:15:12      07:15:17  20191219  \n",
       "0        07:15:12      07:15:17  20191220  \n",
       "0        12:40:00      12:40:12  20191221  \n",
       "0        17:36:12      17:36:30  20191222  "
      ]
     },
     "execution_count": 20,
     "metadata": {},
     "output_type": "execute_result"
    }
   ],
   "source": [
    "fs20"
   ]
  },
  {
   "cell_type": "code",
   "execution_count": 25,
   "id": "occupied-footage",
   "metadata": {},
   "outputs": [
    {
     "data": {
      "text/html": [
       "<div>\n",
       "<style scoped>\n",
       "    .dataframe tbody tr th:only-of-type {\n",
       "        vertical-align: middle;\n",
       "    }\n",
       "\n",
       "    .dataframe tbody tr th {\n",
       "        vertical-align: top;\n",
       "    }\n",
       "\n",
       "    .dataframe thead th {\n",
       "        text-align: right;\n",
       "    }\n",
       "</style>\n",
       "<table border=\"1\" class=\"dataframe\">\n",
       "  <thead>\n",
       "    <tr style=\"text-align: right;\">\n",
       "      <th></th>\n",
       "      <th>num_stops</th>\n",
       "      <th>num_routes</th>\n",
       "      <th>num_trips</th>\n",
       "      <th>num_trip_starts</th>\n",
       "      <th>num_trip_ends</th>\n",
       "      <th>peak_num_trips</th>\n",
       "    </tr>\n",
       "  </thead>\n",
       "  <tbody>\n",
       "    <tr>\n",
       "      <th>0</th>\n",
       "      <td>-0.129882</td>\n",
       "      <td>-0.139882</td>\n",
       "      <td>-0.114503</td>\n",
       "      <td>-0.114503</td>\n",
       "      <td>-0.117484</td>\n",
       "      <td>-0.181939</td>\n",
       "    </tr>\n",
       "    <tr>\n",
       "      <th>0</th>\n",
       "      <td>-0.129882</td>\n",
       "      <td>-0.142166</td>\n",
       "      <td>-0.116056</td>\n",
       "      <td>-0.116056</td>\n",
       "      <td>-0.119001</td>\n",
       "      <td>-0.181728</td>\n",
       "    </tr>\n",
       "    <tr>\n",
       "      <th>0</th>\n",
       "      <td>-0.129882</td>\n",
       "      <td>-0.103596</td>\n",
       "      <td>-0.060996</td>\n",
       "      <td>-0.060996</td>\n",
       "      <td>-0.064162</td>\n",
       "      <td>-0.126864</td>\n",
       "    </tr>\n",
       "    <tr>\n",
       "      <th>0</th>\n",
       "      <td>-0.129882</td>\n",
       "      <td>-0.104904</td>\n",
       "      <td>-0.057697</td>\n",
       "      <td>-0.057697</td>\n",
       "      <td>-0.060725</td>\n",
       "      <td>-0.125004</td>\n",
       "    </tr>\n",
       "    <tr>\n",
       "      <th>0</th>\n",
       "      <td>-0.129882</td>\n",
       "      <td>-0.123123</td>\n",
       "      <td>-0.058388</td>\n",
       "      <td>-0.058388</td>\n",
       "      <td>-0.057012</td>\n",
       "      <td>-0.110502</td>\n",
       "    </tr>\n",
       "    <tr>\n",
       "      <th>0</th>\n",
       "      <td>-0.129882</td>\n",
       "      <td>-0.219234</td>\n",
       "      <td>-0.198446</td>\n",
       "      <td>-0.198446</td>\n",
       "      <td>-0.198346</td>\n",
       "      <td>-0.214596</td>\n",
       "    </tr>\n",
       "    <tr>\n",
       "      <th>0</th>\n",
       "      <td>-0.129882</td>\n",
       "      <td>-0.013980</td>\n",
       "      <td>0.069540</td>\n",
       "      <td>0.069540</td>\n",
       "      <td>0.066805</td>\n",
       "      <td>0.051174</td>\n",
       "    </tr>\n",
       "  </tbody>\n",
       "</table>\n",
       "</div>"
      ],
      "text/plain": [
       "   num_stops  num_routes  num_trips  num_trip_starts  num_trip_ends  \\\n",
       "0  -0.129882   -0.139882  -0.114503        -0.114503      -0.117484   \n",
       "0  -0.129882   -0.142166  -0.116056        -0.116056      -0.119001   \n",
       "0  -0.129882   -0.103596  -0.060996        -0.060996      -0.064162   \n",
       "0  -0.129882   -0.104904  -0.057697        -0.057697      -0.060725   \n",
       "0  -0.129882   -0.123123  -0.058388        -0.058388      -0.057012   \n",
       "0  -0.129882   -0.219234  -0.198446        -0.198446      -0.198346   \n",
       "0  -0.129882   -0.013980   0.069540         0.069540       0.066805   \n",
       "\n",
       "   peak_num_trips  \n",
       "0       -0.181939  \n",
       "0       -0.181728  \n",
       "0       -0.126864  \n",
       "0       -0.125004  \n",
       "0       -0.110502  \n",
       "0       -0.214596  \n",
       "0        0.051174  "
      ]
     },
     "execution_count": 25,
     "metadata": {},
     "output_type": "execute_result"
    }
   ],
   "source": [
    "ncols = [c for c in fs20.columns if fs20[c].dtype=='int64']\n",
    "(fs21[ncols] - fs20[ncols])/fs21[ncols]"
   ]
  },
  {
   "cell_type": "markdown",
   "id": "hired-foundation",
   "metadata": {},
   "source": [
    "Nach der zeitlichen Eingrenzung: ein Blick auf die räumliche, für die schlimmen Kreise."
   ]
  },
  {
   "cell_type": "code",
   "execution_count": 84,
   "id": "colored-study",
   "metadata": {},
   "outputs": [],
   "source": [
    "kreise_gdf = gpd.read_file(\"/home/maita/Nextcloud/Documents/Work/Gap_Map/raw/geo/vg250-ew_12-31.utm32s.shape.ebenen/vg250-ew_ebenen_1231/VG250_KRS.shp\"\n",
    "                          ).to_crs(\"epsg:4326\")\n",
    "positiv_kreise = kreise_gdf[kreise_gdf.GEN.isin([\"Harz\", \n",
    "                                                 \"Hameln-Pyrmont\", \n",
    "                                                 \"Märkischer Kreis\",\n",
    "                                                 \"Olpe\",\n",
    "                                                 \"Siegen-Wittgenstein\"\n",
    "                                                ])]\n",
    "negativ_kreise = kreise_gdf[kreise_gdf.GEN.isin([\"Wittenberg\",\n",
    "                                                 \"Leer\",\n",
    "                                                 \"Börde\"\n",
    "                                                ])]"
   ]
  },
  {
   "cell_type": "markdown",
   "id": "sealed-software",
   "metadata": {},
   "source": [
    "Erstmal Gebiet auf einen Kreis einschränken und schauen was passiert."
   ]
  },
  {
   "cell_type": "code",
   "execution_count": 85,
   "id": "absent-trial",
   "metadata": {},
   "outputs": [],
   "source": [
    "positiv_area = positiv_kreise[positiv_kreise.GEN==\"Harz\"]"
   ]
  },
  {
   "cell_type": "code",
   "execution_count": 86,
   "id": "present-paradise",
   "metadata": {},
   "outputs": [
    {
     "name": "stderr",
     "output_type": "stream",
     "text": [
      "/home/maita/anaconda3/envs/gapmapbox/lib/python3.9/site-packages/IPython/core/interactiveshell.py:3427: DtypeWarning: Columns (9) have mixed types.Specify dtype option on import or set low_memory=False.\n",
      "  exec(code_obj, self.user_global_ns, self.user_ns)\n"
     ]
    }
   ],
   "source": [
    "f20 = gk.read_feed(paths[2020], dist_units='km').restrict_to_area(positiv_area)"
   ]
  },
  {
   "cell_type": "code",
   "execution_count": 88,
   "id": "protected-logging",
   "metadata": {},
   "outputs": [],
   "source": [
    "fsHarz = f20.compute_feed_stats(f20.compute_trip_stats(), f20.get_week(20))"
   ]
  },
  {
   "cell_type": "code",
   "execution_count": 211,
   "id": "meaningful-shore",
   "metadata": {},
   "outputs": [
    {
     "data": {
      "text/plain": [
       "1455"
      ]
     },
     "execution_count": 211,
     "metadata": {},
     "output_type": "execute_result"
    }
   ],
   "source": [
    "fsHarz.num_trips.sum()"
   ]
  },
  {
   "cell_type": "code",
   "execution_count": 90,
   "id": "governmental-aircraft",
   "metadata": {},
   "outputs": [],
   "source": [
    "f21 = gk.read_feed(paths[2021], dist_units='km').restrict_to_area(positiv_area)"
   ]
  },
  {
   "cell_type": "code",
   "execution_count": 91,
   "id": "genetic-appearance",
   "metadata": {},
   "outputs": [],
   "source": [
    "fsHarz21 = f21.compute_feed_stats(f21.compute_trip_stats(), f21.get_week(21))"
   ]
  },
  {
   "cell_type": "code",
   "execution_count": 210,
   "id": "parliamentary-psychology",
   "metadata": {},
   "outputs": [
    {
     "data": {
      "text/plain": [
       "12298"
      ]
     },
     "execution_count": 210,
     "metadata": {},
     "output_type": "execute_result"
    }
   ],
   "source": [
    "fsHarz21.num_trips.sum()"
   ]
  },
  {
   "cell_type": "markdown",
   "id": "available-brooks",
   "metadata": {},
   "source": [
    "Sehr interessant--haben wir wirklich fast doppelt so viele Haltestellen?!\n",
    "Schauen wir uns die mal an..."
   ]
  },
  {
   "cell_type": "code",
   "execution_count": 209,
   "id": "stupid-marshall",
   "metadata": {},
   "outputs": [
    {
     "data": {
      "text/plain": [
       "['20200427',\n",
       " '20200428',\n",
       " '20200429',\n",
       " '20200430',\n",
       " '20200501',\n",
       " '20200502',\n",
       " '20200503']"
      ]
     },
     "execution_count": 209,
     "metadata": {},
     "output_type": "execute_result"
    }
   ],
   "source": [
    "f21.get_week(21)\n",
    "f20.get_week(20)"
   ]
  },
  {
   "cell_type": "code",
   "execution_count": 103,
   "id": "advance-ending",
   "metadata": {},
   "outputs": [
    {
     "data": {
      "text/html": [
       "<div>\n",
       "<style scoped>\n",
       "    .dataframe tbody tr th:only-of-type {\n",
       "        vertical-align: middle;\n",
       "    }\n",
       "\n",
       "    .dataframe tbody tr th {\n",
       "        vertical-align: top;\n",
       "    }\n",
       "\n",
       "    .dataframe thead th {\n",
       "        text-align: right;\n",
       "    }\n",
       "</style>\n",
       "<table border=\"1\" class=\"dataframe\">\n",
       "  <thead>\n",
       "    <tr style=\"text-align: right;\">\n",
       "      <th></th>\n",
       "      <th>geometry</th>\n",
       "      <th>arrival_time</th>\n",
       "      <th>departure_time</th>\n",
       "      <th>drop_off_type</th>\n",
       "      <th>location_type</th>\n",
       "      <th>parent_station</th>\n",
       "      <th>pickup_type</th>\n",
       "      <th>platform_code</th>\n",
       "      <th>stop_code</th>\n",
       "      <th>stop_headsign</th>\n",
       "      <th>stop_id</th>\n",
       "      <th>stop_name</th>\n",
       "      <th>stop_sequence</th>\n",
       "      <th>trip_id</th>\n",
       "      <th>wheelchair_boarding</th>\n",
       "      <th>zone_id</th>\n",
       "    </tr>\n",
       "  </thead>\n",
       "  <tbody>\n",
       "    <tr>\n",
       "      <th>0</th>\n",
       "      <td>POINT (11.02631 51.74154)</td>\n",
       "      <td>15:35:00</td>\n",
       "      <td>15:35:00</td>\n",
       "      <td>NaN</td>\n",
       "      <td>None</td>\n",
       "      <td>540985</td>\n",
       "      <td>NaN</td>\n",
       "      <td>None</td>\n",
       "      <td>None</td>\n",
       "      <td>None</td>\n",
       "      <td>422685</td>\n",
       "      <td>Thale, Bodetal/Talstation Kabinenseilbahn</td>\n",
       "      <td>0</td>\n",
       "      <td>1001345</td>\n",
       "      <td>None</td>\n",
       "      <td>None</td>\n",
       "    </tr>\n",
       "    <tr>\n",
       "      <th>1</th>\n",
       "      <td>POINT (11.02856 51.73495)</td>\n",
       "      <td>15:55:00</td>\n",
       "      <td>15:55:00</td>\n",
       "      <td>NaN</td>\n",
       "      <td>None</td>\n",
       "      <td>474073</td>\n",
       "      <td>NaN</td>\n",
       "      <td>None</td>\n",
       "      <td>None</td>\n",
       "      <td>None</td>\n",
       "      <td>505150</td>\n",
       "      <td>Thale, Hexentanzplatz/Bergstation Kabinenseilbahn</td>\n",
       "      <td>1</td>\n",
       "      <td>1001345</td>\n",
       "      <td>None</td>\n",
       "      <td>None</td>\n",
       "    </tr>\n",
       "    <tr>\n",
       "      <th>2</th>\n",
       "      <td>POINT (11.01975 51.91389)</td>\n",
       "      <td>17:58:00</td>\n",
       "      <td>17:58:00</td>\n",
       "      <td>NaN</td>\n",
       "      <td>None</td>\n",
       "      <td>425448</td>\n",
       "      <td>NaN</td>\n",
       "      <td>None</td>\n",
       "      <td>SIELEND</td>\n",
       "      <td>None</td>\n",
       "      <td>268595</td>\n",
       "      <td>Siedlung Endhst.</td>\n",
       "      <td>0</td>\n",
       "      <td>1002044</td>\n",
       "      <td>None</td>\n",
       "      <td>None</td>\n",
       "    </tr>\n",
       "    <tr>\n",
       "      <th>3</th>\n",
       "      <td>POINT (11.02299 51.91134)</td>\n",
       "      <td>17:59:00</td>\n",
       "      <td>17:59:00</td>\n",
       "      <td>NaN</td>\n",
       "      <td>None</td>\n",
       "      <td>255417</td>\n",
       "      <td>NaN</td>\n",
       "      <td>None</td>\n",
       "      <td>SIEDLM1</td>\n",
       "      <td>None</td>\n",
       "      <td>165426</td>\n",
       "      <td>Siedlung mittl.Hst.1</td>\n",
       "      <td>1</td>\n",
       "      <td>1002044</td>\n",
       "      <td>None</td>\n",
       "      <td>None</td>\n",
       "    </tr>\n",
       "    <tr>\n",
       "      <th>4</th>\n",
       "      <td>POINT (11.02632 51.90874)</td>\n",
       "      <td>18:00:00</td>\n",
       "      <td>18:00:00</td>\n",
       "      <td>NaN</td>\n",
       "      <td>None</td>\n",
       "      <td>139211</td>\n",
       "      <td>NaN</td>\n",
       "      <td>None</td>\n",
       "      <td>SIEDLU1</td>\n",
       "      <td>None</td>\n",
       "      <td>622378</td>\n",
       "      <td>Siedlung unt.Hst.1</td>\n",
       "      <td>2</td>\n",
       "      <td>1002044</td>\n",
       "      <td>None</td>\n",
       "      <td>None</td>\n",
       "    </tr>\n",
       "    <tr>\n",
       "      <th>...</th>\n",
       "      <td>...</td>\n",
       "      <td>...</td>\n",
       "      <td>...</td>\n",
       "      <td>...</td>\n",
       "      <td>...</td>\n",
       "      <td>...</td>\n",
       "      <td>...</td>\n",
       "      <td>...</td>\n",
       "      <td>...</td>\n",
       "      <td>...</td>\n",
       "      <td>...</td>\n",
       "      <td>...</td>\n",
       "      <td>...</td>\n",
       "      <td>...</td>\n",
       "      <td>...</td>\n",
       "      <td>...</td>\n",
       "    </tr>\n",
       "    <tr>\n",
       "      <th>70331</th>\n",
       "      <td>POINT (10.65977 51.99435)</td>\n",
       "      <td>09:39:00</td>\n",
       "      <td>09:39:00</td>\n",
       "      <td>NaN</td>\n",
       "      <td>None</td>\n",
       "      <td>501398</td>\n",
       "      <td>NaN</td>\n",
       "      <td>None</td>\n",
       "      <td>HOPOM06</td>\n",
       "      <td>None</td>\n",
       "      <td>464063</td>\n",
       "      <td>Hoppenstedt Ortsmitte</td>\n",
       "      <td>3</td>\n",
       "      <td>999916</td>\n",
       "      <td>None</td>\n",
       "      <td>None</td>\n",
       "    </tr>\n",
       "    <tr>\n",
       "      <th>70332</th>\n",
       "      <td>POINT (10.69111 51.98260)</td>\n",
       "      <td>09:43:00</td>\n",
       "      <td>09:43:00</td>\n",
       "      <td>NaN</td>\n",
       "      <td>None</td>\n",
       "      <td>579050</td>\n",
       "      <td>NaN</td>\n",
       "      <td>None</td>\n",
       "      <td>OWIGN06</td>\n",
       "      <td>None</td>\n",
       "      <td>213091</td>\n",
       "      <td>Osterwieck Industriegeb. Nord</td>\n",
       "      <td>4</td>\n",
       "      <td>999916</td>\n",
       "      <td>None</td>\n",
       "      <td>None</td>\n",
       "    </tr>\n",
       "    <tr>\n",
       "      <th>70333</th>\n",
       "      <td>POINT (10.70463 51.97749)</td>\n",
       "      <td>09:45:00</td>\n",
       "      <td>09:45:00</td>\n",
       "      <td>NaN</td>\n",
       "      <td>None</td>\n",
       "      <td>225358</td>\n",
       "      <td>NaN</td>\n",
       "      <td>None</td>\n",
       "      <td>OWFGS06</td>\n",
       "      <td>None</td>\n",
       "      <td>243260</td>\n",
       "      <td>Osterwieck Florian-Geyer-Str.</td>\n",
       "      <td>5</td>\n",
       "      <td>999916</td>\n",
       "      <td>None</td>\n",
       "      <td>None</td>\n",
       "    </tr>\n",
       "    <tr>\n",
       "      <th>70334</th>\n",
       "      <td>POINT (10.70990 51.97401)</td>\n",
       "      <td>09:46:00</td>\n",
       "      <td>09:46:00</td>\n",
       "      <td>NaN</td>\n",
       "      <td>None</td>\n",
       "      <td>137822</td>\n",
       "      <td>NaN</td>\n",
       "      <td>None</td>\n",
       "      <td>OWALGK06</td>\n",
       "      <td>None</td>\n",
       "      <td>501477</td>\n",
       "      <td>Osterwieck Am Langenkamp</td>\n",
       "      <td>6</td>\n",
       "      <td>999916</td>\n",
       "      <td>None</td>\n",
       "      <td>None</td>\n",
       "    </tr>\n",
       "    <tr>\n",
       "      <th>70335</th>\n",
       "      <td>POINT (10.71594 51.96949)</td>\n",
       "      <td>09:47:00</td>\n",
       "      <td>09:47:00</td>\n",
       "      <td>NaN</td>\n",
       "      <td>None</td>\n",
       "      <td>658572</td>\n",
       "      <td>NaN</td>\n",
       "      <td>None</td>\n",
       "      <td>OWBBF04</td>\n",
       "      <td>None</td>\n",
       "      <td>391226</td>\n",
       "      <td>Osterwieck Busbf.</td>\n",
       "      <td>7</td>\n",
       "      <td>999916</td>\n",
       "      <td>None</td>\n",
       "      <td>None</td>\n",
       "    </tr>\n",
       "  </tbody>\n",
       "</table>\n",
       "<p>70336 rows × 16 columns</p>\n",
       "</div>"
      ],
      "text/plain": [
       "                        geometry arrival_time departure_time  drop_off_type  \\\n",
       "0      POINT (11.02631 51.74154)     15:35:00       15:35:00            NaN   \n",
       "1      POINT (11.02856 51.73495)     15:55:00       15:55:00            NaN   \n",
       "2      POINT (11.01975 51.91389)     17:58:00       17:58:00            NaN   \n",
       "3      POINT (11.02299 51.91134)     17:59:00       17:59:00            NaN   \n",
       "4      POINT (11.02632 51.90874)     18:00:00       18:00:00            NaN   \n",
       "...                          ...          ...            ...            ...   \n",
       "70331  POINT (10.65977 51.99435)     09:39:00       09:39:00            NaN   \n",
       "70332  POINT (10.69111 51.98260)     09:43:00       09:43:00            NaN   \n",
       "70333  POINT (10.70463 51.97749)     09:45:00       09:45:00            NaN   \n",
       "70334  POINT (10.70990 51.97401)     09:46:00       09:46:00            NaN   \n",
       "70335  POINT (10.71594 51.96949)     09:47:00       09:47:00            NaN   \n",
       "\n",
       "      location_type parent_station  pickup_type platform_code stop_code  \\\n",
       "0              None         540985          NaN          None      None   \n",
       "1              None         474073          NaN          None      None   \n",
       "2              None         425448          NaN          None   SIELEND   \n",
       "3              None         255417          NaN          None   SIEDLM1   \n",
       "4              None         139211          NaN          None   SIEDLU1   \n",
       "...             ...            ...          ...           ...       ...   \n",
       "70331          None         501398          NaN          None   HOPOM06   \n",
       "70332          None         579050          NaN          None   OWIGN06   \n",
       "70333          None         225358          NaN          None   OWFGS06   \n",
       "70334          None         137822          NaN          None  OWALGK06   \n",
       "70335          None         658572          NaN          None   OWBBF04   \n",
       "\n",
       "      stop_headsign stop_id  \\\n",
       "0              None  422685   \n",
       "1              None  505150   \n",
       "2              None  268595   \n",
       "3              None  165426   \n",
       "4              None  622378   \n",
       "...             ...     ...   \n",
       "70331          None  464063   \n",
       "70332          None  213091   \n",
       "70333          None  243260   \n",
       "70334          None  501477   \n",
       "70335          None  391226   \n",
       "\n",
       "                                               stop_name  stop_sequence  \\\n",
       "0              Thale, Bodetal/Talstation Kabinenseilbahn              0   \n",
       "1      Thale, Hexentanzplatz/Bergstation Kabinenseilbahn              1   \n",
       "2                                       Siedlung Endhst.              0   \n",
       "3                                   Siedlung mittl.Hst.1              1   \n",
       "4                                     Siedlung unt.Hst.1              2   \n",
       "...                                                  ...            ...   \n",
       "70331                              Hoppenstedt Ortsmitte              3   \n",
       "70332                      Osterwieck Industriegeb. Nord              4   \n",
       "70333                      Osterwieck Florian-Geyer-Str.              5   \n",
       "70334                           Osterwieck Am Langenkamp              6   \n",
       "70335                                  Osterwieck Busbf.              7   \n",
       "\n",
       "       trip_id wheelchair_boarding zone_id  \n",
       "0      1001345                None    None  \n",
       "1      1001345                None    None  \n",
       "2      1002044                None    None  \n",
       "3      1002044                None    None  \n",
       "4      1002044                None    None  \n",
       "...        ...                 ...     ...  \n",
       "70331   999916                None    None  \n",
       "70332   999916                None    None  \n",
       "70333   999916                None    None  \n",
       "70334   999916                None    None  \n",
       "70335   999916                None    None  \n",
       "\n",
       "[70336 rows x 16 columns]"
      ]
     },
     "execution_count": 103,
     "metadata": {},
     "output_type": "execute_result"
    }
   ],
   "source": [
    "gpd.GeoDataFrame.from_features(f20.stop_times_to_geojson())"
   ]
  },
  {
   "cell_type": "code",
   "execution_count": 94,
   "id": "under-latvia",
   "metadata": {},
   "outputs": [
    {
     "data": {
      "text/plain": [
       "<AxesSubplot:>"
      ]
     },
     "execution_count": 94,
     "metadata": {},
     "output_type": "execute_result"
    },
    {
     "data": {
      "image/png": "[encoded data removed]",
      "text/plain": [
       "<Figure size 432x288 with 1 Axes>"
      ]
     },
     "metadata": {
      "needs_background": "light"
     },
     "output_type": "display_data"
    }
   ],
   "source": [
    "gpd.sjoin(gpd.GeoDataFrame(f20.stops, geometry=gpd.points_from_xy(f20.stops.stop_lon, f20.stops.stop_lat), crs=\"epsg:4326\"),\n",
    "          positiv_area, \n",
    "          op=\"within\").plot()"
   ]
  },
  {
   "cell_type": "code",
   "execution_count": 99,
   "id": "mineral-cement",
   "metadata": {},
   "outputs": [
    {
     "data": {
      "text/plain": [
       "168417"
      ]
     },
     "execution_count": 99,
     "metadata": {},
     "output_type": "execute_result"
    }
   ],
   "source": [
    "len(f21.stop_times)"
   ]
  },
  {
   "cell_type": "code",
   "execution_count": 95,
   "id": "unlimited-article",
   "metadata": {},
   "outputs": [
    {
     "data": {
      "text/plain": [
       "<AxesSubplot:>"
      ]
     },
     "execution_count": 95,
     "metadata": {},
     "output_type": "execute_result"
    },
    {
     "data": {
      "image/png": "[encoded data removed]",
      "text/plain": [
       "<Figure size 432x288 with 1 Axes>"
      ]
     },
     "metadata": {
      "needs_background": "light"
     },
     "output_type": "display_data"
    }
   ],
   "source": [
    "gpd.sjoin(gpd.GeoDataFrame(f21.stops, geometry=gpd.points_from_xy(f21.stops.stop_lon, f21.stops.stop_lat), crs=\"epsg:4326\"),\n",
    "          positiv_area, \n",
    "          op=\"within\").plot()"
   ]
  },
  {
   "cell_type": "code",
   "execution_count": 107,
   "id": "offensive-punch",
   "metadata": {},
   "outputs": [
    {
     "name": "stderr",
     "output_type": "stream",
     "text": [
      "/home/maita/anaconda3/envs/gapmapbox/lib/python3.9/site-packages/seaborn/_decorators.py:36: FutureWarning: Pass the following variable as a keyword arg: y. From version 0.12, the only valid positional argument will be `data`, and passing other arguments without an explicit keyword will result in an error or misinterpretation.\n",
      "  warnings.warn(\n",
      "/home/maita/anaconda3/envs/gapmapbox/lib/python3.9/site-packages/seaborn/distributions.py:1676: UserWarning: `shade_lowest` is now deprecated in favor of `thresh`. Setting `thresh=0.05`, but please update your code.\n",
      "  warnings.warn(msg, UserWarning)\n"
     ]
    },
    {
     "data": {
      "text/plain": [
       "<AxesSubplot:>"
      ]
     },
     "execution_count": 107,
     "metadata": {},
     "output_type": "execute_result"
    },
    {
     "data": {
      "image/png": "[encoded data removed]",
      "text/plain": [
       "<Figure size 576x432 with 1 Axes>"
      ]
     },
     "metadata": {
      "needs_background": "light"
     },
     "output_type": "display_data"
    }
   ],
   "source": [
    "gplt.kdeplot(gpd.sjoin(gpd.GeoDataFrame(f21.stops, geometry=gpd.points_from_xy(f21.stops.stop_lon, f21.stops.stop_lat), crs=\"epsg:4326\"),\n",
    "          positiv_area, \n",
    "          op=\"within\"))"
   ]
  },
  {
   "cell_type": "code",
   "execution_count": 108,
   "id": "official-favor",
   "metadata": {},
   "outputs": [
    {
     "name": "stderr",
     "output_type": "stream",
     "text": [
      "/home/maita/anaconda3/envs/gapmapbox/lib/python3.9/site-packages/seaborn/_decorators.py:36: FutureWarning: Pass the following variable as a keyword arg: y. From version 0.12, the only valid positional argument will be `data`, and passing other arguments without an explicit keyword will result in an error or misinterpretation.\n",
      "  warnings.warn(\n",
      "/home/maita/anaconda3/envs/gapmapbox/lib/python3.9/site-packages/seaborn/distributions.py:1676: UserWarning: `shade_lowest` is now deprecated in favor of `thresh`. Setting `thresh=0.05`, but please update your code.\n",
      "  warnings.warn(msg, UserWarning)\n"
     ]
    },
    {
     "data": {
      "text/plain": [
       "<AxesSubplot:>"
      ]
     },
     "execution_count": 108,
     "metadata": {},
     "output_type": "execute_result"
    },
    {
     "data": {
      "image/png": "[encoded data removed]",
      "text/plain": [
       "<Figure size 576x432 with 1 Axes>"
      ]
     },
     "metadata": {
      "needs_background": "light"
     },
     "output_type": "display_data"
    }
   ],
   "source": [
    "gplt.kdeplot(gpd.sjoin(gpd.GeoDataFrame(f20.stops, geometry=gpd.points_from_xy(f20.stops.stop_lon, f20.stops.stop_lat), crs=\"epsg:4326\"),\n",
    "          positiv_area, \n",
    "          op=\"within\"))"
   ]
  },
  {
   "cell_type": "code",
   "execution_count": 111,
   "id": "exceptional-correlation",
   "metadata": {},
   "outputs": [],
   "source": [
    "stops_harz_20 = gpd.sjoin(gpd.GeoDataFrame(f20.stops, geometry=gpd.points_from_xy(f20.stops.stop_lon, f20.stops.stop_lat), crs=\"epsg:4326\"),\n",
    "          positiv_area, \n",
    "          op=\"within\")"
   ]
  },
  {
   "cell_type": "code",
   "execution_count": 114,
   "id": "exterior-witness",
   "metadata": {},
   "outputs": [],
   "source": [
    "stops_harz_21 = gpd.sjoin(gpd.GeoDataFrame(f21.stops, geometry=gpd.points_from_xy(f21.stops.stop_lon, f21.stops.stop_lat), crs=\"epsg:4326\"),\n",
    "          positiv_area, \n",
    "          op=\"within\")"
   ]
  },
  {
   "cell_type": "code",
   "execution_count": 128,
   "id": "collect-recommendation",
   "metadata": {},
   "outputs": [],
   "source": [
    "stops_harz_21.drop([n for n in stops_harz_21.columns if \"index\" in n], axis=1,inplace=True)\n",
    "stops_harz_20.drop([n for n in stops_harz_20.columns if \"index\" in n], axis=1,inplace=True)"
   ]
  },
  {
   "cell_type": "code",
   "execution_count": 139,
   "id": "artistic-browse",
   "metadata": {},
   "outputs": [
    {
     "data": {
      "text/html": [
       "<div>\n",
       "<style scoped>\n",
       "    .dataframe tbody tr th:only-of-type {\n",
       "        vertical-align: middle;\n",
       "    }\n",
       "\n",
       "    .dataframe tbody tr th {\n",
       "        vertical-align: top;\n",
       "    }\n",
       "\n",
       "    .dataframe thead th {\n",
       "        text-align: right;\n",
       "    }\n",
       "</style>\n",
       "<table border=\"1\" class=\"dataframe\">\n",
       "  <thead>\n",
       "    <tr style=\"text-align: right;\">\n",
       "      <th></th>\n",
       "      <th>stop_id_left</th>\n",
       "      <th>stop_id_right</th>\n",
       "    </tr>\n",
       "  </thead>\n",
       "  <tbody>\n",
       "    <tr>\n",
       "      <th>2397</th>\n",
       "      <td>392342</td>\n",
       "      <td>392342</td>\n",
       "    </tr>\n",
       "    <tr>\n",
       "      <th>2398</th>\n",
       "      <td>49728</td>\n",
       "      <td>49728</td>\n",
       "    </tr>\n",
       "    <tr>\n",
       "      <th>2400</th>\n",
       "      <td>237849</td>\n",
       "      <td>49728</td>\n",
       "    </tr>\n",
       "    <tr>\n",
       "      <th>2398</th>\n",
       "      <td>49728</td>\n",
       "      <td>237849</td>\n",
       "    </tr>\n",
       "    <tr>\n",
       "      <th>2400</th>\n",
       "      <td>237849</td>\n",
       "      <td>237849</td>\n",
       "    </tr>\n",
       "    <tr>\n",
       "      <th>...</th>\n",
       "      <td>...</td>\n",
       "      <td>...</td>\n",
       "    </tr>\n",
       "    <tr>\n",
       "      <th>940924</th>\n",
       "      <td>925268</td>\n",
       "      <td>554741</td>\n",
       "    </tr>\n",
       "    <tr>\n",
       "      <th>942802</th>\n",
       "      <td>181215</td>\n",
       "      <td>181215</td>\n",
       "    </tr>\n",
       "    <tr>\n",
       "      <th>942803</th>\n",
       "      <td>23441</td>\n",
       "      <td>181215</td>\n",
       "    </tr>\n",
       "    <tr>\n",
       "      <th>942802</th>\n",
       "      <td>181215</td>\n",
       "      <td>23441</td>\n",
       "    </tr>\n",
       "    <tr>\n",
       "      <th>942803</th>\n",
       "      <td>23441</td>\n",
       "      <td>23441</td>\n",
       "    </tr>\n",
       "  </tbody>\n",
       "</table>\n",
       "<p>7917 rows × 2 columns</p>\n",
       "</div>"
      ],
      "text/plain": [
       "       stop_id_left stop_id_right\n",
       "2397         392342        392342\n",
       "2398          49728         49728\n",
       "2400         237849         49728\n",
       "2398          49728        237849\n",
       "2400         237849        237849\n",
       "...             ...           ...\n",
       "940924       925268        554741\n",
       "942802       181215        181215\n",
       "942803        23441        181215\n",
       "942802       181215         23441\n",
       "942803        23441         23441\n",
       "\n",
       "[7917 rows x 2 columns]"
      ]
     },
     "execution_count": 139,
     "metadata": {},
     "output_type": "execute_result"
    }
   ],
   "source": []
  },
  {
   "cell_type": "code",
   "execution_count": 166,
   "id": "chronic-tongue",
   "metadata": {},
   "outputs": [],
   "source": [
    "def uniqueGdf(gdf):\n",
    "    uni_gdf = gdf.iloc[[0]]\n",
    "    for i, r in gdf.iterrows():\n",
    "        if not (any([p.equals(r.geometry) for p in uni_gdf.geometry])):\n",
    "            uni_gdf = uni_gdf.append(r) \n",
    "    return uni_gdf"
   ]
  },
  {
   "cell_type": "code",
   "execution_count": 203,
   "id": "employed-combining",
   "metadata": {},
   "outputs": [],
   "source": [
    "point_counts_21 = gpd.sjoin(uni_gdf[[\"stop_id\",\"geometry\"]], stops_harz_21, op='intersects'\n",
    "         ).groupby(\"stop_id_left\"\n",
    "                  ).agg({\"stop_id_right\":\"count\",\n",
    "                         \"geometry\":\"first\", \n",
    "                         \"stop_name\":\"first\"\n",
    "                        })"
   ]
  },
  {
   "cell_type": "code",
   "execution_count": 204,
   "id": "resistant-kitty",
   "metadata": {},
   "outputs": [
    {
     "data": {
      "text/html": [
       "<div>\n",
       "<style scoped>\n",
       "    .dataframe tbody tr th:only-of-type {\n",
       "        vertical-align: middle;\n",
       "    }\n",
       "\n",
       "    .dataframe tbody tr th {\n",
       "        vertical-align: top;\n",
       "    }\n",
       "\n",
       "    .dataframe thead th {\n",
       "        text-align: right;\n",
       "    }\n",
       "</style>\n",
       "<table border=\"1\" class=\"dataframe\">\n",
       "  <thead>\n",
       "    <tr style=\"text-align: right;\">\n",
       "      <th></th>\n",
       "      <th>stop_id_right</th>\n",
       "      <th>geometry</th>\n",
       "      <th>stop_name</th>\n",
       "    </tr>\n",
       "    <tr>\n",
       "      <th>stop_id_left</th>\n",
       "      <th></th>\n",
       "      <th></th>\n",
       "      <th></th>\n",
       "    </tr>\n",
       "  </thead>\n",
       "  <tbody>\n",
       "    <tr>\n",
       "      <th>100636</th>\n",
       "      <td>2</td>\n",
       "      <td>POINT (11.11824 51.93056)</td>\n",
       "      <td>Groß Quenstedt Heerstr.</td>\n",
       "    </tr>\n",
       "    <tr>\n",
       "      <th>101037</th>\n",
       "      <td>2</td>\n",
       "      <td>POINT (11.25363 51.85048)</td>\n",
       "      <td>Hedersleben Neubauten L66</td>\n",
       "    </tr>\n",
       "    <tr>\n",
       "      <th>101161</th>\n",
       "      <td>2</td>\n",
       "      <td>POINT (10.84136 51.91468)</td>\n",
       "      <td>Mulmke Kreisstr.</td>\n",
       "    </tr>\n",
       "    <tr>\n",
       "      <th>102493</th>\n",
       "      <td>2</td>\n",
       "      <td>POINT (10.82037 51.97674)</td>\n",
       "      <td>Dardesheim Alter Bahnhof</td>\n",
       "    </tr>\n",
       "    <tr>\n",
       "      <th>102603</th>\n",
       "      <td>1</td>\n",
       "      <td>POINT (11.00846 51.90848)</td>\n",
       "      <td>Kosakengrab</td>\n",
       "    </tr>\n",
       "    <tr>\n",
       "      <th>...</th>\n",
       "      <td>...</td>\n",
       "      <td>...</td>\n",
       "      <td>...</td>\n",
       "    </tr>\n",
       "    <tr>\n",
       "      <th>98858</th>\n",
       "      <td>1</td>\n",
       "      <td>POINT (10.72649 51.77040)</td>\n",
       "      <td>Drei Annen Hohne Bf.</td>\n",
       "    </tr>\n",
       "    <tr>\n",
       "      <th>98910</th>\n",
       "      <td>3</td>\n",
       "      <td>POINT (11.04097 51.75330)</td>\n",
       "      <td>Thale Karl-Marx-Str.</td>\n",
       "    </tr>\n",
       "    <tr>\n",
       "      <th>991</th>\n",
       "      <td>1</td>\n",
       "      <td>POINT (11.02359 51.91115)</td>\n",
       "      <td>Sargstedter Siedlung</td>\n",
       "    </tr>\n",
       "    <tr>\n",
       "      <th>9952</th>\n",
       "      <td>1</td>\n",
       "      <td>POINT (11.24483 51.71888)</td>\n",
       "      <td>Ballenstedt Landgraben</td>\n",
       "    </tr>\n",
       "    <tr>\n",
       "      <th>99997</th>\n",
       "      <td>2</td>\n",
       "      <td>POINT (11.12464 51.66345)</td>\n",
       "      <td>Drahtzug</td>\n",
       "    </tr>\n",
       "  </tbody>\n",
       "</table>\n",
       "<p>1926 rows × 3 columns</p>\n",
       "</div>"
      ],
      "text/plain": [
       "              stop_id_right                   geometry  \\\n",
       "stop_id_left                                             \n",
       "100636                    2  POINT (11.11824 51.93056)   \n",
       "101037                    2  POINT (11.25363 51.85048)   \n",
       "101161                    2  POINT (10.84136 51.91468)   \n",
       "102493                    2  POINT (10.82037 51.97674)   \n",
       "102603                    1  POINT (11.00846 51.90848)   \n",
       "...                     ...                        ...   \n",
       "98858                     1  POINT (10.72649 51.77040)   \n",
       "98910                     3  POINT (11.04097 51.75330)   \n",
       "991                       1  POINT (11.02359 51.91115)   \n",
       "9952                      1  POINT (11.24483 51.71888)   \n",
       "99997                     2  POINT (11.12464 51.66345)   \n",
       "\n",
       "                              stop_name  \n",
       "stop_id_left                             \n",
       "100636          Groß Quenstedt Heerstr.  \n",
       "101037        Hedersleben Neubauten L66  \n",
       "101161                 Mulmke Kreisstr.  \n",
       "102493         Dardesheim Alter Bahnhof  \n",
       "102603                      Kosakengrab  \n",
       "...                                 ...  \n",
       "98858              Drei Annen Hohne Bf.  \n",
       "98910              Thale Karl-Marx-Str.  \n",
       "991                Sargstedter Siedlung  \n",
       "9952             Ballenstedt Landgraben  \n",
       "99997                          Drahtzug  \n",
       "\n",
       "[1926 rows x 3 columns]"
      ]
     },
     "execution_count": 204,
     "metadata": {},
     "output_type": "execute_result"
    }
   ],
   "source": [
    "point_counts_21"
   ]
  },
  {
   "cell_type": "code",
   "execution_count": 205,
   "id": "sustained-reducing",
   "metadata": {},
   "outputs": [
    {
     "data": {
      "text/plain": [
       "2    1094\n",
       "1     496\n",
       "3     333\n",
       "4       3\n",
       "Name: stop_id_right, dtype: int64"
      ]
     },
     "metadata": {},
     "output_type": "display_data"
    },
    {
     "name": "stdout",
     "output_type": "stream",
     "text": [
      "3695\n"
     ]
    }
   ],
   "source": [
    "display(point_counts_21.stop_id_right.value_counts())\n",
    "print(point_counts_21.stop_id_right.sum())"
   ]
  },
  {
   "cell_type": "code",
   "execution_count": 206,
   "id": "first-responsibility",
   "metadata": {},
   "outputs": [
    {
     "data": {
      "text/html": [
       "<div>\n",
       "<style scoped>\n",
       "    .dataframe tbody tr th:only-of-type {\n",
       "        vertical-align: middle;\n",
       "    }\n",
       "\n",
       "    .dataframe tbody tr th {\n",
       "        vertical-align: top;\n",
       "    }\n",
       "\n",
       "    .dataframe thead th {\n",
       "        text-align: right;\n",
       "    }\n",
       "</style>\n",
       "<table border=\"1\" class=\"dataframe\">\n",
       "  <thead>\n",
       "    <tr style=\"text-align: right;\">\n",
       "      <th></th>\n",
       "      <th>stop_id_right</th>\n",
       "      <th>geometry</th>\n",
       "      <th>stop_name</th>\n",
       "    </tr>\n",
       "    <tr>\n",
       "      <th>stop_id_left</th>\n",
       "      <th></th>\n",
       "      <th></th>\n",
       "      <th></th>\n",
       "    </tr>\n",
       "  </thead>\n",
       "  <tbody>\n",
       "    <tr>\n",
       "      <th>103329</th>\n",
       "      <td>3</td>\n",
       "      <td>POINT (11.33130 51.68451)</td>\n",
       "      <td>Wieserode</td>\n",
       "    </tr>\n",
       "    <tr>\n",
       "      <th>105896</th>\n",
       "      <td>3</td>\n",
       "      <td>POINT (10.73903 51.78809)</td>\n",
       "      <td>Wernigerode Drt_Drw 008 P8</td>\n",
       "    </tr>\n",
       "    <tr>\n",
       "      <th>109894</th>\n",
       "      <td>3</td>\n",
       "      <td>POINT (11.11911 51.60931)</td>\n",
       "      <td>Neudorf Kirche</td>\n",
       "    </tr>\n",
       "    <tr>\n",
       "      <th>116481</th>\n",
       "      <td>3</td>\n",
       "      <td>POINT (10.86625 52.01599)</td>\n",
       "      <td>Westerburg Burg</td>\n",
       "    </tr>\n",
       "    <tr>\n",
       "      <th>116718</th>\n",
       "      <td>3</td>\n",
       "      <td>POINT (11.05044 51.74773)</td>\n",
       "      <td>Thale H.-Heine Str.</td>\n",
       "    </tr>\n",
       "    <tr>\n",
       "      <th>...</th>\n",
       "      <td>...</td>\n",
       "      <td>...</td>\n",
       "      <td>...</td>\n",
       "    </tr>\n",
       "    <tr>\n",
       "      <th>943229</th>\n",
       "      <td>3</td>\n",
       "      <td>POINT (11.13922 51.64013)</td>\n",
       "      <td>Harzgerode Parkplatz</td>\n",
       "    </tr>\n",
       "    <tr>\n",
       "      <th>944087</th>\n",
       "      <td>3</td>\n",
       "      <td>POINT (10.90389 51.86727)</td>\n",
       "      <td>Derenburg Gewerbegebiet</td>\n",
       "    </tr>\n",
       "    <tr>\n",
       "      <th>946055</th>\n",
       "      <td>3</td>\n",
       "      <td>POINT (10.69046 51.86128)</td>\n",
       "      <td>Ilsenburg Sekundarschule</td>\n",
       "    </tr>\n",
       "    <tr>\n",
       "      <th>95710</th>\n",
       "      <td>3</td>\n",
       "      <td>POINT (11.14574 51.78749)</td>\n",
       "      <td>Quedlinburg Bildungshaus</td>\n",
       "    </tr>\n",
       "    <tr>\n",
       "      <th>98910</th>\n",
       "      <td>3</td>\n",
       "      <td>POINT (11.04097 51.75330)</td>\n",
       "      <td>Thale Karl-Marx-Str.</td>\n",
       "    </tr>\n",
       "  </tbody>\n",
       "</table>\n",
       "<p>336 rows × 3 columns</p>\n",
       "</div>"
      ],
      "text/plain": [
       "              stop_id_right                   geometry  \\\n",
       "stop_id_left                                             \n",
       "103329                    3  POINT (11.33130 51.68451)   \n",
       "105896                    3  POINT (10.73903 51.78809)   \n",
       "109894                    3  POINT (11.11911 51.60931)   \n",
       "116481                    3  POINT (10.86625 52.01599)   \n",
       "116718                    3  POINT (11.05044 51.74773)   \n",
       "...                     ...                        ...   \n",
       "943229                    3  POINT (11.13922 51.64013)   \n",
       "944087                    3  POINT (10.90389 51.86727)   \n",
       "946055                    3  POINT (10.69046 51.86128)   \n",
       "95710                     3  POINT (11.14574 51.78749)   \n",
       "98910                     3  POINT (11.04097 51.75330)   \n",
       "\n",
       "                               stop_name  \n",
       "stop_id_left                              \n",
       "103329                         Wieserode  \n",
       "105896        Wernigerode Drt_Drw 008 P8  \n",
       "109894                    Neudorf Kirche  \n",
       "116481                   Westerburg Burg  \n",
       "116718               Thale H.-Heine Str.  \n",
       "...                                  ...  \n",
       "943229              Harzgerode Parkplatz  \n",
       "944087           Derenburg Gewerbegebiet  \n",
       "946055          Ilsenburg Sekundarschule  \n",
       "95710           Quedlinburg Bildungshaus  \n",
       "98910               Thale Karl-Marx-Str.  \n",
       "\n",
       "[336 rows x 3 columns]"
      ]
     },
     "execution_count": 206,
     "metadata": {},
     "output_type": "execute_result"
    }
   ],
   "source": [
    "point_counts_21[point_counts_21.stop_id_right>2]"
   ]
  },
  {
   "cell_type": "code",
   "execution_count": 202,
   "id": "fresh-niger",
   "metadata": {},
   "outputs": [
    {
     "data": {
      "text/html": [
       "<div>\n",
       "<style scoped>\n",
       "    .dataframe tbody tr th:only-of-type {\n",
       "        vertical-align: middle;\n",
       "    }\n",
       "\n",
       "    .dataframe tbody tr th {\n",
       "        vertical-align: top;\n",
       "    }\n",
       "\n",
       "    .dataframe thead th {\n",
       "        text-align: right;\n",
       "    }\n",
       "</style>\n",
       "<table border=\"1\" class=\"dataframe\">\n",
       "  <thead>\n",
       "    <tr style=\"text-align: right;\">\n",
       "      <th></th>\n",
       "      <th>stop_name</th>\n",
       "      <th>parent_station</th>\n",
       "      <th>stop_code</th>\n",
       "      <th>stop_id</th>\n",
       "      <th>stop_lat</th>\n",
       "      <th>stop_lon</th>\n",
       "      <th>location_type</th>\n",
       "      <th>geometry</th>\n",
       "      <th>ADE</th>\n",
       "      <th>GF</th>\n",
       "      <th>...</th>\n",
       "      <th>NUTS</th>\n",
       "      <th>ARS_0</th>\n",
       "      <th>AGS_0</th>\n",
       "      <th>WSK</th>\n",
       "      <th>EWZ</th>\n",
       "      <th>KFL</th>\n",
       "      <th>DEBKG_ID</th>\n",
       "      <th>RS</th>\n",
       "      <th>SDV_RS</th>\n",
       "      <th>RS_0</th>\n",
       "    </tr>\n",
       "  </thead>\n",
       "  <tbody>\n",
       "    <tr>\n",
       "      <th>2407</th>\n",
       "      <td>Abbenrode Wendeplatz</td>\n",
       "      <td>NaN</td>\n",
       "      <td>NaN</td>\n",
       "      <td>199447</td>\n",
       "      <td>51.929550</td>\n",
       "      <td>10.626381</td>\n",
       "      <td>1.0</td>\n",
       "      <td>POINT (10.62638 51.92955)</td>\n",
       "      <td>4</td>\n",
       "      <td>4</td>\n",
       "      <td>...</td>\n",
       "      <td>DEE09</td>\n",
       "      <td>150850000000</td>\n",
       "      <td>15085000</td>\n",
       "      <td>2009-01-01</td>\n",
       "      <td>213310</td>\n",
       "      <td>2104.77</td>\n",
       "      <td>DEBKGDL20000E6Y3</td>\n",
       "      <td>15085</td>\n",
       "      <td>150850135135</td>\n",
       "      <td>150850000000</td>\n",
       "    </tr>\n",
       "    <tr>\n",
       "      <th>15102</th>\n",
       "      <td>Allrode Rosenweg</td>\n",
       "      <td>NaN</td>\n",
       "      <td>NaN</td>\n",
       "      <td>870686</td>\n",
       "      <td>51.674480</td>\n",
       "      <td>10.974545</td>\n",
       "      <td>1.0</td>\n",
       "      <td>POINT (10.97455 51.67448)</td>\n",
       "      <td>4</td>\n",
       "      <td>4</td>\n",
       "      <td>...</td>\n",
       "      <td>DEE09</td>\n",
       "      <td>150850000000</td>\n",
       "      <td>15085000</td>\n",
       "      <td>2009-01-01</td>\n",
       "      <td>213310</td>\n",
       "      <td>2104.77</td>\n",
       "      <td>DEBKGDL20000E6Y3</td>\n",
       "      <td>15085</td>\n",
       "      <td>150850135135</td>\n",
       "      <td>150850000000</td>\n",
       "    </tr>\n",
       "    <tr>\n",
       "      <th>25278</th>\n",
       "      <td>Am Silbernen Mann Drängetal Gleis 1</td>\n",
       "      <td>NaN</td>\n",
       "      <td>NaN</td>\n",
       "      <td>13286</td>\n",
       "      <td>51.798153</td>\n",
       "      <td>10.729809</td>\n",
       "      <td>1.0</td>\n",
       "      <td>POINT (10.72981 51.79815)</td>\n",
       "      <td>4</td>\n",
       "      <td>4</td>\n",
       "      <td>...</td>\n",
       "      <td>DEE09</td>\n",
       "      <td>150850000000</td>\n",
       "      <td>15085000</td>\n",
       "      <td>2009-01-01</td>\n",
       "      <td>213310</td>\n",
       "      <td>2104.77</td>\n",
       "      <td>DEBKGDL20000E6Y3</td>\n",
       "      <td>15085</td>\n",
       "      <td>150850135135</td>\n",
       "      <td>150850000000</td>\n",
       "    </tr>\n",
       "    <tr>\n",
       "      <th>25281</th>\n",
       "      <td>Am Silbernen Mann Drängetal Gleis 2</td>\n",
       "      <td>NaN</td>\n",
       "      <td>NaN</td>\n",
       "      <td>536534</td>\n",
       "      <td>51.798153</td>\n",
       "      <td>10.729896</td>\n",
       "      <td>1.0</td>\n",
       "      <td>POINT (10.72990 51.79815)</td>\n",
       "      <td>4</td>\n",
       "      <td>4</td>\n",
       "      <td>...</td>\n",
       "      <td>DEE09</td>\n",
       "      <td>150850000000</td>\n",
       "      <td>15085000</td>\n",
       "      <td>2009-01-01</td>\n",
       "      <td>213310</td>\n",
       "      <td>2104.77</td>\n",
       "      <td>DEBKGDL20000E6Y3</td>\n",
       "      <td>15085</td>\n",
       "      <td>150850135135</td>\n",
       "      <td>150850000000</td>\n",
       "    </tr>\n",
       "    <tr>\n",
       "      <th>56925</th>\n",
       "      <td>Bad Suderode Markt</td>\n",
       "      <td>NaN</td>\n",
       "      <td>NaN</td>\n",
       "      <td>670974</td>\n",
       "      <td>51.728565</td>\n",
       "      <td>11.120022</td>\n",
       "      <td>1.0</td>\n",
       "      <td>POINT (11.12002 51.72857)</td>\n",
       "      <td>4</td>\n",
       "      <td>4</td>\n",
       "      <td>...</td>\n",
       "      <td>DEE09</td>\n",
       "      <td>150850000000</td>\n",
       "      <td>15085000</td>\n",
       "      <td>2009-01-01</td>\n",
       "      <td>213310</td>\n",
       "      <td>2104.77</td>\n",
       "      <td>DEBKGDL20000E6Y3</td>\n",
       "      <td>15085</td>\n",
       "      <td>150850135135</td>\n",
       "      <td>150850000000</td>\n",
       "    </tr>\n",
       "    <tr>\n",
       "      <th>...</th>\n",
       "      <td>...</td>\n",
       "      <td>...</td>\n",
       "      <td>...</td>\n",
       "      <td>...</td>\n",
       "      <td>...</td>\n",
       "      <td>...</td>\n",
       "      <td>...</td>\n",
       "      <td>...</td>\n",
       "      <td>...</td>\n",
       "      <td>...</td>\n",
       "      <td>...</td>\n",
       "      <td>...</td>\n",
       "      <td>...</td>\n",
       "      <td>...</td>\n",
       "      <td>...</td>\n",
       "      <td>...</td>\n",
       "      <td>...</td>\n",
       "      <td>...</td>\n",
       "      <td>...</td>\n",
       "      <td>...</td>\n",
       "      <td>...</td>\n",
       "    </tr>\n",
       "    <tr>\n",
       "      <th>907213</th>\n",
       "      <td>Wienrode Harzstr.</td>\n",
       "      <td>NaN</td>\n",
       "      <td>NaN</td>\n",
       "      <td>732770</td>\n",
       "      <td>51.765965</td>\n",
       "      <td>10.972901</td>\n",
       "      <td>1.0</td>\n",
       "      <td>POINT (10.97290 51.76597)</td>\n",
       "      <td>4</td>\n",
       "      <td>4</td>\n",
       "      <td>...</td>\n",
       "      <td>DEE09</td>\n",
       "      <td>150850000000</td>\n",
       "      <td>15085000</td>\n",
       "      <td>2009-01-01</td>\n",
       "      <td>213310</td>\n",
       "      <td>2104.77</td>\n",
       "      <td>DEBKGDL20000E6Y3</td>\n",
       "      <td>15085</td>\n",
       "      <td>150850135135</td>\n",
       "      <td>150850000000</td>\n",
       "    </tr>\n",
       "    <tr>\n",
       "      <th>907221</th>\n",
       "      <td>Wienrode Mühlenstr.</td>\n",
       "      <td>NaN</td>\n",
       "      <td>NaN</td>\n",
       "      <td>394285</td>\n",
       "      <td>51.766594</td>\n",
       "      <td>10.973929</td>\n",
       "      <td>1.0</td>\n",
       "      <td>POINT (10.97393 51.76659)</td>\n",
       "      <td>4</td>\n",
       "      <td>4</td>\n",
       "      <td>...</td>\n",
       "      <td>DEE09</td>\n",
       "      <td>150850000000</td>\n",
       "      <td>15085000</td>\n",
       "      <td>2009-01-01</td>\n",
       "      <td>213310</td>\n",
       "      <td>2104.77</td>\n",
       "      <td>DEBKGDL20000E6Y3</td>\n",
       "      <td>15085</td>\n",
       "      <td>150850135135</td>\n",
       "      <td>150850000000</td>\n",
       "    </tr>\n",
       "    <tr>\n",
       "      <th>908954</th>\n",
       "      <td>Wieserode</td>\n",
       "      <td>NaN</td>\n",
       "      <td>NaN</td>\n",
       "      <td>103329</td>\n",
       "      <td>51.684513</td>\n",
       "      <td>11.331302</td>\n",
       "      <td>1.0</td>\n",
       "      <td>POINT (11.33130 51.68451)</td>\n",
       "      <td>4</td>\n",
       "      <td>4</td>\n",
       "      <td>...</td>\n",
       "      <td>DEE09</td>\n",
       "      <td>150850000000</td>\n",
       "      <td>15085000</td>\n",
       "      <td>2009-01-01</td>\n",
       "      <td>213310</td>\n",
       "      <td>2104.77</td>\n",
       "      <td>DEBKGDL20000E6Y3</td>\n",
       "      <td>15085</td>\n",
       "      <td>150850135135</td>\n",
       "      <td>150850000000</td>\n",
       "    </tr>\n",
       "    <tr>\n",
       "      <th>933287</th>\n",
       "      <td>Wülperode Zum Dören</td>\n",
       "      <td>NaN</td>\n",
       "      <td>NaN</td>\n",
       "      <td>491082</td>\n",
       "      <td>51.981240</td>\n",
       "      <td>10.601442</td>\n",
       "      <td>1.0</td>\n",
       "      <td>POINT (10.60144 51.98124)</td>\n",
       "      <td>4</td>\n",
       "      <td>4</td>\n",
       "      <td>...</td>\n",
       "      <td>DEE09</td>\n",
       "      <td>150850000000</td>\n",
       "      <td>15085000</td>\n",
       "      <td>2009-01-01</td>\n",
       "      <td>213310</td>\n",
       "      <td>2104.77</td>\n",
       "      <td>DEBKGDL20000E6Y3</td>\n",
       "      <td>15085</td>\n",
       "      <td>150850135135</td>\n",
       "      <td>150850000000</td>\n",
       "    </tr>\n",
       "    <tr>\n",
       "      <th>940917</th>\n",
       "      <td>Zilly Apotheke</td>\n",
       "      <td>NaN</td>\n",
       "      <td>NaN</td>\n",
       "      <td>629009</td>\n",
       "      <td>51.945778</td>\n",
       "      <td>10.824064</td>\n",
       "      <td>1.0</td>\n",
       "      <td>POINT (10.82406 51.94578)</td>\n",
       "      <td>4</td>\n",
       "      <td>4</td>\n",
       "      <td>...</td>\n",
       "      <td>DEE09</td>\n",
       "      <td>150850000000</td>\n",
       "      <td>15085000</td>\n",
       "      <td>2009-01-01</td>\n",
       "      <td>213310</td>\n",
       "      <td>2104.77</td>\n",
       "      <td>DEBKGDL20000E6Y3</td>\n",
       "      <td>15085</td>\n",
       "      <td>150850135135</td>\n",
       "      <td>150850000000</td>\n",
       "    </tr>\n",
       "  </tbody>\n",
       "</table>\n",
       "<p>336 rows × 36 columns</p>\n",
       "</div>"
      ],
      "text/plain": [
       "                                  stop_name parent_station stop_code stop_id  \\\n",
       "2407                   Abbenrode Wendeplatz            NaN       NaN  199447   \n",
       "15102                      Allrode Rosenweg            NaN       NaN  870686   \n",
       "25278   Am Silbernen Mann Drängetal Gleis 1            NaN       NaN   13286   \n",
       "25281   Am Silbernen Mann Drängetal Gleis 2            NaN       NaN  536534   \n",
       "56925                    Bad Suderode Markt            NaN       NaN  670974   \n",
       "...                                     ...            ...       ...     ...   \n",
       "907213                    Wienrode Harzstr.            NaN       NaN  732770   \n",
       "907221                  Wienrode Mühlenstr.            NaN       NaN  394285   \n",
       "908954                            Wieserode            NaN       NaN  103329   \n",
       "933287                  Wülperode Zum Dören            NaN       NaN  491082   \n",
       "940917                       Zilly Apotheke            NaN       NaN  629009   \n",
       "\n",
       "         stop_lat   stop_lon  location_type                   geometry  ADE  \\\n",
       "2407    51.929550  10.626381            1.0  POINT (10.62638 51.92955)    4   \n",
       "15102   51.674480  10.974545            1.0  POINT (10.97455 51.67448)    4   \n",
       "25278   51.798153  10.729809            1.0  POINT (10.72981 51.79815)    4   \n",
       "25281   51.798153  10.729896            1.0  POINT (10.72990 51.79815)    4   \n",
       "56925   51.728565  11.120022            1.0  POINT (11.12002 51.72857)    4   \n",
       "...           ...        ...            ...                        ...  ...   \n",
       "907213  51.765965  10.972901            1.0  POINT (10.97290 51.76597)    4   \n",
       "907221  51.766594  10.973929            1.0  POINT (10.97393 51.76659)    4   \n",
       "908954  51.684513  11.331302            1.0  POINT (11.33130 51.68451)    4   \n",
       "933287  51.981240  10.601442            1.0  POINT (10.60144 51.98124)    4   \n",
       "940917  51.945778  10.824064            1.0  POINT (10.82406 51.94578)    4   \n",
       "\n",
       "        GF  ...   NUTS         ARS_0     AGS_0         WSK     EWZ      KFL  \\\n",
       "2407     4  ...  DEE09  150850000000  15085000  2009-01-01  213310  2104.77   \n",
       "15102    4  ...  DEE09  150850000000  15085000  2009-01-01  213310  2104.77   \n",
       "25278    4  ...  DEE09  150850000000  15085000  2009-01-01  213310  2104.77   \n",
       "25281    4  ...  DEE09  150850000000  15085000  2009-01-01  213310  2104.77   \n",
       "56925    4  ...  DEE09  150850000000  15085000  2009-01-01  213310  2104.77   \n",
       "...     ..  ...    ...           ...       ...         ...     ...      ...   \n",
       "907213   4  ...  DEE09  150850000000  15085000  2009-01-01  213310  2104.77   \n",
       "907221   4  ...  DEE09  150850000000  15085000  2009-01-01  213310  2104.77   \n",
       "908954   4  ...  DEE09  150850000000  15085000  2009-01-01  213310  2104.77   \n",
       "933287   4  ...  DEE09  150850000000  15085000  2009-01-01  213310  2104.77   \n",
       "940917   4  ...  DEE09  150850000000  15085000  2009-01-01  213310  2104.77   \n",
       "\n",
       "                DEBKG_ID     RS        SDV_RS          RS_0  \n",
       "2407    DEBKGDL20000E6Y3  15085  150850135135  150850000000  \n",
       "15102   DEBKGDL20000E6Y3  15085  150850135135  150850000000  \n",
       "25278   DEBKGDL20000E6Y3  15085  150850135135  150850000000  \n",
       "25281   DEBKGDL20000E6Y3  15085  150850135135  150850000000  \n",
       "56925   DEBKGDL20000E6Y3  15085  150850135135  150850000000  \n",
       "...                  ...    ...           ...           ...  \n",
       "907213  DEBKGDL20000E6Y3  15085  150850135135  150850000000  \n",
       "907221  DEBKGDL20000E6Y3  15085  150850135135  150850000000  \n",
       "908954  DEBKGDL20000E6Y3  15085  150850135135  150850000000  \n",
       "933287  DEBKGDL20000E6Y3  15085  150850135135  150850000000  \n",
       "940917  DEBKGDL20000E6Y3  15085  150850135135  150850000000  \n",
       "\n",
       "[336 rows x 36 columns]"
      ]
     },
     "execution_count": 202,
     "metadata": {},
     "output_type": "execute_result"
    }
   ],
   "source": [
    "stops_harz_21[stops_harz_21.stop_id.isin(point_counts_21[point_counts_21.stop_id_right>2].index)]"
   ]
  },
  {
   "cell_type": "code",
   "execution_count": 192,
   "id": "powerful-hands",
   "metadata": {
    "scrolled": true
   },
   "outputs": [
    {
     "ename": "KeyboardInterrupt",
     "evalue": "",
     "output_type": "error",
     "traceback": [
      "\u001b[0;31m---------------------------------------------------------------------------\u001b[0m",
      "\u001b[0;31mKeyboardInterrupt\u001b[0m                         Traceback (most recent call last)",
      "\u001b[0;32m<ipython-input-192-0234e42b477a>\u001b[0m in \u001b[0;36m<module>\u001b[0;34m\u001b[0m\n\u001b[0;32m----> 1\u001b[0;31m point_counts_20 = gpd.sjoin(uniqueGdf(stops_harz_20)[[\"stop_id\",\"geometry\"]],\n\u001b[0m\u001b[1;32m      2\u001b[0m                             \u001b[0mstops_harz_20\u001b[0m\u001b[0;34m,\u001b[0m\u001b[0;34m\u001b[0m\u001b[0;34m\u001b[0m\u001b[0m\n\u001b[1;32m      3\u001b[0m                             \u001b[0mop\u001b[0m\u001b[0;34m=\u001b[0m\u001b[0;34m'intersects'\u001b[0m\u001b[0;34m\u001b[0m\u001b[0;34m\u001b[0m\u001b[0m\n\u001b[1;32m      4\u001b[0m          \u001b[0;34m)\u001b[0m\u001b[0;34m.\u001b[0m\u001b[0mgroupby\u001b[0m\u001b[0;34m(\u001b[0m\u001b[0;34m\"stop_id_left\"\u001b[0m\u001b[0;34m\u001b[0m\u001b[0;34m\u001b[0m\u001b[0m\n\u001b[1;32m      5\u001b[0m                   ).agg({\"stop_id_right\":\"count\",\n",
      "\u001b[0;32m<ipython-input-166-8433d6bbdb75>\u001b[0m in \u001b[0;36muniqueGdf\u001b[0;34m(gdf)\u001b[0m\n\u001b[1;32m      3\u001b[0m     \u001b[0;32mfor\u001b[0m \u001b[0mi\u001b[0m\u001b[0;34m,\u001b[0m \u001b[0mr\u001b[0m \u001b[0;32min\u001b[0m \u001b[0mstops_harz_21\u001b[0m\u001b[0;34m.\u001b[0m\u001b[0miterrows\u001b[0m\u001b[0;34m(\u001b[0m\u001b[0;34m)\u001b[0m\u001b[0;34m:\u001b[0m\u001b[0;34m\u001b[0m\u001b[0;34m\u001b[0m\u001b[0m\n\u001b[1;32m      4\u001b[0m         \u001b[0;32mif\u001b[0m \u001b[0;32mnot\u001b[0m \u001b[0;34m(\u001b[0m\u001b[0many\u001b[0m\u001b[0;34m(\u001b[0m\u001b[0;34m[\u001b[0m\u001b[0mp\u001b[0m\u001b[0;34m.\u001b[0m\u001b[0mequals\u001b[0m\u001b[0;34m(\u001b[0m\u001b[0mr\u001b[0m\u001b[0;34m.\u001b[0m\u001b[0mgeometry\u001b[0m\u001b[0;34m)\u001b[0m \u001b[0;32mfor\u001b[0m \u001b[0mp\u001b[0m \u001b[0;32min\u001b[0m \u001b[0muni_gdf\u001b[0m\u001b[0;34m.\u001b[0m\u001b[0mgeometry\u001b[0m\u001b[0;34m]\u001b[0m\u001b[0;34m)\u001b[0m\u001b[0;34m)\u001b[0m\u001b[0;34m:\u001b[0m\u001b[0;34m\u001b[0m\u001b[0;34m\u001b[0m\u001b[0m\n\u001b[0;32m----> 5\u001b[0;31m             \u001b[0muni_gdf\u001b[0m \u001b[0;34m=\u001b[0m \u001b[0muni_gdf\u001b[0m\u001b[0;34m.\u001b[0m\u001b[0mappend\u001b[0m\u001b[0;34m(\u001b[0m\u001b[0mr\u001b[0m\u001b[0;34m)\u001b[0m\u001b[0;34m\u001b[0m\u001b[0;34m\u001b[0m\u001b[0m\n\u001b[0m\u001b[1;32m      6\u001b[0m     \u001b[0;32mreturn\u001b[0m \u001b[0muni_gdf\u001b[0m\u001b[0;34m\u001b[0m\u001b[0;34m\u001b[0m\u001b[0m\n",
      "\u001b[0;32m~/anaconda3/envs/gapmapbox/lib/python3.9/site-packages/pandas/core/frame.py\u001b[0m in \u001b[0;36mappend\u001b[0;34m(self, other, ignore_index, verify_integrity, sort)\u001b[0m\n\u001b[1;32m   7955\u001b[0m                 \u001b[0mcombined_columns\u001b[0m \u001b[0;34m=\u001b[0m \u001b[0mself\u001b[0m\u001b[0;34m.\u001b[0m\u001b[0mcolumns\u001b[0m\u001b[0;34m.\u001b[0m\u001b[0mastype\u001b[0m\u001b[0;34m(\u001b[0m\u001b[0mobject\u001b[0m\u001b[0;34m)\u001b[0m\u001b[0;34m.\u001b[0m\u001b[0mappend\u001b[0m\u001b[0;34m(\u001b[0m\u001b[0midx_diff\u001b[0m\u001b[0;34m)\u001b[0m\u001b[0;34m\u001b[0m\u001b[0;34m\u001b[0m\u001b[0m\n\u001b[1;32m   7956\u001b[0m             other = (\n\u001b[0;32m-> 7957\u001b[0;31m                 \u001b[0mother\u001b[0m\u001b[0;34m.\u001b[0m\u001b[0mreindex\u001b[0m\u001b[0;34m(\u001b[0m\u001b[0mcombined_columns\u001b[0m\u001b[0;34m,\u001b[0m \u001b[0mcopy\u001b[0m\u001b[0;34m=\u001b[0m\u001b[0;32mFalse\u001b[0m\u001b[0;34m)\u001b[0m\u001b[0;34m\u001b[0m\u001b[0;34m\u001b[0m\u001b[0m\n\u001b[0m\u001b[1;32m   7958\u001b[0m                 \u001b[0;34m.\u001b[0m\u001b[0mto_frame\u001b[0m\u001b[0;34m(\u001b[0m\u001b[0;34m)\u001b[0m\u001b[0;34m\u001b[0m\u001b[0;34m\u001b[0m\u001b[0m\n\u001b[1;32m   7959\u001b[0m                 \u001b[0;34m.\u001b[0m\u001b[0mT\u001b[0m\u001b[0;34m.\u001b[0m\u001b[0minfer_objects\u001b[0m\u001b[0;34m(\u001b[0m\u001b[0;34m)\u001b[0m\u001b[0;34m\u001b[0m\u001b[0;34m\u001b[0m\u001b[0m\n",
      "\u001b[0;32m~/anaconda3/envs/gapmapbox/lib/python3.9/site-packages/pandas/core/generic.py\u001b[0m in \u001b[0;36minfer_objects\u001b[0;34m(self)\u001b[0m\n\u001b[1;32m   6087\u001b[0m         \u001b[0;31m# native numpy numeric types\u001b[0m\u001b[0;34m\u001b[0m\u001b[0;34m\u001b[0m\u001b[0;34m\u001b[0m\u001b[0m\n\u001b[1;32m   6088\u001b[0m         return self._constructor(\n\u001b[0;32m-> 6089\u001b[0;31m             \u001b[0mself\u001b[0m\u001b[0;34m.\u001b[0m\u001b[0m_mgr\u001b[0m\u001b[0;34m.\u001b[0m\u001b[0mconvert\u001b[0m\u001b[0;34m(\u001b[0m\u001b[0mdatetime\u001b[0m\u001b[0;34m=\u001b[0m\u001b[0;32mTrue\u001b[0m\u001b[0;34m,\u001b[0m \u001b[0mnumeric\u001b[0m\u001b[0;34m=\u001b[0m\u001b[0;32mFalse\u001b[0m\u001b[0;34m,\u001b[0m \u001b[0mtimedelta\u001b[0m\u001b[0;34m=\u001b[0m\u001b[0;32mTrue\u001b[0m\u001b[0;34m,\u001b[0m \u001b[0mcopy\u001b[0m\u001b[0;34m=\u001b[0m\u001b[0;32mTrue\u001b[0m\u001b[0;34m)\u001b[0m\u001b[0;34m\u001b[0m\u001b[0;34m\u001b[0m\u001b[0m\n\u001b[0m\u001b[1;32m   6090\u001b[0m         ).__finalize__(self, method=\"infer_objects\")\n\u001b[1;32m   6091\u001b[0m \u001b[0;34m\u001b[0m\u001b[0m\n",
      "\u001b[0;32m~/anaconda3/envs/gapmapbox/lib/python3.9/site-packages/pandas/core/internals/managers.py\u001b[0m in \u001b[0;36mconvert\u001b[0;34m(self, copy, datetime, numeric, timedelta)\u001b[0m\n\u001b[1;32m    638\u001b[0m         \u001b[0mtimedelta\u001b[0m\u001b[0;34m:\u001b[0m \u001b[0mbool\u001b[0m \u001b[0;34m=\u001b[0m \u001b[0;32mTrue\u001b[0m\u001b[0;34m,\u001b[0m\u001b[0;34m\u001b[0m\u001b[0;34m\u001b[0m\u001b[0m\n\u001b[1;32m    639\u001b[0m     ) -> \"BlockManager\":\n\u001b[0;32m--> 640\u001b[0;31m         return self.apply(\n\u001b[0m\u001b[1;32m    641\u001b[0m             \u001b[0;34m\"convert\"\u001b[0m\u001b[0;34m,\u001b[0m\u001b[0;34m\u001b[0m\u001b[0;34m\u001b[0m\u001b[0m\n\u001b[1;32m    642\u001b[0m             \u001b[0mcopy\u001b[0m\u001b[0;34m=\u001b[0m\u001b[0mcopy\u001b[0m\u001b[0;34m,\u001b[0m\u001b[0;34m\u001b[0m\u001b[0;34m\u001b[0m\u001b[0m\n",
      "\u001b[0;32m~/anaconda3/envs/gapmapbox/lib/python3.9/site-packages/pandas/core/internals/managers.py\u001b[0m in \u001b[0;36mapply\u001b[0;34m(self, f, align_keys, ignore_failures, **kwargs)\u001b[0m\n\u001b[1;32m    425\u001b[0m                     \u001b[0mapplied\u001b[0m \u001b[0;34m=\u001b[0m \u001b[0mb\u001b[0m\u001b[0;34m.\u001b[0m\u001b[0mapply\u001b[0m\u001b[0;34m(\u001b[0m\u001b[0mf\u001b[0m\u001b[0;34m,\u001b[0m \u001b[0;34m**\u001b[0m\u001b[0mkwargs\u001b[0m\u001b[0;34m)\u001b[0m\u001b[0;34m\u001b[0m\u001b[0;34m\u001b[0m\u001b[0m\n\u001b[1;32m    426\u001b[0m                 \u001b[0;32melse\u001b[0m\u001b[0;34m:\u001b[0m\u001b[0;34m\u001b[0m\u001b[0;34m\u001b[0m\u001b[0m\n\u001b[0;32m--> 427\u001b[0;31m                     \u001b[0mapplied\u001b[0m \u001b[0;34m=\u001b[0m \u001b[0mgetattr\u001b[0m\u001b[0;34m(\u001b[0m\u001b[0mb\u001b[0m\u001b[0;34m,\u001b[0m \u001b[0mf\u001b[0m\u001b[0;34m)\u001b[0m\u001b[0;34m(\u001b[0m\u001b[0;34m**\u001b[0m\u001b[0mkwargs\u001b[0m\u001b[0;34m)\u001b[0m\u001b[0;34m\u001b[0m\u001b[0;34m\u001b[0m\u001b[0m\n\u001b[0m\u001b[1;32m    428\u001b[0m             \u001b[0;32mexcept\u001b[0m \u001b[0;34m(\u001b[0m\u001b[0mTypeError\u001b[0m\u001b[0;34m,\u001b[0m \u001b[0mNotImplementedError\u001b[0m\u001b[0;34m)\u001b[0m\u001b[0;34m:\u001b[0m\u001b[0;34m\u001b[0m\u001b[0;34m\u001b[0m\u001b[0m\n\u001b[1;32m    429\u001b[0m                 \u001b[0;32mif\u001b[0m \u001b[0;32mnot\u001b[0m \u001b[0mignore_failures\u001b[0m\u001b[0;34m:\u001b[0m\u001b[0;34m\u001b[0m\u001b[0;34m\u001b[0m\u001b[0m\n",
      "\u001b[0;32m~/anaconda3/envs/gapmapbox/lib/python3.9/site-packages/pandas/core/internals/blocks.py\u001b[0m in \u001b[0;36mconvert\u001b[0;34m(self, copy, datetime, numeric, timedelta)\u001b[0m\n\u001b[1;32m   2575\u001b[0m \u001b[0;34m\u001b[0m\u001b[0m\n\u001b[1;32m   2576\u001b[0m         \u001b[0;32mif\u001b[0m \u001b[0mself\u001b[0m\u001b[0;34m.\u001b[0m\u001b[0mndim\u001b[0m \u001b[0;34m==\u001b[0m \u001b[0;36m2\u001b[0m\u001b[0;34m:\u001b[0m\u001b[0;34m\u001b[0m\u001b[0;34m\u001b[0m\u001b[0m\n\u001b[0;32m-> 2577\u001b[0;31m             \u001b[0mblocks\u001b[0m \u001b[0;34m=\u001b[0m \u001b[0mself\u001b[0m\u001b[0;34m.\u001b[0m\u001b[0msplit_and_operate\u001b[0m\u001b[0;34m(\u001b[0m\u001b[0;32mNone\u001b[0m\u001b[0;34m,\u001b[0m \u001b[0mf\u001b[0m\u001b[0;34m,\u001b[0m \u001b[0;32mFalse\u001b[0m\u001b[0;34m)\u001b[0m\u001b[0;34m\u001b[0m\u001b[0;34m\u001b[0m\u001b[0m\n\u001b[0m\u001b[1;32m   2578\u001b[0m         \u001b[0;32melse\u001b[0m\u001b[0;34m:\u001b[0m\u001b[0;34m\u001b[0m\u001b[0;34m\u001b[0m\u001b[0m\n\u001b[1;32m   2579\u001b[0m             \u001b[0mvalues\u001b[0m \u001b[0;34m=\u001b[0m \u001b[0mf\u001b[0m\u001b[0;34m(\u001b[0m\u001b[0;32mNone\u001b[0m\u001b[0;34m,\u001b[0m \u001b[0mself\u001b[0m\u001b[0;34m.\u001b[0m\u001b[0mvalues\u001b[0m\u001b[0;34m.\u001b[0m\u001b[0mravel\u001b[0m\u001b[0;34m(\u001b[0m\u001b[0;34m)\u001b[0m\u001b[0;34m,\u001b[0m \u001b[0;32mNone\u001b[0m\u001b[0;34m)\u001b[0m\u001b[0;34m\u001b[0m\u001b[0;34m\u001b[0m\u001b[0m\n",
      "\u001b[0;32m~/anaconda3/envs/gapmapbox/lib/python3.9/site-packages/pandas/core/internals/blocks.py\u001b[0m in \u001b[0;36msplit_and_operate\u001b[0;34m(self, mask, f, inplace, ignore_failures)\u001b[0m\n\u001b[1;32m    531\u001b[0m                 \u001b[0;31m#  reduction that is dropping nuisance columns GH#37827\u001b[0m\u001b[0;34m\u001b[0m\u001b[0;34m\u001b[0m\u001b[0;34m\u001b[0m\u001b[0m\n\u001b[1;32m    532\u001b[0m                 \u001b[0;32mtry\u001b[0m\u001b[0;34m:\u001b[0m\u001b[0;34m\u001b[0m\u001b[0;34m\u001b[0m\u001b[0m\n\u001b[0;32m--> 533\u001b[0;31m                     \u001b[0mnv\u001b[0m \u001b[0;34m=\u001b[0m \u001b[0mf\u001b[0m\u001b[0;34m(\u001b[0m\u001b[0mm\u001b[0m\u001b[0;34m,\u001b[0m \u001b[0mv\u001b[0m\u001b[0;34m,\u001b[0m \u001b[0mi\u001b[0m\u001b[0;34m)\u001b[0m\u001b[0;34m\u001b[0m\u001b[0;34m\u001b[0m\u001b[0m\n\u001b[0m\u001b[1;32m    534\u001b[0m                 \u001b[0;32mexcept\u001b[0m \u001b[0mTypeError\u001b[0m\u001b[0;34m:\u001b[0m\u001b[0;34m\u001b[0m\u001b[0;34m\u001b[0m\u001b[0m\n\u001b[1;32m    535\u001b[0m                     \u001b[0;32mif\u001b[0m \u001b[0mignore_failures\u001b[0m\u001b[0;34m:\u001b[0m\u001b[0;34m\u001b[0m\u001b[0;34m\u001b[0m\u001b[0m\n",
      "\u001b[0;32m~/anaconda3/envs/gapmapbox/lib/python3.9/site-packages/pandas/core/internals/blocks.py\u001b[0m in \u001b[0;36mf\u001b[0;34m(mask, val, idx)\u001b[0m\n\u001b[1;32m   2561\u001b[0m         \u001b[0;32mdef\u001b[0m \u001b[0mf\u001b[0m\u001b[0;34m(\u001b[0m\u001b[0mmask\u001b[0m\u001b[0;34m,\u001b[0m \u001b[0mval\u001b[0m\u001b[0;34m,\u001b[0m \u001b[0midx\u001b[0m\u001b[0;34m)\u001b[0m\u001b[0;34m:\u001b[0m\u001b[0;34m\u001b[0m\u001b[0;34m\u001b[0m\u001b[0m\n\u001b[1;32m   2562\u001b[0m             \u001b[0mshape\u001b[0m \u001b[0;34m=\u001b[0m \u001b[0mval\u001b[0m\u001b[0;34m.\u001b[0m\u001b[0mshape\u001b[0m\u001b[0;34m\u001b[0m\u001b[0;34m\u001b[0m\u001b[0m\n\u001b[0;32m-> 2563\u001b[0;31m             values = soft_convert_objects(\n\u001b[0m\u001b[1;32m   2564\u001b[0m                 \u001b[0mval\u001b[0m\u001b[0;34m.\u001b[0m\u001b[0mravel\u001b[0m\u001b[0;34m(\u001b[0m\u001b[0;34m)\u001b[0m\u001b[0;34m,\u001b[0m\u001b[0;34m\u001b[0m\u001b[0;34m\u001b[0m\u001b[0m\n\u001b[1;32m   2565\u001b[0m                 \u001b[0mdatetime\u001b[0m\u001b[0;34m=\u001b[0m\u001b[0mdatetime\u001b[0m\u001b[0;34m,\u001b[0m\u001b[0;34m\u001b[0m\u001b[0;34m\u001b[0m\u001b[0m\n",
      "\u001b[0;32m~/anaconda3/envs/gapmapbox/lib/python3.9/site-packages/pandas/core/dtypes/cast.py\u001b[0m in \u001b[0;36msoft_convert_objects\u001b[0;34m(values, datetime, numeric, timedelta, copy)\u001b[0m\n\u001b[1;32m   1143\u001b[0m     \u001b[0;32mif\u001b[0m \u001b[0mtimedelta\u001b[0m \u001b[0;32mand\u001b[0m \u001b[0mis_object_dtype\u001b[0m\u001b[0;34m(\u001b[0m\u001b[0mvalues\u001b[0m\u001b[0;34m.\u001b[0m\u001b[0mdtype\u001b[0m\u001b[0;34m)\u001b[0m\u001b[0;34m:\u001b[0m\u001b[0;34m\u001b[0m\u001b[0;34m\u001b[0m\u001b[0m\n\u001b[1;32m   1144\u001b[0m         \u001b[0;31m# Object check to ensure only run if previous did not convert\u001b[0m\u001b[0;34m\u001b[0m\u001b[0;34m\u001b[0m\u001b[0;34m\u001b[0m\u001b[0m\n\u001b[0;32m-> 1145\u001b[0;31m         \u001b[0mvalues\u001b[0m \u001b[0;34m=\u001b[0m \u001b[0mlib\u001b[0m\u001b[0;34m.\u001b[0m\u001b[0mmaybe_convert_objects\u001b[0m\u001b[0;34m(\u001b[0m\u001b[0mvalues\u001b[0m\u001b[0;34m,\u001b[0m \u001b[0mconvert_timedelta\u001b[0m\u001b[0;34m=\u001b[0m\u001b[0;32mTrue\u001b[0m\u001b[0;34m)\u001b[0m\u001b[0;34m\u001b[0m\u001b[0;34m\u001b[0m\u001b[0m\n\u001b[0m\u001b[1;32m   1146\u001b[0m \u001b[0;34m\u001b[0m\u001b[0m\n\u001b[1;32m   1147\u001b[0m     \u001b[0;32mif\u001b[0m \u001b[0mnumeric\u001b[0m \u001b[0;32mand\u001b[0m \u001b[0mis_object_dtype\u001b[0m\u001b[0;34m(\u001b[0m\u001b[0mvalues\u001b[0m\u001b[0;34m.\u001b[0m\u001b[0mdtype\u001b[0m\u001b[0;34m)\u001b[0m\u001b[0;34m:\u001b[0m\u001b[0;34m\u001b[0m\u001b[0;34m\u001b[0m\u001b[0m\n",
      "\u001b[0;32mpandas/_libs/lib.pyx\u001b[0m in \u001b[0;36mpandas._libs.lib.maybe_convert_objects\u001b[0;34m()\u001b[0m\n",
      "\u001b[0;32m~/anaconda3/envs/gapmapbox/lib/python3.9/site-packages/numpy/core/numeric.py\u001b[0m in \u001b[0;36mfull\u001b[0;34m(shape, fill_value, dtype, order, like)\u001b[0m\n\u001b[1;32m    286\u001b[0m \u001b[0;34m\u001b[0m\u001b[0m\n\u001b[1;32m    287\u001b[0m \u001b[0;34m\u001b[0m\u001b[0m\n\u001b[0;32m--> 288\u001b[0;31m \u001b[0;34m@\u001b[0m\u001b[0mset_array_function_like_doc\u001b[0m\u001b[0;34m\u001b[0m\u001b[0;34m\u001b[0m\u001b[0m\n\u001b[0m\u001b[1;32m    289\u001b[0m \u001b[0;34m@\u001b[0m\u001b[0mset_module\u001b[0m\u001b[0;34m(\u001b[0m\u001b[0;34m'numpy'\u001b[0m\u001b[0;34m)\u001b[0m\u001b[0;34m\u001b[0m\u001b[0;34m\u001b[0m\u001b[0m\n\u001b[1;32m    290\u001b[0m \u001b[0;32mdef\u001b[0m \u001b[0mfull\u001b[0m\u001b[0;34m(\u001b[0m\u001b[0mshape\u001b[0m\u001b[0;34m,\u001b[0m \u001b[0mfill_value\u001b[0m\u001b[0;34m,\u001b[0m \u001b[0mdtype\u001b[0m\u001b[0;34m=\u001b[0m\u001b[0;32mNone\u001b[0m\u001b[0;34m,\u001b[0m \u001b[0morder\u001b[0m\u001b[0;34m=\u001b[0m\u001b[0;34m'C'\u001b[0m\u001b[0;34m,\u001b[0m \u001b[0;34m*\u001b[0m\u001b[0;34m,\u001b[0m \u001b[0mlike\u001b[0m\u001b[0;34m=\u001b[0m\u001b[0;32mNone\u001b[0m\u001b[0;34m)\u001b[0m\u001b[0;34m:\u001b[0m\u001b[0;34m\u001b[0m\u001b[0;34m\u001b[0m\u001b[0m\n",
      "\u001b[0;31mKeyboardInterrupt\u001b[0m: "
     ]
    }
   ],
   "source": [
    "point_counts_20 = gpd.sjoin(uniqueGdf(stops_harz_20)[[\"stop_id\",\"geometry\"]],\n",
    "                            stops_harz_20, \n",
    "                            op='intersects'\n",
    "         ).groupby(\"stop_id_left\"\n",
    "                  ).agg({\"stop_id_right\":\"count\",\n",
    "                         \"geometry\":\"first\"\n",
    "                        })"
   ]
  },
  {
   "cell_type": "code",
   "execution_count": 207,
   "id": "superior-contributor",
   "metadata": {},
   "outputs": [
    {
     "data": {
      "text/plain": [
       "1    1449\n",
       "2     407\n",
       "3       1\n",
       "Name: stop_id_right, dtype: int64"
      ]
     },
     "metadata": {},
     "output_type": "display_data"
    },
    {
     "name": "stdout",
     "output_type": "stream",
     "text": [
      "2266\n"
     ]
    }
   ],
   "source": [
    "display(point_counts_20.stop_id_right.value_counts())\n",
    "print(point_counts_20.stop_id_right.sum())"
   ]
  },
  {
   "cell_type": "code",
   "execution_count": null,
   "id": "joint-surfing",
   "metadata": {},
   "outputs": [],
   "source": [
    "point"
   ]
  }
 ],
 "metadata": {
  "kernelspec": {
   "display_name": "Python 3",
   "language": "python",
   "name": "python3"
  },
  "language_info": {
   "codemirror_mode": {
    "name": "ipython",
    "version": 3
   },
   "file_extension": ".py",
   "mimetype": "text/x-python",
   "name": "python",
   "nbconvert_exporter": "python",
   "pygments_lexer": "ipython3",
   "version": "3.9.5"
  }
 },
 "nbformat": 4,
 "nbformat_minor": 5
}
