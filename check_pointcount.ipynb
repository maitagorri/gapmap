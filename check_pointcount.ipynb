{
 "cells": [
  {
   "cell_type": "markdown",
   "metadata": {},
   "source": [
    "Troubleshooting pointcounts."
   ]
  },
  {
   "cell_type": "code",
   "execution_count": null,
   "metadata": {},
   "outputs": [],
   "source": [
    "import pandas as pd\n",
    "import geopandas as gpd\n",
    "import numpy as np\n",
    "import sys\n",
    "from shapely.geometry import Polygon"
   ]
  },
  {
   "cell_type": "code",
   "execution_count": 2,
   "metadata": {},
   "outputs": [],
   "source": [
    "def scopeCountsInAreas(countname, ncounts_df, area_gdf):\n",
    "    # read counts per station, with point locations\n",
    "    ncounts_gdf = gpd.GeoDataFrame(ncounts_df,\n",
    "                                   geometry = gpd.points_from_xy(ncounts_df.stop_lon, ncounts_df.stop_lat),\n",
    "                                   crs=\"epsg:4326\").to_crs(\"epsg:4326\")\n",
    "    ## get sum of stuff in each AGS\n",
    "    agg_counts_df = gpd.sjoin(area_gdf[[\"AGS\",\"geometry\"]], ncounts_gdf[[\"n_day\",\"geometry\"]], how=\"left\", op=\"contains\" # spatial join\n",
    "                        )[[\"AGS\",\"n_day\"]\n",
    "                        ].groupby(\"AGS\").sum().rename({\"n_day\":countname},axis=1\n",
    "                        ) # keep AGS that have counts in them\n",
    "    return(agg_counts_df)"
   ]
  },
  {
   "cell_type": "code",
   "execution_count": 3,
   "metadata": {},
   "outputs": [],
   "source": [
    "def make_grid(scale, stopspace):   \n",
    "    # scale is a sidelength in km\n",
    "    # stopspace is a Geodataframe containing the complex hull of the space to be covered with grid, IN EPSG:3035\n",
    "    print(\"Making grid with sidelength \"+ str(scale) + \"km\")\n",
    "    # iterate little boxes with sidelength sl:\n",
    "    bounds = stopspace.total_bounds\n",
    "    xmin,ymin,xmax,ymax =  bounds\n",
    "    slm = scale*1000 # m\n",
    "    rows = int(np.ceil((ymax-ymin) /  slm)) \n",
    "    cols = int(np.ceil((xmax-xmin) / slm))  \n",
    "    print(str(rows) + \" x \" + str(cols))\n",
    "    XleftOrigin = xmin\n",
    "    XrightOrigin = xmin + slm\n",
    "    YtopOrigin = ymax\n",
    "    YbottomOrigin = ymax- slm\n",
    "    polygons = []\n",
    "    for i in range(cols):\n",
    "        Ytop = YtopOrigin\n",
    "        Ybottom =YbottomOrigin\n",
    "        for j in range(rows):\n",
    "            polygons.append(Polygon([(XleftOrigin, Ytop), (XrightOrigin, Ytop), (XrightOrigin, Ybottom), (XleftOrigin, Ybottom)])) \n",
    "            Ytop = Ytop - slm\n",
    "            Ybottom = Ybottom - slm\n",
    "        XleftOrigin = XleftOrigin + slm\n",
    "        XrightOrigin = XrightOrigin + slm\n",
    "    grid = gpd.GeoDataFrame({'geometry':polygons})\n",
    "    grid.crs = 'epsg:3035'\n",
    "    grid = grid[~gpd.sjoin(grid, stopspace, how='left', op='intersects')[\"index_right\"].isna()] # choose squares that overlap with convex hull\n",
    "#    grids[scale] = grid                                                             # either save all the grids in a dict...    # or save them to file--if it gets big that may be better\n",
    "    return(grid)"
   ]
  },
  {
   "cell_type": "code",
   "execution_count": 4,
   "metadata": {},
   "outputs": [],
   "source": [
    "def aggregateGrid(grid, ncounts_gdf):\n",
    "    print(\"Getting counts for grid with \" + str(len(grid)) + \" polygons\")\n",
    "#    agg_counts_gdf = grids[scale] # or if this gets too unwieldy load from disk...\n",
    "    agg_counts_gdf = grid.to_crs('epsg:4326')\n",
    "    ### !!! I'm worried we might lose shapes here, if they don't have one of the type of counts. Maybe better to keep them separate (like above)\n",
    "    ## get sum of stuff in each AGS\n",
    "    agg_counts_gdf = gpd.sjoin(agg_counts_gdf, ncounts_gdf[[\"n_day\",\"geometry\"]], how=\"left\", op=\"contains\" # spatial join\n",
    "                        ).drop(\"index_right\",axis=1).reset_index().dissolve(by=\"index\",aggfunc='sum').rename({\"n_day\":\"n\"},axis=1)\n",
    "    agg_counts_gdf = agg_counts_gdf[agg_counts_gdf['n']>0]\n",
    "    return(agg_counts_gdf)"
   ]
  },
  {
   "cell_type": "code",
   "execution_count": 5,
   "metadata": {},
   "outputs": [],
   "source": [
    "# Welche Pfade?\n",
    "out_dir = \"/home/maita/Nextcloud/Documents/Work/Gap_Map/out/Brosi/2021/\"\n",
    "pointfile = out_dir + \"2021_reissue_2.nstops.csv\""
   ]
  },
  {
   "cell_type": "code",
   "execution_count": 6,
   "metadata": {},
   "outputs": [],
   "source": [
    "\n",
    "points = pd.read_csv(pointfile, nrows=50000)"
   ]
  },
  {
   "cell_type": "code",
   "execution_count": 7,
   "metadata": {},
   "outputs": [],
   "source": [
    "points_gdf = gpd.GeoDataFrame(points,\n",
    "                                       geometry = gpd.points_from_xy(points.stop_lon, points.stop_lat),\n",
    "                                       crs=\"epsg:4326\").to_crs(\"epsg:4326\")"
   ]
  },
  {
   "cell_type": "code",
   "execution_count": 8,
   "metadata": {},
   "outputs": [
    {
     "data": {
      "text/plain": [
       "<AxesSubplot:>"
      ]
     },
     "execution_count": 8,
     "metadata": {},
     "output_type": "execute_result"
    },
    {
     "data": {
      "image/png": "[encoded data removed]",
      "text/plain": [
       "<Figure size 432x288 with 1 Axes>"
      ]
     },
     "metadata": {
      "needs_background": "light"
     },
     "output_type": "display_data"
    }
   ],
   "source": [
    "points_gdf.plot()"
   ]
  },
  {
   "cell_type": "code",
   "execution_count": 9,
   "metadata": {},
   "outputs": [
    {
     "name": "stdout",
     "output_type": "stream",
     "text": [
      "Making grid with sidelength 500km\n",
      "4 x 4\n",
      "Making grid with sidelength 50km\n",
      "40 x 36\n",
      "Making grid with sidelength 1km\n",
      "1993 x 1762\n"
     ]
    }
   ],
   "source": [
    "stopspace = gpd.GeoDataFrame({'geometry':[points_gdf.to_crs(\"epsg:3035\").unary_union.convex_hull]}, crs=\"epsg:3035\")\n",
    "grid_500 = make_grid(500, stopspace)\n",
    "grid_50 = make_grid(50, stopspace)\n",
    "\n",
    "grid_1 = make_grid(1, stopspace)"
   ]
  },
  {
   "cell_type": "markdown",
   "metadata": {},
   "source": [
    "### This is important! the to_crs for the counts gdf wasn' t there before, maybe that was the whole problem??"
   ]
  },
  {
   "cell_type": "code",
   "execution_count": 55,
   "metadata": {},
   "outputs": [
    {
     "data": {
      "text/plain": [
       "<AxesSubplot:>"
      ]
     },
     "execution_count": 66,
     "metadata": {},
     "output_type": "execute_result"
    },
    {
     "data": {
      "image/png": "[encoded data removed]",
      "text/plain": [
       "<Figure size 432x288 with 1 Axes>"
      ]
     },
     "metadata": {
      "needs_background": "light"
     },
     "output_type": "display_data"
    }
   ],
   "source": [
    "grid_50.plot()"
   ]
  },
  {
   "cell_type": "code",
   "execution_count": 13,
   "metadata": {},
   "outputs": [
    {
     "name": "stdout",
     "output_type": "stream",
     "text": [
      "Getting counts for grid with 16 polygons\n"
     ]
    }
   ],
   "source": [
    "counts_500 = aggregateGrid(grid_500, points_gdf) "
   ]
  },
  {
   "cell_type": "code",
   "execution_count": 14,
   "metadata": {},
   "outputs": [
    {
     "name": "stdout",
     "output_type": "stream",
     "text": [
      "Getting counts for grid with 1122 polygons\n"
     ]
    }
   ],
   "source": [
    "counts_50 = aggregateGrid(grid_50, points_gdf)"
   ]
  },
  {
   "cell_type": "code",
   "execution_count": 15,
   "metadata": {},
   "outputs": [
    {
     "name": "stdout",
     "output_type": "stream",
     "text": [
      "Getting counts for grid with 2619392 polygons\n"
     ]
    }
   ],
   "source": [
    "counts_1 = aggregateGrid(grid_1, points_gdf)"
   ]
  },
  {
   "cell_type": "code",
   "execution_count": 16,
   "metadata": {},
   "outputs": [
    {
     "data": {
      "text/plain": [
       "729162.9008498583"
      ]
     },
     "execution_count": 16,
     "metadata": {},
     "output_type": "execute_result"
    }
   ],
   "source": [
    "points_gdf.n_day.sum()"
   ]
  },
  {
   "cell_type": "code",
   "execution_count": 17,
   "metadata": {},
   "outputs": [
    {
     "data": {
      "text/plain": [
       "729162.7167138809"
      ]
     },
     "execution_count": 17,
     "metadata": {},
     "output_type": "execute_result"
    }
   ],
   "source": [
    "counts_50.n.sum()"
   ]
  },
  {
   "cell_type": "code",
   "execution_count": 18,
   "metadata": {},
   "outputs": [
    {
     "data": {
      "text/plain": [
       "729162.7167138811"
      ]
     },
     "execution_count": 18,
     "metadata": {},
     "output_type": "execute_result"
    }
   ],
   "source": [
    "counts_500.n.sum()"
   ]
  },
  {
   "cell_type": "code",
   "execution_count": 19,
   "metadata": {},
   "outputs": [
    {
     "data": {
      "text/plain": [
       "729162.716713881"
      ]
     },
     "execution_count": 19,
     "metadata": {},
     "output_type": "execute_result"
    }
   ],
   "source": [
    "counts_1.n.sum()"
   ]
  },
  {
   "cell_type": "code",
   "execution_count": 83,
   "metadata": {},
   "outputs": [
    {
     "data": {
      "text/plain": [
       "index    4.670684e+08\n",
       "n.all    4.130571e+09\n",
       "n.fv     1.006314e+04\n",
       "dtype: float64"
      ]
     },
     "execution_count": 83,
     "metadata": {},
     "output_type": "execute_result"
    }
   ],
   "source": [
    "gpd.read_file(out_dir + \"2021_reissue_2_5k.stops.4326.geojson\",driver=\"GeoJSON\").sum(0)"
   ]
  },
  {
   "cell_type": "code",
   "execution_count": 84,
   "metadata": {},
   "outputs": [
    {
     "data": {
      "text/plain": [
       "index    8.530216e+10\n",
       "n.all    3.474612e+08\n",
       "n.fv     1.006314e+04\n",
       "dtype: float64"
      ]
     },
     "execution_count": 84,
     "metadata": {},
     "output_type": "execute_result"
    }
   ],
   "source": [
    "gpd.read_file(out_dir + \"2021_reissue_2_1k.stops.4326.geojson\",driver=\"GeoJSON\").sum(0)"
   ]
  },
  {
   "cell_type": "code",
   "execution_count": null,
   "metadata": {},
   "outputs": [],
   "source": [
    "pd.read_csv(pointfile).sum(0)"
   ]
  },
  {
   "cell_type": "code",
   "execution_count": null,
   "metadata": {},
   "outputs": [],
   "source": []
  }
 ],
 "metadata": {
  "kernelspec": {
   "display_name": "Python 3 (ipykernel)",
   "language": "python",
   "name": "python3"
  },
  "language_info": {
   "codemirror_mode": {
    "name": "ipython",
    "version": 3
   },
   "file_extension": ".py",
   "mimetype": "text/x-python",
   "name": "python",
   "nbconvert_exporter": "python",
   "pygments_lexer": "ipython3",
   "version": "3.7.11"
  }
 },
 "nbformat": 4,
 "nbformat_minor": 4
}
