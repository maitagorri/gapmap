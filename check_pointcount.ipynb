{
 "cells": [
  {
   "cell_type": "markdown",
   "metadata": {},
   "source": [
    "Troubleshooting pointcounts."
   ]
  },
  {
   "cell_type": "code",
   "execution_count": 1,
   "metadata": {},
   "outputs": [],
   "source": [
    "import pandas as pd\n",
    "import geopandas as gpd\n",
    "import numpy as np\n",
    "import sys\n",
    "from shapely.geometry import Polygon"
   ]
  },
  {
   "cell_type": "code",
   "execution_count": 2,
   "metadata": {},
   "outputs": [],
   "source": [
    "def scopeCountsInAreas(countname, ncounts_df, area_gdf):\n",
    "    # read counts per station, with point locations\n",
    "    ncounts_gdf = gpd.GeoDataFrame(ncounts_df,\n",
    "                                   geometry = gpd.points_from_xy(ncounts_df.stop_lon, ncounts_df.stop_lat),\n",
    "                                   crs=\"epsg:4326\").to_crs(\"epsg:4326\")\n",
    "    ## get sum of stuff in each AGS\n",
    "    agg_counts_df = gpd.sjoin(area_gdf[[\"AGS\",\"geometry\"]], ncounts_gdf[[\"n_day\",\"geometry\"]], how=\"left\", op=\"contains\" # spatial join\n",
    "                        )[[\"AGS\",\"n_day\"]\n",
    "                        ].groupby(\"AGS\").sum().rename({\"n_day\":countname},axis=1\n",
    "                        ) # keep AGS that have counts in them\n",
    "    return(agg_counts_df)"
   ]
  },
  {
   "cell_type": "code",
   "execution_count": 3,
   "metadata": {},
   "outputs": [],
   "source": [
    "def make_grid(scale, stopspace):   \n",
    "    # scale is a sidelength in km\n",
    "    # stopspace is a Geodataframe containing the complex hull of the space to be covered with grid, IN EPSG:3035\n",
    "    print(\"Making grid with sidelength \"+ str(scale) + \"km\")\n",
    "    # iterate little boxes with sidelength sl:\n",
    "    bounds = stopspace.total_bounds\n",
    "    xmin,ymin,xmax,ymax =  bounds\n",
    "    slm = scale*1000 # m\n",
    "    rows = int(np.ceil((ymax-ymin) /  slm)) \n",
    "    cols = int(np.ceil((xmax-xmin) / slm))  \n",
    "    print(str(rows) + \" x \" + str(cols))\n",
    "    XleftOrigin = xmin\n",
    "    XrightOrigin = xmin + slm\n",
    "    YtopOrigin = ymax\n",
    "    YbottomOrigin = ymax- slm\n",
    "    polygons = []\n",
    "    for i in range(cols):\n",
    "        Ytop = YtopOrigin\n",
    "        Ybottom =YbottomOrigin\n",
    "        for j in range(rows):\n",
    "            polygons.append(Polygon([(XleftOrigin, Ytop), (XrightOrigin, Ytop), (XrightOrigin, Ybottom), (XleftOrigin, Ybottom)])) \n",
    "            Ytop = Ytop - slm\n",
    "            Ybottom = Ybottom - slm\n",
    "        XleftOrigin = XleftOrigin + slm\n",
    "        XrightOrigin = XrightOrigin + slm\n",
    "    grid = gpd.GeoDataFrame({'geometry':polygons})\n",
    "    grid.crs = 'epsg:3035'\n",
    "    grid = grid[~gpd.sjoin(grid, stopspace, how='left', op='intersects')[\"index_right\"].isna()] # choose squares that overlap with convex hull\n",
    "#    grids[scale] = grid                                                             # either save all the grids in a dict...    # or save them to file--if it gets big that may be better\n",
    "    return(grid)"
   ]
  },
  {
   "cell_type": "code",
   "execution_count": 52,
   "metadata": {},
   "outputs": [],
   "source": [
    "def aggregateGrid(grid, ncounts_gdf):\n",
    "    print(\"Getting counts for grid with \" + str(len(grid)) + \" polygons\")\n",
    "#    agg_counts_gdf = grids[scale] # or if this gets too unwieldy load from disk...\n",
    "    agg_counts_gdf = grid.to_crs('epsg:4326')\n",
    "    ### !!! I'm worried we might lose shapes here, if they don't have one of the type of counts. Maybe better to keep them separate (like above)\n",
    "    ## get sum of stuff in each AGS\n",
    "    agg_counts_gdf = gpd.sjoin(agg_counts_gdf, ncounts_gdf[[\"n_day\",\"geometry\"]].to_crs('epsg:4326'), how=\"left\", op=\"contains\" # spatial join\n",
    "                        ).drop(\"index_right\",axis=1).reset_index().dissolve(by=\"index\",aggfunc='sum').rename({\"n_day\":\"n\"},axis=1)\n",
    "    agg_counts_gdf = agg_counts_gdf[agg_counts_gdf['n']>0]\n",
    "    return(agg_counts_gdf)"
   ]
  },
  {
   "cell_type": "code",
   "execution_count": 53,
   "metadata": {},
   "outputs": [],
   "source": [
    "# Welche Pfade?\n",
    "out_dir = \"/home/maita/Nextcloud/Documents/Work/Gap_Map/out/Delfi/\"\n",
    "pointfile = out_dir + \"20211015_fahrplaene_gesamtdeutschland_gtfs.nstops.csv\""
   ]
  },
  {
   "cell_type": "code",
   "execution_count": 54,
   "metadata": {},
   "outputs": [],
   "source": [
    "\n",
    "points = pd.read_csv(pointfile)"
   ]
  },
  {
   "cell_type": "code",
   "execution_count": 127,
   "metadata": {},
   "outputs": [],
   "source": [
    "points_gdf = gpd.GeoDataFrame(points,\n",
    "                                       geometry = gpd.points_from_xy(points.stop_lon, points.stop_lat),\n",
    "                                       crs=\"epsg:4326\").to_crs(\"epsg:4326\")"
   ]
  },
  {
   "cell_type": "code",
   "execution_count": 128,
   "metadata": {},
   "outputs": [
    {
     "data": {
      "text/plain": [
       "(434024, 10)"
      ]
     },
     "execution_count": 128,
     "metadata": {},
     "output_type": "execute_result"
    }
   ],
   "source": [
    "points_gdf.shape"
   ]
  },
  {
   "cell_type": "code",
   "execution_count": 129,
   "metadata": {},
   "outputs": [
    {
     "data": {
      "text/plain": [
       "<AxesSubplot:>"
      ]
     },
     "execution_count": 129,
     "metadata": {},
     "output_type": "execute_result"
    },
    {
     "data": {
      "image/png": "[encoded data removed]",
      "text/plain": [
       "<Figure size 432x288 with 1 Axes>"
      ]
     },
     "metadata": {
      "needs_background": "light"
     },
     "output_type": "display_data"
    }
   ],
   "source": [
    "points_gdf.plot()"
   ]
  },
  {
   "cell_type": "code",
   "execution_count": 126,
   "metadata": {},
   "outputs": [
    {
     "name": "stderr",
     "output_type": "stream",
     "text": [
      "/home/maita/anaconda3/envs/gapmapbox/lib/python3.9/site-packages/geopandas/geodataframe.py:853: SettingWithCopyWarning: \n",
      "A value is trying to be set on a copy of a slice from a DataFrame.\n",
      "Try using .loc[row_indexer,col_indexer] = value instead\n",
      "\n",
      "See the caveats in the documentation: https://pandas.pydata.org/pandas-docs/stable/user_guide/indexing.html#returning-a-view-versus-a-copy\n",
      "  super(GeoDataFrame, self).__setitem__(key, value)\n"
     ]
    },
    {
     "data": {
      "text/plain": [
       "<AxesSubplot:>"
      ]
     },
     "execution_count": 126,
     "metadata": {},
     "output_type": "execute_result"
    },
    {
     "data": {
      "image/png": "[encoded data removed]",
      "text/plain": [
       "<Figure size 432x288 with 1 Axes>"
      ]
     },
     "metadata": {
      "needs_background": "light"
     },
     "output_type": "display_data"
    },
    {
     "data": {
      "image/png": "[encoded data removed]",
      "text/plain": [
       "<Figure size 432x288 with 1 Axes>"
      ]
     },
     "metadata": {
      "needs_background": "light"
     },
     "output_type": "display_data"
    }
   ],
   "source": [
    "world = gpd.read_file(gpd.datasets.get_path('naturalearth_lowres')).to_crs('epsg:3035')\n",
    "germany = world[world.name == \"Germany\"]\n",
    "germany.plot()\n",
    "germany['geometry'] = germany.geometry.buffer(50000)\n",
    "germany = germany.to_crs('epsg:4326') #50k buffer\n",
    "germany.plot()"
   ]
  },
  {
   "cell_type": "code",
   "execution_count": 130,
   "metadata": {},
   "outputs": [],
   "source": [
    "points_gdf = gpd.sjoin(points_gdf, germany[['geometry']], how=\"inner\", op=\"within\" # spatial join\n",
    "                        )"
   ]
  },
  {
   "cell_type": "code",
   "execution_count": 131,
   "metadata": {},
   "outputs": [
    {
     "data": {
      "text/html": [
       "<div>\n",
       "<style scoped>\n",
       "    .dataframe tbody tr th:only-of-type {\n",
       "        vertical-align: middle;\n",
       "    }\n",
       "\n",
       "    .dataframe tbody tr th {\n",
       "        vertical-align: top;\n",
       "    }\n",
       "\n",
       "    .dataframe thead th {\n",
       "        text-align: right;\n",
       "    }\n",
       "</style>\n",
       "<table border=\"1\" class=\"dataframe\">\n",
       "  <thead>\n",
       "    <tr style=\"text-align: right;\">\n",
       "      <th></th>\n",
       "      <th>Unnamed: 0</th>\n",
       "      <th>stop_id</th>\n",
       "      <th>n</th>\n",
       "      <th>stop_name</th>\n",
       "      <th>parent_station</th>\n",
       "      <th>stop_lat</th>\n",
       "      <th>stop_lon</th>\n",
       "      <th>location_type</th>\n",
       "      <th>n_day</th>\n",
       "      <th>geometry</th>\n",
       "      <th>index_right</th>\n",
       "    </tr>\n",
       "  </thead>\n",
       "  <tbody>\n",
       "    <tr>\n",
       "      <th>0</th>\n",
       "      <td>0</td>\n",
       "      <td>de:06413:8041:2:2</td>\n",
       "      <td>8853.0</td>\n",
       "      <td>Offenbach (Main)-Rumpenheim Kurhessenplatz</td>\n",
       "      <td>NaN</td>\n",
       "      <td>50.129671</td>\n",
       "      <td>8.797541</td>\n",
       "      <td>0</td>\n",
       "      <td>124.690141</td>\n",
       "      <td>POINT (8.79754 50.12967)</td>\n",
       "      <td>121</td>\n",
       "    </tr>\n",
       "    <tr>\n",
       "      <th>1</th>\n",
       "      <td>1</td>\n",
       "      <td>de:06413:8041:1:1</td>\n",
       "      <td>8841.0</td>\n",
       "      <td>Offenbach (Main)-Rumpenheim Kurhessenplatz</td>\n",
       "      <td>NaN</td>\n",
       "      <td>50.129374</td>\n",
       "      <td>8.797052</td>\n",
       "      <td>0</td>\n",
       "      <td>124.521127</td>\n",
       "      <td>POINT (8.79705 50.12937)</td>\n",
       "      <td>121</td>\n",
       "    </tr>\n",
       "    <tr>\n",
       "      <th>2</th>\n",
       "      <td>2</td>\n",
       "      <td>de:06412:1502:32:3</td>\n",
       "      <td>2676.0</td>\n",
       "      <td>Frankfurt (Main) Burgstraße</td>\n",
       "      <td>NaN</td>\n",
       "      <td>50.127648</td>\n",
       "      <td>8.704689</td>\n",
       "      <td>0</td>\n",
       "      <td>37.690141</td>\n",
       "      <td>POINT (8.70469 50.12765)</td>\n",
       "      <td>121</td>\n",
       "    </tr>\n",
       "    <tr>\n",
       "      <th>3</th>\n",
       "      <td>3</td>\n",
       "      <td>de:06412:1503:3:3</td>\n",
       "      <td>2676.0</td>\n",
       "      <td>Frankfurt (Main) Prüfling</td>\n",
       "      <td>NaN</td>\n",
       "      <td>50.128372</td>\n",
       "      <td>8.706881</td>\n",
       "      <td>0</td>\n",
       "      <td>37.690141</td>\n",
       "      <td>POINT (8.70688 50.12837)</td>\n",
       "      <td>121</td>\n",
       "    </tr>\n",
       "    <tr>\n",
       "      <th>4</th>\n",
       "      <td>4</td>\n",
       "      <td>de:06412:1503:1:1</td>\n",
       "      <td>26886.0</td>\n",
       "      <td>Frankfurt (Main) Prüfling</td>\n",
       "      <td>NaN</td>\n",
       "      <td>50.128247</td>\n",
       "      <td>8.706909</td>\n",
       "      <td>0</td>\n",
       "      <td>378.676056</td>\n",
       "      <td>POINT (8.70691 50.12825)</td>\n",
       "      <td>121</td>\n",
       "    </tr>\n",
       "  </tbody>\n",
       "</table>\n",
       "</div>"
      ],
      "text/plain": [
       "   Unnamed: 0             stop_id        n  \\\n",
       "0           0   de:06413:8041:2:2   8853.0   \n",
       "1           1   de:06413:8041:1:1   8841.0   \n",
       "2           2  de:06412:1502:32:3   2676.0   \n",
       "3           3   de:06412:1503:3:3   2676.0   \n",
       "4           4   de:06412:1503:1:1  26886.0   \n",
       "\n",
       "                                    stop_name parent_station   stop_lat  \\\n",
       "0  Offenbach (Main)-Rumpenheim Kurhessenplatz            NaN  50.129671   \n",
       "1  Offenbach (Main)-Rumpenheim Kurhessenplatz            NaN  50.129374   \n",
       "2                 Frankfurt (Main) Burgstraße            NaN  50.127648   \n",
       "3                   Frankfurt (Main) Prüfling            NaN  50.128372   \n",
       "4                   Frankfurt (Main) Prüfling            NaN  50.128247   \n",
       "\n",
       "   stop_lon  location_type       n_day                  geometry  index_right  \n",
       "0  8.797541              0  124.690141  POINT (8.79754 50.12967)          121  \n",
       "1  8.797052              0  124.521127  POINT (8.79705 50.12937)          121  \n",
       "2  8.704689              0   37.690141  POINT (8.70469 50.12765)          121  \n",
       "3  8.706881              0   37.690141  POINT (8.70688 50.12837)          121  \n",
       "4  8.706909              0  378.676056  POINT (8.70691 50.12825)          121  "
      ]
     },
     "execution_count": 131,
     "metadata": {},
     "output_type": "execute_result"
    }
   ],
   "source": [
    "points_gdf.head()"
   ]
  },
  {
   "cell_type": "code",
   "execution_count": 132,
   "metadata": {},
   "outputs": [
    {
     "data": {
      "text/plain": [
       "(433318, 11)"
      ]
     },
     "execution_count": 132,
     "metadata": {},
     "output_type": "execute_result"
    }
   ],
   "source": [
    "points_gdf.shape"
   ]
  },
  {
   "cell_type": "code",
   "execution_count": 133,
   "metadata": {},
   "outputs": [
    {
     "data": {
      "text/plain": [
       "<AxesSubplot:>"
      ]
     },
     "execution_count": 133,
     "metadata": {},
     "output_type": "execute_result"
    },
    {
     "data": {
      "image/png": "[encoded data removed]",
      "text/plain": [
       "<Figure size 432x288 with 1 Axes>"
      ]
     },
     "metadata": {
      "needs_background": "light"
     },
     "output_type": "display_data"
    }
   ],
   "source": [
    "points_gdf.plot()"
   ]
  },
  {
   "cell_type": "code",
   "execution_count": 134,
   "metadata": {},
   "outputs": [
    {
     "name": "stdout",
     "output_type": "stream",
     "text": [
      "Making grid with sidelength 500km\n",
      "2 x 2\n",
      "Making grid with sidelength 50km\n",
      "20 x 15\n",
      "Making grid with sidelength 1km\n",
      "955 x 734\n"
     ]
    }
   ],
   "source": [
    "stopspace = gpd.GeoDataFrame({'geometry':[germany.to_crs(\"epsg:3035\").unary_union.convex_hull]}, crs=\"epsg:3035\")\n",
    "grid_500 = make_grid(500, stopspace)\n",
    "grid_50 = make_grid(50, stopspace)\n",
    "\n",
    "grid_1 = make_grid(1, stopspace)"
   ]
  },
  {
   "cell_type": "markdown",
   "metadata": {},
   "source": [
    "### This is important! the to_crs for the counts gdf wasn' t there before, maybe that was the whole problem??"
   ]
  },
  {
   "cell_type": "code",
   "execution_count": 135,
   "metadata": {},
   "outputs": [
    {
     "data": {
      "text/plain": [
       "<AxesSubplot:>"
      ]
     },
     "execution_count": 135,
     "metadata": {},
     "output_type": "execute_result"
    },
    {
     "data": {
      "image/png": "[encoded data removed]",
      "text/plain": [
       "<Figure size 432x288 with 1 Axes>"
      ]
     },
     "metadata": {
      "needs_background": "light"
     },
     "output_type": "display_data"
    }
   ],
   "source": [
    "grid_500.plot()"
   ]
  },
  {
   "cell_type": "code",
   "execution_count": 136,
   "metadata": {},
   "outputs": [
    {
     "name": "stdout",
     "output_type": "stream",
     "text": [
      "Getting counts for grid with 4 polygons\n"
     ]
    }
   ],
   "source": [
    "counts_500 = aggregateGrid(grid_500, points_gdf) "
   ]
  },
  {
   "cell_type": "code",
   "execution_count": 137,
   "metadata": {},
   "outputs": [
    {
     "name": "stdout",
     "output_type": "stream",
     "text": [
      "Getting counts for grid with 251 polygons\n"
     ]
    }
   ],
   "source": [
    "counts_50 = aggregateGrid(grid_50, points_gdf)"
   ]
  },
  {
   "cell_type": "code",
   "execution_count": 138,
   "metadata": {},
   "outputs": [
    {
     "name": "stdout",
     "output_type": "stream",
     "text": [
      "Getting counts for grid with 557373 polygons\n"
     ]
    }
   ],
   "source": [
    "counts_1 = aggregateGrid(grid_1, points_gdf)"
   ]
  },
  {
   "cell_type": "code",
   "execution_count": 139,
   "metadata": {},
   "outputs": [
    {
     "data": {
      "text/plain": [
       "12004861.225352112"
      ]
     },
     "execution_count": 139,
     "metadata": {},
     "output_type": "execute_result"
    }
   ],
   "source": [
    "points_gdf.n_day.sum()"
   ]
  },
  {
   "cell_type": "code",
   "execution_count": 140,
   "metadata": {},
   "outputs": [
    {
     "data": {
      "text/plain": [
       "12004861.225352112"
      ]
     },
     "execution_count": 140,
     "metadata": {},
     "output_type": "execute_result"
    }
   ],
   "source": [
    "counts_50.n.sum()"
   ]
  },
  {
   "cell_type": "code",
   "execution_count": 141,
   "metadata": {},
   "outputs": [
    {
     "data": {
      "text/plain": [
       "12004861.225352494"
      ]
     },
     "execution_count": 141,
     "metadata": {},
     "output_type": "execute_result"
    }
   ],
   "source": [
    "counts_500.n.sum()"
   ]
  },
  {
   "cell_type": "code",
   "execution_count": 142,
   "metadata": {},
   "outputs": [
    {
     "data": {
      "text/plain": [
       "12004861.225352112"
      ]
     },
     "execution_count": 142,
     "metadata": {},
     "output_type": "execute_result"
    }
   ],
   "source": [
    "counts_1.n.sum()"
   ]
  },
  {
   "cell_type": "markdown",
   "metadata": {},
   "source": [
    "1. This works with the FV-counts from 2021 from Brosi's dataset\n",
    "2. This also works with the DELFI counts, no problem!"
   ]
  },
  {
   "cell_type": "code",
   "execution_count": 83,
   "metadata": {},
   "outputs": [
    {
     "data": {
      "text/plain": [
       "index    4.670684e+08\n",
       "n.all    4.130571e+09\n",
       "n.fv     1.006314e+04\n",
       "dtype: float64"
      ]
     },
     "execution_count": 83,
     "metadata": {},
     "output_type": "execute_result"
    }
   ],
   "source": [
    "gpd.read_file(out_dir + \"2021_reissue_2_5k.stops.4326.geojson\",driver=\"GeoJSON\").sum(0)"
   ]
  },
  {
   "cell_type": "code",
   "execution_count": 84,
   "metadata": {},
   "outputs": [
    {
     "data": {
      "text/plain": [
       "index    8.530216e+10\n",
       "n.all    3.474612e+08\n",
       "n.fv     1.006314e+04\n",
       "dtype: float64"
      ]
     },
     "execution_count": 84,
     "metadata": {},
     "output_type": "execute_result"
    }
   ],
   "source": [
    "gpd.read_file(out_dir + \"2021_reissue_2_1k.stops.4326.geojson\",driver=\"GeoJSON\").sum(0)"
   ]
  },
  {
   "cell_type": "code",
   "execution_count": null,
   "metadata": {},
   "outputs": [],
   "source": [
    "pd.read_csv(pointfile).sum(0)"
   ]
  },
  {
   "cell_type": "markdown",
   "metadata": {},
   "source": [
    "What's going on with DELFI stations outside Germany?"
   ]
  },
  {
   "cell_type": "code",
   "execution_count": 88,
   "metadata": {},
   "outputs": [],
   "source": [
    "points_outside_gdf = gpd.sjoin(\n",
    "    gpd.GeoDataFrame(points,\n",
    "                       geometry = gpd.points_from_xy(points.stop_lon, points.stop_lat),\n",
    "                       crs=\"epsg:4326\").to_crs(\"epsg:4326\"\n",
    "                        ),\n",
    "                    germany[['geometry']], how=\"left\", op=\"within\" # spatial join\n",
    "                        )\n",
    "\n",
    "points_outside_gdf = points_outside_gdf[points_outside_gdf.index_right.isna()]"
   ]
  },
  {
   "cell_type": "code",
   "execution_count": 103,
   "metadata": {},
   "outputs": [
    {
     "data": {
      "text/plain": [
       "(47.0, 55.0)"
      ]
     },
     "execution_count": 103,
     "metadata": {},
     "output_type": "execute_result"
    },
    {
     "data": {
      "image/png": "[encoded data removed]",
      "text/plain": [
       "<Figure size 432x288 with 1 Axes>"
      ]
     },
     "metadata": {
      "needs_background": "light"
     },
     "output_type": "display_data"
    }
   ],
   "source": [
    "ax=(points_outside_gdf.plot())\n",
    "ax.set_xlim([5,15])\n",
    "ax.set_ylim([47,55])"
   ]
  },
  {
   "cell_type": "code",
   "execution_count": null,
   "metadata": {},
   "outputs": [],
   "source": []
  }
 ],
 "metadata": {
  "kernelspec": {
   "display_name": "Python 3",
   "language": "python",
   "name": "python3"
  },
  "language_info": {
   "codemirror_mode": {
    "name": "ipython",
    "version": 3
   },
   "file_extension": ".py",
   "mimetype": "text/x-python",
   "name": "python",
   "nbconvert_exporter": "python",
   "pygments_lexer": "ipython3",
   "version": "3.9.5"
  }
 },
 "nbformat": 4,
 "nbformat_minor": 4
}
