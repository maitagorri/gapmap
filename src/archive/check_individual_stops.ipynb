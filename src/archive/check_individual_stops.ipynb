{
 "cells": [
  {
   "cell_type": "code",
   "execution_count": 293,
   "id": "dd190470-4561-4b43-b1fe-ece8f81a7a99",
   "metadata": {},
   "outputs": [],
   "source": [
    "# load libraries\n",
    "import pandas as pd\n",
    "import os, re\n",
    "import datetime as dt\n",
    "from sqlalchemy import create_engine, text\n",
    "import zipfile\n",
    "import numpy as np"
   ]
  },
  {
   "cell_type": "markdown",
   "id": "d0a6d3df-496a-4d2f-978e-6b701acebaeb",
   "metadata": {
    "tags": []
   },
   "source": [
    "# General setup"
   ]
  },
  {
   "cell_type": "code",
   "execution_count": 294,
   "id": "9edd5a2d-0c03-4628-854c-5e5db4593a03",
   "metadata": {},
   "outputs": [],
   "source": [
    "# define paths\n",
    "workingdir = \"/home/jupyter-maita.schade/VW_Data_Hub/Gap_Map/\"\n",
    "#storagedir = \"smb://192.168.90.30/allmende%20verkehr/4%20Projekte/2%20Projekte%20Mobilitätswende/ÖV-Deutschlandkarte%20(Gap-Map)/Berechnungen/raw/gtfs/\"\n",
    "\n"
   ]
  },
  {
   "cell_type": "code",
   "execution_count": 296,
   "id": "c4431d3a-b494-4179-ba27-58ced0a8568e",
   "metadata": {},
   "outputs": [],
   "source": [
    "def readStopTimes(zf, trips_df = None, stop_ids = None):\n",
    "    # This is NOT SAFE if not filtering down quite significantly!\n",
    "    # options to filter by stop_id, or pre-filtered trips\n",
    "    start = dt.datetime.now()\n",
    "    #     index_start = 1\n",
    "\n",
    "    print(\"\\t...reading stop_times\")\n",
    "    if not stop_ids is None:\n",
    "        print(\"\\t......filtering stops\")\n",
    "    if not trips_df is None:\n",
    "        print(\"\\t......filtering trips\")\n",
    "        \n",
    "    \n",
    "    if ((not stop_ids is None) and (trips_df is None)):\n",
    "        reader = pd.read_csv(zf.open(\"stop_times.txt\"), chunksize=200000, iterator=True, encoding='utf-8')\n",
    "        return(pd.concat([r[r.stop_id.isin(stop_ids)] for r in reader]))\n",
    "    else:\n",
    "        chunksize = 200000\n",
    "        j = 0\n",
    "    \n",
    "        result_df = pd.DataFrame()\n",
    "        for df in pd.read_csv(zf.open(\"stop_times.txt\"), chunksize=chunksize, iterator=True, encoding='utf-8'):\n",
    "\n",
    "            # just keeping track...\n",
    "            j+=1\n",
    "            if j%100==0:\n",
    "                print('\\t{} seconds: completed {} rows'.format((dt.datetime.now() - start).seconds, j*chunksize))\n",
    "\n",
    "            # putting things together\n",
    "\n",
    "            # filtering by stop_ids if given--this would be more efficient if separated out\n",
    "            if not stop_ids is None:\n",
    "                df = df[df.stop_id.isin(stop_ids)]\n",
    "            if not trips_df is None:\n",
    "                df = df.merge(trips_df, on = \"trip_id\", how=\"inner\")\n",
    "\n",
    "            result_df = pd.concat([result_df, df])\n",
    "        #     print(\"\\t...\", len(result_df))\n",
    "    #         if j==1:\n",
    "    #             result_df.to_sql(\"stop_counts\", dbout, if_exists='replace')\n",
    "    #         else:\n",
    "    #             result_df.to_sql(\"stop_counts\", dbout, if_exists='append')\n",
    "\n",
    "        return(result_df)"
   ]
  },
  {
   "cell_type": "code",
   "execution_count": 297,
   "id": "8aad7d31-1745-4356-9f2d-8339c121eca5",
   "metadata": {},
   "outputs": [],
   "source": [
    "def readTrips(zf):\n",
    "    print(\"\\t...reading trips\")\n",
    "    trips_df = pd.read_csv(zf.open(\"trips.txt\"), usecols = [\"route_id\",\"trip_id\",\"service_id\"])\n",
    "    print(\"\\t...\", len(trips_df))\n",
    "    return(trips_df)"
   ]
  },
  {
   "cell_type": "markdown",
   "id": "d8717096-a119-41eb-913d-79afae0deff6",
   "metadata": {
    "tags": []
   },
   "source": [
    "# 1st Approach"
   ]
  },
  {
   "cell_type": "markdown",
   "id": "796918f8-02e7-4ad8-9c26-a7db3a012063",
   "metadata": {},
   "source": [
    "This seems to give really wrong results."
   ]
  },
  {
   "cell_type": "code",
   "execution_count": 45,
   "id": "3641736f-1856-4245-b634-8506c9d78763",
   "metadata": {},
   "outputs": [],
   "source": [
    "# find the ids\n",
    "nstops = pd.read_csv( outdir + \"2020_reissue_2.nstops.csv\")\n",
    "# nstops[nstops.stop_name.str.contains(\"Boddinstr\")]\n",
    "# list(nstops[nstops.stop_name.str.contains(\"Boddinstr\")].stop_id)\n",
    "stop_ids = [306217, 621724, 638469, 647211, 717673] #[85753, 202891, 496613, 717506]\n",
    "time_frame = [20200514, 20200520]"
   ]
  },
  {
   "cell_type": "markdown",
   "id": "2047bf96-8556-41f7-8462-79c9b25dc35d",
   "metadata": {},
   "source": [
    "Get, combine, and count calendar"
   ]
  },
  {
   "cell_type": "code",
   "execution_count": 35,
   "id": "edce9b32-6415-471d-80b2-8d69e118832e",
   "metadata": {},
   "outputs": [
    {
     "name": "stdout",
     "output_type": "stream",
     "text": [
      "Getting number of service days for each service\n",
      "\t...reading regular service calendars\n",
      "697\n",
      "\t...reading calendar exceptions\n",
      "\t...aggregating calendar\n",
      "\t...calculating total in calendar\n"
     ]
    },
    {
     "name": "stderr",
     "output_type": "stream",
     "text": [
      "/opt/tljh/user/lib/python3.7/site-packages/pandas/core/indexing.py:1732: SettingWithCopyWarning: \n",
      "A value is trying to be set on a copy of a slice from a DataFrame\n",
      "\n",
      "See the caveats in the documentation: https://pandas.pydata.org/pandas-docs/stable/user_guide/indexing.html#returning-a-view-versus-a-copy\n",
      "  self._setitem_single_block(indexer, value, name)\n",
      "/opt/tljh/user/lib/python3.7/site-packages/pandas/core/indexing.py:723: SettingWithCopyWarning: \n",
      "A value is trying to be set on a copy of a slice from a DataFrame\n",
      "\n",
      "See the caveats in the documentation: https://pandas.pydata.org/pandas-docs/stable/user_guide/indexing.html#returning-a-view-versus-a-copy\n",
      "  iloc._setitem_with_indexer(indexer, value, self.name)\n"
     ]
    }
   ],
   "source": [
    "def interveningWeekdays(start, end, inclusive=True, weekdays=[0, 1, 2, 3, 4]):\n",
    "    # a useful function from Stackoverflow, to count particular weekdays in date range\n",
    "    if isinstance(start, dt.datetime):\n",
    "        start = start.date()               # make a date from a datetime\n",
    "\n",
    "    if isinstance(end, dt.datetime):\n",
    "        end = end.date()                   # make a date from a datetime\n",
    "\n",
    "    if end < start:\n",
    "        # you can opt to return 0 or swap the dates around instead\n",
    "        # raise ValueError(\"start date must be before end date\")\n",
    "        end, start = start, end\n",
    "\n",
    "    if inclusive:\n",
    "        end += dt.timedelta(days=1)  # correct for inclusivity\n",
    "\n",
    "    try:\n",
    "        # collapse duplicate weekdays\n",
    "        weekdays = {weekday % 7 for weekday in weekdays}\n",
    "    except TypeError:\n",
    "        weekdays = [weekdays % 7]\n",
    "        \n",
    "#     print(weekdays)\n",
    "\n",
    "    ref = dt.date.today()                    # choose a reference date\n",
    "#     print(ref)\n",
    "    ref -= dt.timedelta(days=ref.weekday())  # and normalize its weekday\n",
    "\n",
    "    return sum((ref_plus - start).days // 7 - (ref_plus - end).days // 7\n",
    "               for ref_plus in\n",
    "               (ref + dt.timedelta(days=weekday) for weekday in weekdays))\n",
    "\n",
    "\n",
    "def filterCalendar(calendar_df, time_frame):\n",
    "    '''Given a start and end date (list of two integers yyyymmdd), filters \n",
    "    calendar_df to only schedules overlapping with those dates, and trun-\n",
    "    cates calendar start- and end dates to the time window'''\n",
    "    start_date = min(time_frame)\n",
    "    end_date = max(time_frame)\n",
    "    filtered_calendar = calendar_df[\n",
    "        ((calendar_df.start_date <= end_date) & (calendar_df.end_date >= start_date))\n",
    "    ]\n",
    "    filtered_calendar.loc[filtered_calendar.start_date<start_date, 'start_date'] = start_date\n",
    "    filtered_calendar.loc[filtered_calendar.end_date>end_date, 'end_date'] = end_date\n",
    "    return(filtered_calendar)\n",
    "\n",
    "### Helper function to count days \n",
    "def countDaysInIntervalHelper(calendarrow):\n",
    "    # function to find number of days of service operation based on calendars.txt-entry\n",
    "    servicepattern = calendarrow.loc[\"monday\":\"sunday\"].to_numpy()\n",
    "    servicedays = servicepattern.nonzero()[0].tolist()\n",
    "    startdate = dt.datetime.strptime(str(int(calendarrow.get(\"start_date\"))),\"%Y%m%d\")\n",
    "    enddate = dt.datetime.strptime(str(int(calendarrow.get(\"end_date\"))),\"%Y%m%d\")\n",
    "    return(interveningWeekdays(startdate, enddate, weekdays = servicedays))\n",
    "\n",
    "### Helper function to compare dates\n",
    "def isInIntervalHelper(n, interval):\n",
    "    '''works only on ARRAY-like n'''\n",
    "    return(np.where((n <= max(interval)) & (n >= min(interval)), True, False))\n",
    "\n",
    "def getServiceCount(zf = zf, time_frame = None):\n",
    "    # enriches stop_times DataFrame with information about how often in the feed\n",
    "    # period each stop is made\n",
    "    # if time_frame is given, truncates the calendar to only the dates given in time_frame\n",
    "    \n",
    "\n",
    "    print(\"Getting number of service days for each service\")\n",
    "    # use service_id to find service...\n",
    "    \n",
    "\n",
    "    # get regular service from calendar.txt\n",
    "    print(\"\\t...reading regular service calendars\")\n",
    "    calendar_df = pd.read_csv(zf.open(\"calendar.txt\"))    \n",
    "    # trim the calendar to fit into time_frame\n",
    "    if not time_frame is None:\n",
    "        calendar_df = filterCalendar(calendar_df, time_frame)\n",
    "    calendar_df[\"days_count\"] = calendar_df.apply(countDaysInIntervalHelper, axis=1)\n",
    "    print(len(calendar_df))\n",
    "\n",
    "#     calendar_df.to_sql(\"calendar\",db, if_exists = \"replace\")\n",
    "    # and get exceptions from calendar_dates.txt\n",
    "\n",
    "    print(\"\\t...reading calendar exceptions\")\n",
    "    calendar_dates_df = pd.read_csv(zf.open(\"calendar_dates.txt\"))\n",
    "    # we are only concerned with exceptions in the window of interest \n",
    "    if not time_frame is None:\n",
    "        calendar_dates_df = calendar_dates_df[isInIntervalHelper(calendar_dates_df.date, time_frame)]\n",
    "    \n",
    "\n",
    "    print(\"\\t...aggregating calendar\")\n",
    "    calendar_df = calendar_dates_df.groupby([\"service_id\", \"exception_type\"], as_index=False\n",
    "                              ).count(\n",
    "                            ).pivot(index = \"service_id\", columns = \"exception_type\", values = \"date\"\n",
    "                            ).reset_index(\n",
    "                            ).merge(calendar_df, on=\"service_id\", how=\"outer\"\n",
    "                            ).loc[:,'service_id':'days_count']\n",
    "\n",
    "    \n",
    "    print(\"\\t...calculating total in calendar\")\n",
    "    if 1 in calendar_df.columns:\n",
    "        calendar_df.days_count= (calendar_df.days_count.fillna(0) + calendar_df.loc[:,1].fillna(0))\n",
    "    if 2 in calendar_df.columns:\n",
    "        calendar_df.days_count= (calendar_df.days_count.fillna(0) - calendar_df.loc[:,2].fillna(0))\n",
    "    if(any(calendar_df.days_count < 0)):\n",
    "        print(\"SOMETHING WENT WRONG--NEGATIVE DAY COUNT(S)\")\n",
    "        \n",
    "    return(calendar_df) #[[\"service_id\",\"days_count\"]])\n",
    "\n",
    "counted_calendar_df = getServiceCount(zf = zf, time_frame = time_frame)"
   ]
  },
  {
   "cell_type": "markdown",
   "id": "8d51d1f5-8e76-472f-a2f2-4f57f6d8c946",
   "metadata": {},
   "source": [
    "Get Trips, filtered by time_frame (via calendar)"
   ]
  },
  {
   "cell_type": "code",
   "execution_count": 5,
   "id": "9e4a6f06-07ea-42ae-a017-f128b609bdaf",
   "metadata": {},
   "outputs": [
    {
     "name": "stdout",
     "output_type": "stream",
     "text": [
      "\t...reading trips\n",
      "\t... 3517922\n"
     ]
    }
   ],
   "source": [
    "def filterTrips(trips_df, counted_calendar_df):\n",
    "    return(trips_df.merge(counted_calendar_df[[\"service_id\", \"days_count\"]], on=\"service_id\", how=\"right\"))\n",
    "    \n",
    "trips_df = filterTrips(readTrips(zf = zf), counted_calendar_df)"
   ]
  },
  {
   "cell_type": "markdown",
   "id": "cf584070-ee9a-4c82-be3e-5d2db93da280",
   "metadata": {},
   "source": [
    "Get stop_times, filtered by time_frame (via trips) AND stop_id"
   ]
  },
  {
   "cell_type": "code",
   "execution_count": 21,
   "id": "309f6829-9521-4cb4-8b13-1e2bb4ac2a2d",
   "metadata": {},
   "outputs": [
    {
     "name": "stdout",
     "output_type": "stream",
     "text": [
      "\t...filtering stop_times with trips\n",
      "\t2 seconds: completed 2000000 rows\n",
      "\t6 seconds: completed 4000000 rows\n",
      "\t9 seconds: completed 6000000 rows\n",
      "\t12 seconds: completed 8000000 rows\n",
      "\t15 seconds: completed 10000000 rows\n",
      "\t18 seconds: completed 12000000 rows\n",
      "\t21 seconds: completed 14000000 rows\n",
      "\t23 seconds: completed 16000000 rows\n",
      "\t26 seconds: completed 18000000 rows\n",
      "\t29 seconds: completed 20000000 rows\n",
      "\t31 seconds: completed 22000000 rows\n",
      "\t34 seconds: completed 24000000 rows\n",
      "\t37 seconds: completed 26000000 rows\n",
      "\t40 seconds: completed 28000000 rows\n",
      "\t42 seconds: completed 30000000 rows\n",
      "\t45 seconds: completed 32000000 rows\n",
      "\t48 seconds: completed 34000000 rows\n",
      "\t51 seconds: completed 36000000 rows\n",
      "\t53 seconds: completed 38000000 rows\n",
      "\t56 seconds: completed 40000000 rows\n",
      "\t59 seconds: completed 42000000 rows\n",
      "\t61 seconds: completed 44000000 rows\n",
      "\t64 seconds: completed 46000000 rows\n",
      "\t67 seconds: completed 48000000 rows\n",
      "\t70 seconds: completed 50000000 rows\n",
      "\t72 seconds: completed 52000000 rows\n",
      "\t75 seconds: completed 54000000 rows\n",
      "\t78 seconds: completed 56000000 rows\n",
      "\t80 seconds: completed 58000000 rows\n",
      "\t83 seconds: completed 60000000 rows\n",
      "\t86 seconds: completed 62000000 rows\n",
      "\t88 seconds: completed 64000000 rows\n",
      "\t91 seconds: completed 66000000 rows\n",
      "\t94 seconds: completed 68000000 rows\n",
      "\t96 seconds: completed 70000000 rows\n",
      "\t99 seconds: completed 72000000 rows\n"
     ]
    }
   ],
   "source": [
    "stop_times_df = readStopTimes(trips_df, stop_ids=stop_ids)"
   ]
  },
  {
   "cell_type": "code",
   "execution_count": 19,
   "id": "edb91f60-32ca-4071-bd52-ccd1a4d89aba",
   "metadata": {},
   "outputs": [
    {
     "data": {
      "text/plain": [
       "1483"
      ]
     },
     "execution_count": 19,
     "metadata": {},
     "output_type": "execute_result"
    }
   ],
   "source": [
    "len(stop_times_df)"
   ]
  },
  {
   "cell_type": "markdown",
   "id": "dc8df885-96a7-47c3-9c84-d4b4fee24c29",
   "metadata": {
    "tags": []
   },
   "source": [
    "## 2020"
   ]
  },
  {
   "cell_type": "code",
   "execution_count": 82,
   "id": "b739a7b6-579e-43e0-a76b-27e7e42c1c54",
   "metadata": {},
   "outputs": [],
   "source": [
    "# Welches Jahr?\n",
    "jahr = \"2020\"\n",
    "# Welcher Zip?\n",
    "zipname = \"2020_reissue_2\"\n",
    "# Welche Routenreferenz? (im raw-directory)\n",
    "\n",
    "# define paths\n",
    "\n",
    "# constructed paths\n",
    "# rawdir = workingdir + \"raw/\"\n",
    "rawdir = workingdir + \"raw/\"\n",
    "rawdatadir = rawdir + \"gtfs/\" + jahr + \"/\"\n",
    "outdir = workingdir + \"out/\"+jahr+\"/\"\n",
    "#inpath = \"{0}{1}_{2}.db\".format(rawdatadir,jahr,datum)\n",
    "zippath = rawdatadir + zipname + \".zip\"\n",
    "\n",
    "\n",
    "# set up zip file as default for functions\n",
    "zf = zipfile.ZipFile(zippath) # this is the raw stuff"
   ]
  },
  {
   "cell_type": "code",
   "execution_count": 109,
   "id": "870c918c-257f-4b7e-9158-1d561e94994f",
   "metadata": {},
   "outputs": [
    {
     "ename": "FileNotFoundError",
     "evalue": "[Errno 2] No such file or directory: '/home/jupyter-maita.schade/VW_Data_Hub/Gap_Map/out/2021/2020_reissue_2.nstops.csv'",
     "output_type": "error",
     "traceback": [
      "\u001b[0;31m---------------------------------------------------------------------------\u001b[0m",
      "\u001b[0;31mFileNotFoundError\u001b[0m                         Traceback (most recent call last)",
      "\u001b[0;32m/tmp/ipykernel_584536/1552155609.py\u001b[0m in \u001b[0;36m<module>\u001b[0;34m\u001b[0m\n\u001b[1;32m      1\u001b[0m \u001b[0;31m# file to get stop ids\u001b[0m\u001b[0;34m\u001b[0m\u001b[0;34m\u001b[0m\u001b[0;34m\u001b[0m\u001b[0m\n\u001b[0;32m----> 2\u001b[0;31m \u001b[0mnstops\u001b[0m \u001b[0;34m=\u001b[0m \u001b[0mpd\u001b[0m\u001b[0;34m.\u001b[0m\u001b[0mread_csv\u001b[0m\u001b[0;34m(\u001b[0m \u001b[0moutdir\u001b[0m \u001b[0;34m+\u001b[0m \u001b[0;34m\"2020_reissue_2.nstops.csv\"\u001b[0m\u001b[0;34m)\u001b[0m\u001b[0;34m\u001b[0m\u001b[0;34m\u001b[0m\u001b[0m\n\u001b[0m",
      "\u001b[0;32m/opt/tljh/user/lib/python3.7/site-packages/pandas/util/_decorators.py\u001b[0m in \u001b[0;36mwrapper\u001b[0;34m(*args, **kwargs)\u001b[0m\n\u001b[1;32m    309\u001b[0m                     \u001b[0mstacklevel\u001b[0m\u001b[0;34m=\u001b[0m\u001b[0mstacklevel\u001b[0m\u001b[0;34m,\u001b[0m\u001b[0;34m\u001b[0m\u001b[0;34m\u001b[0m\u001b[0m\n\u001b[1;32m    310\u001b[0m                 )\n\u001b[0;32m--> 311\u001b[0;31m             \u001b[0;32mreturn\u001b[0m \u001b[0mfunc\u001b[0m\u001b[0;34m(\u001b[0m\u001b[0;34m*\u001b[0m\u001b[0margs\u001b[0m\u001b[0;34m,\u001b[0m \u001b[0;34m**\u001b[0m\u001b[0mkwargs\u001b[0m\u001b[0;34m)\u001b[0m\u001b[0;34m\u001b[0m\u001b[0;34m\u001b[0m\u001b[0m\n\u001b[0m\u001b[1;32m    312\u001b[0m \u001b[0;34m\u001b[0m\u001b[0m\n\u001b[1;32m    313\u001b[0m         \u001b[0;32mreturn\u001b[0m \u001b[0mwrapper\u001b[0m\u001b[0;34m\u001b[0m\u001b[0;34m\u001b[0m\u001b[0m\n",
      "\u001b[0;32m/opt/tljh/user/lib/python3.7/site-packages/pandas/io/parsers/readers.py\u001b[0m in \u001b[0;36mread_csv\u001b[0;34m(filepath_or_buffer, sep, delimiter, header, names, index_col, usecols, squeeze, prefix, mangle_dupe_cols, dtype, engine, converters, true_values, false_values, skipinitialspace, skiprows, skipfooter, nrows, na_values, keep_default_na, na_filter, verbose, skip_blank_lines, parse_dates, infer_datetime_format, keep_date_col, date_parser, dayfirst, cache_dates, iterator, chunksize, compression, thousands, decimal, lineterminator, quotechar, quoting, doublequote, escapechar, comment, encoding, encoding_errors, dialect, error_bad_lines, warn_bad_lines, on_bad_lines, delim_whitespace, low_memory, memory_map, float_precision, storage_options)\u001b[0m\n\u001b[1;32m    584\u001b[0m     \u001b[0mkwds\u001b[0m\u001b[0;34m.\u001b[0m\u001b[0mupdate\u001b[0m\u001b[0;34m(\u001b[0m\u001b[0mkwds_defaults\u001b[0m\u001b[0;34m)\u001b[0m\u001b[0;34m\u001b[0m\u001b[0;34m\u001b[0m\u001b[0m\n\u001b[1;32m    585\u001b[0m \u001b[0;34m\u001b[0m\u001b[0m\n\u001b[0;32m--> 586\u001b[0;31m     \u001b[0;32mreturn\u001b[0m \u001b[0m_read\u001b[0m\u001b[0;34m(\u001b[0m\u001b[0mfilepath_or_buffer\u001b[0m\u001b[0;34m,\u001b[0m \u001b[0mkwds\u001b[0m\u001b[0;34m)\u001b[0m\u001b[0;34m\u001b[0m\u001b[0;34m\u001b[0m\u001b[0m\n\u001b[0m\u001b[1;32m    587\u001b[0m \u001b[0;34m\u001b[0m\u001b[0m\n\u001b[1;32m    588\u001b[0m \u001b[0;34m\u001b[0m\u001b[0m\n",
      "\u001b[0;32m/opt/tljh/user/lib/python3.7/site-packages/pandas/io/parsers/readers.py\u001b[0m in \u001b[0;36m_read\u001b[0;34m(filepath_or_buffer, kwds)\u001b[0m\n\u001b[1;32m    480\u001b[0m \u001b[0;34m\u001b[0m\u001b[0m\n\u001b[1;32m    481\u001b[0m     \u001b[0;31m# Create the parser.\u001b[0m\u001b[0;34m\u001b[0m\u001b[0;34m\u001b[0m\u001b[0;34m\u001b[0m\u001b[0m\n\u001b[0;32m--> 482\u001b[0;31m     \u001b[0mparser\u001b[0m \u001b[0;34m=\u001b[0m \u001b[0mTextFileReader\u001b[0m\u001b[0;34m(\u001b[0m\u001b[0mfilepath_or_buffer\u001b[0m\u001b[0;34m,\u001b[0m \u001b[0;34m**\u001b[0m\u001b[0mkwds\u001b[0m\u001b[0;34m)\u001b[0m\u001b[0;34m\u001b[0m\u001b[0;34m\u001b[0m\u001b[0m\n\u001b[0m\u001b[1;32m    483\u001b[0m \u001b[0;34m\u001b[0m\u001b[0m\n\u001b[1;32m    484\u001b[0m     \u001b[0;32mif\u001b[0m \u001b[0mchunksize\u001b[0m \u001b[0;32mor\u001b[0m \u001b[0miterator\u001b[0m\u001b[0;34m:\u001b[0m\u001b[0;34m\u001b[0m\u001b[0;34m\u001b[0m\u001b[0m\n",
      "\u001b[0;32m/opt/tljh/user/lib/python3.7/site-packages/pandas/io/parsers/readers.py\u001b[0m in \u001b[0;36m__init__\u001b[0;34m(self, f, engine, **kwds)\u001b[0m\n\u001b[1;32m    809\u001b[0m             \u001b[0mself\u001b[0m\u001b[0;34m.\u001b[0m\u001b[0moptions\u001b[0m\u001b[0;34m[\u001b[0m\u001b[0;34m\"has_index_names\"\u001b[0m\u001b[0;34m]\u001b[0m \u001b[0;34m=\u001b[0m \u001b[0mkwds\u001b[0m\u001b[0;34m[\u001b[0m\u001b[0;34m\"has_index_names\"\u001b[0m\u001b[0;34m]\u001b[0m\u001b[0;34m\u001b[0m\u001b[0;34m\u001b[0m\u001b[0m\n\u001b[1;32m    810\u001b[0m \u001b[0;34m\u001b[0m\u001b[0m\n\u001b[0;32m--> 811\u001b[0;31m         \u001b[0mself\u001b[0m\u001b[0;34m.\u001b[0m\u001b[0m_engine\u001b[0m \u001b[0;34m=\u001b[0m \u001b[0mself\u001b[0m\u001b[0;34m.\u001b[0m\u001b[0m_make_engine\u001b[0m\u001b[0;34m(\u001b[0m\u001b[0mself\u001b[0m\u001b[0;34m.\u001b[0m\u001b[0mengine\u001b[0m\u001b[0;34m)\u001b[0m\u001b[0;34m\u001b[0m\u001b[0;34m\u001b[0m\u001b[0m\n\u001b[0m\u001b[1;32m    812\u001b[0m \u001b[0;34m\u001b[0m\u001b[0m\n\u001b[1;32m    813\u001b[0m     \u001b[0;32mdef\u001b[0m \u001b[0mclose\u001b[0m\u001b[0;34m(\u001b[0m\u001b[0mself\u001b[0m\u001b[0;34m)\u001b[0m\u001b[0;34m:\u001b[0m\u001b[0;34m\u001b[0m\u001b[0;34m\u001b[0m\u001b[0m\n",
      "\u001b[0;32m/opt/tljh/user/lib/python3.7/site-packages/pandas/io/parsers/readers.py\u001b[0m in \u001b[0;36m_make_engine\u001b[0;34m(self, engine)\u001b[0m\n\u001b[1;32m   1038\u001b[0m             )\n\u001b[1;32m   1039\u001b[0m         \u001b[0;31m# error: Too many arguments for \"ParserBase\"\u001b[0m\u001b[0;34m\u001b[0m\u001b[0;34m\u001b[0m\u001b[0;34m\u001b[0m\u001b[0m\n\u001b[0;32m-> 1040\u001b[0;31m         \u001b[0;32mreturn\u001b[0m \u001b[0mmapping\u001b[0m\u001b[0;34m[\u001b[0m\u001b[0mengine\u001b[0m\u001b[0;34m]\u001b[0m\u001b[0;34m(\u001b[0m\u001b[0mself\u001b[0m\u001b[0;34m.\u001b[0m\u001b[0mf\u001b[0m\u001b[0;34m,\u001b[0m \u001b[0;34m**\u001b[0m\u001b[0mself\u001b[0m\u001b[0;34m.\u001b[0m\u001b[0moptions\u001b[0m\u001b[0;34m)\u001b[0m  \u001b[0;31m# type: ignore[call-arg]\u001b[0m\u001b[0;34m\u001b[0m\u001b[0;34m\u001b[0m\u001b[0m\n\u001b[0m\u001b[1;32m   1041\u001b[0m \u001b[0;34m\u001b[0m\u001b[0m\n\u001b[1;32m   1042\u001b[0m     \u001b[0;32mdef\u001b[0m \u001b[0m_failover_to_python\u001b[0m\u001b[0;34m(\u001b[0m\u001b[0mself\u001b[0m\u001b[0;34m)\u001b[0m\u001b[0;34m:\u001b[0m\u001b[0;34m\u001b[0m\u001b[0;34m\u001b[0m\u001b[0m\n",
      "\u001b[0;32m/opt/tljh/user/lib/python3.7/site-packages/pandas/io/parsers/c_parser_wrapper.py\u001b[0m in \u001b[0;36m__init__\u001b[0;34m(self, src, **kwds)\u001b[0m\n\u001b[1;32m     49\u001b[0m \u001b[0;34m\u001b[0m\u001b[0m\n\u001b[1;32m     50\u001b[0m         \u001b[0;31m# open handles\u001b[0m\u001b[0;34m\u001b[0m\u001b[0;34m\u001b[0m\u001b[0;34m\u001b[0m\u001b[0m\n\u001b[0;32m---> 51\u001b[0;31m         \u001b[0mself\u001b[0m\u001b[0;34m.\u001b[0m\u001b[0m_open_handles\u001b[0m\u001b[0;34m(\u001b[0m\u001b[0msrc\u001b[0m\u001b[0;34m,\u001b[0m \u001b[0mkwds\u001b[0m\u001b[0;34m)\u001b[0m\u001b[0;34m\u001b[0m\u001b[0;34m\u001b[0m\u001b[0m\n\u001b[0m\u001b[1;32m     52\u001b[0m         \u001b[0;32massert\u001b[0m \u001b[0mself\u001b[0m\u001b[0;34m.\u001b[0m\u001b[0mhandles\u001b[0m \u001b[0;32mis\u001b[0m \u001b[0;32mnot\u001b[0m \u001b[0;32mNone\u001b[0m\u001b[0;34m\u001b[0m\u001b[0;34m\u001b[0m\u001b[0m\n\u001b[1;32m     53\u001b[0m \u001b[0;34m\u001b[0m\u001b[0m\n",
      "\u001b[0;32m/opt/tljh/user/lib/python3.7/site-packages/pandas/io/parsers/base_parser.py\u001b[0m in \u001b[0;36m_open_handles\u001b[0;34m(self, src, kwds)\u001b[0m\n\u001b[1;32m    227\u001b[0m             \u001b[0mmemory_map\u001b[0m\u001b[0;34m=\u001b[0m\u001b[0mkwds\u001b[0m\u001b[0;34m.\u001b[0m\u001b[0mget\u001b[0m\u001b[0;34m(\u001b[0m\u001b[0;34m\"memory_map\"\u001b[0m\u001b[0;34m,\u001b[0m \u001b[0;32mFalse\u001b[0m\u001b[0;34m)\u001b[0m\u001b[0;34m,\u001b[0m\u001b[0;34m\u001b[0m\u001b[0;34m\u001b[0m\u001b[0m\n\u001b[1;32m    228\u001b[0m             \u001b[0mstorage_options\u001b[0m\u001b[0;34m=\u001b[0m\u001b[0mkwds\u001b[0m\u001b[0;34m.\u001b[0m\u001b[0mget\u001b[0m\u001b[0;34m(\u001b[0m\u001b[0;34m\"storage_options\"\u001b[0m\u001b[0;34m,\u001b[0m \u001b[0;32mNone\u001b[0m\u001b[0;34m)\u001b[0m\u001b[0;34m,\u001b[0m\u001b[0;34m\u001b[0m\u001b[0;34m\u001b[0m\u001b[0m\n\u001b[0;32m--> 229\u001b[0;31m             \u001b[0merrors\u001b[0m\u001b[0;34m=\u001b[0m\u001b[0mkwds\u001b[0m\u001b[0;34m.\u001b[0m\u001b[0mget\u001b[0m\u001b[0;34m(\u001b[0m\u001b[0;34m\"encoding_errors\"\u001b[0m\u001b[0;34m,\u001b[0m \u001b[0;34m\"strict\"\u001b[0m\u001b[0;34m)\u001b[0m\u001b[0;34m,\u001b[0m\u001b[0;34m\u001b[0m\u001b[0;34m\u001b[0m\u001b[0m\n\u001b[0m\u001b[1;32m    230\u001b[0m         )\n\u001b[1;32m    231\u001b[0m \u001b[0;34m\u001b[0m\u001b[0m\n",
      "\u001b[0;32m/opt/tljh/user/lib/python3.7/site-packages/pandas/io/common.py\u001b[0m in \u001b[0;36mget_handle\u001b[0;34m(path_or_buf, mode, encoding, compression, memory_map, is_text, errors, storage_options)\u001b[0m\n\u001b[1;32m    704\u001b[0m                 \u001b[0mencoding\u001b[0m\u001b[0;34m=\u001b[0m\u001b[0mioargs\u001b[0m\u001b[0;34m.\u001b[0m\u001b[0mencoding\u001b[0m\u001b[0;34m,\u001b[0m\u001b[0;34m\u001b[0m\u001b[0;34m\u001b[0m\u001b[0m\n\u001b[1;32m    705\u001b[0m                 \u001b[0merrors\u001b[0m\u001b[0;34m=\u001b[0m\u001b[0merrors\u001b[0m\u001b[0;34m,\u001b[0m\u001b[0;34m\u001b[0m\u001b[0;34m\u001b[0m\u001b[0m\n\u001b[0;32m--> 706\u001b[0;31m                 \u001b[0mnewline\u001b[0m\u001b[0;34m=\u001b[0m\u001b[0;34m\"\"\u001b[0m\u001b[0;34m,\u001b[0m\u001b[0;34m\u001b[0m\u001b[0;34m\u001b[0m\u001b[0m\n\u001b[0m\u001b[1;32m    707\u001b[0m             )\n\u001b[1;32m    708\u001b[0m         \u001b[0;32melse\u001b[0m\u001b[0;34m:\u001b[0m\u001b[0;34m\u001b[0m\u001b[0;34m\u001b[0m\u001b[0m\n",
      "\u001b[0;31mFileNotFoundError\u001b[0m: [Errno 2] No such file or directory: '/home/jupyter-maita.schade/VW_Data_Hub/Gap_Map/out/2021/2020_reissue_2.nstops.csv'"
     ]
    }
   ],
   "source": [
    "# file to get stop ids\n",
    "nstops = pd.read_csv( outdir + \"2020_reissue_2.nstops.csv\")"
   ]
  },
  {
   "cell_type": "markdown",
   "id": "384c227f-d07d-4f2c-871d-1b9c131b5362",
   "metadata": {},
   "source": [
    "### Gießen"
   ]
  },
  {
   "cell_type": "code",
   "execution_count": 83,
   "id": "b6ee8bea-55e3-4d4e-907e-8f83a9aff18a",
   "metadata": {},
   "outputs": [
    {
     "name": "stdout",
     "output_type": "stream",
     "text": [
      "\t...reading trips\n",
      "\t... 3517922\n",
      "Getting number of service days for each service\n",
      "\t...reading regular service calendars\n",
      "9993\n",
      "\t...reading calendar exceptions\n",
      "\t...aggregating calendar\n",
      "\t...calculating total in calendar\n",
      "\t...filtering stop_times with trips\n",
      "\t2 seconds: completed 2000000 rows\n",
      "\t5 seconds: completed 4000000 rows\n",
      "\t7 seconds: completed 6000000 rows\n",
      "\t10 seconds: completed 8000000 rows\n",
      "\t13 seconds: completed 10000000 rows\n",
      "\t16 seconds: completed 12000000 rows\n",
      "\t18 seconds: completed 14000000 rows\n",
      "\t21 seconds: completed 16000000 rows\n",
      "\t23 seconds: completed 18000000 rows\n",
      "\t26 seconds: completed 20000000 rows\n",
      "\t28 seconds: completed 22000000 rows\n",
      "\t31 seconds: completed 24000000 rows\n",
      "\t34 seconds: completed 26000000 rows\n",
      "\t36 seconds: completed 28000000 rows\n",
      "\t39 seconds: completed 30000000 rows\n",
      "\t41 seconds: completed 32000000 rows\n",
      "\t44 seconds: completed 34000000 rows\n",
      "\t46 seconds: completed 36000000 rows\n",
      "\t49 seconds: completed 38000000 rows\n",
      "\t51 seconds: completed 40000000 rows\n",
      "\t54 seconds: completed 42000000 rows\n",
      "\t56 seconds: completed 44000000 rows\n",
      "\t59 seconds: completed 46000000 rows\n",
      "\t61 seconds: completed 48000000 rows\n",
      "\t64 seconds: completed 50000000 rows\n",
      "\t66 seconds: completed 52000000 rows\n",
      "\t69 seconds: completed 54000000 rows\n",
      "\t71 seconds: completed 56000000 rows\n",
      "\t74 seconds: completed 58000000 rows\n",
      "\t76 seconds: completed 60000000 rows\n",
      "\t79 seconds: completed 62000000 rows\n",
      "\t81 seconds: completed 64000000 rows\n",
      "\t84 seconds: completed 66000000 rows\n",
      "\t86 seconds: completed 68000000 rows\n",
      "\t89 seconds: completed 70000000 rows\n",
      "\t91 seconds: completed 72000000 rows\n"
     ]
    },
    {
     "data": {
      "text/plain": [
       "44.0"
      ]
     },
     "execution_count": 83,
     "metadata": {},
     "output_type": "execute_result"
    }
   ],
   "source": [
    "nstops[nstops.stop_name.str.contains(\"Gießen Behördenzentrum\")]\n",
    "stop_ids = list(nstops[nstops.stop_name.str.contains(\"Gießen Behördenzentrum\")].stop_id)\n",
    "time_frame = [20200314, 20200314]\n",
    "\n",
    "trips_df = filterTrips(readTrips(zf = zf), getServiceCount(zf = zf, time_frame = time_frame))\n",
    "stop_times_df = readStopTimes(trips_df, stop_ids=stop_ids)\n",
    "\n",
    "stop_times_df.days_count.sum()"
   ]
  },
  {
   "cell_type": "code",
   "execution_count": 84,
   "id": "30ea0422-229b-4910-8dcf-0855b2358e33",
   "metadata": {},
   "outputs": [
    {
     "name": "stdout",
     "output_type": "stream",
     "text": [
      "\t...reading trips\n",
      "\t... 3517922\n",
      "Getting number of service days for each service\n",
      "\t...reading regular service calendars\n",
      "8710\n",
      "\t...reading calendar exceptions\n",
      "\t...aggregating calendar\n",
      "\t...calculating total in calendar\n",
      "\t...filtering stop_times with trips\n",
      "\t2 seconds: completed 2000000 rows\n",
      "\t4 seconds: completed 4000000 rows\n",
      "\t7 seconds: completed 6000000 rows\n",
      "\t9 seconds: completed 8000000 rows\n",
      "\t12 seconds: completed 10000000 rows\n",
      "\t14 seconds: completed 12000000 rows\n",
      "\t17 seconds: completed 14000000 rows\n",
      "\t19 seconds: completed 16000000 rows\n",
      "\t22 seconds: completed 18000000 rows\n",
      "\t24 seconds: completed 20000000 rows\n",
      "\t27 seconds: completed 22000000 rows\n",
      "\t29 seconds: completed 24000000 rows\n",
      "\t32 seconds: completed 26000000 rows\n",
      "\t34 seconds: completed 28000000 rows\n",
      "\t37 seconds: completed 30000000 rows\n",
      "\t39 seconds: completed 32000000 rows\n",
      "\t42 seconds: completed 34000000 rows\n",
      "\t44 seconds: completed 36000000 rows\n",
      "\t47 seconds: completed 38000000 rows\n",
      "\t49 seconds: completed 40000000 rows\n",
      "\t51 seconds: completed 42000000 rows\n",
      "\t54 seconds: completed 44000000 rows\n",
      "\t56 seconds: completed 46000000 rows\n",
      "\t59 seconds: completed 48000000 rows\n",
      "\t61 seconds: completed 50000000 rows\n",
      "\t64 seconds: completed 52000000 rows\n",
      "\t66 seconds: completed 54000000 rows\n",
      "\t69 seconds: completed 56000000 rows\n",
      "\t71 seconds: completed 58000000 rows\n",
      "\t74 seconds: completed 60000000 rows\n",
      "\t76 seconds: completed 62000000 rows\n",
      "\t78 seconds: completed 64000000 rows\n",
      "\t81 seconds: completed 66000000 rows\n",
      "\t84 seconds: completed 68000000 rows\n",
      "\t86 seconds: completed 70000000 rows\n",
      "\t89 seconds: completed 72000000 rows\n"
     ]
    },
    {
     "data": {
      "text/plain": [
       "51.0"
      ]
     },
     "execution_count": 84,
     "metadata": {},
     "output_type": "execute_result"
    }
   ],
   "source": [
    "nstops[nstops.stop_name.str.contains(\"Gießen Graudenzer\")]\n",
    "stop_ids = list(nstops[nstops.stop_name.str.contains(\"Gießen Graudenzer\")].stop_id)\n",
    "time_frame = [20200520, 20200520]\n",
    "\n",
    "trips_df = filterTrips(readTrips(zf = zf), getServiceCount(zf = zf, time_frame = time_frame))\n",
    "stop_times_df = readStopTimes(trips_df, stop_ids=stop_ids)\n",
    "\n",
    "stop_times_df.days_count.sum()"
   ]
  },
  {
   "cell_type": "markdown",
   "id": "18a49c27-4053-4748-94c6-1652327ab35c",
   "metadata": {},
   "source": [
    "### Heidelberg"
   ]
  },
  {
   "cell_type": "code",
   "execution_count": 85,
   "id": "780cfbc7-143b-4783-8672-6da9ccdc6c1a",
   "metadata": {},
   "outputs": [
    {
     "name": "stdout",
     "output_type": "stream",
     "text": [
      "\t...reading trips\n",
      "\t... 3517922\n",
      "Getting number of service days for each service\n",
      "\t...reading regular service calendars\n",
      "9993\n",
      "\t...reading calendar exceptions\n",
      "\t...aggregating calendar\n",
      "\t...calculating total in calendar\n",
      "\t...filtering stop_times with trips\n",
      "\t2 seconds: completed 2000000 rows\n",
      "\t5 seconds: completed 4000000 rows\n",
      "\t7 seconds: completed 6000000 rows\n",
      "\t10 seconds: completed 8000000 rows\n",
      "\t13 seconds: completed 10000000 rows\n",
      "\t15 seconds: completed 12000000 rows\n",
      "\t18 seconds: completed 14000000 rows\n",
      "\t21 seconds: completed 16000000 rows\n",
      "\t23 seconds: completed 18000000 rows\n",
      "\t26 seconds: completed 20000000 rows\n",
      "\t29 seconds: completed 22000000 rows\n",
      "\t31 seconds: completed 24000000 rows\n",
      "\t34 seconds: completed 26000000 rows\n",
      "\t37 seconds: completed 28000000 rows\n",
      "\t39 seconds: completed 30000000 rows\n",
      "\t42 seconds: completed 32000000 rows\n",
      "\t45 seconds: completed 34000000 rows\n",
      "\t47 seconds: completed 36000000 rows\n",
      "\t50 seconds: completed 38000000 rows\n",
      "\t52 seconds: completed 40000000 rows\n",
      "\t55 seconds: completed 42000000 rows\n",
      "\t57 seconds: completed 44000000 rows\n",
      "\t60 seconds: completed 46000000 rows\n",
      "\t62 seconds: completed 48000000 rows\n",
      "\t65 seconds: completed 50000000 rows\n",
      "\t67 seconds: completed 52000000 rows\n",
      "\t70 seconds: completed 54000000 rows\n",
      "\t72 seconds: completed 56000000 rows\n",
      "\t75 seconds: completed 58000000 rows\n",
      "\t78 seconds: completed 60000000 rows\n",
      "\t80 seconds: completed 62000000 rows\n",
      "\t83 seconds: completed 64000000 rows\n",
      "\t85 seconds: completed 66000000 rows\n",
      "\t88 seconds: completed 68000000 rows\n",
      "\t90 seconds: completed 70000000 rows\n",
      "\t93 seconds: completed 72000000 rows\n"
     ]
    },
    {
     "data": {
      "text/plain": [
       "97.0"
      ]
     },
     "execution_count": 85,
     "metadata": {},
     "output_type": "execute_result"
    }
   ],
   "source": [
    "nstops[nstops.stop_name.str.contains(\"Alte Brücke Nord\")]\n",
    "stop_ids = list(nstops[nstops.stop_name.str.contains(\"Alte Brücke Nord\")].stop_id)\n",
    "time_frame = [20200314, 20200314]\n",
    "\n",
    "trips_df = filterTrips(readTrips(zf = zf), getServiceCount(zf = zf, time_frame = time_frame))\n",
    "stop_times_df = readStopTimes(trips_df, stop_ids=stop_ids)\n",
    "\n",
    "stop_times_df.days_count.sum()"
   ]
  },
  {
   "cell_type": "code",
   "execution_count": 86,
   "id": "7842e52f-7fd7-4615-b076-1e544bfd96d2",
   "metadata": {},
   "outputs": [
    {
     "name": "stdout",
     "output_type": "stream",
     "text": [
      "\t...reading trips\n",
      "\t... 3517922\n",
      "Getting number of service days for each service\n",
      "\t...reading regular service calendars\n",
      "8710\n",
      "\t...reading calendar exceptions\n",
      "\t...aggregating calendar\n",
      "\t...calculating total in calendar\n",
      "\t...filtering stop_times with trips\n",
      "\t2 seconds: completed 2000000 rows\n",
      "\t5 seconds: completed 4000000 rows\n",
      "\t7 seconds: completed 6000000 rows\n",
      "\t10 seconds: completed 8000000 rows\n",
      "\t12 seconds: completed 10000000 rows\n",
      "\t15 seconds: completed 12000000 rows\n",
      "\t18 seconds: completed 14000000 rows\n",
      "\t20 seconds: completed 16000000 rows\n",
      "\t23 seconds: completed 18000000 rows\n",
      "\t25 seconds: completed 20000000 rows\n",
      "\t28 seconds: completed 22000000 rows\n",
      "\t30 seconds: completed 24000000 rows\n",
      "\t33 seconds: completed 26000000 rows\n",
      "\t35 seconds: completed 28000000 rows\n",
      "\t38 seconds: completed 30000000 rows\n",
      "\t40 seconds: completed 32000000 rows\n",
      "\t43 seconds: completed 34000000 rows\n",
      "\t45 seconds: completed 36000000 rows\n",
      "\t48 seconds: completed 38000000 rows\n",
      "\t50 seconds: completed 40000000 rows\n",
      "\t53 seconds: completed 42000000 rows\n",
      "\t55 seconds: completed 44000000 rows\n",
      "\t58 seconds: completed 46000000 rows\n",
      "\t60 seconds: completed 48000000 rows\n",
      "\t63 seconds: completed 50000000 rows\n",
      "\t65 seconds: completed 52000000 rows\n",
      "\t68 seconds: completed 54000000 rows\n",
      "\t70 seconds: completed 56000000 rows\n",
      "\t73 seconds: completed 58000000 rows\n",
      "\t75 seconds: completed 60000000 rows\n",
      "\t78 seconds: completed 62000000 rows\n",
      "\t80 seconds: completed 64000000 rows\n",
      "\t83 seconds: completed 66000000 rows\n",
      "\t85 seconds: completed 68000000 rows\n",
      "\t88 seconds: completed 70000000 rows\n",
      "\t90 seconds: completed 72000000 rows\n"
     ]
    },
    {
     "data": {
      "text/plain": [
       "407.0"
      ]
     },
     "execution_count": 86,
     "metadata": {},
     "output_type": "execute_result"
    }
   ],
   "source": [
    "nstops[nstops.stop_name.str.contains(\"Rohrbach, Eichendorffplatz\")]\n",
    "stop_ids = list(nstops[nstops.stop_name.str.contains(\"Rohrbach, Eichendorffplatz\")].stop_id)\n",
    "time_frame = [20200520, 20200520]\n",
    "\n",
    "trips_df = filterTrips(readTrips(zf = zf), getServiceCount(zf = zf, time_frame = time_frame))\n",
    "stop_times_df = readStopTimes(trips_df, stop_ids=stop_ids)\n",
    "\n",
    "stop_times_df.days_count.sum()"
   ]
  },
  {
   "cell_type": "markdown",
   "id": "5602423c-b462-4788-9721-a459c352243c",
   "metadata": {},
   "source": [
    "### Magdeburg"
   ]
  },
  {
   "cell_type": "code",
   "execution_count": 87,
   "id": "c50b58d2-9ea6-46d7-99cd-3038acc42e35",
   "metadata": {},
   "outputs": [
    {
     "name": "stdout",
     "output_type": "stream",
     "text": [
      "\t...reading trips\n",
      "\t... 3517922\n",
      "Getting number of service days for each service\n",
      "\t...reading regular service calendars\n",
      "9993\n",
      "\t...reading calendar exceptions\n",
      "\t...aggregating calendar\n",
      "\t...calculating total in calendar\n",
      "\t...filtering stop_times with trips\n",
      "\t2 seconds: completed 2000000 rows\n",
      "\t5 seconds: completed 4000000 rows\n",
      "\t7 seconds: completed 6000000 rows\n",
      "\t10 seconds: completed 8000000 rows\n",
      "\t12 seconds: completed 10000000 rows\n",
      "\t14 seconds: completed 12000000 rows\n",
      "\t17 seconds: completed 14000000 rows\n",
      "\t19 seconds: completed 16000000 rows\n",
      "\t22 seconds: completed 18000000 rows\n",
      "\t24 seconds: completed 20000000 rows\n",
      "\t26 seconds: completed 22000000 rows\n",
      "\t29 seconds: completed 24000000 rows\n",
      "\t31 seconds: completed 26000000 rows\n",
      "\t34 seconds: completed 28000000 rows\n",
      "\t36 seconds: completed 30000000 rows\n",
      "\t38 seconds: completed 32000000 rows\n",
      "\t40 seconds: completed 34000000 rows\n",
      "\t43 seconds: completed 36000000 rows\n",
      "\t45 seconds: completed 38000000 rows\n",
      "\t47 seconds: completed 40000000 rows\n",
      "\t49 seconds: completed 42000000 rows\n",
      "\t51 seconds: completed 44000000 rows\n",
      "\t54 seconds: completed 46000000 rows\n",
      "\t56 seconds: completed 48000000 rows\n",
      "\t58 seconds: completed 50000000 rows\n",
      "\t60 seconds: completed 52000000 rows\n",
      "\t63 seconds: completed 54000000 rows\n",
      "\t65 seconds: completed 56000000 rows\n",
      "\t67 seconds: completed 58000000 rows\n",
      "\t69 seconds: completed 60000000 rows\n",
      "\t72 seconds: completed 62000000 rows\n",
      "\t74 seconds: completed 64000000 rows\n",
      "\t76 seconds: completed 66000000 rows\n",
      "\t78 seconds: completed 68000000 rows\n",
      "\t80 seconds: completed 70000000 rows\n",
      "\t83 seconds: completed 72000000 rows\n"
     ]
    },
    {
     "data": {
      "text/plain": [
       "0.0"
      ]
     },
     "execution_count": 87,
     "metadata": {},
     "output_type": "execute_result"
    }
   ],
   "source": [
    "nstops[nstops.stop_name.str.contains(\"Goldschmiedebrücke\")]\n",
    "stop_ids = list(nstops[nstops.stop_name.str.contains(\"Goldschmiedebrücke\")].stop_id)\n",
    "time_frame = [20200314, 20200314]\n",
    "\n",
    "trips_df = filterTrips(readTrips(zf = zf), getServiceCount(zf = zf, time_frame = time_frame))\n",
    "stop_times_df = readStopTimes(trips_df, stop_ids=stop_ids)\n",
    "\n",
    "stop_times_df.days_count.sum()"
   ]
  },
  {
   "cell_type": "code",
   "execution_count": 88,
   "id": "350a0f3b-9343-4d40-839c-05e3cbb65fc1",
   "metadata": {},
   "outputs": [
    {
     "name": "stdout",
     "output_type": "stream",
     "text": [
      "\t...reading trips\n",
      "\t... 3517922\n",
      "Getting number of service days for each service\n",
      "\t...reading regular service calendars\n",
      "8710\n",
      "\t...reading calendar exceptions\n",
      "\t...aggregating calendar\n",
      "\t...calculating total in calendar\n",
      "\t...filtering stop_times with trips\n",
      "\t2 seconds: completed 2000000 rows\n",
      "\t4 seconds: completed 4000000 rows\n",
      "\t7 seconds: completed 6000000 rows\n",
      "\t9 seconds: completed 8000000 rows\n",
      "\t12 seconds: completed 10000000 rows\n",
      "\t14 seconds: completed 12000000 rows\n",
      "\t17 seconds: completed 14000000 rows\n",
      "\t19 seconds: completed 16000000 rows\n",
      "\t22 seconds: completed 18000000 rows\n",
      "\t24 seconds: completed 20000000 rows\n",
      "\t27 seconds: completed 22000000 rows\n",
      "\t29 seconds: completed 24000000 rows\n",
      "\t32 seconds: completed 26000000 rows\n",
      "\t34 seconds: completed 28000000 rows\n",
      "\t37 seconds: completed 30000000 rows\n",
      "\t39 seconds: completed 32000000 rows\n",
      "\t42 seconds: completed 34000000 rows\n",
      "\t44 seconds: completed 36000000 rows\n",
      "\t47 seconds: completed 38000000 rows\n",
      "\t49 seconds: completed 40000000 rows\n",
      "\t51 seconds: completed 42000000 rows\n",
      "\t54 seconds: completed 44000000 rows\n",
      "\t56 seconds: completed 46000000 rows\n",
      "\t59 seconds: completed 48000000 rows\n",
      "\t61 seconds: completed 50000000 rows\n",
      "\t64 seconds: completed 52000000 rows\n",
      "\t66 seconds: completed 54000000 rows\n",
      "\t69 seconds: completed 56000000 rows\n",
      "\t71 seconds: completed 58000000 rows\n",
      "\t74 seconds: completed 60000000 rows\n",
      "\t76 seconds: completed 62000000 rows\n",
      "\t79 seconds: completed 64000000 rows\n",
      "\t81 seconds: completed 66000000 rows\n",
      "\t84 seconds: completed 68000000 rows\n",
      "\t86 seconds: completed 70000000 rows\n",
      "\t88 seconds: completed 72000000 rows\n"
     ]
    },
    {
     "data": {
      "text/plain": [
       "0.0"
      ]
     },
     "execution_count": 88,
     "metadata": {},
     "output_type": "execute_result"
    }
   ],
   "source": [
    "nstops[nstops.stop_name.str.contains(\"Flechtinger Stra\")]\n",
    "stop_ids = list(nstops[nstops.stop_name.str.contains(\"Flechtinger Stra\")].stop_id)\n",
    "time_frame = [20200520, 20200520]\n",
    "\n",
    "trips_df = filterTrips(readTrips(zf = zf), getServiceCount(zf = zf, time_frame = time_frame))\n",
    "stop_times_df = readStopTimes(trips_df, stop_ids=stop_ids)\n",
    "\n",
    "stop_times_df.days_count.sum()"
   ]
  },
  {
   "cell_type": "markdown",
   "id": "2a459cca-4fa6-4317-b5f2-c8bdb4fbda3f",
   "metadata": {
    "jp-MarkdownHeadingCollapsed": true,
    "tags": []
   },
   "source": [
    "## 2021"
   ]
  },
  {
   "cell_type": "code",
   "execution_count": 115,
   "id": "bde1d229-ed0b-4f69-ad41-de81ab82e753",
   "metadata": {},
   "outputs": [],
   "source": [
    "# Welches Jahr?\n",
    "jahr = \"2021\"\n",
    "# Welcher Zip?\n",
    "zipname = \"2021_reissue_2\"\n",
    "# constructed paths\n",
    "# rawdir = workingdir + \"raw/\"\n",
    "rawdir = workingdir + \"raw/\"\n",
    "rawdatadir = rawdir + \"gtfs/\" + jahr + \"/\"\n",
    "outdir = workingdir + \"out/\"+jahr+\"/\"\n",
    "#inpath = \"{0}{1}_{2}.db\".format(rawdatadir,jahr,datum)\n",
    "zippath = rawdatadir + zipname + \".zip\"\n",
    "\n",
    "\n",
    "# set up zip file as default for functions\n",
    "zf = zipfile.ZipFile(zippath) # this is the raw stuff"
   ]
  },
  {
   "cell_type": "code",
   "execution_count": 116,
   "id": "e777f075-719a-43e3-97db-573ccf92b277",
   "metadata": {},
   "outputs": [],
   "source": [
    "stops = pd.read_csv(zf.open(\"stops.txt\"))"
   ]
  },
  {
   "cell_type": "markdown",
   "id": "8446f5a4-deb3-4c9d-b792-82a0b62b8560",
   "metadata": {},
   "source": [
    "### Gießen"
   ]
  },
  {
   "cell_type": "code",
   "execution_count": 130,
   "id": "435c6d87-b36a-4f56-8f6c-835e076ea0c3",
   "metadata": {},
   "outputs": [
    {
     "name": "stdout",
     "output_type": "stream",
     "text": [
      "\t...reading trips\n",
      "\t... 1641730\n",
      "Getting number of service days for each service\n",
      "\t...reading regular service calendars\n",
      "12004\n",
      "\t...reading calendar exceptions\n",
      "\t...aggregating calendar\n",
      "\t...calculating total in calendar\n",
      "\t...filtering stop_times with trips\n"
     ]
    },
    {
     "name": "stderr",
     "output_type": "stream",
     "text": [
      "/opt/tljh/user/lib/python3.7/site-packages/IPython/core/interactiveshell.py:3441: DtypeWarning: Columns (5) have mixed types.Specify dtype option on import or set low_memory=False.\n",
      "  exec(code_obj, self.user_global_ns, self.user_ns)\n"
     ]
    },
    {
     "name": "stdout",
     "output_type": "stream",
     "text": [
      "\t4 seconds: completed 2000000 rows\n",
      "\t8 seconds: completed 4000000 rows\n",
      "\t13 seconds: completed 6000000 rows\n",
      "\t17 seconds: completed 8000000 rows\n",
      "\t21 seconds: completed 10000000 rows\n",
      "\t26 seconds: completed 12000000 rows\n",
      "\t30 seconds: completed 14000000 rows\n",
      "\t34 seconds: completed 16000000 rows\n",
      "\t39 seconds: completed 18000000 rows\n",
      "\t43 seconds: completed 20000000 rows\n",
      "\t47 seconds: completed 22000000 rows\n",
      "\t52 seconds: completed 24000000 rows\n",
      "\t56 seconds: completed 26000000 rows\n",
      "\t60 seconds: completed 28000000 rows\n",
      "\t65 seconds: completed 30000000 rows\n",
      "\t69 seconds: completed 32000000 rows\n",
      "\t73 seconds: completed 34000000 rows\n",
      "\t78 seconds: completed 36000000 rows\n",
      "\t82 seconds: completed 38000000 rows\n",
      "\t86 seconds: completed 40000000 rows\n",
      "\t91 seconds: completed 42000000 rows\n",
      "\t95 seconds: completed 44000000 rows\n",
      "\t99 seconds: completed 46000000 rows\n",
      "\t104 seconds: completed 48000000 rows\n",
      "\t108 seconds: completed 50000000 rows\n",
      "\t112 seconds: completed 52000000 rows\n",
      "\t117 seconds: completed 54000000 rows\n",
      "\t121 seconds: completed 56000000 rows\n",
      "\t125 seconds: completed 58000000 rows\n",
      "\t131 seconds: completed 60000000 rows\n",
      "\t135 seconds: completed 62000000 rows\n",
      "\t139 seconds: completed 64000000 rows\n",
      "\t144 seconds: completed 66000000 rows\n",
      "\t148 seconds: completed 68000000 rows\n",
      "\t152 seconds: completed 70000000 rows\n",
      "\t157 seconds: completed 72000000 rows\n"
     ]
    },
    {
     "data": {
      "text/plain": [
       "0.0"
      ]
     },
     "execution_count": 130,
     "metadata": {},
     "output_type": "execute_result"
    }
   ],
   "source": [
    "stops[stops.stop_name.str.contains(\"Gießen Behördenzentrum\")]\n",
    "stop_ids = list(stops[stops.stop_name.str.contains(\"Gießen Behördenzentrum\")].stop_id)\n",
    "time_frame = [20211005, 20211005]\n",
    "\n",
    "trips_df = filterTrips(readTrips(zf = zf), getServiceCount(zf = zf, time_frame = time_frame))\n",
    "stop_times_df = readStopTimes(trips_df, stop_ids=stop_ids)\n",
    "\n",
    "stop_times_df.days_count.sum()"
   ]
  },
  {
   "cell_type": "code",
   "execution_count": 131,
   "id": "5d728df7-43fd-49a1-8204-85f5401fd5ac",
   "metadata": {},
   "outputs": [
    {
     "name": "stdout",
     "output_type": "stream",
     "text": [
      "\t...reading trips\n",
      "\t... 1641730\n",
      "Getting number of service days for each service\n",
      "\t...reading regular service calendars\n",
      "12004\n",
      "\t...reading calendar exceptions\n",
      "\t...aggregating calendar\n",
      "\t...calculating total in calendar\n",
      "\t...filtering stop_times with trips\n",
      "\t4 seconds: completed 2000000 rows\n",
      "\t8 seconds: completed 4000000 rows\n",
      "\t12 seconds: completed 6000000 rows\n",
      "\t17 seconds: completed 8000000 rows\n",
      "\t21 seconds: completed 10000000 rows\n",
      "\t25 seconds: completed 12000000 rows\n",
      "\t30 seconds: completed 14000000 rows\n",
      "\t34 seconds: completed 16000000 rows\n",
      "\t38 seconds: completed 18000000 rows\n",
      "\t42 seconds: completed 20000000 rows\n",
      "\t47 seconds: completed 22000000 rows\n",
      "\t51 seconds: completed 24000000 rows\n",
      "\t55 seconds: completed 26000000 rows\n",
      "\t59 seconds: completed 28000000 rows\n",
      "\t64 seconds: completed 30000000 rows\n",
      "\t68 seconds: completed 32000000 rows\n",
      "\t72 seconds: completed 34000000 rows\n",
      "\t76 seconds: completed 36000000 rows\n",
      "\t81 seconds: completed 38000000 rows\n",
      "\t85 seconds: completed 40000000 rows\n",
      "\t89 seconds: completed 42000000 rows\n",
      "\t93 seconds: completed 44000000 rows\n",
      "\t98 seconds: completed 46000000 rows\n",
      "\t102 seconds: completed 48000000 rows\n",
      "\t106 seconds: completed 50000000 rows\n",
      "\t111 seconds: completed 52000000 rows\n",
      "\t115 seconds: completed 54000000 rows\n",
      "\t119 seconds: completed 56000000 rows\n",
      "\t124 seconds: completed 58000000 rows\n",
      "\t128 seconds: completed 60000000 rows\n",
      "\t132 seconds: completed 62000000 rows\n",
      "\t137 seconds: completed 64000000 rows\n",
      "\t141 seconds: completed 66000000 rows\n",
      "\t145 seconds: completed 68000000 rows\n",
      "\t150 seconds: completed 70000000 rows\n",
      "\t154 seconds: completed 72000000 rows\n"
     ]
    },
    {
     "data": {
      "text/plain": [
       "0.0"
      ]
     },
     "execution_count": 131,
     "metadata": {},
     "output_type": "execute_result"
    }
   ],
   "source": [
    "stops[stops.stop_name.str.contains(\"Gießen Graudenzer\")]\n",
    "stop_ids = list(stops[stops.stop_name.str.contains(\"Gießen Graudenzer\")].stop_id)\n",
    "time_frame = [20211005, 20211005]\n",
    "\n",
    "trips_df = filterTrips(readTrips(zf = zf), getServiceCount(zf = zf, time_frame = time_frame))\n",
    "stop_times_df = readStopTimes(trips_df, stop_ids=stop_ids)\n",
    "\n",
    "stop_times_df.days_count.sum()"
   ]
  },
  {
   "cell_type": "markdown",
   "id": "dd6d91e6-06dd-406d-aa01-2eb438b13434",
   "metadata": {},
   "source": [
    "### Heidelberg"
   ]
  },
  {
   "cell_type": "code",
   "execution_count": 105,
   "id": "870d3ecb-dc0c-44e1-be1e-50cf4ffc98be",
   "metadata": {},
   "outputs": [
    {
     "name": "stdout",
     "output_type": "stream",
     "text": [
      "\t...reading trips\n",
      "\t... 19617794\n",
      "Getting number of service days for each service\n",
      "\t...reading regular service calendars\n",
      "697\n",
      "\t...reading calendar exceptions\n",
      "\t...aggregating calendar\n",
      "\t...calculating total in calendar\n",
      "\t...filtering stop_times with trips\n",
      "\t2 seconds: completed 2000000 rows\n",
      "\t5 seconds: completed 4000000 rows\n",
      "\t8 seconds: completed 6000000 rows\n",
      "\t10 seconds: completed 8000000 rows\n",
      "\t13 seconds: completed 10000000 rows\n",
      "\t16 seconds: completed 12000000 rows\n",
      "\t19 seconds: completed 14000000 rows\n",
      "\t21 seconds: completed 16000000 rows\n",
      "\t24 seconds: completed 18000000 rows\n",
      "\t27 seconds: completed 20000000 rows\n",
      "\t30 seconds: completed 22000000 rows\n",
      "\t34 seconds: completed 24000000 rows\n",
      "\t37 seconds: completed 26000000 rows\n",
      "\t40 seconds: completed 28000000 rows\n",
      "\t43 seconds: completed 30000000 rows\n",
      "\t46 seconds: completed 32000000 rows\n",
      "\t49 seconds: completed 34000000 rows\n",
      "\t52 seconds: completed 36000000 rows\n",
      "\t55 seconds: completed 38000000 rows\n",
      "\t58 seconds: completed 40000000 rows\n",
      "\t62 seconds: completed 42000000 rows\n",
      "\t65 seconds: completed 44000000 rows\n",
      "\t68 seconds: completed 46000000 rows\n",
      "\t71 seconds: completed 48000000 rows\n",
      "\t74 seconds: completed 50000000 rows\n",
      "\t77 seconds: completed 52000000 rows\n",
      "\t81 seconds: completed 54000000 rows\n",
      "\t84 seconds: completed 56000000 rows\n",
      "\t87 seconds: completed 58000000 rows\n",
      "\t90 seconds: completed 60000000 rows\n",
      "\t93 seconds: completed 62000000 rows\n",
      "\t96 seconds: completed 64000000 rows\n",
      "\t99 seconds: completed 66000000 rows\n",
      "\t103 seconds: completed 68000000 rows\n",
      "\t106 seconds: completed 70000000 rows\n",
      "\t109 seconds: completed 72000000 rows\n"
     ]
    },
    {
     "data": {
      "text/plain": [
       "13.0"
      ]
     },
     "execution_count": 105,
     "metadata": {},
     "output_type": "execute_result"
    }
   ],
   "source": [
    "nstops[nstops.stop_name.str.contains(\"Alte Brücke Nord\")]\n",
    "stop_ids = list(nstops[nstops.stop_name.str.contains(\"Alte Brücke Nord\")].stop_id)\n",
    "time_frame = [20210314, 20210314]\n",
    "\n",
    "trips_df = filterTrips(readTrips(zf = zf), getServiceCount(zf = zf, time_frame = time_frame))\n",
    "stop_times_df = readStopTimes(trips_df, stop_ids=stop_ids)\n",
    "\n",
    "stop_times_df.days_count.sum()"
   ]
  },
  {
   "cell_type": "code",
   "execution_count": 106,
   "id": "7bb6378a-2d20-45f6-ae41-c5376452311d",
   "metadata": {},
   "outputs": [
    {
     "name": "stdout",
     "output_type": "stream",
     "text": [
      "\t...reading trips\n",
      "\t... 19617794\n",
      "Getting number of service days for each service\n",
      "\t...reading regular service calendars\n",
      "4427\n",
      "\t...reading calendar exceptions\n",
      "\t...aggregating calendar\n",
      "\t...calculating total in calendar\n",
      "\t...filtering stop_times with trips\n",
      "\t2 seconds: completed 2000000 rows\n",
      "\t4 seconds: completed 4000000 rows\n",
      "\t6 seconds: completed 6000000 rows\n",
      "\t8 seconds: completed 8000000 rows\n",
      "\t11 seconds: completed 10000000 rows\n",
      "\t13 seconds: completed 12000000 rows\n",
      "\t15 seconds: completed 14000000 rows\n",
      "\t17 seconds: completed 16000000 rows\n",
      "\t20 seconds: completed 18000000 rows\n",
      "\t22 seconds: completed 20000000 rows\n",
      "\t24 seconds: completed 22000000 rows\n",
      "\t27 seconds: completed 24000000 rows\n",
      "\t29 seconds: completed 26000000 rows\n",
      "\t31 seconds: completed 28000000 rows\n",
      "\t33 seconds: completed 30000000 rows\n",
      "\t35 seconds: completed 32000000 rows\n",
      "\t38 seconds: completed 34000000 rows\n",
      "\t40 seconds: completed 36000000 rows\n",
      "\t42 seconds: completed 38000000 rows\n",
      "\t44 seconds: completed 40000000 rows\n",
      "\t47 seconds: completed 42000000 rows\n",
      "\t49 seconds: completed 44000000 rows\n",
      "\t51 seconds: completed 46000000 rows\n",
      "\t53 seconds: completed 48000000 rows\n",
      "\t55 seconds: completed 50000000 rows\n",
      "\t57 seconds: completed 52000000 rows\n",
      "\t60 seconds: completed 54000000 rows\n",
      "\t62 seconds: completed 56000000 rows\n",
      "\t64 seconds: completed 58000000 rows\n",
      "\t66 seconds: completed 60000000 rows\n",
      "\t68 seconds: completed 62000000 rows\n",
      "\t71 seconds: completed 64000000 rows\n",
      "\t73 seconds: completed 66000000 rows\n",
      "\t75 seconds: completed 68000000 rows\n",
      "\t77 seconds: completed 70000000 rows\n",
      "\t79 seconds: completed 72000000 rows\n"
     ]
    },
    {
     "data": {
      "text/plain": [
       "20.0"
      ]
     },
     "execution_count": 106,
     "metadata": {},
     "output_type": "execute_result"
    }
   ],
   "source": [
    "nstops[nstops.stop_name.str.contains(\"Rohrbach, Eichendorffplatz\")]\n",
    "stop_ids = list(nstops[nstops.stop_name.str.contains(\"Rohrbach, Eichendorffplatz\")].stop_id)\n",
    "time_frame = [20210520, 20210520]\n",
    "\n",
    "trips_df = filterTrips(readTrips(zf = zf), getServiceCount(zf = zf, time_frame = time_frame))\n",
    "stop_times_df = readStopTimes(trips_df, stop_ids=stop_ids)\n",
    "\n",
    "stop_times_df.days_count.sum()"
   ]
  },
  {
   "cell_type": "markdown",
   "id": "ad65e193-666e-4e9c-9005-4ce0a03700df",
   "metadata": {},
   "source": [
    "### Magdeburg"
   ]
  },
  {
   "cell_type": "code",
   "execution_count": 107,
   "id": "88f37e9b-63b4-4c40-a79e-f7aa82f8a7a8",
   "metadata": {},
   "outputs": [
    {
     "name": "stdout",
     "output_type": "stream",
     "text": [
      "\t...reading trips\n",
      "\t... 19617794\n",
      "Getting number of service days for each service\n",
      "\t...reading regular service calendars\n",
      "697\n",
      "\t...reading calendar exceptions\n",
      "\t...aggregating calendar\n",
      "\t...calculating total in calendar\n",
      "\t...filtering stop_times with trips\n",
      "\t2 seconds: completed 2000000 rows\n",
      "\t5 seconds: completed 4000000 rows\n",
      "\t8 seconds: completed 6000000 rows\n",
      "\t11 seconds: completed 8000000 rows\n",
      "\t15 seconds: completed 10000000 rows\n",
      "\t18 seconds: completed 12000000 rows\n",
      "\t21 seconds: completed 14000000 rows\n",
      "\t24 seconds: completed 16000000 rows\n",
      "\t27 seconds: completed 18000000 rows\n",
      "\t30 seconds: completed 20000000 rows\n",
      "\t32 seconds: completed 22000000 rows\n",
      "\t35 seconds: completed 24000000 rows\n",
      "\t38 seconds: completed 26000000 rows\n",
      "\t41 seconds: completed 28000000 rows\n",
      "\t44 seconds: completed 30000000 rows\n",
      "\t47 seconds: completed 32000000 rows\n",
      "\t50 seconds: completed 34000000 rows\n",
      "\t53 seconds: completed 36000000 rows\n",
      "\t56 seconds: completed 38000000 rows\n",
      "\t59 seconds: completed 40000000 rows\n",
      "\t62 seconds: completed 42000000 rows\n",
      "\t65 seconds: completed 44000000 rows\n",
      "\t67 seconds: completed 46000000 rows\n",
      "\t70 seconds: completed 48000000 rows\n",
      "\t73 seconds: completed 50000000 rows\n",
      "\t76 seconds: completed 52000000 rows\n",
      "\t79 seconds: completed 54000000 rows\n",
      "\t82 seconds: completed 56000000 rows\n",
      "\t85 seconds: completed 58000000 rows\n",
      "\t88 seconds: completed 60000000 rows\n",
      "\t90 seconds: completed 62000000 rows\n",
      "\t93 seconds: completed 64000000 rows\n",
      "\t96 seconds: completed 66000000 rows\n",
      "\t99 seconds: completed 68000000 rows\n",
      "\t101 seconds: completed 70000000 rows\n",
      "\t104 seconds: completed 72000000 rows\n"
     ]
    },
    {
     "data": {
      "text/plain": [
       "0.0"
      ]
     },
     "execution_count": 107,
     "metadata": {},
     "output_type": "execute_result"
    }
   ],
   "source": [
    "nstops[nstops.stop_name.str.contains(\"Goldschmiedebrücke\")]\n",
    "stop_ids = list(nstops[nstops.stop_name.str.contains(\"Goldschmiedebrücke\")].stop_id)\n",
    "time_frame = [20210314, 20210314]\n",
    "\n",
    "trips_df = filterTrips(readTrips(zf = zf), getServiceCount(zf = zf, time_frame = time_frame))\n",
    "stop_times_df = readStopTimes(trips_df, stop_ids=stop_ids)\n",
    "\n",
    "stop_times_df.days_count.sum()"
   ]
  },
  {
   "cell_type": "code",
   "execution_count": 108,
   "id": "041b0a7b-7934-4157-ac94-f609ad4879f8",
   "metadata": {},
   "outputs": [
    {
     "name": "stdout",
     "output_type": "stream",
     "text": [
      "\t...reading trips\n",
      "\t... 19617794\n",
      "Getting number of service days for each service\n",
      "\t...reading regular service calendars\n",
      "4427\n",
      "\t...reading calendar exceptions\n",
      "\t...aggregating calendar\n",
      "\t...calculating total in calendar\n",
      "\t...filtering stop_times with trips\n",
      "\t1 seconds: completed 2000000 rows\n",
      "\t3 seconds: completed 4000000 rows\n",
      "\t5 seconds: completed 6000000 rows\n",
      "\t7 seconds: completed 8000000 rows\n",
      "\t9 seconds: completed 10000000 rows\n",
      "\t11 seconds: completed 12000000 rows\n",
      "\t13 seconds: completed 14000000 rows\n",
      "\t15 seconds: completed 16000000 rows\n",
      "\t17 seconds: completed 18000000 rows\n",
      "\t18 seconds: completed 20000000 rows\n",
      "\t20 seconds: completed 22000000 rows\n",
      "\t22 seconds: completed 24000000 rows\n",
      "\t24 seconds: completed 26000000 rows\n",
      "\t26 seconds: completed 28000000 rows\n",
      "\t28 seconds: completed 30000000 rows\n",
      "\t30 seconds: completed 32000000 rows\n",
      "\t32 seconds: completed 34000000 rows\n",
      "\t34 seconds: completed 36000000 rows\n",
      "\t35 seconds: completed 38000000 rows\n",
      "\t37 seconds: completed 40000000 rows\n",
      "\t39 seconds: completed 42000000 rows\n",
      "\t41 seconds: completed 44000000 rows\n",
      "\t43 seconds: completed 46000000 rows\n",
      "\t46 seconds: completed 48000000 rows\n",
      "\t48 seconds: completed 50000000 rows\n",
      "\t50 seconds: completed 52000000 rows\n",
      "\t53 seconds: completed 54000000 rows\n",
      "\t55 seconds: completed 56000000 rows\n",
      "\t57 seconds: completed 58000000 rows\n",
      "\t59 seconds: completed 60000000 rows\n",
      "\t62 seconds: completed 62000000 rows\n",
      "\t64 seconds: completed 64000000 rows\n",
      "\t66 seconds: completed 66000000 rows\n",
      "\t69 seconds: completed 68000000 rows\n",
      "\t71 seconds: completed 70000000 rows\n",
      "\t73 seconds: completed 72000000 rows\n"
     ]
    },
    {
     "data": {
      "text/plain": [
       "3.0"
      ]
     },
     "execution_count": 108,
     "metadata": {},
     "output_type": "execute_result"
    }
   ],
   "source": [
    "nstops[nstops.stop_name.str.contains(\"Flechtinger Stra\")]\n",
    "stop_ids = list(nstops[nstops.stop_name.str.contains(\"Flechtinger Stra\")].stop_id)\n",
    "time_frame = [20210520, 20210520]\n",
    "\n",
    "trips_df = filterTrips(readTrips(zf = zf), getServiceCount(zf = zf, time_frame = time_frame))\n",
    "stop_times_df = readStopTimes(trips_df, stop_ids=stop_ids)\n",
    "\n",
    "stop_times_df.days_count.sum()"
   ]
  },
  {
   "cell_type": "markdown",
   "id": "05574a0b-d753-426d-a092-367c839f18a0",
   "metadata": {},
   "source": [
    "## Summary"
   ]
  },
  {
   "cell_type": "markdown",
   "id": "dd7fe750-f453-4333-b011-edea947a7a2c",
   "metadata": {},
   "source": [
    "| Stadt      | Haltestelle                | Datum  | 2020 | 2021 | \n",
    "|------------|----------------------------|--------|------|------|\n",
    "| Gießen     | Behördenzentrum            | 14.03. | 164  | 444    | \n",
    "| Gießen     | Graudenzer Straße          | 20.05. | 81   | 196   | \n",
    "| Heidelberg | Alte Brücke Nord           | 14.03. | 262  | 656  |\n",
    "| Heidelberg | Rohrbach, Eichendorffplatz | 20.05. | 913  | 3117   |\n",
    "| Magdeburg  | Goldschmiedebrücke         | 14.03. | 1464 | 1224  |\n",
    "| Magdeburg  | Flechtinger Straße         | 20.05. | 1068 | 986  |\n",
    "\n",
    "\n",
    "| Stadt      | Haltestelle                | Datum  | 2020 | 2021 | Delfi 21\n",
    "|------------|----------------------------|--------|------|------|----------\n",
    "| Gießen     | Behördenzentrum            | 05.10. | 168  | 448  | 659\n",
    "| Gießen     | Graudenzer Straße          | 05.10. | 81   | 166  | 207\n",
    "| Heidelberg | Alte Brücke Nord           | 05.10. | 264  | 656  | 200\n",
    "| Heidelberg | Rohrbach, Eichendorffplatz | 05.10. | 913  | 2871 | 413\n",
    "| Magdeburg  | Goldschmiedebrücke         | 05.10. | 1464 | 1210 | 260\n",
    "| Magdeburg  | Flechtinger Straße         | 05.10. | 1068 | 986  | 207"
   ]
  },
  {
   "cell_type": "markdown",
   "id": "d320a309-9e63-4251-a9a5-a8495af5cf0f",
   "metadata": {
    "jp-MarkdownHeadingCollapsed": true,
    "tags": []
   },
   "source": [
    "## DELFI 2021"
   ]
  },
  {
   "cell_type": "code",
   "execution_count": 194,
   "id": "b7d462c4-7540-4896-96ad-85a440ec0697",
   "metadata": {},
   "outputs": [],
   "source": [
    "\n",
    "# Welcher Zip?\n",
    "zipname = \"20211015_fahrplaene_gesamtdeutschland_gtfs\"\n",
    "# constructed paths\n",
    "# rawdir = workingdir + \"raw/\"\n",
    "rawdir = workingdir + \"raw/\"\n",
    "rawdatadir = rawdir + \"gtfs/delfi/\" \n",
    "#inpath = \"{0}{1}_{2}.db\".format(rawdatadir,jahr,datum)\n",
    "zippath = rawdatadir + zipname + \".zip\"\n",
    "\n",
    "\n",
    "# set up zip file as default for functions\n",
    "zf = zipfile.ZipFile(zippath) # this is the raw stuff\n",
    "# stops as reference for finding individual stations\n",
    "stops = pd.read_csv(zf.open(\"stops.txt\"))# stops as reference for finding individual stations "
   ]
  },
  {
   "cell_type": "code",
   "execution_count": 132,
   "id": "c9c58f71-0487-48f6-93e6-94a947dbeac5",
   "metadata": {
    "tags": []
   },
   "outputs": [
    {
     "name": "stdout",
     "output_type": "stream",
     "text": [
      "\t...reading trips\n",
      "\t... 1641730\n",
      "Getting number of service days for each service\n",
      "\t...reading regular service calendars\n",
      "12004\n",
      "\t...reading calendar exceptions\n",
      "\t...aggregating calendar\n",
      "\t...calculating total in calendar\n",
      "\t...filtering stop_times with trips\n",
      "\t3 seconds: completed 2000000 rows\n",
      "\t8 seconds: completed 4000000 rows\n",
      "\t12 seconds: completed 6000000 rows\n",
      "\t16 seconds: completed 8000000 rows\n",
      "\t20 seconds: completed 10000000 rows\n",
      "\t24 seconds: completed 12000000 rows\n",
      "\t29 seconds: completed 14000000 rows\n",
      "\t33 seconds: completed 16000000 rows\n",
      "\t37 seconds: completed 18000000 rows\n",
      "\t41 seconds: completed 20000000 rows\n",
      "\t45 seconds: completed 22000000 rows\n",
      "\t49 seconds: completed 24000000 rows\n",
      "\t53 seconds: completed 26000000 rows\n",
      "\t57 seconds: completed 28000000 rows\n",
      "\t62 seconds: completed 30000000 rows\n",
      "\t66 seconds: completed 32000000 rows\n",
      "\t70 seconds: completed 34000000 rows\n",
      "\t74 seconds: completed 36000000 rows\n",
      "\t78 seconds: completed 38000000 rows\n",
      "\t82 seconds: completed 40000000 rows\n",
      "\t86 seconds: completed 42000000 rows\n",
      "\t90 seconds: completed 44000000 rows\n",
      "\t94 seconds: completed 46000000 rows\n",
      "\t98 seconds: completed 48000000 rows\n",
      "\t102 seconds: completed 50000000 rows\n",
      "\t107 seconds: completed 52000000 rows\n",
      "\t111 seconds: completed 54000000 rows\n",
      "\t115 seconds: completed 56000000 rows\n",
      "\t119 seconds: completed 58000000 rows\n",
      "\t123 seconds: completed 60000000 rows\n",
      "\t127 seconds: completed 62000000 rows\n",
      "\t131 seconds: completed 64000000 rows\n",
      "\t135 seconds: completed 66000000 rows\n",
      "\t140 seconds: completed 68000000 rows\n",
      "\t144 seconds: completed 70000000 rows\n",
      "\t148 seconds: completed 72000000 rows\n"
     ]
    },
    {
     "data": {
      "text/plain": [
       "0.0"
      ]
     },
     "execution_count": 132,
     "metadata": {},
     "output_type": "execute_result"
    }
   ],
   "source": [
    "stops[stops.stop_name.str.contains(\"Gießen Behördenzentrum\")]\n",
    "stop_ids = list(stops[stops.stop_name.str.contains(\"Gießen Behördenzentrum\")].stop_id)\n",
    "time_frame = [20211005, 20211005]\n",
    "\n",
    "trips_df = filterTrips(readTrips(zf = zf), getServiceCount(zf = zf, time_frame = time_frame))\n",
    "stop_times_df = readStopTimes(trips_df, stop_ids=stop_ids)\n",
    "\n",
    "stop_times_df.days_count.sum()"
   ]
  },
  {
   "cell_type": "code",
   "execution_count": 133,
   "id": "18189f38-9273-474f-9ff3-a8dec21c7ade",
   "metadata": {},
   "outputs": [
    {
     "name": "stdout",
     "output_type": "stream",
     "text": [
      "\t...reading trips\n",
      "\t... 1641730\n",
      "Getting number of service days for each service\n",
      "\t...reading regular service calendars\n",
      "12004\n",
      "\t...reading calendar exceptions\n",
      "\t...aggregating calendar\n",
      "\t...calculating total in calendar\n",
      "\t...filtering stop_times with trips\n",
      "\t4 seconds: completed 2000000 rows\n",
      "\t8 seconds: completed 4000000 rows\n",
      "\t12 seconds: completed 6000000 rows\n",
      "\t16 seconds: completed 8000000 rows\n",
      "\t21 seconds: completed 10000000 rows\n",
      "\t25 seconds: completed 12000000 rows\n",
      "\t30 seconds: completed 14000000 rows\n",
      "\t34 seconds: completed 16000000 rows\n",
      "\t38 seconds: completed 18000000 rows\n",
      "\t42 seconds: completed 20000000 rows\n",
      "\t46 seconds: completed 22000000 rows\n",
      "\t51 seconds: completed 24000000 rows\n",
      "\t55 seconds: completed 26000000 rows\n",
      "\t59 seconds: completed 28000000 rows\n",
      "\t64 seconds: completed 30000000 rows\n",
      "\t68 seconds: completed 32000000 rows\n",
      "\t72 seconds: completed 34000000 rows\n",
      "\t76 seconds: completed 36000000 rows\n",
      "\t80 seconds: completed 38000000 rows\n",
      "\t85 seconds: completed 40000000 rows\n",
      "\t89 seconds: completed 42000000 rows\n",
      "\t93 seconds: completed 44000000 rows\n",
      "\t97 seconds: completed 46000000 rows\n",
      "\t102 seconds: completed 48000000 rows\n",
      "\t106 seconds: completed 50000000 rows\n",
      "\t110 seconds: completed 52000000 rows\n",
      "\t116 seconds: completed 54000000 rows\n",
      "\t121 seconds: completed 56000000 rows\n",
      "\t126 seconds: completed 58000000 rows\n",
      "\t130 seconds: completed 60000000 rows\n",
      "\t134 seconds: completed 62000000 rows\n",
      "\t139 seconds: completed 64000000 rows\n",
      "\t143 seconds: completed 66000000 rows\n",
      "\t147 seconds: completed 68000000 rows\n",
      "\t151 seconds: completed 70000000 rows\n",
      "\t156 seconds: completed 72000000 rows\n"
     ]
    },
    {
     "data": {
      "text/plain": [
       "0.0"
      ]
     },
     "execution_count": 133,
     "metadata": {},
     "output_type": "execute_result"
    }
   ],
   "source": [
    "stops[stops.stop_name.str.contains(\"Gießen Graudenzer\")]\n",
    "stop_ids = list(stops[stops.stop_name.str.contains(\"Gießen Graudenzer\")].stop_id)\n",
    "time_frame = [20211005, 20211005]\n",
    "\n",
    "trips_df = filterTrips(readTrips(zf = zf), getServiceCount(zf = zf, time_frame = time_frame))\n",
    "stop_times_df = readStopTimes(trips_df, stop_ids=stop_ids)\n",
    "\n",
    "stop_times_df.days_count.sum()"
   ]
  },
  {
   "cell_type": "code",
   "execution_count": 141,
   "id": "f7a9f6f5-1744-4a13-837d-7edeb7861d8f",
   "metadata": {},
   "outputs": [
    {
     "name": "stdout",
     "output_type": "stream",
     "text": [
      "\t...filtering stop_times with trips\n"
     ]
    },
    {
     "name": "stderr",
     "output_type": "stream",
     "text": [
      "/opt/tljh/user/lib/python3.7/site-packages/IPython/core/interactiveshell.py:3441: DtypeWarning: Columns (7) have mixed types.Specify dtype option on import or set low_memory=False.\n",
      "  exec(code_obj, self.user_global_ns, self.user_ns)\n"
     ]
    },
    {
     "name": "stdout",
     "output_type": "stream",
     "text": [
      "\t1 seconds: completed 2000000 rows\n",
      "\t2 seconds: completed 4000000 rows\n",
      "\t4 seconds: completed 6000000 rows\n",
      "\t5 seconds: completed 8000000 rows\n",
      "\t7 seconds: completed 10000000 rows\n",
      "\t9 seconds: completed 12000000 rows\n",
      "\t10 seconds: completed 14000000 rows\n",
      "\t12 seconds: completed 16000000 rows\n",
      "\t13 seconds: completed 18000000 rows\n",
      "\t15 seconds: completed 20000000 rows\n",
      "\t16 seconds: completed 22000000 rows\n",
      "\t18 seconds: completed 24000000 rows\n",
      "\t20 seconds: completed 26000000 rows\n",
      "\t21 seconds: completed 28000000 rows\n",
      "\t22 seconds: completed 30000000 rows\n",
      "\t24 seconds: completed 32000000 rows\n"
     ]
    }
   ],
   "source": [
    "stop_times_df = readStopTimes(stop_ids=stop_ids)"
   ]
  },
  {
   "cell_type": "code",
   "execution_count": 142,
   "id": "1587c3a7-677f-4183-8ba5-a9b2d9cfbf0d",
   "metadata": {},
   "outputs": [
    {
     "data": {
      "text/html": [
       "<div>\n",
       "<style scoped>\n",
       "    .dataframe tbody tr th:only-of-type {\n",
       "        vertical-align: middle;\n",
       "    }\n",
       "\n",
       "    .dataframe tbody tr th {\n",
       "        vertical-align: top;\n",
       "    }\n",
       "\n",
       "    .dataframe thead th {\n",
       "        text-align: right;\n",
       "    }\n",
       "</style>\n",
       "<table border=\"1\" class=\"dataframe\">\n",
       "  <thead>\n",
       "    <tr style=\"text-align: right;\">\n",
       "      <th></th>\n",
       "      <th>trip_id</th>\n",
       "      <th>arrival_time</th>\n",
       "      <th>departure_time</th>\n",
       "      <th>stop_id</th>\n",
       "      <th>stop_sequence</th>\n",
       "      <th>pickup_type</th>\n",
       "      <th>drop_off_type</th>\n",
       "      <th>stop_headsign</th>\n",
       "    </tr>\n",
       "  </thead>\n",
       "  <tbody>\n",
       "    <tr>\n",
       "      <th>3993444</th>\n",
       "      <td>1196869605</td>\n",
       "      <td>5:57:00</td>\n",
       "      <td>5:57:00</td>\n",
       "      <td>de:06531:19222:1:1</td>\n",
       "      <td>7</td>\n",
       "      <td>0</td>\n",
       "      <td>0</td>\n",
       "      <td>NaN</td>\n",
       "    </tr>\n",
       "    <tr>\n",
       "      <th>3993460</th>\n",
       "      <td>1196869616</td>\n",
       "      <td>6:37:00</td>\n",
       "      <td>6:37:00</td>\n",
       "      <td>de:06531:19222:1:1</td>\n",
       "      <td>7</td>\n",
       "      <td>0</td>\n",
       "      <td>0</td>\n",
       "      <td>NaN</td>\n",
       "    </tr>\n",
       "    <tr>\n",
       "      <th>3993476</th>\n",
       "      <td>1196869632</td>\n",
       "      <td>7:19:00</td>\n",
       "      <td>7:19:00</td>\n",
       "      <td>de:06531:19222:1:1</td>\n",
       "      <td>7</td>\n",
       "      <td>0</td>\n",
       "      <td>0</td>\n",
       "      <td>NaN</td>\n",
       "    </tr>\n",
       "    <tr>\n",
       "      <th>3993492</th>\n",
       "      <td>1196869633</td>\n",
       "      <td>7:46:00</td>\n",
       "      <td>7:46:00</td>\n",
       "      <td>de:06531:19222:1:1</td>\n",
       "      <td>7</td>\n",
       "      <td>0</td>\n",
       "      <td>0</td>\n",
       "      <td>NaN</td>\n",
       "    </tr>\n",
       "    <tr>\n",
       "      <th>3993508</th>\n",
       "      <td>1196869635</td>\n",
       "      <td>8:46:00</td>\n",
       "      <td>8:46:00</td>\n",
       "      <td>de:06531:19222:1:1</td>\n",
       "      <td>7</td>\n",
       "      <td>0</td>\n",
       "      <td>0</td>\n",
       "      <td>NaN</td>\n",
       "    </tr>\n",
       "    <tr>\n",
       "      <th>...</th>\n",
       "      <td>...</td>\n",
       "      <td>...</td>\n",
       "      <td>...</td>\n",
       "      <td>...</td>\n",
       "      <td>...</td>\n",
       "      <td>...</td>\n",
       "      <td>...</td>\n",
       "      <td>...</td>\n",
       "    </tr>\n",
       "    <tr>\n",
       "      <th>21075963</th>\n",
       "      <td>1373674126</td>\n",
       "      <td>15:56:00</td>\n",
       "      <td>15:56:00</td>\n",
       "      <td>de:06531:19222:1:1</td>\n",
       "      <td>9</td>\n",
       "      <td>0</td>\n",
       "      <td>0</td>\n",
       "      <td>NaN</td>\n",
       "    </tr>\n",
       "    <tr>\n",
       "      <th>21075975</th>\n",
       "      <td>1373674127</td>\n",
       "      <td>16:26:00</td>\n",
       "      <td>16:26:00</td>\n",
       "      <td>de:06531:19222:1:1</td>\n",
       "      <td>9</td>\n",
       "      <td>0</td>\n",
       "      <td>0</td>\n",
       "      <td>NaN</td>\n",
       "    </tr>\n",
       "    <tr>\n",
       "      <th>21075987</th>\n",
       "      <td>1373674128</td>\n",
       "      <td>16:56:00</td>\n",
       "      <td>16:56:00</td>\n",
       "      <td>de:06531:19222:1:1</td>\n",
       "      <td>9</td>\n",
       "      <td>0</td>\n",
       "      <td>0</td>\n",
       "      <td>NaN</td>\n",
       "    </tr>\n",
       "    <tr>\n",
       "      <th>21075999</th>\n",
       "      <td>1373674129</td>\n",
       "      <td>17:26:00</td>\n",
       "      <td>17:26:00</td>\n",
       "      <td>de:06531:19222:1:1</td>\n",
       "      <td>9</td>\n",
       "      <td>0</td>\n",
       "      <td>0</td>\n",
       "      <td>NaN</td>\n",
       "    </tr>\n",
       "    <tr>\n",
       "      <th>21076011</th>\n",
       "      <td>1373674130</td>\n",
       "      <td>17:56:00</td>\n",
       "      <td>17:56:00</td>\n",
       "      <td>de:06531:19222:1:1</td>\n",
       "      <td>9</td>\n",
       "      <td>0</td>\n",
       "      <td>0</td>\n",
       "      <td>NaN</td>\n",
       "    </tr>\n",
       "  </tbody>\n",
       "</table>\n",
       "<p>454 rows × 8 columns</p>\n",
       "</div>"
      ],
      "text/plain": [
       "             trip_id arrival_time departure_time             stop_id  \\\n",
       "3993444   1196869605      5:57:00        5:57:00  de:06531:19222:1:1   \n",
       "3993460   1196869616      6:37:00        6:37:00  de:06531:19222:1:1   \n",
       "3993476   1196869632      7:19:00        7:19:00  de:06531:19222:1:1   \n",
       "3993492   1196869633      7:46:00        7:46:00  de:06531:19222:1:1   \n",
       "3993508   1196869635      8:46:00        8:46:00  de:06531:19222:1:1   \n",
       "...              ...          ...            ...                 ...   \n",
       "21075963  1373674126     15:56:00       15:56:00  de:06531:19222:1:1   \n",
       "21075975  1373674127     16:26:00       16:26:00  de:06531:19222:1:1   \n",
       "21075987  1373674128     16:56:00       16:56:00  de:06531:19222:1:1   \n",
       "21075999  1373674129     17:26:00       17:26:00  de:06531:19222:1:1   \n",
       "21076011  1373674130     17:56:00       17:56:00  de:06531:19222:1:1   \n",
       "\n",
       "          stop_sequence  pickup_type  drop_off_type stop_headsign  \n",
       "3993444               7            0              0           NaN  \n",
       "3993460               7            0              0           NaN  \n",
       "3993476               7            0              0           NaN  \n",
       "3993492               7            0              0           NaN  \n",
       "3993508               7            0              0           NaN  \n",
       "...                 ...          ...            ...           ...  \n",
       "21075963              9            0              0           NaN  \n",
       "21075975              9            0              0           NaN  \n",
       "21075987              9            0              0           NaN  \n",
       "21075999              9            0              0           NaN  \n",
       "21076011              9            0              0           NaN  \n",
       "\n",
       "[454 rows x 8 columns]"
      ]
     },
     "execution_count": 142,
     "metadata": {},
     "output_type": "execute_result"
    }
   ],
   "source": [
    "stop_times_df"
   ]
  },
  {
   "cell_type": "markdown",
   "id": "e92bf2ef-6c3e-463b-8430-b7f2f61b4c30",
   "metadata": {
    "tags": []
   },
   "source": [
    "# Other approach"
   ]
  },
  {
   "cell_type": "code",
   "execution_count": 301,
   "id": "60c590fd-9c96-4a17-932c-b2c83011d454",
   "metadata": {},
   "outputs": [],
   "source": [
    "def getN(stop_name, date, zf):\n",
    "    stop_ids = list(stops[stops.stop_name.str.contains(stop_name)].stop_id)\n",
    "    print(stop_ids)\n",
    "    \n",
    "    stop_times_df = readStopTimes(zf, stop_ids=stop_ids)\n",
    "\n",
    "    stop_trips = pd.merge(stop_times_df, readTrips(zf), how=\"left\")\n",
    "    stop_calendar = stop_trips.merge(pd.read_csv(zf.open(\"calendar.txt\")), on=\"service_id\", how=\"left\")\n",
    "    stop_calendar = stop_calendar[stop_calendar.tuesday==1 & (date >= stop_calendar.start_date) & (date <= stop_calendar.end_date)]\n",
    "    \n",
    "\n",
    "    stop_exceptions = stop_trips.merge(pd.read_csv(zf.open(\"calendar_dates.txt\")), on=\"service_id\", how=\"left\")\n",
    "    stop_exceptions = stop_exceptions[stop_exceptions.date==date]\n",
    "    \n",
    "    \n",
    "    return(len(stop_calendar) + sum(stop_exceptions.exception_type==1) - sum(stop_exceptions.exception_type==2))"
   ]
  },
  {
   "cell_type": "markdown",
   "id": "c6cb19b1-be85-42b8-bcee-5afcdc23adb3",
   "metadata": {
    "tags": []
   },
   "source": [
    "## DELFI 2021"
   ]
  },
  {
   "cell_type": "code",
   "execution_count": 316,
   "id": "daa19f3e-3b18-43e4-9e6c-c06cc06c370b",
   "metadata": {},
   "outputs": [],
   "source": [
    "# Welcher Zip?\n",
    "zipname = \"20211015_fahrplaene_gesamtdeutschland_gtfs\"\n",
    "# constructed paths\n",
    "# rawdir = workingdir + \"raw/\"\n",
    "rawdir = workingdir + \"raw/\"\n",
    "rawdatadir = rawdir + \"gtfs/delfi/\" \n",
    "#inpath = \"{0}{1}_{2}.db\".format(rawdatadir,jahr,datum)\n",
    "zippath = rawdatadir + zipname + \".zip\"\n",
    "\n",
    "\n",
    "# set up zip file as default for functions\n",
    "zf = zipfile.ZipFile(zippath) # this is the raw stuff\n",
    "# stops as reference for finding individual stations\n",
    "stops = pd.read_csv(zf.open(\"stops.txt\"))# stops as reference for finding individual stations "
   ]
  },
  {
   "cell_type": "code",
   "execution_count": 317,
   "id": "85ac4371-a41e-4b95-86fe-04cc459ac6cf",
   "metadata": {},
   "outputs": [
    {
     "name": "stdout",
     "output_type": "stream",
     "text": [
      "['de:06531:14681:1:1', 'de:06531:14681:2:2', 'de:06531:14681:3:3', 'de:06531:14681:4:4']\n",
      "\t...reading stop_times\n",
      "\t......filtering stops\n"
     ]
    },
    {
     "name": "stderr",
     "output_type": "stream",
     "text": [
      "/opt/tljh/user/lib/python3.7/site-packages/ipykernel_launcher.py:5: DtypeWarning: Columns (7) have mixed types.Specify dtype option on import or set low_memory=False.\n",
      "  \"\"\"\n"
     ]
    },
    {
     "name": "stdout",
     "output_type": "stream",
     "text": [
      "\t...reading trips\n",
      "\t... 1641730\n"
     ]
    },
    {
     "data": {
      "text/plain": [
       "659"
      ]
     },
     "execution_count": 317,
     "metadata": {},
     "output_type": "execute_result"
    }
   ],
   "source": [
    "stop_name = \"Gießen Behördenzentrum\"\n",
    "stops[stops.stop_name.str.contains(stop_name)]\n",
    "\n",
    "getN(stop_name, 20211005, zf)"
   ]
  },
  {
   "cell_type": "code",
   "execution_count": 318,
   "id": "810902e9-3b5f-4956-ab5c-d9d7125f450e",
   "metadata": {},
   "outputs": [
    {
     "name": "stdout",
     "output_type": "stream",
     "text": [
      "['de:06531:19222:1:1', 'de:06531:19222:2:2']\n",
      "\t...reading stop_times\n",
      "\t......filtering stops\n"
     ]
    },
    {
     "name": "stderr",
     "output_type": "stream",
     "text": [
      "/opt/tljh/user/lib/python3.7/site-packages/ipykernel_launcher.py:5: DtypeWarning: Columns (7) have mixed types.Specify dtype option on import or set low_memory=False.\n",
      "  \"\"\"\n"
     ]
    },
    {
     "name": "stdout",
     "output_type": "stream",
     "text": [
      "\t...reading trips\n",
      "\t... 1641730\n"
     ]
    },
    {
     "data": {
      "text/plain": [
       "207"
      ]
     },
     "execution_count": 318,
     "metadata": {},
     "output_type": "execute_result"
    }
   ],
   "source": [
    "stops[stops.stop_name.str.contains(\"Gießen Graudenzer\")]\n",
    "\n",
    "getN(\"Gießen Graudenzer\", 20211005,zf)"
   ]
  },
  {
   "cell_type": "code",
   "execution_count": 319,
   "id": "d623e264-0d5e-47da-bbef-a130f3ad338e",
   "metadata": {},
   "outputs": [
    {
     "name": "stdout",
     "output_type": "stream",
     "text": [
      "['de:08221:1223:0:RiO', 'de:08221:1223:0:RiW']\n",
      "\t...reading stop_times\n",
      "\t......filtering stops\n"
     ]
    },
    {
     "name": "stderr",
     "output_type": "stream",
     "text": [
      "/opt/tljh/user/lib/python3.7/site-packages/ipykernel_launcher.py:5: DtypeWarning: Columns (7) have mixed types.Specify dtype option on import or set low_memory=False.\n",
      "  \"\"\"\n"
     ]
    },
    {
     "name": "stdout",
     "output_type": "stream",
     "text": [
      "\t...reading trips\n",
      "\t... 1641730\n"
     ]
    },
    {
     "data": {
      "text/plain": [
       "200"
      ]
     },
     "execution_count": 319,
     "metadata": {},
     "output_type": "execute_result"
    }
   ],
   "source": [
    "stops[stops.stop_name.str.contains(\"Alte Brücke Nord\")]\n",
    "\n",
    "getN(\"Alte Brücke Nord\", 20211005,zf)"
   ]
  },
  {
   "cell_type": "code",
   "execution_count": 320,
   "id": "8e415a8a-7fa4-4294-9a04-dba22617353b",
   "metadata": {},
   "outputs": [
    {
     "name": "stdout",
     "output_type": "stream",
     "text": [
      "['de:08221:1263:1:TrRiN', 'de:08221:1263:1:TrRiS', 'de:08221:1263:2:Bus']\n",
      "\t...reading stop_times\n",
      "\t......filtering stops\n"
     ]
    },
    {
     "name": "stderr",
     "output_type": "stream",
     "text": [
      "/opt/tljh/user/lib/python3.7/site-packages/ipykernel_launcher.py:5: DtypeWarning: Columns (7) have mixed types.Specify dtype option on import or set low_memory=False.\n",
      "  \"\"\"\n"
     ]
    },
    {
     "name": "stdout",
     "output_type": "stream",
     "text": [
      "\t...reading trips\n",
      "\t... 1641730\n"
     ]
    },
    {
     "data": {
      "text/plain": [
       "413"
      ]
     },
     "execution_count": 320,
     "metadata": {},
     "output_type": "execute_result"
    }
   ],
   "source": [
    "stop_name = \"Rohrbach, Eichendorffplatz\"\n",
    "stops[stops.stop_name.str.contains(stop_name)]\n",
    "\n",
    "getN(stop_name, 20211005,zf)"
   ]
  },
  {
   "cell_type": "code",
   "execution_count": 321,
   "id": "9a3478f1-388e-4244-84b0-02123e3b36d3",
   "metadata": {},
   "outputs": [
    {
     "name": "stdout",
     "output_type": "stream",
     "text": [
      "['de:15003:5255::01', 'de:15003:5255::02']\n",
      "\t...reading stop_times\n",
      "\t......filtering stops\n"
     ]
    },
    {
     "name": "stderr",
     "output_type": "stream",
     "text": [
      "/opt/tljh/user/lib/python3.7/site-packages/ipykernel_launcher.py:5: DtypeWarning: Columns (7) have mixed types.Specify dtype option on import or set low_memory=False.\n",
      "  \"\"\"\n"
     ]
    },
    {
     "name": "stdout",
     "output_type": "stream",
     "text": [
      "\t...reading trips\n",
      "\t... 1641730\n"
     ]
    },
    {
     "data": {
      "text/plain": [
       "260"
      ]
     },
     "execution_count": 321,
     "metadata": {},
     "output_type": "execute_result"
    }
   ],
   "source": [
    "stop_name = \"Goldschmiedebrücke\"\n",
    "stops[stops.stop_name.str.contains(stop_name)]\n",
    "\n",
    "getN(stop_name, 20211005,zf)"
   ]
  },
  {
   "cell_type": "code",
   "execution_count": 322,
   "id": "592dfdc5-68e8-4753-bbe5-a624eae72ee3",
   "metadata": {},
   "outputs": [
    {
     "name": "stdout",
     "output_type": "stream",
     "text": [
      "['de:15003:7316::01', 'de:15003:7316::02']\n",
      "\t...reading stop_times\n",
      "\t......filtering stops\n"
     ]
    },
    {
     "name": "stderr",
     "output_type": "stream",
     "text": [
      "/opt/tljh/user/lib/python3.7/site-packages/ipykernel_launcher.py:5: DtypeWarning: Columns (7) have mixed types.Specify dtype option on import or set low_memory=False.\n",
      "  \"\"\"\n"
     ]
    },
    {
     "name": "stdout",
     "output_type": "stream",
     "text": [
      "\t...reading trips\n",
      "\t... 1641730\n"
     ]
    },
    {
     "data": {
      "text/plain": [
       "207"
      ]
     },
     "execution_count": 322,
     "metadata": {},
     "output_type": "execute_result"
    }
   ],
   "source": [
    "stop_name = \"Magdeburg, Flechtinger\"\n",
    "stops[stops.stop_name.str.contains(stop_name)]\n",
    "\n",
    "getN(stop_name, 20211005,zf)"
   ]
  },
  {
   "cell_type": "markdown",
   "id": "cee2fcd1-07f9-4658-8a9e-15dc8dbbba47",
   "metadata": {
    "jp-MarkdownHeadingCollapsed": true,
    "tags": []
   },
   "source": [
    "## Brosi 2020"
   ]
  },
  {
   "cell_type": "code",
   "execution_count": 303,
   "id": "61c4e7c8-6a7b-4054-9399-d417003f9e5a",
   "metadata": {},
   "outputs": [],
   "source": [
    "# Welches Jahr?\n",
    "jahr = \"2020\"\n",
    "# Welcher Zip?\n",
    "zipname = \"2020_reissue_2\"\n",
    "# Welche Routenreferenz? (im raw-directory)\n",
    "\n",
    "# define paths\n",
    "\n",
    "# constructed paths\n",
    "# rawdir = workingdir + \"raw/\"\n",
    "rawdir = workingdir + \"raw/\"\n",
    "rawdatadir = rawdir + \"gtfs/\" + jahr + \"/\"\n",
    "#inpath = \"{0}{1}_{2}.db\".format(rawdatadir,jahr,datum)\n",
    "zippath = rawdatadir + zipname + \".zip\"\n",
    "\n",
    "\n",
    "# set up zip file as default for functions\n",
    "zf = zipfile.ZipFile(zippath) # this is the raw stuff\n",
    "# stops as reference for finding individual stations\n",
    "stops = pd.read_csv(zf.open(\"stops.txt\"))"
   ]
  },
  {
   "cell_type": "code",
   "execution_count": 305,
   "id": "fac690e2-b90c-4112-b54a-d8d61520aec8",
   "metadata": {},
   "outputs": [
    {
     "name": "stdout",
     "output_type": "stream",
     "text": [
      "[552828, 509957, 440391, 506192]\n",
      "\t...reading stop_times\n",
      "\t......filtering stops\n"
     ]
    },
    {
     "name": "stderr",
     "output_type": "stream",
     "text": [
      "/opt/tljh/user/lib/python3.7/site-packages/ipykernel_launcher.py:5: DtypeWarning: Columns (5) have mixed types.Specify dtype option on import or set low_memory=False.\n",
      "  \"\"\"\n"
     ]
    },
    {
     "name": "stdout",
     "output_type": "stream",
     "text": [
      "\t...reading trips\n",
      "\t... 3517922\n"
     ]
    },
    {
     "data": {
      "text/plain": [
       "168"
      ]
     },
     "execution_count": 305,
     "metadata": {},
     "output_type": "execute_result"
    }
   ],
   "source": [
    "stop_name = \"Gießen Behördenzentrum\"\n",
    "stops[stops.stop_name.str.contains(stop_name)]\n",
    "\n",
    "getN(stop_name, 20201006, zf)"
   ]
  },
  {
   "cell_type": "code",
   "execution_count": 306,
   "id": "062ce304-3dcc-4ce7-9485-279d891d85cf",
   "metadata": {},
   "outputs": [
    {
     "name": "stdout",
     "output_type": "stream",
     "text": [
      "[691820, 371615, 194474]\n",
      "\t...reading stop_times\n",
      "\t......filtering stops\n"
     ]
    },
    {
     "name": "stderr",
     "output_type": "stream",
     "text": [
      "/opt/tljh/user/lib/python3.7/site-packages/ipykernel_launcher.py:5: DtypeWarning: Columns (5) have mixed types.Specify dtype option on import or set low_memory=False.\n",
      "  \"\"\"\n"
     ]
    },
    {
     "name": "stdout",
     "output_type": "stream",
     "text": [
      "\t...reading trips\n",
      "\t... 3517922\n"
     ]
    },
    {
     "data": {
      "text/plain": [
       "81"
      ]
     },
     "execution_count": 306,
     "metadata": {},
     "output_type": "execute_result"
    }
   ],
   "source": [
    "stops[stops.stop_name.str.contains(\"Gießen Graudenzer\")]\n",
    "\n",
    "getN(\"Gießen Graudenzer\", 20201006, zf)"
   ]
  },
  {
   "cell_type": "code",
   "execution_count": 307,
   "id": "7a8f702b-c58a-4d2b-ad89-0e4fa6c71d4b",
   "metadata": {},
   "outputs": [
    {
     "name": "stdout",
     "output_type": "stream",
     "text": [
      "[259794, 198339, 612391]\n",
      "\t...reading stop_times\n",
      "\t......filtering stops\n"
     ]
    },
    {
     "name": "stderr",
     "output_type": "stream",
     "text": [
      "/opt/tljh/user/lib/python3.7/site-packages/ipykernel_launcher.py:5: DtypeWarning: Columns (5) have mixed types.Specify dtype option on import or set low_memory=False.\n",
      "  \"\"\"\n"
     ]
    },
    {
     "name": "stdout",
     "output_type": "stream",
     "text": [
      "\t...reading trips\n",
      "\t... 3517922\n"
     ]
    },
    {
     "data": {
      "text/plain": [
       "264"
      ]
     },
     "execution_count": 307,
     "metadata": {},
     "output_type": "execute_result"
    }
   ],
   "source": [
    "stops[stops.stop_name.str.contains(\"Alte Brücke Nord\")]\n",
    "\n",
    "getN(\"Alte Brücke Nord\", 20201006, zf)"
   ]
  },
  {
   "cell_type": "code",
   "execution_count": 308,
   "id": "08ce99ba-1cdd-438d-bcc9-79e8578f494b",
   "metadata": {},
   "outputs": [
    {
     "name": "stdout",
     "output_type": "stream",
     "text": [
      "[445957, 435869, 237754, 96346]\n",
      "\t...reading stop_times\n",
      "\t......filtering stops\n"
     ]
    },
    {
     "name": "stderr",
     "output_type": "stream",
     "text": [
      "/opt/tljh/user/lib/python3.7/site-packages/ipykernel_launcher.py:5: DtypeWarning: Columns (5) have mixed types.Specify dtype option on import or set low_memory=False.\n",
      "  \"\"\"\n"
     ]
    },
    {
     "name": "stdout",
     "output_type": "stream",
     "text": [
      "\t...reading trips\n",
      "\t... 3517922\n"
     ]
    },
    {
     "data": {
      "text/plain": [
       "913"
      ]
     },
     "execution_count": 308,
     "metadata": {},
     "output_type": "execute_result"
    }
   ],
   "source": [
    "stop_name = \"Rohrbach, Eichendorffplatz\"\n",
    "stops[stops.stop_name.str.contains(stop_name)]\n",
    "\n",
    "getN(stop_name, 20201006, zf)"
   ]
  },
  {
   "cell_type": "code",
   "execution_count": 309,
   "id": "5c638270-9b8d-4efe-9126-eabef5bf5568",
   "metadata": {},
   "outputs": [
    {
     "name": "stdout",
     "output_type": "stream",
     "text": [
      "[82973, 90365]\n",
      "\t...reading stop_times\n",
      "\t......filtering stops\n"
     ]
    },
    {
     "name": "stderr",
     "output_type": "stream",
     "text": [
      "/opt/tljh/user/lib/python3.7/site-packages/ipykernel_launcher.py:5: DtypeWarning: Columns (5) have mixed types.Specify dtype option on import or set low_memory=False.\n",
      "  \"\"\"\n"
     ]
    },
    {
     "name": "stdout",
     "output_type": "stream",
     "text": [
      "\t...reading trips\n",
      "\t... 3517922\n"
     ]
    },
    {
     "data": {
      "text/plain": [
       "1464"
      ]
     },
     "execution_count": 309,
     "metadata": {},
     "output_type": "execute_result"
    }
   ],
   "source": [
    "stop_name = \"Goldschmiedebrücke\"\n",
    "stops[stops.stop_name.str.contains(stop_name)]\n",
    "\n",
    "getN(stop_name, 20201006, zf)"
   ]
  },
  {
   "cell_type": "code",
   "execution_count": 310,
   "id": "539386f1-479b-487d-8a86-4aa80ba20c08",
   "metadata": {},
   "outputs": [
    {
     "name": "stdout",
     "output_type": "stream",
     "text": [
      "[407241, 643049, 757513]\n",
      "\t...reading stop_times\n",
      "\t......filtering stops\n"
     ]
    },
    {
     "name": "stderr",
     "output_type": "stream",
     "text": [
      "/opt/tljh/user/lib/python3.7/site-packages/ipykernel_launcher.py:5: DtypeWarning: Columns (5) have mixed types.Specify dtype option on import or set low_memory=False.\n",
      "  \"\"\"\n"
     ]
    },
    {
     "name": "stdout",
     "output_type": "stream",
     "text": [
      "\t...reading trips\n",
      "\t... 3517922\n"
     ]
    },
    {
     "data": {
      "text/plain": [
       "1068"
      ]
     },
     "execution_count": 310,
     "metadata": {},
     "output_type": "execute_result"
    }
   ],
   "source": [
    "stop_name = \"Flechtinger Stra\"\n",
    "stops[stops.stop_name.str.contains(stop_name)]\n",
    "\n",
    "getN(stop_name, 20201006, zf)"
   ]
  },
  {
   "cell_type": "markdown",
   "id": "b2eda25f-d3f1-4cad-bf4e-b82adbe3e3e5",
   "metadata": {},
   "source": [
    "redo the rest quickly..."
   ]
  },
  {
   "cell_type": "code",
   "execution_count": 312,
   "id": "b0e91013-3382-48d6-aa71-ffb876f0888a",
   "metadata": {},
   "outputs": [
    {
     "name": "stdout",
     "output_type": "stream",
     "text": [
      "Gießen Behördenzentrum\n",
      "20200314\n",
      "[552828, 509957, 440391, 506192]\n",
      "\t...reading stop_times\n",
      "\t......filtering stops\n"
     ]
    },
    {
     "name": "stderr",
     "output_type": "stream",
     "text": [
      "/opt/tljh/user/lib/python3.7/site-packages/ipykernel_launcher.py:5: DtypeWarning: Columns (5) have mixed types.Specify dtype option on import or set low_memory=False.\n",
      "  \"\"\"\n"
     ]
    },
    {
     "name": "stdout",
     "output_type": "stream",
     "text": [
      "\t...reading trips\n",
      "\t... 3517922\n",
      "164\n",
      "20200520\n",
      "[552828, 509957, 440391, 506192]\n",
      "\t...reading stop_times\n",
      "\t......filtering stops\n",
      "\t...reading trips\n",
      "\t... 3517922\n",
      "164\n",
      "Gießen Graudenzer\n",
      "20200314\n",
      "[691820, 371615, 194474]\n",
      "\t...reading stop_times\n",
      "\t......filtering stops\n",
      "\t...reading trips\n",
      "\t... 3517922\n",
      "81\n",
      "20200520\n",
      "[691820, 371615, 194474]\n",
      "\t...reading stop_times\n",
      "\t......filtering stops\n",
      "\t...reading trips\n",
      "\t... 3517922\n",
      "81\n",
      "Alte Brücke Nord\n",
      "20200314\n",
      "[259794, 198339, 612391]\n",
      "\t...reading stop_times\n",
      "\t......filtering stops\n",
      "\t...reading trips\n",
      "\t... 3517922\n",
      "262\n",
      "20200520\n",
      "[259794, 198339, 612391]\n",
      "\t...reading stop_times\n",
      "\t......filtering stops\n",
      "\t...reading trips\n",
      "\t... 3517922\n",
      "262\n",
      "Rohrbach, Eichendorffplatz\n",
      "20200314\n",
      "[445957, 435869, 237754, 96346]\n",
      "\t...reading stop_times\n",
      "\t......filtering stops\n",
      "\t...reading trips\n",
      "\t... 3517922\n",
      "906\n",
      "20200520\n",
      "[445957, 435869, 237754, 96346]\n",
      "\t...reading stop_times\n",
      "\t......filtering stops\n",
      "\t...reading trips\n",
      "\t... 3517922\n",
      "913\n",
      "Goldschmiedebrücke\n",
      "20200314\n",
      "[82973, 90365]\n",
      "\t...reading stop_times\n",
      "\t......filtering stops\n",
      "\t...reading trips\n",
      "\t... 3517922\n",
      "1464\n",
      "20200520\n",
      "[82973, 90365]\n",
      "\t...reading stop_times\n",
      "\t......filtering stops\n",
      "\t...reading trips\n",
      "\t... 3517922\n",
      "1464\n",
      "Flechtinger Stra\n",
      "20200314\n",
      "[407241, 643049, 757513]\n",
      "\t...reading stop_times\n",
      "\t......filtering stops\n",
      "\t...reading trips\n",
      "\t... 3517922\n",
      "1068\n",
      "20200520\n",
      "[407241, 643049, 757513]\n",
      "\t...reading stop_times\n",
      "\t......filtering stops\n",
      "\t...reading trips\n",
      "\t... 3517922\n",
      "1068\n"
     ]
    }
   ],
   "source": [
    "for stop_name in [\"Gießen Behördenzentrum\", \"Gießen Graudenzer\", \"Alte Brücke Nord\",\n",
    "                  \"Rohrbach, Eichendorffplatz\", \"Goldschmiedebrücke\", \"Flechtinger Stra\"]:\n",
    "    print(stop_name)\n",
    "    for date in [20200314, 20200520]:\n",
    "        print(date)\n",
    "        print(getN(stop_name, date, zf))"
   ]
  },
  {
   "cell_type": "markdown",
   "id": "169391b4-dc0e-43f1-a229-61c508cf4453",
   "metadata": {
    "jp-MarkdownHeadingCollapsed": true,
    "tags": []
   },
   "source": [
    "## Brosi 2021"
   ]
  },
  {
   "cell_type": "code",
   "execution_count": 314,
   "id": "b84b0fcc-b128-46f3-aceb-2cf733521fe4",
   "metadata": {},
   "outputs": [],
   "source": [
    "# Welches Jahr?\n",
    "jahr = \"2021\"\n",
    "# Welcher Zip?\n",
    "zipname = \"2021_reissue_2\"\n",
    "# Welche Routenreferenz? (im raw-directory)\n",
    "\n",
    "# define paths\n",
    "\n",
    "# constructed paths\n",
    "# rawdir = workingdir + \"raw/\"\n",
    "rawdir = workingdir + \"raw/\"\n",
    "rawdatadir = rawdir + \"gtfs/\" + jahr + \"/\"\n",
    "#inpath = \"{0}{1}_{2}.db\".format(rawdatadir,jahr,datum)\n",
    "zippath = rawdatadir + zipname + \".zip\"\n",
    "\n",
    "\n",
    "# set up zip file as default for functions\n",
    "zf = zipfile.ZipFile(zippath) # this is the raw stuff\n",
    "# stops as reference for finding individual stations\n",
    "stops = pd.read_csv(zf.open(\"stops.txt\"))"
   ]
  },
  {
   "cell_type": "code",
   "execution_count": 315,
   "id": "26118702-adbb-4c9d-b183-9bd2025d342e",
   "metadata": {},
   "outputs": [
    {
     "name": "stdout",
     "output_type": "stream",
     "text": [
      "Gießen Behördenzentrum\n",
      "20210314\n",
      "[915763, 870579, 1036033, 814570, 209277]\n",
      "\t...reading stop_times\n",
      "\t......filtering stops\n"
     ]
    },
    {
     "name": "stderr",
     "output_type": "stream",
     "text": [
      "/opt/tljh/user/lib/python3.7/site-packages/ipykernel_launcher.py:5: DtypeWarning: Columns (5) have mixed types.Specify dtype option on import or set low_memory=False.\n",
      "  \"\"\"\n"
     ]
    },
    {
     "name": "stdout",
     "output_type": "stream",
     "text": [
      "\t...reading trips\n",
      "\t... 19617794\n",
      "444\n",
      "20210520\n",
      "[915763, 870579, 1036033, 814570, 209277]\n",
      "\t...reading stop_times\n",
      "\t......filtering stops\n",
      "\t...reading trips\n",
      "\t... 19617794\n",
      "525\n",
      "20211005\n",
      "[915763, 870579, 1036033, 814570, 209277]\n",
      "\t...reading stop_times\n",
      "\t......filtering stops\n",
      "\t...reading trips\n",
      "\t... 19617794\n",
      "448\n",
      "Gießen Graudenzer\n",
      "20210314\n",
      "[451984, 335280, 622431, 594632, 1016860]\n",
      "\t...reading stop_times\n",
      "\t......filtering stops\n",
      "\t...reading trips\n",
      "\t... 19617794\n",
      "166\n",
      "20210520\n",
      "[451984, 335280, 622431, 594632, 1016860]\n",
      "\t...reading stop_times\n",
      "\t......filtering stops\n",
      "\t...reading trips\n",
      "\t... 19617794\n",
      "196\n",
      "20211005\n",
      "[451984, 335280, 622431, 594632, 1016860]\n",
      "\t...reading stop_times\n",
      "\t......filtering stops\n",
      "\t...reading trips\n",
      "\t... 19617794\n",
      "166\n",
      "Alte Brücke Nord\n",
      "20210314\n",
      "[434412, 875600, 964303, 202356, 302426]\n",
      "\t...reading stop_times\n",
      "\t......filtering stops\n",
      "\t...reading trips\n",
      "\t... 19617794\n",
      "656\n",
      "20210520\n",
      "[434412, 875600, 964303, 202356, 302426]\n",
      "\t...reading stop_times\n",
      "\t......filtering stops\n",
      "\t...reading trips\n",
      "\t... 19617794\n",
      "742\n",
      "20211005\n",
      "[434412, 875600, 964303, 202356, 302426]\n",
      "\t...reading stop_times\n",
      "\t......filtering stops\n",
      "\t...reading trips\n",
      "\t... 19617794\n",
      "656\n",
      "Rohrbach, Eichendorffplatz\n",
      "20210314\n",
      "[1109618, 1000711, 103471, 669519, 1053265, 370225, 791967]\n",
      "\t...reading stop_times\n",
      "\t......filtering stops\n",
      "\t...reading trips\n",
      "\t... 19617794\n",
      "2871\n",
      "20210520\n",
      "[1109618, 1000711, 103471, 669519, 1053265, 370225, 791967]\n",
      "\t...reading stop_times\n",
      "\t......filtering stops\n",
      "\t...reading trips\n",
      "\t... 19617794\n",
      "3117\n",
      "20211005\n",
      "[1109618, 1000711, 103471, 669519, 1053265, 370225, 791967]\n",
      "\t...reading stop_times\n",
      "\t......filtering stops\n",
      "\t...reading trips\n",
      "\t... 19617794\n",
      "2871\n",
      "Goldschmiedebrücke\n",
      "20210314\n",
      "[806062, 216329]\n",
      "\t...reading stop_times\n",
      "\t......filtering stops\n",
      "\t...reading trips\n",
      "\t... 19617794\n",
      "1224\n",
      "20210520\n",
      "[806062, 216329]\n",
      "\t...reading stop_times\n",
      "\t......filtering stops\n",
      "\t...reading trips\n",
      "\t... 19617794\n",
      "1210\n",
      "20211005\n",
      "[806062, 216329]\n",
      "\t...reading stop_times\n",
      "\t......filtering stops\n",
      "\t...reading trips\n",
      "\t... 19617794\n",
      "1210\n",
      "Flechtinger Stra\n",
      "20210314\n",
      "[438663, 481510]\n",
      "\t...reading stop_times\n",
      "\t......filtering stops\n",
      "\t...reading trips\n",
      "\t... 19617794\n",
      "1041\n",
      "20210520\n",
      "[438663, 481510]\n",
      "\t...reading stop_times\n",
      "\t......filtering stops\n",
      "\t...reading trips\n",
      "\t... 19617794\n",
      "986\n",
      "20211005\n",
      "[438663, 481510]\n",
      "\t...reading stop_times\n",
      "\t......filtering stops\n",
      "\t...reading trips\n",
      "\t... 19617794\n",
      "986\n"
     ]
    }
   ],
   "source": [
    "for stop_name in [\"Gießen Behördenzentrum\", \"Gießen Graudenzer\", \"Alte Brücke Nord\",\n",
    "                  \"Rohrbach, Eichendorffplatz\", \"Goldschmiedebrücke\", \"Flechtinger Stra\"]:\n",
    "    print(stop_name)\n",
    "    for date in [20210314, 20210520, 20211005]:\n",
    "        print(date)\n",
    "        print(getN(stop_name, date, zf))"
   ]
  },
  {
   "cell_type": "markdown",
   "id": "d7002d5f-39b3-474a-9bd3-018084c27c7c",
   "metadata": {},
   "source": [
    "## Concept"
   ]
  },
  {
   "cell_type": "code",
   "execution_count": 223,
   "id": "82335dfc-c5f5-4229-bb69-e26c32c22275",
   "metadata": {},
   "outputs": [
    {
     "name": "stdout",
     "output_type": "stream",
     "text": [
      "\t...reading stop_times\n"
     ]
    },
    {
     "name": "stderr",
     "output_type": "stream",
     "text": [
      "/opt/tljh/user/lib/python3.7/site-packages/IPython/core/interactiveshell.py:3441: DtypeWarning: Columns (7) have mixed types.Specify dtype option on import or set low_memory=False.\n",
      "  exec(code_obj, self.user_global_ns, self.user_ns)\n"
     ]
    },
    {
     "ename": "ParserError",
     "evalue": "Error tokenizing data. C error: Calling read(nbytes) on source failed. Try engine='python'.",
     "output_type": "error",
     "traceback": [
      "\u001b[0;31m---------------------------------------------------------------------------\u001b[0m",
      "\u001b[0;31mParserError\u001b[0m                               Traceback (most recent call last)",
      "\u001b[0;32m/tmp/ipykernel_584536/1779976044.py\u001b[0m in \u001b[0;36m<module>\u001b[0;34m\u001b[0m\n\u001b[1;32m      3\u001b[0m \u001b[0mdate\u001b[0m \u001b[0;34m=\u001b[0m \u001b[0;36m20211005\u001b[0m\u001b[0;34m\u001b[0m\u001b[0;34m\u001b[0m\u001b[0m\n\u001b[1;32m      4\u001b[0m \u001b[0;34m\u001b[0m\u001b[0m\n\u001b[0;32m----> 5\u001b[0;31m \u001b[0mstop_times_df\u001b[0m \u001b[0;34m=\u001b[0m \u001b[0mreadStopTimes\u001b[0m\u001b[0;34m(\u001b[0m\u001b[0mstop_ids\u001b[0m\u001b[0;34m=\u001b[0m\u001b[0mstop_ids\u001b[0m\u001b[0;34m)\u001b[0m\u001b[0;34m\u001b[0m\u001b[0;34m\u001b[0m\u001b[0m\n\u001b[0m\u001b[1;32m      6\u001b[0m \u001b[0;34m\u001b[0m\u001b[0m\n\u001b[1;32m      7\u001b[0m \u001b[0mstop_trips\u001b[0m \u001b[0;34m=\u001b[0m \u001b[0mpd\u001b[0m\u001b[0;34m.\u001b[0m\u001b[0mmerge\u001b[0m\u001b[0;34m(\u001b[0m\u001b[0mstop_times_df\u001b[0m\u001b[0;34m,\u001b[0m \u001b[0mreadTrips\u001b[0m\u001b[0;34m(\u001b[0m\u001b[0mzf\u001b[0m\u001b[0;34m=\u001b[0m\u001b[0mzf\u001b[0m\u001b[0;34m)\u001b[0m\u001b[0;34m,\u001b[0m \u001b[0mhow\u001b[0m\u001b[0;34m=\u001b[0m\u001b[0;34m\"left\"\u001b[0m\u001b[0;34m)\u001b[0m\u001b[0;34m\u001b[0m\u001b[0;34m\u001b[0m\u001b[0m\n",
      "\u001b[0;32m/tmp/ipykernel_584536/2515225708.py\u001b[0m in \u001b[0;36mreadStopTimes\u001b[0;34m(trips_df, stop_ids, zf)\u001b[0m\n\u001b[1;32m     10\u001b[0m \u001b[0;34m\u001b[0m\u001b[0m\n\u001b[1;32m     11\u001b[0m     \u001b[0mresult_df\u001b[0m \u001b[0;34m=\u001b[0m \u001b[0mpd\u001b[0m\u001b[0;34m.\u001b[0m\u001b[0mDataFrame\u001b[0m\u001b[0;34m(\u001b[0m\u001b[0;34m)\u001b[0m\u001b[0;34m\u001b[0m\u001b[0;34m\u001b[0m\u001b[0m\n\u001b[0;32m---> 12\u001b[0;31m     \u001b[0;32mfor\u001b[0m \u001b[0mdf\u001b[0m \u001b[0;32min\u001b[0m \u001b[0mpd\u001b[0m\u001b[0;34m.\u001b[0m\u001b[0mread_csv\u001b[0m\u001b[0;34m(\u001b[0m\u001b[0mzf\u001b[0m\u001b[0;34m.\u001b[0m\u001b[0mopen\u001b[0m\u001b[0;34m(\u001b[0m\u001b[0;34m\"stop_times.txt\"\u001b[0m\u001b[0;34m)\u001b[0m\u001b[0;34m,\u001b[0m \u001b[0mchunksize\u001b[0m\u001b[0;34m=\u001b[0m\u001b[0mchunksize\u001b[0m\u001b[0;34m,\u001b[0m \u001b[0miterator\u001b[0m\u001b[0;34m=\u001b[0m\u001b[0;32mTrue\u001b[0m\u001b[0;34m,\u001b[0m \u001b[0mencoding\u001b[0m\u001b[0;34m=\u001b[0m\u001b[0;34m'utf-8'\u001b[0m\u001b[0;34m)\u001b[0m\u001b[0;34m:\u001b[0m\u001b[0;34m\u001b[0m\u001b[0;34m\u001b[0m\u001b[0m\n\u001b[0m\u001b[1;32m     13\u001b[0m         \u001b[0;31m# just keeping track...\u001b[0m\u001b[0;34m\u001b[0m\u001b[0;34m\u001b[0m\u001b[0;34m\u001b[0m\u001b[0m\n\u001b[1;32m     14\u001b[0m         \u001b[0mj\u001b[0m\u001b[0;34m+=\u001b[0m\u001b[0;36m1\u001b[0m\u001b[0;34m\u001b[0m\u001b[0;34m\u001b[0m\u001b[0m\n",
      "\u001b[0;32m/opt/tljh/user/lib/python3.7/site-packages/pandas/io/parsers/readers.py\u001b[0m in \u001b[0;36m__next__\u001b[0;34m(self)\u001b[0m\n\u001b[1;32m   1022\u001b[0m     \u001b[0;32mdef\u001b[0m \u001b[0m__next__\u001b[0m\u001b[0;34m(\u001b[0m\u001b[0mself\u001b[0m\u001b[0;34m)\u001b[0m\u001b[0;34m:\u001b[0m\u001b[0;34m\u001b[0m\u001b[0;34m\u001b[0m\u001b[0m\n\u001b[1;32m   1023\u001b[0m         \u001b[0;32mtry\u001b[0m\u001b[0;34m:\u001b[0m\u001b[0;34m\u001b[0m\u001b[0;34m\u001b[0m\u001b[0m\n\u001b[0;32m-> 1024\u001b[0;31m             \u001b[0;32mreturn\u001b[0m \u001b[0mself\u001b[0m\u001b[0;34m.\u001b[0m\u001b[0mget_chunk\u001b[0m\u001b[0;34m(\u001b[0m\u001b[0;34m)\u001b[0m\u001b[0;34m\u001b[0m\u001b[0;34m\u001b[0m\u001b[0m\n\u001b[0m\u001b[1;32m   1025\u001b[0m         \u001b[0;32mexcept\u001b[0m \u001b[0mStopIteration\u001b[0m\u001b[0;34m:\u001b[0m\u001b[0;34m\u001b[0m\u001b[0;34m\u001b[0m\u001b[0m\n\u001b[1;32m   1026\u001b[0m             \u001b[0mself\u001b[0m\u001b[0;34m.\u001b[0m\u001b[0mclose\u001b[0m\u001b[0;34m(\u001b[0m\u001b[0;34m)\u001b[0m\u001b[0;34m\u001b[0m\u001b[0;34m\u001b[0m\u001b[0m\n",
      "\u001b[0;32m/opt/tljh/user/lib/python3.7/site-packages/pandas/io/parsers/readers.py\u001b[0m in \u001b[0;36mget_chunk\u001b[0;34m(self, size)\u001b[0m\n\u001b[1;32m   1072\u001b[0m                 \u001b[0;32mraise\u001b[0m \u001b[0mStopIteration\u001b[0m\u001b[0;34m\u001b[0m\u001b[0;34m\u001b[0m\u001b[0m\n\u001b[1;32m   1073\u001b[0m             \u001b[0msize\u001b[0m \u001b[0;34m=\u001b[0m \u001b[0mmin\u001b[0m\u001b[0;34m(\u001b[0m\u001b[0msize\u001b[0m\u001b[0;34m,\u001b[0m \u001b[0mself\u001b[0m\u001b[0;34m.\u001b[0m\u001b[0mnrows\u001b[0m \u001b[0;34m-\u001b[0m \u001b[0mself\u001b[0m\u001b[0;34m.\u001b[0m\u001b[0m_currow\u001b[0m\u001b[0;34m)\u001b[0m\u001b[0;34m\u001b[0m\u001b[0;34m\u001b[0m\u001b[0m\n\u001b[0;32m-> 1074\u001b[0;31m         \u001b[0;32mreturn\u001b[0m \u001b[0mself\u001b[0m\u001b[0;34m.\u001b[0m\u001b[0mread\u001b[0m\u001b[0;34m(\u001b[0m\u001b[0mnrows\u001b[0m\u001b[0;34m=\u001b[0m\u001b[0msize\u001b[0m\u001b[0;34m)\u001b[0m\u001b[0;34m\u001b[0m\u001b[0;34m\u001b[0m\u001b[0m\n\u001b[0m\u001b[1;32m   1075\u001b[0m \u001b[0;34m\u001b[0m\u001b[0m\n\u001b[1;32m   1076\u001b[0m     \u001b[0;32mdef\u001b[0m \u001b[0m__enter__\u001b[0m\u001b[0;34m(\u001b[0m\u001b[0mself\u001b[0m\u001b[0;34m)\u001b[0m\u001b[0;34m:\u001b[0m\u001b[0;34m\u001b[0m\u001b[0;34m\u001b[0m\u001b[0m\n",
      "\u001b[0;32m/opt/tljh/user/lib/python3.7/site-packages/pandas/io/parsers/readers.py\u001b[0m in \u001b[0;36mread\u001b[0;34m(self, nrows)\u001b[0m\n\u001b[1;32m   1045\u001b[0m     \u001b[0;32mdef\u001b[0m \u001b[0mread\u001b[0m\u001b[0;34m(\u001b[0m\u001b[0mself\u001b[0m\u001b[0;34m,\u001b[0m \u001b[0mnrows\u001b[0m\u001b[0;34m=\u001b[0m\u001b[0;32mNone\u001b[0m\u001b[0;34m)\u001b[0m\u001b[0;34m:\u001b[0m\u001b[0;34m\u001b[0m\u001b[0;34m\u001b[0m\u001b[0m\n\u001b[1;32m   1046\u001b[0m         \u001b[0mnrows\u001b[0m \u001b[0;34m=\u001b[0m \u001b[0mvalidate_integer\u001b[0m\u001b[0;34m(\u001b[0m\u001b[0;34m\"nrows\"\u001b[0m\u001b[0;34m,\u001b[0m \u001b[0mnrows\u001b[0m\u001b[0;34m)\u001b[0m\u001b[0;34m\u001b[0m\u001b[0;34m\u001b[0m\u001b[0m\n\u001b[0;32m-> 1047\u001b[0;31m         \u001b[0mindex\u001b[0m\u001b[0;34m,\u001b[0m \u001b[0mcolumns\u001b[0m\u001b[0;34m,\u001b[0m \u001b[0mcol_dict\u001b[0m \u001b[0;34m=\u001b[0m \u001b[0mself\u001b[0m\u001b[0;34m.\u001b[0m\u001b[0m_engine\u001b[0m\u001b[0;34m.\u001b[0m\u001b[0mread\u001b[0m\u001b[0;34m(\u001b[0m\u001b[0mnrows\u001b[0m\u001b[0;34m)\u001b[0m\u001b[0;34m\u001b[0m\u001b[0;34m\u001b[0m\u001b[0m\n\u001b[0m\u001b[1;32m   1048\u001b[0m \u001b[0;34m\u001b[0m\u001b[0m\n\u001b[1;32m   1049\u001b[0m         \u001b[0;32mif\u001b[0m \u001b[0mindex\u001b[0m \u001b[0;32mis\u001b[0m \u001b[0;32mNone\u001b[0m\u001b[0;34m:\u001b[0m\u001b[0;34m\u001b[0m\u001b[0;34m\u001b[0m\u001b[0m\n",
      "\u001b[0;32m/opt/tljh/user/lib/python3.7/site-packages/pandas/io/parsers/c_parser_wrapper.py\u001b[0m in \u001b[0;36mread\u001b[0;34m(self, nrows)\u001b[0m\n\u001b[1;32m    221\u001b[0m         \u001b[0;32mtry\u001b[0m\u001b[0;34m:\u001b[0m\u001b[0;34m\u001b[0m\u001b[0;34m\u001b[0m\u001b[0m\n\u001b[1;32m    222\u001b[0m             \u001b[0;32mif\u001b[0m \u001b[0mself\u001b[0m\u001b[0;34m.\u001b[0m\u001b[0mlow_memory\u001b[0m\u001b[0;34m:\u001b[0m\u001b[0;34m\u001b[0m\u001b[0;34m\u001b[0m\u001b[0m\n\u001b[0;32m--> 223\u001b[0;31m                 \u001b[0mchunks\u001b[0m \u001b[0;34m=\u001b[0m \u001b[0mself\u001b[0m\u001b[0;34m.\u001b[0m\u001b[0m_reader\u001b[0m\u001b[0;34m.\u001b[0m\u001b[0mread_low_memory\u001b[0m\u001b[0;34m(\u001b[0m\u001b[0mnrows\u001b[0m\u001b[0;34m)\u001b[0m\u001b[0;34m\u001b[0m\u001b[0;34m\u001b[0m\u001b[0m\n\u001b[0m\u001b[1;32m    224\u001b[0m                 \u001b[0;31m# destructive to chunks\u001b[0m\u001b[0;34m\u001b[0m\u001b[0;34m\u001b[0m\u001b[0;34m\u001b[0m\u001b[0m\n\u001b[1;32m    225\u001b[0m                 \u001b[0mdata\u001b[0m \u001b[0;34m=\u001b[0m \u001b[0m_concatenate_chunks\u001b[0m\u001b[0;34m(\u001b[0m\u001b[0mchunks\u001b[0m\u001b[0;34m)\u001b[0m\u001b[0;34m\u001b[0m\u001b[0;34m\u001b[0m\u001b[0m\n",
      "\u001b[0;32m/opt/tljh/user/lib/python3.7/site-packages/pandas/_libs/parsers.pyx\u001b[0m in \u001b[0;36mpandas._libs.parsers.TextReader.read_low_memory\u001b[0;34m()\u001b[0m\n",
      "\u001b[0;32m/opt/tljh/user/lib/python3.7/site-packages/pandas/_libs/parsers.pyx\u001b[0m in \u001b[0;36mpandas._libs.parsers.TextReader._read_rows\u001b[0;34m()\u001b[0m\n",
      "\u001b[0;32m/opt/tljh/user/lib/python3.7/site-packages/pandas/_libs/parsers.pyx\u001b[0m in \u001b[0;36mpandas._libs.parsers.TextReader._tokenize_rows\u001b[0;34m()\u001b[0m\n",
      "\u001b[0;32m/opt/tljh/user/lib/python3.7/site-packages/pandas/_libs/parsers.pyx\u001b[0m in \u001b[0;36mpandas._libs.parsers.raise_parser_error\u001b[0;34m()\u001b[0m\n",
      "\u001b[0;31mParserError\u001b[0m: Error tokenizing data. C error: Calling read(nbytes) on source failed. Try engine='python'."
     ]
    }
   ],
   "source": [
    "stops[stops.stop_name.str.contains(\"Goldschmiedebrücke\")]\n",
    "stop_ids = list(stops[stops.stop_name.str.contains(\"Goldschmiedebrücke\")].stop_id)\n",
    "date = 20201006\n",
    "\n",
    "stop_times_df = readStopTimes(stop_ids=stop_ids)\n",
    "\n",
    "stop_trips = pd.merge(stop_times_df, readTrips(zf=zf), how=\"left\")\n",
    "stop_calendar = stop_trips.merge(pd.read_csv(zf.open(\"calendar.txt\")), on=\"service_id\", how=\"left\")\n",
    "stop_calendar = stop_calendar[stop_calendar.tuesday==1 & (date >= stop_calendar.start_date) & (date <= stop_calendar.end_date)]\n",
    "len(stop_calendar)\n",
    "\n",
    "stop_exceptions = stop_trips.merge(pd.read_csv(zf.open(\"calendar_dates.txt\")), on=\"service_id\", how=\"left\")\n",
    "stop_exceptions = stop_exceptions[stop_exceptions.date==date]\n",
    "sum(stop_exceptions.exception_type==1) - sum(stop_exceptions.exception_type==2)\n",
    "\n"
   ]
  },
  {
   "cell_type": "code",
   "execution_count": 283,
   "id": "347a7eb0-39ba-43f5-b30c-66edf335f7b0",
   "metadata": {},
   "outputs": [],
   "source": [
    "reader = pd.read_csv(zf.open(\"stop_times.txt\"), chunksize=200000, iterator=True, encoding='utf-8')\n",
    "\n",
    "pd.concat([r[r.stop_id.isin(stop_ids)] for r in reader])"
   ]
  },
  {
   "cell_type": "code",
   "execution_count": null,
   "id": "bf65254f-a59c-40ad-a736-0d6313b102ae",
   "metadata": {},
   "outputs": [],
   "source": []
  }
 ],
 "metadata": {
  "kernelspec": {
   "display_name": "Python 3",
   "language": "python",
   "name": "python3"
  },
  "language_info": {
   "codemirror_mode": {
    "name": "ipython",
    "version": 3
   },
   "file_extension": ".py",
   "mimetype": "text/x-python",
   "name": "python",
   "nbconvert_exporter": "python",
   "pygments_lexer": "ipython3",
   "version": "3.9.5"
  }
 },
 "nbformat": 4,
 "nbformat_minor": 5
}
