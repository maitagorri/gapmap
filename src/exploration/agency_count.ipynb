{
 "cells": [
  {
   "cell_type": "markdown",
   "id": "ccc34a87-e64c-475b-9acd-64a0ae922d09",
   "metadata": {},
   "source": [
    "For an existing database, gets the counts of departures per agency."
   ]
  },
  {
   "cell_type": "code",
   "execution_count": 2,
   "id": "c348b1d4-7a42-43dd-b78f-a89eecd1803a",
   "metadata": {},
   "outputs": [],
   "source": [
    "# load libraries\n",
    "import pandas as pd\n",
    "import datetime as dt\n",
    "from sqlalchemy import create_engine, text\n",
    "import zipfile"
   ]
  },
  {
   "cell_type": "code",
   "execution_count": 3,
   "id": "551ce62b-efa0-4bb9-bd4b-a4c15ac83a14",
   "metadata": {},
   "outputs": [],
   "source": [
    "# Welcher Zip?\n",
    "source = \"delfi\" # where is the feed file? delfi or gtfs.de?\n",
    "zipname = '20220425_fahrplaene_gesamtdeutschland_gtfs' # name of GTFS zipfile\n",
    "# define paths\n",
    "\n",
    "workingdir = \"../../data/interim/\" "
   ]
  },
  {
   "cell_type": "code",
   "execution_count": 4,
   "id": "4a3aa9a6-09d4-4705-910d-359e0fe69b32",
   "metadata": {},
   "outputs": [],
   "source": [
    "# choose file-based output connection\n",
    "dbpath = '{0}{1}.db'.format(workingdir,zipname)\n",
    "# set up DB connection\n",
    "db = create_engine('sqlite:///' + dbpath)"
   ]
  },
  {
   "cell_type": "code",
   "execution_count": 19,
   "id": "c8a2457f-19dd-48ed-b98f-5c4597c95172",
   "metadata": {},
   "outputs": [],
   "source": [
    "# Get stuff from zip\n",
    "zippath = \"../../data/raw/delfi/\" + zipname + \".zip\"\n",
    "\n",
    "# set up zip file as default for functions\n",
    "zf = zipfile.ZipFile(zippath) # this is the raw stuff\n",
    "\n",
    "# load things\n",
    "calendar_df = pd.read_csv(zf.open(\"calendar.txt\"))\n",
    "calendar_dates_df = pd.read_csv(zf.open(\"calendar_dates.txt\"))\n",
    "agency_df = pd.read_csv(zf.open(\"agency.txt\"))"
   ]
  },
  {
   "cell_type": "code",
   "execution_count": 26,
   "id": "4117a313-fbf2-4215-bbf0-04d57b6991b2",
   "metadata": {},
   "outputs": [
    {
     "name": "stdout",
     "output_type": "stream",
     "text": [
      "2022-07-26 11:55:08.268311\n",
      "CPU times: user 1min 11s, sys: 8.05 s, total: 1min 19s\n",
      "Wall time: 1min 24s\n"
     ]
    }
   ],
   "source": [
    "%%time\n",
    "print(dt.datetime.now())\n",
    "agency_count_df = pd.read_sql_query(\n",
    "    'SELECT routes.agency_id, SUM(n) AS n '\n",
    "    # 'SELECT agency.agency_id, agency.agency_name, SUM(n) AS n '\n",
    "    'FROM routes '\n",
    "    'LEFT JOIN ( '\n",
    "        'SELECT trips.trip_id, trips.route_id, SUM(days_count) AS n '\n",
    "        'FROM trips '\n",
    "        'LEFT JOIN stop_times ON trips.trip_id = stop_times.trip_id '\n",
    "        'LEFT JOIN calendar ON trips.service_id = calendar.service_id '\n",
    "        'GROUP BY trips.trip_id '\n",
    "    ') as trip_counts '\n",
    "    'ON trip_counts.route_id = routes.route_id '\n",
    "    'GROUP BY routes.agency_id',\n",
    "#    'RIGHT JOIN agency ON routes.agency_id = agency.agency_id '\n",
    "#    'GROUP BY agency.agency_id ',\n",
    "    db\n",
    ")\n",
    "   "
   ]
  },
  {
   "cell_type": "code",
   "execution_count": 27,
   "id": "2586e141-d9f4-47d8-996d-f1c55dd2d885",
   "metadata": {},
   "outputs": [
    {
     "data": {
      "text/html": [
       "<div>\n",
       "<style scoped>\n",
       "    .dataframe tbody tr th:only-of-type {\n",
       "        vertical-align: middle;\n",
       "    }\n",
       "\n",
       "    .dataframe tbody tr th {\n",
       "        vertical-align: top;\n",
       "    }\n",
       "\n",
       "    .dataframe thead th {\n",
       "        text-align: right;\n",
       "    }\n",
       "</style>\n",
       "<table border=\"1\" class=\"dataframe\">\n",
       "  <thead>\n",
       "    <tr style=\"text-align: right;\">\n",
       "      <th></th>\n",
       "      <th>agency_id</th>\n",
       "      <th>n</th>\n",
       "    </tr>\n",
       "  </thead>\n",
       "  <tbody>\n",
       "    <tr>\n",
       "      <th>0</th>\n",
       "      <td>7489</td>\n",
       "      <td>235113.0</td>\n",
       "    </tr>\n",
       "    <tr>\n",
       "      <th>1</th>\n",
       "      <td>7499</td>\n",
       "      <td>7156221.0</td>\n",
       "    </tr>\n",
       "    <tr>\n",
       "      <th>2</th>\n",
       "      <td>7500</td>\n",
       "      <td>6394061.0</td>\n",
       "    </tr>\n",
       "    <tr>\n",
       "      <th>3</th>\n",
       "      <td>7501</td>\n",
       "      <td>13330.0</td>\n",
       "    </tr>\n",
       "    <tr>\n",
       "      <th>4</th>\n",
       "      <td>7502</td>\n",
       "      <td>2601379.0</td>\n",
       "    </tr>\n",
       "    <tr>\n",
       "      <th>...</th>\n",
       "      <td>...</td>\n",
       "      <td>...</td>\n",
       "    </tr>\n",
       "    <tr>\n",
       "      <th>1067</th>\n",
       "      <td>14064</td>\n",
       "      <td>24550.0</td>\n",
       "    </tr>\n",
       "    <tr>\n",
       "      <th>1068</th>\n",
       "      <td>14082</td>\n",
       "      <td>335529.0</td>\n",
       "    </tr>\n",
       "    <tr>\n",
       "      <th>1069</th>\n",
       "      <td>14083</td>\n",
       "      <td>132367.0</td>\n",
       "    </tr>\n",
       "    <tr>\n",
       "      <th>1070</th>\n",
       "      <td>14084</td>\n",
       "      <td>474043.0</td>\n",
       "    </tr>\n",
       "    <tr>\n",
       "      <th>1071</th>\n",
       "      <td>14085</td>\n",
       "      <td>254936.0</td>\n",
       "    </tr>\n",
       "  </tbody>\n",
       "</table>\n",
       "<p>1072 rows × 2 columns</p>\n",
       "</div>"
      ],
      "text/plain": [
       "      agency_id          n\n",
       "0          7489   235113.0\n",
       "1          7499  7156221.0\n",
       "2          7500  6394061.0\n",
       "3          7501    13330.0\n",
       "4          7502  2601379.0\n",
       "...         ...        ...\n",
       "1067      14064    24550.0\n",
       "1068      14082   335529.0\n",
       "1069      14083   132367.0\n",
       "1070      14084   474043.0\n",
       "1071      14085   254936.0\n",
       "\n",
       "[1072 rows x 2 columns]"
      ]
     },
     "execution_count": 27,
     "metadata": {},
     "output_type": "execute_result"
    }
   ],
   "source": [
    "agency_count_df"
   ]
  },
  {
   "cell_type": "code",
   "execution_count": 36,
   "id": "3eb9b442-fb09-455e-8679-f30c3fe0b5f5",
   "metadata": {},
   "outputs": [],
   "source": [
    "# join agency\n",
    "df = agency_df.merge(agency_count_df, on='agency_id', how='left')"
   ]
  },
  {
   "cell_type": "markdown",
   "id": "d215f66a-beb9-43d1-a310-4f5ca59dc8ec",
   "metadata": {},
   "source": [
    "finally, days"
   ]
  },
  {
   "cell_type": "code",
   "execution_count": 34,
   "id": "f7fe0c7d-8145-49bf-b3f6-099a2a1d9b86",
   "metadata": {},
   "outputs": [],
   "source": [
    "# Feed days function\n",
    "def feedDays(calendar_df, calendar_dates_df):\n",
    "    ''' Enriches counted dataframe with average daily count for each stop,\n",
    "    using the feed's calendar information to infer the number of days\n",
    "    '''\n",
    "    # calculate\n",
    "    startdate =  min(pd.to_datetime(calendar_df.start_date,format=\"%Y%m%d\"))\n",
    "    enddate = max(pd.to_datetime(calendar_df.end_date,format=\"%Y%m%d\"))\n",
    "    excdates = pd.to_datetime(calendar_dates_df.date,format=\"%Y%m%d\")\n",
    "\n",
    "    firstdate = min(startdate, min(excdates))\n",
    "    lastdate = max(enddate, max(excdates))\n",
    "\n",
    "    ndays = (lastdate - firstdate).days\n",
    "\n",
    "    print('First date:\\t',firstdate)\n",
    "    print('Last date:\\t',lastdate)\n",
    "    print('Total days:\\t',ndays)\n",
    "    return(ndays)"
   ]
  },
  {
   "cell_type": "code",
   "execution_count": 35,
   "id": "912476db-4089-4d29-a124-e89ee5720b58",
   "metadata": {},
   "outputs": [
    {
     "name": "stdout",
     "output_type": "stream",
     "text": [
      "First date:\t 2022-04-11 00:00:00\n",
      "Last date:\t 2022-12-10 00:00:00\n",
      "Total days:\t 243\n"
     ]
    }
   ],
   "source": [
    "ndays = feedDays(calendar_df, calendar_dates_df)"
   ]
  },
  {
   "cell_type": "code",
   "execution_count": 39,
   "id": "882728dc-5df9-47d1-af3e-e7c0fff95f8d",
   "metadata": {},
   "outputs": [],
   "source": [
    "df['n_day'] = df.loc[:,'n']/ndays"
   ]
  },
  {
   "cell_type": "code",
   "execution_count": 47,
   "id": "44037751-832c-4d90-a20a-5392dc8cb084",
   "metadata": {},
   "outputs": [
    {
     "data": {
      "text/html": [
       "<div>\n",
       "<style scoped>\n",
       "    .dataframe tbody tr th:only-of-type {\n",
       "        vertical-align: middle;\n",
       "    }\n",
       "\n",
       "    .dataframe tbody tr th {\n",
       "        vertical-align: top;\n",
       "    }\n",
       "\n",
       "    .dataframe thead th {\n",
       "        text-align: right;\n",
       "    }\n",
       "</style>\n",
       "<table border=\"1\" class=\"dataframe\">\n",
       "  <thead>\n",
       "    <tr style=\"text-align: right;\">\n",
       "      <th></th>\n",
       "      <th>agency_id</th>\n",
       "      <th>agency_name</th>\n",
       "      <th>n</th>\n",
       "      <th>n_day</th>\n",
       "    </tr>\n",
       "  </thead>\n",
       "  <tbody>\n",
       "    <tr>\n",
       "      <th>923</th>\n",
       "      <td>12681</td>\n",
       "      <td>DB Fernverkehr AG</td>\n",
       "      <td>2244147.0</td>\n",
       "      <td>9235.172840</td>\n",
       "    </tr>\n",
       "    <tr>\n",
       "      <th>669</th>\n",
       "      <td>10393</td>\n",
       "      <td>DB Fernverkehr Bus</td>\n",
       "      <td>NaN</td>\n",
       "      <td>NaN</td>\n",
       "    </tr>\n",
       "    <tr>\n",
       "      <th>687</th>\n",
       "      <td>10451</td>\n",
       "      <td>DB/SBB/TI Eurocity Milano</td>\n",
       "      <td>8282.0</td>\n",
       "      <td>34.082305</td>\n",
       "    </tr>\n",
       "    <tr>\n",
       "      <th>1120</th>\n",
       "      <td>13794</td>\n",
       "      <td>FlixBus-de</td>\n",
       "      <td>860203.0</td>\n",
       "      <td>3539.930041</td>\n",
       "    </tr>\n",
       "    <tr>\n",
       "      <th>920</th>\n",
       "      <td>12636</td>\n",
       "      <td>FlixTrain</td>\n",
       "      <td>NaN</td>\n",
       "      <td>NaN</td>\n",
       "    </tr>\n",
       "    <tr>\n",
       "      <th>1121</th>\n",
       "      <td>13796</td>\n",
       "      <td>FlixTrain-de</td>\n",
       "      <td>25418.0</td>\n",
       "      <td>104.600823</td>\n",
       "    </tr>\n",
       "    <tr>\n",
       "      <th>716</th>\n",
       "      <td>10874</td>\n",
       "      <td>Hamburg-Köln-Express</td>\n",
       "      <td>NaN</td>\n",
       "      <td>NaN</td>\n",
       "    </tr>\n",
       "    <tr>\n",
       "      <th>690</th>\n",
       "      <td>10785</td>\n",
       "      <td>SBB</td>\n",
       "      <td>58838.0</td>\n",
       "      <td>242.131687</td>\n",
       "    </tr>\n",
       "    <tr>\n",
       "      <th>916</th>\n",
       "      <td>12623</td>\n",
       "      <td>SNCF</td>\n",
       "      <td>4845.0</td>\n",
       "      <td>19.938272</td>\n",
       "    </tr>\n",
       "    <tr>\n",
       "      <th>917</th>\n",
       "      <td>12624</td>\n",
       "      <td>Trenitalia</td>\n",
       "      <td>NaN</td>\n",
       "      <td>NaN</td>\n",
       "    </tr>\n",
       "    <tr>\n",
       "      <th>1028</th>\n",
       "      <td>13396</td>\n",
       "      <td>Österreichische Bundesbahnen</td>\n",
       "      <td>377283.0</td>\n",
       "      <td>1552.604938</td>\n",
       "    </tr>\n",
       "  </tbody>\n",
       "</table>\n",
       "</div>"
      ],
      "text/plain": [
       "      agency_id                   agency_name          n        n_day\n",
       "923       12681             DB Fernverkehr AG  2244147.0  9235.172840\n",
       "669       10393            DB Fernverkehr Bus        NaN          NaN\n",
       "687       10451     DB/SBB/TI Eurocity Milano     8282.0    34.082305\n",
       "1120      13794                    FlixBus-de   860203.0  3539.930041\n",
       "920       12636                     FlixTrain        NaN          NaN\n",
       "1121      13796                  FlixTrain-de    25418.0   104.600823\n",
       "716       10874          Hamburg-Köln-Express        NaN          NaN\n",
       "690       10785                           SBB    58838.0   242.131687\n",
       "916       12623                          SNCF     4845.0    19.938272\n",
       "917       12624                    Trenitalia        NaN          NaN\n",
       "1028      13396  Österreichische Bundesbahnen   377283.0  1552.604938"
      ]
     },
     "execution_count": 47,
     "metadata": {},
     "output_type": "execute_result"
    }
   ],
   "source": [
    "df.loc[df.agency_name.str.contains(\"Fernverkehr|Flix|Eurocity|SBB|Hamburg-Köln-Express|SNCF|Trenitalia|Österreichische\") & \n",
    "      ~df.agency_name.str.contains(\"Codesharing|SBB GmbH\"),['agency_id','agency_name','n','n_day']].sort_values('agency_name'\n",
    ")#.to_csv('../../data/processed/'+zipname+'_n-agency-fv.csv')"
   ]
  },
  {
   "cell_type": "code",
   "execution_count": 46,
   "id": "70feb637-9c86-4f91-af52-67b5a57066b4",
   "metadata": {},
   "outputs": [],
   "source": [
    "df.loc[:,['agency_id','agency_name','n','n_day']].sort_values('agency_name'\n",
    ").to_csv('../../data/processed/'+zipname+'_n-agency-alle.csv')"
   ]
  },
  {
   "cell_type": "code",
   "execution_count": null,
   "id": "33ac4cd3-4bfe-4545-a354-6a48a46745f9",
   "metadata": {},
   "outputs": [],
   "source": []
  }
 ],
 "metadata": {
  "kernelspec": {
   "display_name": "oev-atlas",
   "language": "python",
   "name": "oev-atlas"
  },
  "language_info": {
   "codemirror_mode": {
    "name": "ipython",
    "version": 3
   },
   "file_extension": ".py",
   "mimetype": "text/x-python",
   "name": "python",
   "nbconvert_exporter": "python",
   "pygments_lexer": "ipython3",
   "version": "3.10.4"
  }
 },
 "nbformat": 4,
 "nbformat_minor": 5
}
