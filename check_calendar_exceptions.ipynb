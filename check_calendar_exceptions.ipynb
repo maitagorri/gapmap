{
 "cells": [
  {
   "cell_type": "code",
   "execution_count": 1,
   "id": "566256b6",
   "metadata": {},
   "outputs": [],
   "source": [
    "import pandas as pd\n",
    "import numpy as np"
   ]
  },
  {
   "cell_type": "code",
   "execution_count": 58,
   "id": "9400ce98",
   "metadata": {},
   "outputs": [],
   "source": [
    "# df = pd.read_csv(\"/mnt/c/Users/maita.schade/Nextcloud/Documents/Work/Gap_Map/raw/gtfs/2021/stop_times.txt\")\n",
    "df = pd.read_csv(\"/mnt/c/Users/maita.schade/Nextcloud/Documents/Work/Gap_Map/raw/gtfs/2021/calendar.txt\")\n"
   ]
  },
  {
   "cell_type": "code",
   "execution_count": 146,
   "id": "10c30e53",
   "metadata": {},
   "outputs": [],
   "source": [
    "r = df.loc[1]"
   ]
  },
  {
   "cell_type": "code",
   "execution_count": 121,
   "id": "981b2abe",
   "metadata": {},
   "outputs": [
    {
     "data": {
      "text/html": [
       "<div>\n",
       "<style scoped>\n",
       "    .dataframe tbody tr th:only-of-type {\n",
       "        vertical-align: middle;\n",
       "    }\n",
       "\n",
       "    .dataframe tbody tr th {\n",
       "        vertical-align: top;\n",
       "    }\n",
       "\n",
       "    .dataframe thead th {\n",
       "        text-align: right;\n",
       "    }\n",
       "</style>\n",
       "<table border=\"1\" class=\"dataframe\">\n",
       "  <thead>\n",
       "    <tr style=\"text-align: right;\">\n",
       "      <th></th>\n",
       "      <th>date</th>\n",
       "      <th>service_id</th>\n",
       "      <th>exception_type</th>\n",
       "    </tr>\n",
       "  </thead>\n",
       "  <tbody>\n",
       "    <tr>\n",
       "      <th>0</th>\n",
       "      <td>20201228</td>\n",
       "      <td>16728</td>\n",
       "      <td>1</td>\n",
       "    </tr>\n",
       "    <tr>\n",
       "      <th>1</th>\n",
       "      <td>20201224</td>\n",
       "      <td>16728</td>\n",
       "      <td>1</td>\n",
       "    </tr>\n",
       "    <tr>\n",
       "      <th>2</th>\n",
       "      <td>20201231</td>\n",
       "      <td>16728</td>\n",
       "      <td>1</td>\n",
       "    </tr>\n",
       "    <tr>\n",
       "      <th>3</th>\n",
       "      <td>20201227</td>\n",
       "      <td>16728</td>\n",
       "      <td>1</td>\n",
       "    </tr>\n",
       "    <tr>\n",
       "      <th>4</th>\n",
       "      <td>20210103</td>\n",
       "      <td>16728</td>\n",
       "      <td>1</td>\n",
       "    </tr>\n",
       "  </tbody>\n",
       "</table>\n",
       "</div>"
      ],
      "text/plain": [
       "       date  service_id  exception_type\n",
       "0  20201228       16728               1\n",
       "1  20201224       16728               1\n",
       "2  20201231       16728               1\n",
       "3  20201227       16728               1\n",
       "4  20210103       16728               1"
      ]
     },
     "execution_count": 121,
     "metadata": {},
     "output_type": "execute_result"
    }
   ],
   "source": [
    "df1 = pd.DataFrame(active_dates,columns=[\"date\"])\n",
    "df1[\"service_id\"] = r[\"service_id\"]\n",
    "df1[\"exception_type\"] = 1\n",
    "df1"
   ]
  },
  {
   "cell_type": "code",
   "execution_count": 144,
   "id": "e8e99e71",
   "metadata": {},
   "outputs": [],
   "source": [
    "def serviceToDatesHelper(r): \n",
    "    '''Helper function that returns a list of date strings, given a calendar row\n",
    "        with weekdays, start and end dates\n",
    "    '''\n",
    "    # day suffixes to be able to use pd.date_range to get a list of dates\n",
    "    day_suff = [\"MON\",\"TUE\",\"WED\",\"THU\",\"FRI\",\"SAT\",\"SUN\"]\n",
    "    # get relevant information from the row\n",
    "    weekdays = [i for i,v in enumerate(r[0:7]) if v!=0]\n",
    "    start = dt.datetime.strptime(str(r.start_date),\"%Y%m%d\").date()\n",
    "    end = dt.datetime.strptime(str(r.end_date),\"%Y%m%d\").date()\n",
    "    \n",
    "    # generate the date strings\n",
    "    active_dates = [\n",
    "        i for l in [\n",
    "            # get a date range of all dates...\n",
    "            pd.date_range(start=start,end=end,freq=\"W-\"+day_suff[d]\n",
    "                          # ...for each weekday contained in service\n",
    "                      ).strftime(\"%Y%m%d\") for d in weekdays\n",
    "            ] for i in l] #flatten this list situation\n",
    "    \n",
    "    return(active_dates)\n",
    "\n",
    "def serviceToExcHelper(r):\n",
    "    '''Helper function that returns a calendar_dates-like dataframe when\n",
    "        applied to rows of calender.txt\n",
    "    '''\n",
    "    active_dates = serviceToDatesHelper(r)\n",
    "    df = pd.DataFrame(active_dates,columns=[\"date\"])\n",
    "    df[\"service_id\"] = r[\"service_id\"]\n",
    "    df[\"exception_type\"] = 1\n",
    "    \n",
    "    return(df)\n",
    "\n",
    "def serviceToExcHelperLoopy(r):\n",
    "    '''Same as above, but not returning a dataframe, rather two same-length lists\n",
    "        (exc-type can be added later, since it is always 1)\n",
    "    '''\n",
    "    active_dates = serviceToDatesHelper(r)\n",
    "    service_id = [r[\"service_id\"]]*len(active_dates)\n",
    "    \n",
    "    return(service_id, active_dates)"
   ]
  },
  {
   "cell_type": "code",
   "execution_count": 143,
   "id": "3ec63761",
   "metadata": {},
   "outputs": [
    {
     "data": {
      "text/html": [
       "<div>\n",
       "<style scoped>\n",
       "    .dataframe tbody tr th:only-of-type {\n",
       "        vertical-align: middle;\n",
       "    }\n",
       "\n",
       "    .dataframe tbody tr th {\n",
       "        vertical-align: top;\n",
       "    }\n",
       "\n",
       "    .dataframe thead th {\n",
       "        text-align: right;\n",
       "    }\n",
       "</style>\n",
       "<table border=\"1\" class=\"dataframe\">\n",
       "  <thead>\n",
       "    <tr style=\"text-align: right;\">\n",
       "      <th></th>\n",
       "      <th>date</th>\n",
       "      <th>service_id</th>\n",
       "      <th>exception_type</th>\n",
       "    </tr>\n",
       "  </thead>\n",
       "  <tbody>\n",
       "    <tr>\n",
       "      <th>0</th>\n",
       "      <td>20201228</td>\n",
       "      <td>16728</td>\n",
       "      <td>1</td>\n",
       "    </tr>\n",
       "    <tr>\n",
       "      <th>1</th>\n",
       "      <td>20201224</td>\n",
       "      <td>16728</td>\n",
       "      <td>1</td>\n",
       "    </tr>\n",
       "    <tr>\n",
       "      <th>2</th>\n",
       "      <td>20201231</td>\n",
       "      <td>16728</td>\n",
       "      <td>1</td>\n",
       "    </tr>\n",
       "    <tr>\n",
       "      <th>3</th>\n",
       "      <td>20201227</td>\n",
       "      <td>16728</td>\n",
       "      <td>1</td>\n",
       "    </tr>\n",
       "    <tr>\n",
       "      <th>4</th>\n",
       "      <td>20210103</td>\n",
       "      <td>16728</td>\n",
       "      <td>1</td>\n",
       "    </tr>\n",
       "    <tr>\n",
       "      <th>...</th>\n",
       "      <td>...</td>\n",
       "      <td>...</td>\n",
       "      <td>...</td>\n",
       "    </tr>\n",
       "    <tr>\n",
       "      <th>3</th>\n",
       "      <td>20211209</td>\n",
       "      <td>34130</td>\n",
       "      <td>1</td>\n",
       "    </tr>\n",
       "    <tr>\n",
       "      <th>4</th>\n",
       "      <td>20211210</td>\n",
       "      <td>34130</td>\n",
       "      <td>1</td>\n",
       "    </tr>\n",
       "    <tr>\n",
       "      <th>5</th>\n",
       "      <td>20211204</td>\n",
       "      <td>34130</td>\n",
       "      <td>1</td>\n",
       "    </tr>\n",
       "    <tr>\n",
       "      <th>6</th>\n",
       "      <td>20211211</td>\n",
       "      <td>34130</td>\n",
       "      <td>1</td>\n",
       "    </tr>\n",
       "    <tr>\n",
       "      <th>7</th>\n",
       "      <td>20211205</td>\n",
       "      <td>34130</td>\n",
       "      <td>1</td>\n",
       "    </tr>\n",
       "  </tbody>\n",
       "</table>\n",
       "<p>1225042 rows × 3 columns</p>\n",
       "</div>"
      ],
      "text/plain": [
       "        date  service_id  exception_type\n",
       "0   20201228       16728               1\n",
       "1   20201224       16728               1\n",
       "2   20201231       16728               1\n",
       "3   20201227       16728               1\n",
       "4   20210103       16728               1\n",
       "..       ...         ...             ...\n",
       "3   20211209       34130               1\n",
       "4   20211210       34130               1\n",
       "5   20211204       34130               1\n",
       "6   20211211       34130               1\n",
       "7   20211205       34130               1\n",
       "\n",
       "[1225042 rows x 3 columns]"
      ]
     },
     "execution_count": 143,
     "metadata": {},
     "output_type": "execute_result"
    }
   ],
   "source": [
    "df2 = pd.DataFrame()\n",
    "for _, row in df.iterrows():\n",
    "    df2 = df2.append(serviceToExcHelper(row))\n",
    "    \n",
    "df2"
   ]
  },
  {
   "cell_type": "code",
   "execution_count": 180,
   "id": "47f7f8de",
   "metadata": {},
   "outputs": [],
   "source": [
    "def calendarToDates(df):\n",
    "    '''Takes a calendar.txt-df and returns a calendar_dates.txt-style df'''\n",
    "    ids, dates = [], []\n",
    "    for _, row in df.iterrows():\n",
    "        i, d = serviceToExcHelperLoopy(row)\n",
    "        ids += i\n",
    "        dates += d\n",
    "\n",
    "    df_out = pd.DataFrame({'service_id': ids,\n",
    "                          'exception_type': [1] * len(ids),\n",
    "                          'date': dates})\n",
    "    df_out.date = df_out.date.astype(int)\n",
    "    return(df_out)"
   ]
  },
  {
   "cell_type": "code",
   "execution_count": 165,
   "id": "60e68765",
   "metadata": {},
   "outputs": [],
   "source": []
  },
  {
   "cell_type": "code",
   "execution_count": 157,
   "id": "1feae865",
   "metadata": {},
   "outputs": [],
   "source": [
    "exc_df = pd.read_csv(\"/mnt/c/Users/maita.schade/Nextcloud/Documents/Work/Gap_Map/raw/gtfs/2021/calendar_dates.txt\")"
   ]
  },
  {
   "cell_type": "code",
   "execution_count": 158,
   "id": "8185865c",
   "metadata": {},
   "outputs": [
    {
     "data": {
      "text/html": [
       "<div>\n",
       "<style scoped>\n",
       "    .dataframe tbody tr th:only-of-type {\n",
       "        vertical-align: middle;\n",
       "    }\n",
       "\n",
       "    .dataframe tbody tr th {\n",
       "        vertical-align: top;\n",
       "    }\n",
       "\n",
       "    .dataframe thead th {\n",
       "        text-align: right;\n",
       "    }\n",
       "</style>\n",
       "<table border=\"1\" class=\"dataframe\">\n",
       "  <thead>\n",
       "    <tr style=\"text-align: right;\">\n",
       "      <th></th>\n",
       "      <th>service_id</th>\n",
       "      <th>exception_type</th>\n",
       "      <th>date</th>\n",
       "    </tr>\n",
       "  </thead>\n",
       "  <tbody>\n",
       "    <tr>\n",
       "      <th>0</th>\n",
       "      <td>1</td>\n",
       "      <td>1</td>\n",
       "      <td>20210620</td>\n",
       "    </tr>\n",
       "    <tr>\n",
       "      <th>1</th>\n",
       "      <td>1</td>\n",
       "      <td>1</td>\n",
       "      <td>20210627</td>\n",
       "    </tr>\n",
       "    <tr>\n",
       "      <th>2</th>\n",
       "      <td>1</td>\n",
       "      <td>1</td>\n",
       "      <td>20210704</td>\n",
       "    </tr>\n",
       "    <tr>\n",
       "      <th>3</th>\n",
       "      <td>1</td>\n",
       "      <td>1</td>\n",
       "      <td>20210711</td>\n",
       "    </tr>\n",
       "    <tr>\n",
       "      <th>4</th>\n",
       "      <td>1</td>\n",
       "      <td>1</td>\n",
       "      <td>20210718</td>\n",
       "    </tr>\n",
       "    <tr>\n",
       "      <th>...</th>\n",
       "      <td>...</td>\n",
       "      <td>...</td>\n",
       "      <td>...</td>\n",
       "    </tr>\n",
       "    <tr>\n",
       "      <th>174483</th>\n",
       "      <td>9996</td>\n",
       "      <td>1</td>\n",
       "      <td>20210807</td>\n",
       "    </tr>\n",
       "    <tr>\n",
       "      <th>174484</th>\n",
       "      <td>9996</td>\n",
       "      <td>1</td>\n",
       "      <td>20210810</td>\n",
       "    </tr>\n",
       "    <tr>\n",
       "      <th>174485</th>\n",
       "      <td>9996</td>\n",
       "      <td>1</td>\n",
       "      <td>20210811</td>\n",
       "    </tr>\n",
       "    <tr>\n",
       "      <th>174486</th>\n",
       "      <td>9996</td>\n",
       "      <td>1</td>\n",
       "      <td>20210812</td>\n",
       "    </tr>\n",
       "    <tr>\n",
       "      <th>174487</th>\n",
       "      <td>9996</td>\n",
       "      <td>1</td>\n",
       "      <td>20210813</td>\n",
       "    </tr>\n",
       "  </tbody>\n",
       "</table>\n",
       "<p>174488 rows × 3 columns</p>\n",
       "</div>"
      ],
      "text/plain": [
       "        service_id  exception_type      date\n",
       "0                1               1  20210620\n",
       "1                1               1  20210627\n",
       "2                1               1  20210704\n",
       "3                1               1  20210711\n",
       "4                1               1  20210718\n",
       "...            ...             ...       ...\n",
       "174483        9996               1  20210807\n",
       "174484        9996               1  20210810\n",
       "174485        9996               1  20210811\n",
       "174486        9996               1  20210812\n",
       "174487        9996               1  20210813\n",
       "\n",
       "[174488 rows x 3 columns]"
      ]
     },
     "execution_count": 158,
     "metadata": {},
     "output_type": "execute_result"
    }
   ],
   "source": [
    "exc_df"
   ]
  },
  {
   "cell_type": "code",
   "execution_count": 160,
   "id": "585d8ddd",
   "metadata": {},
   "outputs": [
    {
     "data": {
      "text/plain": [
       "0"
      ]
     },
     "execution_count": 160,
     "metadata": {},
     "output_type": "execute_result"
    }
   ],
   "source": [
    "sum(exc_df.duplicated(exc_df.columns))"
   ]
  },
  {
   "cell_type": "code",
   "execution_count": 163,
   "id": "7a6f4cba",
   "metadata": {},
   "outputs": [
    {
     "data": {
      "text/plain": [
       "0"
      ]
     },
     "execution_count": 163,
     "metadata": {},
     "output_type": "execute_result"
    }
   ],
   "source": [
    "sum(exc_df.duplicated([\"service_id\",'date']))"
   ]
  },
  {
   "cell_type": "markdown",
   "id": "8badc105",
   "metadata": {},
   "source": [
    "Gut, wenigstens ist hier schonmal nichts dupliziert..."
   ]
  },
  {
   "cell_type": "code",
   "execution_count": 172,
   "id": "724bbba1",
   "metadata": {},
   "outputs": [],
   "source": [
    "comp_df = df3.merge(exc_df, on=[\"service_id\",'date'], how='outer')"
   ]
  },
  {
   "cell_type": "code",
   "execution_count": 173,
   "id": "98ae9241",
   "metadata": {},
   "outputs": [
    {
     "data": {
      "text/html": [
       "<div>\n",
       "<style scoped>\n",
       "    .dataframe tbody tr th:only-of-type {\n",
       "        vertical-align: middle;\n",
       "    }\n",
       "\n",
       "    .dataframe tbody tr th {\n",
       "        vertical-align: top;\n",
       "    }\n",
       "\n",
       "    .dataframe thead th {\n",
       "        text-align: right;\n",
       "    }\n",
       "</style>\n",
       "<table border=\"1\" class=\"dataframe\">\n",
       "  <thead>\n",
       "    <tr style=\"text-align: right;\">\n",
       "      <th></th>\n",
       "      <th>service_id</th>\n",
       "      <th>date</th>\n",
       "      <th>exception_type_x</th>\n",
       "      <th>exception_type_y</th>\n",
       "    </tr>\n",
       "  </thead>\n",
       "  <tbody>\n",
       "    <tr>\n",
       "      <th>1</th>\n",
       "      <td>16728</td>\n",
       "      <td>20201224</td>\n",
       "      <td>1.0</td>\n",
       "      <td>1.0</td>\n",
       "    </tr>\n",
       "  </tbody>\n",
       "</table>\n",
       "</div>"
      ],
      "text/plain": [
       "   service_id      date  exception_type_x  exception_type_y\n",
       "1       16728  20201224               1.0               1.0"
      ]
     },
     "execution_count": 173,
     "metadata": {},
     "output_type": "execute_result"
    }
   ],
   "source": [
    "comp_df[(comp_df.exception_type_x==1) & (comp_df.exception_type_y==1)]"
   ]
  },
  {
   "cell_type": "markdown",
   "id": "8aba9582",
   "metadata": {},
   "source": [
    "eine einzige doppelte addition..."
   ]
  },
  {
   "cell_type": "code",
   "execution_count": 174,
   "id": "faba417a",
   "metadata": {},
   "outputs": [
    {
     "data": {
      "text/html": [
       "<div>\n",
       "<style scoped>\n",
       "    .dataframe tbody tr th:only-of-type {\n",
       "        vertical-align: middle;\n",
       "    }\n",
       "\n",
       "    .dataframe tbody tr th {\n",
       "        vertical-align: top;\n",
       "    }\n",
       "\n",
       "    .dataframe thead th {\n",
       "        text-align: right;\n",
       "    }\n",
       "</style>\n",
       "<table border=\"1\" class=\"dataframe\">\n",
       "  <thead>\n",
       "    <tr style=\"text-align: right;\">\n",
       "      <th></th>\n",
       "      <th>service_id</th>\n",
       "      <th>date</th>\n",
       "      <th>exception_type_x</th>\n",
       "      <th>exception_type_y</th>\n",
       "    </tr>\n",
       "  </thead>\n",
       "  <tbody>\n",
       "  </tbody>\n",
       "</table>\n",
       "</div>"
      ],
      "text/plain": [
       "Empty DataFrame\n",
       "Columns: [service_id, date, exception_type_x, exception_type_y]\n",
       "Index: []"
      ]
     },
     "execution_count": 174,
     "metadata": {},
     "output_type": "execute_result"
    }
   ],
   "source": [
    "comp_df[(comp_df.exception_type_x!=1) & (comp_df.exception_type_y==2)]"
   ]
  },
  {
   "cell_type": "code",
   "execution_count": 177,
   "id": "2a45253d",
   "metadata": {},
   "outputs": [
    {
     "data": {
      "text/html": [
       "<div>\n",
       "<style scoped>\n",
       "    .dataframe tbody tr th:only-of-type {\n",
       "        vertical-align: middle;\n",
       "    }\n",
       "\n",
       "    .dataframe tbody tr th {\n",
       "        vertical-align: top;\n",
       "    }\n",
       "\n",
       "    .dataframe thead th {\n",
       "        text-align: right;\n",
       "    }\n",
       "</style>\n",
       "<table border=\"1\" class=\"dataframe\">\n",
       "  <thead>\n",
       "    <tr style=\"text-align: right;\">\n",
       "      <th></th>\n",
       "      <th>service_id</th>\n",
       "      <th>date</th>\n",
       "      <th>exception_type_x</th>\n",
       "      <th>exception_type_y</th>\n",
       "    </tr>\n",
       "  </thead>\n",
       "  <tbody>\n",
       "    <tr>\n",
       "      <th>52</th>\n",
       "      <td>10379</td>\n",
       "      <td>20210411</td>\n",
       "      <td>1.0</td>\n",
       "      <td>2.0</td>\n",
       "    </tr>\n",
       "    <tr>\n",
       "      <th>60</th>\n",
       "      <td>14568</td>\n",
       "      <td>20210411</td>\n",
       "      <td>1.0</td>\n",
       "      <td>2.0</td>\n",
       "    </tr>\n",
       "    <tr>\n",
       "      <th>67</th>\n",
       "      <td>170</td>\n",
       "      <td>20210404</td>\n",
       "      <td>1.0</td>\n",
       "      <td>2.0</td>\n",
       "    </tr>\n",
       "    <tr>\n",
       "      <th>93</th>\n",
       "      <td>24064</td>\n",
       "      <td>20210418</td>\n",
       "      <td>1.0</td>\n",
       "      <td>2.0</td>\n",
       "    </tr>\n",
       "    <tr>\n",
       "      <th>94</th>\n",
       "      <td>24064</td>\n",
       "      <td>20210425</td>\n",
       "      <td>1.0</td>\n",
       "      <td>2.0</td>\n",
       "    </tr>\n",
       "    <tr>\n",
       "      <th>...</th>\n",
       "      <td>...</td>\n",
       "      <td>...</td>\n",
       "      <td>...</td>\n",
       "      <td>...</td>\n",
       "    </tr>\n",
       "    <tr>\n",
       "      <th>1224412</th>\n",
       "      <td>32281</td>\n",
       "      <td>20211120</td>\n",
       "      <td>1.0</td>\n",
       "      <td>2.0</td>\n",
       "    </tr>\n",
       "    <tr>\n",
       "      <th>1224417</th>\n",
       "      <td>32281</td>\n",
       "      <td>20211121</td>\n",
       "      <td>1.0</td>\n",
       "      <td>2.0</td>\n",
       "    </tr>\n",
       "    <tr>\n",
       "      <th>1224554</th>\n",
       "      <td>14685</td>\n",
       "      <td>20211113</td>\n",
       "      <td>1.0</td>\n",
       "      <td>2.0</td>\n",
       "    </tr>\n",
       "    <tr>\n",
       "      <th>1224555</th>\n",
       "      <td>14685</td>\n",
       "      <td>20211120</td>\n",
       "      <td>1.0</td>\n",
       "      <td>2.0</td>\n",
       "    </tr>\n",
       "    <tr>\n",
       "      <th>1224560</th>\n",
       "      <td>14685</td>\n",
       "      <td>20211121</td>\n",
       "      <td>1.0</td>\n",
       "      <td>2.0</td>\n",
       "    </tr>\n",
       "  </tbody>\n",
       "</table>\n",
       "<p>62785 rows × 4 columns</p>\n",
       "</div>"
      ],
      "text/plain": [
       "         service_id      date  exception_type_x  exception_type_y\n",
       "52            10379  20210411               1.0               2.0\n",
       "60            14568  20210411               1.0               2.0\n",
       "67              170  20210404               1.0               2.0\n",
       "93            24064  20210418               1.0               2.0\n",
       "94            24064  20210425               1.0               2.0\n",
       "...             ...       ...               ...               ...\n",
       "1224412       32281  20211120               1.0               2.0\n",
       "1224417       32281  20211121               1.0               2.0\n",
       "1224554       14685  20211113               1.0               2.0\n",
       "1224555       14685  20211120               1.0               2.0\n",
       "1224560       14685  20211121               1.0               2.0\n",
       "\n",
       "[62785 rows x 4 columns]"
      ]
     },
     "execution_count": 177,
     "metadata": {},
     "output_type": "execute_result"
    }
   ],
   "source": [
    "comp_df[(comp_df.exception_type_y==2)]"
   ]
  },
  {
   "cell_type": "markdown",
   "id": "b09a100c",
   "metadata": {},
   "source": [
    "keine subtraktion auf nicht vorhandenen Tagen."
   ]
  },
  {
   "cell_type": "markdown",
   "id": "4165cd44",
   "metadata": {},
   "source": [
    "2021 ist okay! Wie sieht es in 20 aus?"
   ]
  },
  {
   "cell_type": "code",
   "execution_count": 178,
   "id": "ee611c73",
   "metadata": {},
   "outputs": [],
   "source": [
    "df20 = pd.read_csv(\"/mnt/c/Users/maita.schade/Nextcloud/Documents/Work/Gap_Map/raw/gtfs/2020/calendar.txt\")"
   ]
  },
  {
   "cell_type": "code",
   "execution_count": null,
   "id": "4c7324e2",
   "metadata": {},
   "outputs": [],
   "source": [
    "df20_dates = calendarToDates(df20)"
   ]
  },
  {
   "cell_type": "code",
   "execution_count": 184,
   "id": "3004f9f2",
   "metadata": {},
   "outputs": [],
   "source": [
    "exc20_df = pd.read_csv(\"/mnt/c/Users/maita.schade/Nextcloud/Documents/Work/Gap_Map/raw/gtfs/2020/calendar_dates.txt\")"
   ]
  },
  {
   "cell_type": "code",
   "execution_count": 185,
   "id": "301b13b9",
   "metadata": {},
   "outputs": [
    {
     "data": {
      "text/plain": [
       "0"
      ]
     },
     "execution_count": 185,
     "metadata": {},
     "output_type": "execute_result"
    }
   ],
   "source": [
    "sum(exc20_df.duplicated(exc20_df.columns))"
   ]
  },
  {
   "cell_type": "code",
   "execution_count": 186,
   "id": "6bb82272",
   "metadata": {},
   "outputs": [
    {
     "data": {
      "text/plain": [
       "0"
      ]
     },
     "execution_count": 186,
     "metadata": {},
     "output_type": "execute_result"
    }
   ],
   "source": [
    "sum(exc20_df.duplicated([\"service_id\",'date']))"
   ]
  },
  {
   "cell_type": "markdown",
   "id": "c3398788",
   "metadata": {},
   "source": [
    "Gut, wenigstens ist hier schonmal nichts dupliziert..."
   ]
  },
  {
   "cell_type": "code",
   "execution_count": 188,
   "id": "4217712c",
   "metadata": {},
   "outputs": [],
   "source": [
    "comp_df = df20_dates.merge(exc20_df, on=[\"service_id\",'date'], how='outer')"
   ]
  },
  {
   "cell_type": "code",
   "execution_count": 189,
   "id": "d69c3d3a",
   "metadata": {},
   "outputs": [
    {
     "data": {
      "text/html": [
       "<div>\n",
       "<style scoped>\n",
       "    .dataframe tbody tr th:only-of-type {\n",
       "        vertical-align: middle;\n",
       "    }\n",
       "\n",
       "    .dataframe tbody tr th {\n",
       "        vertical-align: top;\n",
       "    }\n",
       "\n",
       "    .dataframe thead th {\n",
       "        text-align: right;\n",
       "    }\n",
       "</style>\n",
       "<table border=\"1\" class=\"dataframe\">\n",
       "  <thead>\n",
       "    <tr style=\"text-align: right;\">\n",
       "      <th></th>\n",
       "      <th>service_id</th>\n",
       "      <th>exception_type_x</th>\n",
       "      <th>date</th>\n",
       "      <th>exception_type_y</th>\n",
       "    </tr>\n",
       "  </thead>\n",
       "  <tbody>\n",
       "  </tbody>\n",
       "</table>\n",
       "</div>"
      ],
      "text/plain": [
       "Empty DataFrame\n",
       "Columns: [service_id, exception_type_x, date, exception_type_y]\n",
       "Index: []"
      ]
     },
     "execution_count": 189,
     "metadata": {},
     "output_type": "execute_result"
    }
   ],
   "source": [
    "comp_df[(comp_df.exception_type_x==1) & (comp_df.exception_type_y==1)]"
   ]
  },
  {
   "cell_type": "markdown",
   "id": "57d12946",
   "metadata": {},
   "source": [
    "gar keine doppelte addition..."
   ]
  },
  {
   "cell_type": "code",
   "execution_count": 190,
   "id": "b7beaacf",
   "metadata": {},
   "outputs": [
    {
     "data": {
      "text/html": [
       "<div>\n",
       "<style scoped>\n",
       "    .dataframe tbody tr th:only-of-type {\n",
       "        vertical-align: middle;\n",
       "    }\n",
       "\n",
       "    .dataframe tbody tr th {\n",
       "        vertical-align: top;\n",
       "    }\n",
       "\n",
       "    .dataframe thead th {\n",
       "        text-align: right;\n",
       "    }\n",
       "</style>\n",
       "<table border=\"1\" class=\"dataframe\">\n",
       "  <thead>\n",
       "    <tr style=\"text-align: right;\">\n",
       "      <th></th>\n",
       "      <th>service_id</th>\n",
       "      <th>exception_type_x</th>\n",
       "      <th>date</th>\n",
       "      <th>exception_type_y</th>\n",
       "    </tr>\n",
       "  </thead>\n",
       "  <tbody>\n",
       "  </tbody>\n",
       "</table>\n",
       "</div>"
      ],
      "text/plain": [
       "Empty DataFrame\n",
       "Columns: [service_id, exception_type_x, date, exception_type_y]\n",
       "Index: []"
      ]
     },
     "execution_count": 190,
     "metadata": {},
     "output_type": "execute_result"
    }
   ],
   "source": [
    "comp_df[(comp_df.exception_type_x!=1) & (comp_df.exception_type_y==2)]"
   ]
  },
  {
   "cell_type": "code",
   "execution_count": 191,
   "id": "9edcca41",
   "metadata": {},
   "outputs": [
    {
     "data": {
      "text/html": [
       "<div>\n",
       "<style scoped>\n",
       "    .dataframe tbody tr th:only-of-type {\n",
       "        vertical-align: middle;\n",
       "    }\n",
       "\n",
       "    .dataframe tbody tr th {\n",
       "        vertical-align: top;\n",
       "    }\n",
       "\n",
       "    .dataframe thead th {\n",
       "        text-align: right;\n",
       "    }\n",
       "</style>\n",
       "<table border=\"1\" class=\"dataframe\">\n",
       "  <thead>\n",
       "    <tr style=\"text-align: right;\">\n",
       "      <th></th>\n",
       "      <th>service_id</th>\n",
       "      <th>exception_type_x</th>\n",
       "      <th>date</th>\n",
       "      <th>exception_type_y</th>\n",
       "    </tr>\n",
       "  </thead>\n",
       "  <tbody>\n",
       "    <tr>\n",
       "      <th>60</th>\n",
       "      <td>12690</td>\n",
       "      <td>1.0</td>\n",
       "      <td>20200112</td>\n",
       "      <td>2.0</td>\n",
       "    </tr>\n",
       "    <tr>\n",
       "      <th>63</th>\n",
       "      <td>12690</td>\n",
       "      <td>1.0</td>\n",
       "      <td>20200202</td>\n",
       "      <td>2.0</td>\n",
       "    </tr>\n",
       "    <tr>\n",
       "      <th>72</th>\n",
       "      <td>12690</td>\n",
       "      <td>1.0</td>\n",
       "      <td>20200405</td>\n",
       "      <td>2.0</td>\n",
       "    </tr>\n",
       "    <tr>\n",
       "      <th>161</th>\n",
       "      <td>22558</td>\n",
       "      <td>1.0</td>\n",
       "      <td>20200105</td>\n",
       "      <td>2.0</td>\n",
       "    </tr>\n",
       "    <tr>\n",
       "      <th>162</th>\n",
       "      <td>22558</td>\n",
       "      <td>1.0</td>\n",
       "      <td>20200112</td>\n",
       "      <td>2.0</td>\n",
       "    </tr>\n",
       "    <tr>\n",
       "      <th>...</th>\n",
       "      <td>...</td>\n",
       "      <td>...</td>\n",
       "      <td>...</td>\n",
       "      <td>...</td>\n",
       "    </tr>\n",
       "    <tr>\n",
       "      <th>1621076</th>\n",
       "      <td>12247</td>\n",
       "      <td>1.0</td>\n",
       "      <td>20201125</td>\n",
       "      <td>2.0</td>\n",
       "    </tr>\n",
       "    <tr>\n",
       "      <th>1621080</th>\n",
       "      <td>12247</td>\n",
       "      <td>1.0</td>\n",
       "      <td>20201126</td>\n",
       "      <td>2.0</td>\n",
       "    </tr>\n",
       "    <tr>\n",
       "      <th>1621084</th>\n",
       "      <td>12247</td>\n",
       "      <td>1.0</td>\n",
       "      <td>20201127</td>\n",
       "      <td>2.0</td>\n",
       "    </tr>\n",
       "    <tr>\n",
       "      <th>1621431</th>\n",
       "      <td>10511</td>\n",
       "      <td>1.0</td>\n",
       "      <td>20201128</td>\n",
       "      <td>2.0</td>\n",
       "    </tr>\n",
       "    <tr>\n",
       "      <th>1621449</th>\n",
       "      <td>14509</td>\n",
       "      <td>1.0</td>\n",
       "      <td>20201127</td>\n",
       "      <td>2.0</td>\n",
       "    </tr>\n",
       "  </tbody>\n",
       "</table>\n",
       "<p>93146 rows × 4 columns</p>\n",
       "</div>"
      ],
      "text/plain": [
       "         service_id  exception_type_x      date  exception_type_y\n",
       "60            12690               1.0  20200112               2.0\n",
       "63            12690               1.0  20200202               2.0\n",
       "72            12690               1.0  20200405               2.0\n",
       "161           22558               1.0  20200105               2.0\n",
       "162           22558               1.0  20200112               2.0\n",
       "...             ...               ...       ...               ...\n",
       "1621076       12247               1.0  20201125               2.0\n",
       "1621080       12247               1.0  20201126               2.0\n",
       "1621084       12247               1.0  20201127               2.0\n",
       "1621431       10511               1.0  20201128               2.0\n",
       "1621449       14509               1.0  20201127               2.0\n",
       "\n",
       "[93146 rows x 4 columns]"
      ]
     },
     "execution_count": 191,
     "metadata": {},
     "output_type": "execute_result"
    }
   ],
   "source": [
    "comp_df[(comp_df.exception_type_y==2)]"
   ]
  },
  {
   "cell_type": "markdown",
   "id": "07ac57c6",
   "metadata": {},
   "source": [
    "Puh. Sieht alles okay aus."
   ]
  },
  {
   "cell_type": "code",
   "execution_count": 202,
   "id": "1aa5863b",
   "metadata": {},
   "outputs": [],
   "source": [
    "remain = comp_df[((comp_df.exception_type_x==1) & (comp_df.exception_type_y!=2))]\n",
    "added = comp_df[((comp_df.exception_type_x!=1) & (comp_df.exception_type_y==1))]\n",
    "actual_df = comp_df[((comp_df.exception_type_x==1) & (comp_df.exception_type_y!=2)) | # regular trips\n",
    "                    ((comp_df.exception_type_x!=1) & (comp_df.exception_type_y==1))   # exceptional additions\n",
    "                   ]"
   ]
  },
  {
   "cell_type": "code",
   "execution_count": 208,
   "id": "64a4ed8c",
   "metadata": {},
   "outputs": [
    {
     "data": {
      "text/plain": [
       "0.05743955945696781"
      ]
     },
     "execution_count": 208,
     "metadata": {},
     "output_type": "execute_result"
    }
   ],
   "source": [
    "(len(df20_dates)-len(remain))/len(df20_dates)"
   ]
  },
  {
   "cell_type": "code",
   "execution_count": 210,
   "id": "0c3017f2",
   "metadata": {},
   "outputs": [
    {
     "data": {
      "text/plain": [
       "0.07432498681885874"
      ]
     },
     "execution_count": 210,
     "metadata": {},
     "output_type": "execute_result"
    }
   ],
   "source": [
    "(len(added))/len(df20_dates)"
   ]
  },
  {
   "cell_type": "code",
   "execution_count": 211,
   "id": "42ccfbd3",
   "metadata": {},
   "outputs": [
    {
     "data": {
      "text/plain": [
       "1.016885427361891"
      ]
     },
     "execution_count": 211,
     "metadata": {},
     "output_type": "execute_result"
    }
   ],
   "source": [
    "len(actual_df)/len(df20_dates)"
   ]
  },
  {
   "cell_type": "code",
   "execution_count": 215,
   "id": "bc69ba2f",
   "metadata": {},
   "outputs": [
    {
     "data": {
      "text/html": [
       "<div>\n",
       "<style scoped>\n",
       "    .dataframe tbody tr th:only-of-type {\n",
       "        vertical-align: middle;\n",
       "    }\n",
       "\n",
       "    .dataframe tbody tr th {\n",
       "        vertical-align: top;\n",
       "    }\n",
       "\n",
       "    .dataframe thead th {\n",
       "        text-align: right;\n",
       "    }\n",
       "</style>\n",
       "<table border=\"1\" class=\"dataframe\">\n",
       "  <thead>\n",
       "    <tr style=\"text-align: right;\">\n",
       "      <th></th>\n",
       "      <th>service_id</th>\n",
       "      <th>exception_type_x</th>\n",
       "      <th>date</th>\n",
       "      <th>exception_type_y</th>\n",
       "    </tr>\n",
       "  </thead>\n",
       "  <tbody>\n",
       "    <tr>\n",
       "      <th>0</th>\n",
       "      <td>13867</td>\n",
       "      <td>1.0</td>\n",
       "      <td>20191222</td>\n",
       "      <td>NaN</td>\n",
       "    </tr>\n",
       "    <tr>\n",
       "      <th>1</th>\n",
       "      <td>13867</td>\n",
       "      <td>1.0</td>\n",
       "      <td>20191229</td>\n",
       "      <td>NaN</td>\n",
       "    </tr>\n",
       "    <tr>\n",
       "      <th>2</th>\n",
       "      <td>13867</td>\n",
       "      <td>1.0</td>\n",
       "      <td>20200105</td>\n",
       "      <td>NaN</td>\n",
       "    </tr>\n",
       "    <tr>\n",
       "      <th>3</th>\n",
       "      <td>13867</td>\n",
       "      <td>1.0</td>\n",
       "      <td>20200112</td>\n",
       "      <td>NaN</td>\n",
       "    </tr>\n",
       "    <tr>\n",
       "      <th>4</th>\n",
       "      <td>13867</td>\n",
       "      <td>1.0</td>\n",
       "      <td>20200119</td>\n",
       "      <td>NaN</td>\n",
       "    </tr>\n",
       "    <tr>\n",
       "      <th>...</th>\n",
       "      <td>...</td>\n",
       "      <td>...</td>\n",
       "      <td>...</td>\n",
       "      <td>...</td>\n",
       "    </tr>\n",
       "    <tr>\n",
       "      <th>1742158</th>\n",
       "      <td>9999</td>\n",
       "      <td>NaN</td>\n",
       "      <td>20201103</td>\n",
       "      <td>1.0</td>\n",
       "    </tr>\n",
       "    <tr>\n",
       "      <th>1742159</th>\n",
       "      <td>9999</td>\n",
       "      <td>NaN</td>\n",
       "      <td>20201104</td>\n",
       "      <td>1.0</td>\n",
       "    </tr>\n",
       "    <tr>\n",
       "      <th>1742160</th>\n",
       "      <td>9999</td>\n",
       "      <td>NaN</td>\n",
       "      <td>20201105</td>\n",
       "      <td>1.0</td>\n",
       "    </tr>\n",
       "    <tr>\n",
       "      <th>1742161</th>\n",
       "      <td>9999</td>\n",
       "      <td>NaN</td>\n",
       "      <td>20201106</td>\n",
       "      <td>1.0</td>\n",
       "    </tr>\n",
       "    <tr>\n",
       "      <th>1742162</th>\n",
       "      <td>9999</td>\n",
       "      <td>NaN</td>\n",
       "      <td>20201118</td>\n",
       "      <td>1.0</td>\n",
       "    </tr>\n",
       "  </tbody>\n",
       "</table>\n",
       "<p>1649017 rows × 4 columns</p>\n",
       "</div>"
      ],
      "text/plain": [
       "         service_id  exception_type_x      date  exception_type_y\n",
       "0             13867               1.0  20191222               NaN\n",
       "1             13867               1.0  20191229               NaN\n",
       "2             13867               1.0  20200105               NaN\n",
       "3             13867               1.0  20200112               NaN\n",
       "4             13867               1.0  20200119               NaN\n",
       "...             ...               ...       ...               ...\n",
       "1742158        9999               NaN  20201103               1.0\n",
       "1742159        9999               NaN  20201104               1.0\n",
       "1742160        9999               NaN  20201105               1.0\n",
       "1742161        9999               NaN  20201106               1.0\n",
       "1742162        9999               NaN  20201118               1.0\n",
       "\n",
       "[1649017 rows x 4 columns]"
      ]
     },
     "execution_count": 215,
     "metadata": {},
     "output_type": "execute_result"
    }
   ],
   "source": [
    "actual_df"
   ]
  },
  {
   "cell_type": "code",
   "execution_count": 217,
   "id": "ba953850",
   "metadata": {},
   "outputs": [],
   "source": [
    "count_df = actual_df.groupby(\"service_id\",as_index=False\n",
    "                 ).sum(\n",
    "                ).rename({\"exception_type_x\":\"days_count\"},axis=1)[[\"service_id\",\"days_count\"]]"
   ]
  }
 ],
 "metadata": {
  "kernelspec": {
   "display_name": "Python 3 (ipykernel)",
   "language": "python",
   "name": "python3"
  },
  "language_info": {
   "codemirror_mode": {
    "name": "ipython",
    "version": 3
   },
   "file_extension": ".py",
   "mimetype": "text/x-python",
   "name": "python",
   "nbconvert_exporter": "python",
   "pygments_lexer": "ipython3",
   "version": "3.7.11"
  }
 },
 "nbformat": 4,
 "nbformat_minor": 5
}
