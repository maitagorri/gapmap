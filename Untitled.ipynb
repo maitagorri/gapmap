{
 "cells": [
  {
   "cell_type": "code",
   "execution_count": 1,
   "id": "quarterly-diabetes",
   "metadata": {},
   "outputs": [],
   "source": [
    "import geopandas as gpd"
   ]
  },
  {
   "cell_type": "code",
   "execution_count": 35,
   "id": "interesting-quilt",
   "metadata": {},
   "outputs": [],
   "source": [
    "def calc_averages(gdf):\n",
    "    gdf[\"n\"] = gdf[\"n.nv\"] + gdf[\"n.rs\"] + gdf[\"n.fv\"]\n",
    "    gdf[\"n.ewz\"] = gdf[\"n\"]/gdf[\"EWZ\"]\n",
    "    gdf[\"n.sfl\"] = gdf[\"n\"]/(gdf[gdf.columns[gdf.columns.str.startswith(\"Anteil\")][0]]*gdf['KFL'])\n",
    "    return gdf"
   ]
  },
  {
   "cell_type": "code",
   "execution_count": 36,
   "id": "referenced-variable",
   "metadata": {},
   "outputs": [],
   "source": [
    "gdf = gpd.read_file(\"/home/maita/Nextcloud/Documents/Work/Gap_Map/out/halte_pro_land_dedupe.geojson\")"
   ]
  },
  {
   "cell_type": "code",
   "execution_count": 39,
   "id": "loved-wonder",
   "metadata": {},
   "outputs": [],
   "source": [
    "def add_averages(filename):\n",
    "    gdf = gpd.read_file(filename)\n",
    "    gdf = calc_averages(gdf)\n",
    "    gdf.to_file(filename, driver='GeoJSON')"
   ]
  },
  {
   "cell_type": "code",
   "execution_count": 40,
   "id": "handled-quest",
   "metadata": {},
   "outputs": [],
   "source": [
    "fnames = [\"/home/maita/Nextcloud/Documents/Work/Gap_Map/out/halte_pro_land_dedupe.geojson\",\n",
    "         \"/home/maita/Nextcloud/Documents/Work/Gap_Map/out/halte_pro_kreis_dedupe.geojson\",\n",
    "         \"/home/maita/Nextcloud/Documents/Work/Gap_Map/out/halte_pro_gemeinde_dedupe.geojson\"]"
   ]
  },
  {
   "cell_type": "code",
   "execution_count": 42,
   "id": "female-universe",
   "metadata": {},
   "outputs": [],
   "source": [
    "add_averages(fnames[0])"
   ]
  },
  {
   "cell_type": "code",
   "execution_count": 43,
   "id": "governing-disabled",
   "metadata": {},
   "outputs": [],
   "source": [
    "add_averages(fnames[1])"
   ]
  },
  {
   "cell_type": "code",
   "execution_count": 46,
   "id": "protecting-oliver",
   "metadata": {},
   "outputs": [],
   "source": [
    "gdf = gpd.read_file(fnames[2])"
   ]
  },
  {
   "cell_type": "code",
   "execution_count": 73,
   "id": "greenhouse-format",
   "metadata": {
    "scrolled": true
   },
   "outputs": [],
   "source": [
    "gdf[\"n\"] = gdf[\"n.nv\"] + gdf[\"n.rs\"] + gdf[\"n.fv\"]\n",
    "gdf[\"n.ewz\"] = gdf[\"n\"]/gdf[\"EWZ\"]\n",
    "gdf[\"n.sfl\"] = gdf[\"n\"]/(gdf[gdf.columns[gdf.columns.str.startswith(\"Anteil\")][0]]*gdf['KFL'])"
   ]
  },
  {
   "cell_type": "code",
   "execution_count": 75,
   "id": "accredited-patrol",
   "metadata": {},
   "outputs": [],
   "source": [
    "gdf.to_file(fnames[2], driver='GeoJSON')"
   ]
  },
  {
   "cell_type": "code",
   "execution_count": 72,
   "id": "raised-owner",
   "metadata": {},
   "outputs": [],
   "source": [
    "gdf[gdf.columns[gdf.columns.str.startswith(\"Anteil\")][0]] = gdf[gdf.columns[gdf.columns.str.startswith(\"Anteil\")][0]].str.replace(\",\",\".\").astype(float)"
   ]
  },
  {
   "cell_type": "code",
   "execution_count": null,
   "id": "hollow-resistance",
   "metadata": {},
   "outputs": [],
   "source": []
  }
 ],
 "metadata": {
  "kernelspec": {
   "display_name": "Python 3",
   "language": "python",
   "name": "python3"
  },
  "language_info": {
   "codemirror_mode": {
    "name": "ipython",
    "version": 3
   },
   "file_extension": ".py",
   "mimetype": "text/x-python",
   "name": "python",
   "nbconvert_exporter": "python",
   "pygments_lexer": "ipython3",
   "version": "3.9.1"
  }
 },
 "nbformat": 4,
 "nbformat_minor": 5
}
