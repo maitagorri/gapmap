{
 "cells": [
  {
   "cell_type": "code",
   "execution_count": 114,
   "id": "93b7c8eb",
   "metadata": {},
   "outputs": [],
   "source": [
    "import pandas as pd\n",
    "import geopandas as gpd\n",
    "\n",
    "# Welches Jahr?\n",
    "jahr = \"2021\"\n"
   ]
  },
  {
   "cell_type": "code",
   "execution_count": 115,
   "id": "278f31d4",
   "metadata": {},
   "outputs": [],
   "source": [
    "rawdir = \"/mnt/c/Users/maita.schade/Nextcloud/Documents/Work/Gap_Map/raw/\"\n",
    "rawdatadir = rawdir + \"gtfs/\" + jahr + \"/\"\n",
    "calendar_path = rawdatadir + \"calendar.txt\"\n",
    "calendar_date_path = rawdatadir + \"calendar_dates.txt\"\n"
   ]
  },
  {
   "cell_type": "code",
   "execution_count": 107,
   "id": "247cb393",
   "metadata": {},
   "outputs": [],
   "source": [
    "calendar_df = pd.read_csv(calendar_path)\n",
    "calendar_dates_df = pd.read_csv(calendar_date_path)\n"
   ]
  },
  {
   "cell_type": "code",
   "execution_count": 108,
   "id": "7ae21cda",
   "metadata": {},
   "outputs": [],
   "source": [
    "import datetime as dt"
   ]
  },
  {
   "cell_type": "code",
   "execution_count": 109,
   "id": "25dcc0cc",
   "metadata": {},
   "outputs": [
    {
     "data": {
      "text/plain": [
       "0        20191220\n",
       "1        20191220\n",
       "2        20191220\n",
       "3        20191220\n",
       "4        20191220\n",
       "           ...   \n",
       "31813    20201130\n",
       "31814    20201201\n",
       "31815    20201203\n",
       "31816    20201204\n",
       "31817    20201205\n",
       "Name: start_date, Length: 31818, dtype: object"
      ]
     },
     "execution_count": 109,
     "metadata": {},
     "output_type": "execute_result"
    }
   ],
   "source": [
    "calendar_df.start_date.astype('str')"
   ]
  },
  {
   "cell_type": "code",
   "execution_count": 110,
   "id": "ee3efad5",
   "metadata": {},
   "outputs": [
    {
     "data": {
      "text/plain": [
       "Timestamp('2019-12-20 00:00:00')"
      ]
     },
     "execution_count": 110,
     "metadata": {},
     "output_type": "execute_result"
    }
   ],
   "source": [
    "startdate = min(\n",
    "    min(\n",
    "        pd.to_datetime(calendar_dates_df.date,format=\"%Y%m%d\")#.astype('str').apply(dt.datetime.strptime, args = (\"%Y%m%d\"))\n",
    "    ),\n",
    "    min(pd.to_datetime(calendar_df.start_date,format=\"%Y%m%d\"))\n",
    ")\n",
    "startdate"
   ]
  },
  {
   "cell_type": "code",
   "execution_count": 111,
   "id": "59226d5a",
   "metadata": {},
   "outputs": [
    {
     "data": {
      "text/plain": [
       "Timestamp('2020-12-12 00:00:00')"
      ]
     },
     "execution_count": 111,
     "metadata": {},
     "output_type": "execute_result"
    }
   ],
   "source": [
    "enddate = max(\n",
    "    max(\n",
    "        pd.to_datetime(calendar_dates_df.date,format=\"%Y%m%d\")#.astype('str').apply(dt.datetime.strptime, args = (\"%Y%m%d\"))\n",
    "    ),\n",
    "    max(pd.to_datetime(calendar_df.end_date,format=\"%Y%m%d\"))\n",
    ")\n",
    "enddate"
   ]
  },
  {
   "cell_type": "code",
   "execution_count": 112,
   "id": "5fd7e384",
   "metadata": {
    "scrolled": true
   },
   "outputs": [
    {
     "data": {
      "text/plain": [
       "358"
      ]
     },
     "execution_count": 112,
     "metadata": {},
     "output_type": "execute_result"
    }
   ],
   "source": [
    "(enddate-startdate).days"
   ]
  }
 ],
 "metadata": {
  "kernelspec": {
   "display_name": "Python 3",
   "language": "python",
   "name": "python3"
  },
  "language_info": {
   "codemirror_mode": {
    "name": "ipython",
    "version": 3
   },
   "file_extension": ".py",
   "mimetype": "text/x-python",
   "name": "python",
   "nbconvert_exporter": "python",
   "pygments_lexer": "ipython3",
   "version": "3.9.5"
  }
 },
 "nbformat": 4,
 "nbformat_minor": 5
}
