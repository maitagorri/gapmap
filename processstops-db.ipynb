{
 "cells": [
  {
   "cell_type": "code",
   "execution_count": 1,
   "id": "657d3814",
   "metadata": {},
   "outputs": [],
   "source": [
    "# load libraries\n",
    "import pandas as pd\n",
    "import os, re\n",
    "import datetime as dt\n",
    "from sqlalchemy import create_engine, text\n",
    "import zipfile\n",
    "from dask import dataframe as dd"
   ]
  },
  {
   "cell_type": "markdown",
   "id": "5551033d-401c-4208-a5d3-d77370709268",
   "metadata": {},
   "source": [
    "## Setup"
   ]
  },
  {
   "cell_type": "code",
   "execution_count": 2,
   "id": "b0dc43ec-b47c-463a-825c-11123b6ab510",
   "metadata": {},
   "outputs": [],
   "source": [
    "# Welches Jahr?\n",
    "jahr = \"2021\"\n",
    "# Welcher Zip?\n",
    "zipname = \"20211015_fahrplaene_gesamtdeutschland_gtfs\"\n",
    "# # Welche Routenreferenz? (im raw-directory)\n",
    "routescope = \"\"\n",
    "\n",
    "# define paths\n",
    "workingdir = \"/home/jupyter-maita.schade/VW_Data_Hub/Gap_Map/\"\n",
    "#storagedir = \"smb://192.168.90.30/allmende%20verkehr/4%20Projekte/2%20Projekte%20Mobilitätswende/ÖV-Deutschlandkarte%20(Gap-Map)/Berechnungen/raw/gtfs/\"\n",
    "\n",
    "# constructed paths\n",
    "# rawdir = workingdir + \"raw/\"\n",
    "rawdir = workingdir + \"raw/\"\n",
    "rawdatadir = rawdir + \"gtfs/\" + 'delfi/'# + jahr + \"/\"\n",
    "outdir = workingdir + \"out/\" + 'delfi/'# + jahr + \"/\"\n",
    "#inpath = \"{0}{1}_{2}.db\".format(rawdatadir,jahr,datum)\n",
    "zippath = rawdatadir + zipname + \".zip\"\n",
    "\n",
    "# set up zip file as default for functions\n",
    "zf = zipfile.ZipFile(zippath) # this is the raw stuff"
   ]
  },
  {
   "cell_type": "code",
   "execution_count": 3,
   "id": "c63176b7-d16c-4414-8a06-c52691d667f0",
   "metadata": {},
   "outputs": [],
   "source": [
    "# choose file-based output connection\n",
    "outpath = '{0}{1}_test.db'.format(outdir,zipname)\n",
    "# set up DB connection\n",
    "dbout = create_engine('sqlite:///' + outpath)"
   ]
  },
  {
   "cell_type": "markdown",
   "id": "48fc197e-2308-469a-b01c-a98f6120b55d",
   "metadata": {
    "jp-MarkdownHeadingCollapsed": true,
    "tags": []
   },
   "source": [
    "# Count service_ids"
   ]
  },
  {
   "cell_type": "code",
   "execution_count": 4,
   "id": "e6da3564",
   "metadata": {},
   "outputs": [],
   "source": [
    "def interveningWeekdays(start, end, inclusive=True, weekdays=[0, 1, 2, 3, 4]):\n",
    "    # a useful function from Stackoverflow, to count particular weekdays in date range\n",
    "    if isinstance(start, dt.datetime):\n",
    "        start = start.date()               # make a date from a datetime\n",
    "\n",
    "    if isinstance(end, dt.datetime):\n",
    "        end = end.date()                   # make a date from a datetime\n",
    "\n",
    "    if end < start:\n",
    "        # you can opt to return 0 or swap the dates around instead\n",
    "        # raise ValueError(\"start date must be before end date\")\n",
    "        end, start = start, end\n",
    "\n",
    "    if inclusive:\n",
    "        end += dt.timedelta(days=1)  # correct for inclusivity\n",
    "\n",
    "    try:\n",
    "        # collapse duplicate weekdays\n",
    "        weekdays = {weekday % 7 for weekday in weekdays}\n",
    "    except TypeError:\n",
    "        weekdays = [weekdays % 7]\n",
    "        \n",
    "    ref = dt.date.today()                    # choose a reference date\n",
    "    ref -= dt.timedelta(days=ref.weekday())  # and normalize its weekday\n",
    "\n",
    "    return sum((ref_plus - start).days // 7 - (ref_plus - end).days // 7\n",
    "               for ref_plus in\n",
    "               (ref + dt.timedelta(days=weekday) for weekday in weekdays))\n",
    "\n",
    "def countDaysInIntervalHelper(calendarrow):\n",
    "    # function to find number of days of service operation based on calendars.txt-entry\n",
    "    servicepattern = calendarrow.loc[\"monday\":\"sunday\"].to_numpy()\n",
    "    servicedays = servicepattern.nonzero()[0].tolist()\n",
    "\n",
    "    startdate = dt.datetime.strptime(str(int(calendarrow.get(\"start_date\"))),\"%Y%m%d\")\n",
    "    enddate = dt.datetime.strptime(str(int(calendarrow.get(\"end_date\"))),\"%Y%m%d\")\n",
    "    return(interveningWeekdays(startdate, enddate, weekdays = servicedays))\n",
    "\n",
    "### Helper function to compare dates\n",
    "def isInIntervalHelper(n, interval):\n",
    "    '''works only on ARRAY-like n'''\n",
    "    return(np.where((n <= max(interval)) & (n >= min(interval)), True, False))"
   ]
  },
  {
   "cell_type": "code",
   "execution_count": 5,
   "id": "61724e79",
   "metadata": {},
   "outputs": [],
   "source": [
    "# function to add frequencies... let's hope this is right\n",
    "def addCountToCalendar(calendar_df, calendar_dates_df):\n",
    "    # enriches stop_times DataFrame with information about how often in the feed\n",
    "    # period each stop is made\n",
    "    \n",
    "\n",
    "    print(\"Getting number of service days for each service\")\n",
    "    # use service_id to find service...\n",
    "    calendar_df[\"days_count\"] = calendar_df.apply(countDaysInIntervalHelper, axis=1)    \n",
    "\n",
    "    print(\"\\t...aggregating calendar\")\n",
    "    calendar_df = calendar_dates_df.groupby([\"service_id\", \"exception_type\"], as_index=False\n",
    "                              ).count(\n",
    "                            ).pivot(index = \"service_id\", columns = \"exception_type\", values = \"date\"\n",
    "                            ).reset_index(\n",
    "                            ).merge(calendar_df, on=\"service_id\", how=\"right\"\n",
    "                            )[['service_id', 1, 2, 'monday',\n",
    "                                  'tuesday',  'wednesday',   'thursday',     'friday',   'saturday',\n",
    "                                  'sunday', 'start_date',   'end_date', 'days_count']]\n",
    "    \n",
    "    print(\"\\t...calculating total in calendar\")\n",
    "    calendar_df.days_count= (calendar_df.days_count + calendar_df[1].fillna(0) - calendar_df[2].fillna(0)\n",
    "                            )\n",
    "    \n",
    "    return(calendar_df)"
   ]
  },
  {
   "cell_type": "code",
   "execution_count": 6,
   "id": "86188058",
   "metadata": {},
   "outputs": [],
   "source": [
    "def feedDays(calendar_df, calendar_dates_df):\n",
    "    ''' Enriches counted dataframe with average daily count for each stop,\n",
    "    using the feed's calendar information to infer the number of days\n",
    "    '''\n",
    "    # calculate\n",
    "    startdate =  min(pd.to_datetime(calendar_df.start_date,format=\"%Y%m%d\"))\n",
    "    enddate = max(pd.to_datetime(calendar_df.end_date,format=\"%Y%m%d\"))\n",
    "    excdates = pd.to_datetime(calendar_dates_df.date,format=\"%Y%m%d\")\n",
    "\n",
    "    firstdate = min(startdate, min(excdates))\n",
    "    lastdate = max(enddate, max(excdates))\n",
    "\n",
    "    ndays = (lastdate - firstdate).days\n",
    "    \n",
    "    return(ndays)"
   ]
  },
  {
   "cell_type": "code",
   "execution_count": 7,
   "id": "1c3d823a-6ef5-421f-87f5-509dfb1bd5be",
   "metadata": {},
   "outputs": [],
   "source": [
    "calendar_df = pd.read_csv(rawdatadir + \"calendar.txt\")\n",
    "calendar_dates_df = pd.read_csv(rawdatadir + \"calendar_dates.txt\")"
   ]
  },
  {
   "cell_type": "code",
   "execution_count": 8,
   "id": "8f7b3f40-5ac1-4376-a2bd-42dcd7c4f40a",
   "metadata": {},
   "outputs": [
    {
     "name": "stdout",
     "output_type": "stream",
     "text": [
      "Getting number of service days for each service\n",
      "\t...aggregating calendar\n",
      "\t...calculating total in calendar\n"
     ]
    }
   ],
   "source": [
    "calendar_df = addCountToCalendar(calendar_df, calendar_dates_df)"
   ]
  },
  {
   "cell_type": "code",
   "execution_count": 9,
   "id": "30fbe7f6-ecd2-480d-b0d3-ef11dddd783e",
   "metadata": {},
   "outputs": [],
   "source": [
    "ndays = feedDays(calendar_df, calendar_dates_df)"
   ]
  },
  {
   "cell_type": "code",
   "execution_count": 10,
   "id": "fb625411-870e-44f5-a1f6-843a403a5e6b",
   "metadata": {},
   "outputs": [
    {
     "data": {
      "text/html": [
       "<div>\n",
       "<style scoped>\n",
       "    .dataframe tbody tr th:only-of-type {\n",
       "        vertical-align: middle;\n",
       "    }\n",
       "\n",
       "    .dataframe tbody tr th {\n",
       "        vertical-align: top;\n",
       "    }\n",
       "\n",
       "    .dataframe thead th {\n",
       "        text-align: right;\n",
       "    }\n",
       "</style>\n",
       "<table border=\"1\" class=\"dataframe\">\n",
       "  <thead>\n",
       "    <tr style=\"text-align: right;\">\n",
       "      <th></th>\n",
       "      <th>service_id</th>\n",
       "      <th>1</th>\n",
       "      <th>2</th>\n",
       "      <th>monday</th>\n",
       "      <th>tuesday</th>\n",
       "      <th>wednesday</th>\n",
       "      <th>thursday</th>\n",
       "      <th>friday</th>\n",
       "      <th>saturday</th>\n",
       "      <th>sunday</th>\n",
       "      <th>start_date</th>\n",
       "      <th>end_date</th>\n",
       "      <th>days_count</th>\n",
       "    </tr>\n",
       "  </thead>\n",
       "  <tbody>\n",
       "    <tr>\n",
       "      <th>0</th>\n",
       "      <td>1</td>\n",
       "      <td>NaN</td>\n",
       "      <td>7.0</td>\n",
       "      <td>1</td>\n",
       "      <td>1</td>\n",
       "      <td>1</td>\n",
       "      <td>1</td>\n",
       "      <td>1</td>\n",
       "      <td>0</td>\n",
       "      <td>0</td>\n",
       "      <td>20211001</td>\n",
       "      <td>20211211</td>\n",
       "      <td>44.0</td>\n",
       "    </tr>\n",
       "    <tr>\n",
       "      <th>1</th>\n",
       "      <td>2</td>\n",
       "      <td>NaN</td>\n",
       "      <td>9.0</td>\n",
       "      <td>1</td>\n",
       "      <td>1</td>\n",
       "      <td>1</td>\n",
       "      <td>1</td>\n",
       "      <td>1</td>\n",
       "      <td>1</td>\n",
       "      <td>1</td>\n",
       "      <td>20211001</td>\n",
       "      <td>20211211</td>\n",
       "      <td>63.0</td>\n",
       "    </tr>\n",
       "    <tr>\n",
       "      <th>2</th>\n",
       "      <td>3</td>\n",
       "      <td>6.0</td>\n",
       "      <td>3.0</td>\n",
       "      <td>0</td>\n",
       "      <td>0</td>\n",
       "      <td>0</td>\n",
       "      <td>0</td>\n",
       "      <td>0</td>\n",
       "      <td>1</td>\n",
       "      <td>1</td>\n",
       "      <td>20211001</td>\n",
       "      <td>20211211</td>\n",
       "      <td>24.0</td>\n",
       "    </tr>\n",
       "    <tr>\n",
       "      <th>3</th>\n",
       "      <td>4</td>\n",
       "      <td>1.0</td>\n",
       "      <td>1.0</td>\n",
       "      <td>0</td>\n",
       "      <td>0</td>\n",
       "      <td>0</td>\n",
       "      <td>0</td>\n",
       "      <td>0</td>\n",
       "      <td>0</td>\n",
       "      <td>1</td>\n",
       "      <td>20211001</td>\n",
       "      <td>20211211</td>\n",
       "      <td>10.0</td>\n",
       "    </tr>\n",
       "    <tr>\n",
       "      <th>4</th>\n",
       "      <td>5</td>\n",
       "      <td>6.0</td>\n",
       "      <td>1.0</td>\n",
       "      <td>0</td>\n",
       "      <td>0</td>\n",
       "      <td>0</td>\n",
       "      <td>0</td>\n",
       "      <td>0</td>\n",
       "      <td>0</td>\n",
       "      <td>1</td>\n",
       "      <td>20211001</td>\n",
       "      <td>20211211</td>\n",
       "      <td>15.0</td>\n",
       "    </tr>\n",
       "  </tbody>\n",
       "</table>\n",
       "</div>"
      ],
      "text/plain": [
       "   service_id    1    2  monday  tuesday  wednesday  thursday  friday  \\\n",
       "0           1  NaN  7.0       1        1          1         1       1   \n",
       "1           2  NaN  9.0       1        1          1         1       1   \n",
       "2           3  6.0  3.0       0        0          0         0       0   \n",
       "3           4  1.0  1.0       0        0          0         0       0   \n",
       "4           5  6.0  1.0       0        0          0         0       0   \n",
       "\n",
       "   saturday  sunday  start_date  end_date  days_count  \n",
       "0         0       0    20211001  20211211        44.0  \n",
       "1         1       1    20211001  20211211        63.0  \n",
       "2         1       1    20211001  20211211        24.0  \n",
       "3         0       1    20211001  20211211        10.0  \n",
       "4         0       1    20211001  20211211        15.0  "
      ]
     },
     "execution_count": 10,
     "metadata": {},
     "output_type": "execute_result"
    }
   ],
   "source": [
    "calendar_df.head()"
   ]
  },
  {
   "cell_type": "markdown",
   "id": "0af2ac02-c2b0-47cd-8477-ee00ce5b2f9f",
   "metadata": {
    "jp-MarkdownHeadingCollapsed": true,
    "tags": []
   },
   "source": [
    "# Get things into database"
   ]
  },
  {
   "cell_type": "markdown",
   "id": "16a5af5d-b3a6-49bb-a85c-ac8cb16592c9",
   "metadata": {},
   "source": [
    "## calendar"
   ]
  },
  {
   "cell_type": "code",
   "execution_count": 11,
   "id": "9fce765a-5d77-4a57-85e8-cf3542ed2cd3",
   "metadata": {},
   "outputs": [],
   "source": [
    "calendar_df.to_sql(\"calendar\", 'sqlite:///' + outpath,\n",
    "          if_exists = 'replace')"
   ]
  },
  {
   "cell_type": "markdown",
   "id": "5551edb3-0099-426d-a4c9-f2d1193761ba",
   "metadata": {},
   "source": [
    "## trips, stops"
   ]
  },
  {
   "cell_type": "code",
   "execution_count": null,
   "id": "4212927f-5da0-4f8d-8f0c-52ecb6886dcc",
   "metadata": {},
   "outputs": [],
   "source": [
    "for table_name in ['stops','trips']: #'stop_times','calendar'\n",
    "    print(table_name)\n",
    "\n",
    "    df = dd.read_csv(rawdatadir + table_name + \".txt\", dtype={'level_id': 'float64',\n",
    "                                                              'parent_station': 'object',\n",
    "                                                              'platform_code': 'object',\n",
    "                                                              'stop_headsign': 'object',\n",
    "                                                              'trip_short_name': 'object'\n",
    "                                                              }\n",
    "\n",
    "                                                              )\n",
    "    \n",
    "    df.to_sql(table_name,'sqlite:///'+outpath,\n",
    "          if_exists = 'replace')"
   ]
  },
  {
   "cell_type": "markdown",
   "id": "dd575cc3-cf33-4a19-ac72-afa4c9dd9e02",
   "metadata": {},
   "source": [
    "## stop_times"
   ]
  },
  {
   "cell_type": "code",
   "execution_count": null,
   "id": "1b224129-4ae5-4535-9765-9a0d3d926080",
   "metadata": {},
   "outputs": [],
   "source": [
    "start = dt.datetime.now()\n",
    "chunksize = 200000\n",
    "j = 0\n",
    "\n",
    "for df in pd.read_csv(rawdatadir + 'stop_times' + '.txt', nrows = 2000000, chunksize=chunksize, iterator=True, encoding='utf-8'):\n",
    "    j+=1\n",
    "#     print(j)\n",
    "    if j%10==0:\n",
    "        print('\\t{} seconds: completed {} rows'.format((dt.datetime.now() - start).seconds, j*chunksize))\n",
    "\n",
    "#     print(\"\\t...\", len(result_df))\n",
    "    if j==1:\n",
    "        df.to_csv(outdir + \"stop_times.txt\", mode = 'w')\n",
    "    else:\n",
    "        df.to_csv(outdir + \"stop_times.txt\", mode = 'a')\n"
   ]
  },
  {
   "cell_type": "code",
   "execution_count": null,
   "id": "566910f3-8b18-4822-8ea3-878d88344d4c",
   "metadata": {},
   "outputs": [],
   "source": [
    "%%time\n",
    "table_name = 'stop_times'\n",
    "df = dd.read_csv(rawdatadir + table_name + \".txt\", \n",
    "                 dtype={'Unnamed: 0': 'float64',\n",
    "                       'drop_off_type': 'object',\n",
    "                       'pickup_type': 'object',\n",
    "                       'stop_sequence': 'object',\n",
    "                       'trip_id': 'object',\n",
    "                       'stop_headsign': 'object'}\n",
    "                )\n",
    "df.to_sql(table_name,\n",
    "          'sqlite:///'+outpath,\n",
    "          if_exists = 'replace')"
   ]
  },
  {
   "cell_type": "code",
   "execution_count": null,
   "id": "a8ecf516-1d60-4a08-89b4-c7c3ffa4c3ae",
   "metadata": {},
   "outputs": [],
   "source": [
    "%%time\n",
    "table_name = 'stop_times'\n",
    "j=0\n",
    "for df in pd.read_csv(rawdatadir + table_name + \".txt\",\n",
    "                      chunksize=chunksize, iterator=True, encoding='utf-8',\n",
    "                       dtype={'Unnamed: 0': 'float64',\n",
    "                       'drop_off_type': 'object',\n",
    "                       'pickup_type': 'object',\n",
    "                       'stop_sequence': 'object',\n",
    "                       'trip_id': 'object',\n",
    "                       'stop_headsign': 'object'}\n",
    "                     ):\n",
    "    j+=1\n",
    "    if j==1:\n",
    "        df.to_sql(table_name, dbout, if_exists='replace')\n",
    "    else:\n",
    "        df.to_sql(table_name, dbout, if_exists='append')"
   ]
  },
  {
   "cell_type": "code",
   "execution_count": null,
   "id": "37f9bed1-d484-40ce-8d2e-601e58351f35",
   "metadata": {},
   "outputs": [],
   "source": [
    "%%time\n",
    "calendar_dd.size.compute()"
   ]
  },
  {
   "cell_type": "code",
   "execution_count": null,
   "id": "a10cfd06-35f4-4b86-95b6-840cce1dce17",
   "metadata": {},
   "outputs": [],
   "source": [
    "calendar_dd.to_sql(\"calendar\", 'sqlite:///' + outpath)"
   ]
  },
  {
   "cell_type": "markdown",
   "id": "8c8d46c1-2510-4083-b97d-3763cf40a34a",
   "metadata": {},
   "source": [
    "# calendar -> trips [service_id, count]"
   ]
  },
  {
   "cell_type": "markdown",
   "id": "69ba5ada-0fac-471f-9ba0-fa1a75d8e259",
   "metadata": {
    "tags": []
   },
   "source": [
    "# trips -> stop_times [trip_id, count]"
   ]
  },
  {
   "cell_type": "code",
   "execution_count": 12,
   "id": "a7d7dd77-f888-4020-87e8-77503456e53d",
   "metadata": {},
   "outputs": [],
   "source": [
    "%load_ext sql\n",
    "\n",
    "%sql sqlite:////home/jupyter-maita.schade/VW_Data_Hub/Gap_Map/out/delfi/20211015_fahrplaene_gesamtdeutschland_gtfs_test.db\n"
   ]
  },
  {
   "cell_type": "code",
   "execution_count": 18,
   "id": "53ce8ea7-bf33-49ff-a1f4-de05b0bd6def",
   "metadata": {},
   "outputs": [
    {
     "name": "stdout",
     "output_type": "stream",
     "text": [
      " * sqlite:////home/jupyter-maita.schade/VW_Data_Hub/Gap_Map/out/delfi/20211015_fahrplaene_gesamtdeutschland_gtfs_test.db\n",
      "Done.\n"
     ]
    },
    {
     "data": {
      "text/html": [
       "<table>\n",
       "    <tr>\n",
       "        <th>name</th>\n",
       "    </tr>\n",
       "    <tr>\n",
       "        <td>stop_times</td>\n",
       "    </tr>\n",
       "    <tr>\n",
       "        <td>stops</td>\n",
       "    </tr>\n",
       "    <tr>\n",
       "        <td>trips</td>\n",
       "    </tr>\n",
       "    <tr>\n",
       "        <td>calendar</td>\n",
       "    </tr>\n",
       "</table>"
      ],
      "text/plain": [
       "[('stop_times',), ('stops',), ('trips',), ('calendar',)]"
      ]
     },
     "execution_count": 18,
     "metadata": {},
     "output_type": "execute_result"
    }
   ],
   "source": [
    "%%sql \n",
    "SELECT \n",
    "    name\n",
    "FROM \n",
    "    sqlite_schema\n",
    "WHERE \n",
    "    type ='table' AND \n",
    "    name NOT LIKE 'sqlite_%';"
   ]
  },
  {
   "cell_type": "markdown",
   "id": "639475f7-d3bb-4b47-b5e9-d717e4abc2f3",
   "metadata": {},
   "source": [
    "    CREATE TABLE n_stops AS\n",
    "       ...> SELECT stop_id, SUM(days_count)\n",
    "       ...> FROM stop_times\n",
    "       ...> LEFT JOIN trips ON trips.trip_id = stop_times.trip_id\n",
    "       ...> LEFT JOIN calendar ON trips.service_id = calendar.service_id\n",
    "       ...> GROUP BY stop_id;\n"
   ]
  },
  {
   "cell_type": "code",
   "execution_count": null,
   "id": "2c132d39-45e6-405c-8c20-c66a158bc3cd",
   "metadata": {},
   "outputs": [
    {
     "name": "stdout",
     "output_type": "stream",
     "text": [
      " * sqlite:////home/jupyter-maita.schade/VW_Data_Hub/Gap_Map/out/delfi/20211015_fahrplaene_gesamtdeutschland_gtfs_test.db\n"
     ]
    }
   ],
   "source": [
    "%%sql \n",
    "CREATE TABLE n_stops AS \n",
    "SELECT stop_id, SUM(days_count) \n",
    "FROM stop_times \n",
    "LEFT JOIN trips ON trips.trip_id = stop_times.trip_id \n",
    "LEFT JOIN calendar \n",
    "ON trips.service_id = calendar.service_id \n",
    "GROUP BY stop_id;"
   ]
  },
  {
   "cell_type": "code",
   "execution_count": null,
   "id": "6918e5a6-bd94-4a7d-84be-8c52dedc12a1",
   "metadata": {},
   "outputs": [],
   "source": [
    "pd.read_sql_query('SELECT * '\n",
    "                       'FROM n_stops '\n",
    "                       'JOIN stops ON n_stops.stop_id = stops.stop_id',\n",
    "                  dbout\n",
    "                 )"
   ]
  },
  {
   "cell_type": "markdown",
   "id": "75743b88-4faf-4580-8597-55c826458791",
   "metadata": {},
   "source": [
    "# Group stop_times [stop_id]"
   ]
  },
  {
   "cell_type": "markdown",
   "id": "7faa916f-98f5-4b8a-b4c1-2990c54f4248",
   "metadata": {},
   "source": [
    "# stop_times -> stops"
   ]
  }
 ],
 "metadata": {
  "kernelspec": {
   "display_name": "gapmap",
   "language": "python",
   "name": "gapmap"
  },
  "language_info": {
   "codemirror_mode": {
    "name": "ipython",
    "version": 3
   },
   "file_extension": ".py",
   "mimetype": "text/x-python",
   "name": "python",
   "nbconvert_exporter": "python",
   "pygments_lexer": "ipython3",
   "version": "3.8.12"
  }
 },
 "nbformat": 4,
 "nbformat_minor": 5
}
