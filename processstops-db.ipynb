{
 "cells": [
  {
   "cell_type": "code",
   "execution_count": 1,
   "id": "657d3814",
   "metadata": {},
   "outputs": [],
   "source": [
    "# load libraries\n",
    "import pandas as pd\n",
    "import os, re\n",
    "import datetime as dt\n",
    "from sqlalchemy import create_engine, text\n",
    "import zipfile\n",
    "from dask import dataframe as dd"
   ]
  },
  {
   "cell_type": "markdown",
   "id": "5551033d-401c-4208-a5d3-d77370709268",
   "metadata": {},
   "source": [
    "## Setup"
   ]
  },
  {
   "cell_type": "code",
   "execution_count": 2,
   "id": "b0dc43ec-b47c-463a-825c-11123b6ab510",
   "metadata": {},
   "outputs": [],
   "source": [
    "# Welches Jahr?\n",
    "jahr = \"2021\"\n",
    "# Welcher Zip?\n",
    "zipname = '2021_reissue_2' #\"20211105_fahrplaene_gesamtdeutschland_gtfs\"\n",
    "\n",
    "# define paths\n",
    "workingdir = \"/home/jupyter-maita.schade/VW_Data_Hub/Gap_Map/\" #\"/home/maita/data/\"#\n",
    "#storagedir = \"smb://192.168.90.30/allmende%20verkehr/4%20Projekte/2%20Projekte%20Mobilitätswende/ÖV-Deutschlandkarte%20(Gap-Map)/Berechnungen/raw/gtfs/\"\n",
    "\n",
    "# constructed paths\n",
    "rawdir = workingdir + \"raw/\"\n",
    "rawdatadir = rawdir + \"gtfs/\" + '2021/'# + jahr + \"/\"\n",
    "outdir = workingdir + \"out/\" + '2021/'# + jahr + \"/\"\n",
    "#inpath = \"{0}{1}_{2}.db\".format(rawdatadir,jahr,datum)\n",
    "zippath = rawdatadir + zipname + \".zip\"\n",
    "\n",
    "# set up zip file as default for functions\n",
    "zf = zipfile.ZipFile(zippath) # this is the raw stuff"
   ]
  },
  {
   "cell_type": "code",
   "execution_count": 3,
   "id": "c63176b7-d16c-4414-8a06-c52691d667f0",
   "metadata": {},
   "outputs": [],
   "source": [
    "# choose file-based output connection\n",
    "outpath = '{0}{1}.db'.format(outdir,zipname)\n",
    "# set up DB connection\n",
    "dbout = create_engine('sqlite:///' + outpath)"
   ]
  },
  {
   "cell_type": "markdown",
   "id": "48fc197e-2308-469a-b01c-a98f6120b55d",
   "metadata": {
    "tags": []
   },
   "source": [
    "# Count service_ids"
   ]
  },
  {
   "cell_type": "code",
   "execution_count": 4,
   "id": "e6da3564",
   "metadata": {},
   "outputs": [],
   "source": [
    "def interveningWeekdays(start, end, inclusive=True, weekdays=[0, 1, 2, 3, 4]):\n",
    "    # a useful function from Stackoverflow, to count particular weekdays in date range\n",
    "    if isinstance(start, dt.datetime):\n",
    "        start = start.date()               # make a date from a datetime\n",
    "\n",
    "    if isinstance(end, dt.datetime):\n",
    "        end = end.date()                   # make a date from a datetime\n",
    "\n",
    "    if end < start:\n",
    "        # you can opt to return 0 or swap the dates around instead\n",
    "        # raise ValueError(\"start date must be before end date\")\n",
    "        end, start = start, end\n",
    "\n",
    "    if inclusive:\n",
    "        end += dt.timedelta(days=1)  # correct for inclusivity\n",
    "\n",
    "    try:\n",
    "        # collapse duplicate weekdays\n",
    "        weekdays = {weekday % 7 for weekday in weekdays}\n",
    "    except TypeError:\n",
    "        weekdays = [weekdays % 7]\n",
    "        \n",
    "    ref = dt.date.today()                    # choose a reference date\n",
    "    ref -= dt.timedelta(days=ref.weekday())  # and normalize its weekday\n",
    "\n",
    "    return sum((ref_plus - start).days // 7 - (ref_plus - end).days // 7\n",
    "               for ref_plus in\n",
    "               (ref + dt.timedelta(days=weekday) for weekday in weekdays))\n",
    "\n",
    "def countDaysInIntervalHelper(calendarrow):\n",
    "    # function to find number of days of service operation based on calendars.txt-entry\n",
    "    servicepattern = calendarrow.loc[\"monday\":\"sunday\"].to_numpy()\n",
    "    servicedays = servicepattern.nonzero()[0].tolist()\n",
    "\n",
    "    startdate = dt.datetime.strptime(str(int(calendarrow.get(\"start_date\"))),\"%Y%m%d\")\n",
    "    enddate = dt.datetime.strptime(str(int(calendarrow.get(\"end_date\"))),\"%Y%m%d\")\n",
    "    return(interveningWeekdays(startdate, enddate, weekdays = servicedays))\n",
    "\n",
    "### Helper function to compare dates\n",
    "def isInIntervalHelper(n, interval):\n",
    "    '''works only on ARRAY-like n'''\n",
    "    return(np.where((n <= max(interval)) & (n >= min(interval)), True, False))"
   ]
  },
  {
   "cell_type": "code",
   "execution_count": 5,
   "id": "61724e79",
   "metadata": {},
   "outputs": [],
   "source": [
    "# function to add frequencies... let's hope this is right\n",
    "def addCountToCalendar(calendar_df, calendar_dates_df):\n",
    "    # enriches stop_times DataFrame with information about how often in the feed\n",
    "    # period each stop is made\n",
    "    \n",
    "\n",
    "    print(\"Getting number of service days for each service\")\n",
    "    # use service_id to find service...\n",
    "    calendar_df[\"days_count\"] = calendar_df.apply(countDaysInIntervalHelper, axis=1)    \n",
    "\n",
    "    print(\"\\t...aggregating calendar\")\n",
    "    calendar_df = calendar_dates_df.groupby([\"service_id\", \"exception_type\"], as_index=False\n",
    "                              ).count(\n",
    "                            ).pivot(index = \"service_id\", columns = \"exception_type\", values = \"date\"\n",
    "                            ).reset_index(\n",
    "                            ).merge(calendar_df, on=\"service_id\", how=\"right\"\n",
    "                            )[['service_id', 1, 2, 'monday',\n",
    "                                  'tuesday',  'wednesday',   'thursday',     'friday',   'saturday',\n",
    "                                  'sunday', 'start_date',   'end_date', 'days_count']]\n",
    "    \n",
    "    print(\"\\t...calculating total in calendar\")\n",
    "    calendar_df.days_count= (calendar_df.days_count + calendar_df[1].fillna(0) - calendar_df[2].fillna(0)\n",
    "                            )\n",
    "    \n",
    "    return(calendar_df)"
   ]
  },
  {
   "cell_type": "code",
   "execution_count": 6,
   "id": "86188058",
   "metadata": {},
   "outputs": [],
   "source": [
    "def feedDays(calendar_df, calendar_dates_df):\n",
    "    ''' Enriches counted dataframe with average daily count for each stop,\n",
    "    using the feed's calendar information to infer the number of days\n",
    "    '''\n",
    "    # calculate\n",
    "    startdate =  min(pd.to_datetime(calendar_df.start_date,format=\"%Y%m%d\"))\n",
    "    enddate = max(pd.to_datetime(calendar_df.end_date,format=\"%Y%m%d\"))\n",
    "    excdates = pd.to_datetime(calendar_dates_df.date,format=\"%Y%m%d\")\n",
    "\n",
    "    firstdate = min(startdate, min(excdates))\n",
    "    lastdate = max(enddate, max(excdates))\n",
    "\n",
    "    ndays = (lastdate - firstdate).days\n",
    "    \n",
    "    return(ndays)"
   ]
  },
  {
   "cell_type": "code",
   "execution_count": 7,
   "id": "1c3d823a-6ef5-421f-87f5-509dfb1bd5be",
   "metadata": {},
   "outputs": [],
   "source": [
    "calendar_df = pd.read_csv(zf.open(\"calendar.txt\"))\n",
    "calendar_dates_df = pd.read_csv(zf.open(\"calendar_dates.txt\"))"
   ]
  },
  {
   "cell_type": "code",
   "execution_count": 8,
   "id": "8f7b3f40-5ac1-4376-a2bd-42dcd7c4f40a",
   "metadata": {},
   "outputs": [
    {
     "name": "stdout",
     "output_type": "stream",
     "text": [
      "Getting number of service days for each service\n",
      "\t...aggregating calendar\n",
      "\t...calculating total in calendar\n"
     ]
    }
   ],
   "source": [
    "calendar_df = addCountToCalendar(calendar_df, calendar_dates_df)"
   ]
  },
  {
   "cell_type": "code",
   "execution_count": 9,
   "id": "30fbe7f6-ecd2-480d-b0d3-ef11dddd783e",
   "metadata": {},
   "outputs": [],
   "source": [
    "ndays = feedDays(calendar_df, calendar_dates_df)"
   ]
  },
  {
   "cell_type": "code",
   "execution_count": 10,
   "id": "fb625411-870e-44f5-a1f6-843a403a5e6b",
   "metadata": {},
   "outputs": [
    {
     "data": {
      "text/html": [
       "<div>\n",
       "<style scoped>\n",
       "    .dataframe tbody tr th:only-of-type {\n",
       "        vertical-align: middle;\n",
       "    }\n",
       "\n",
       "    .dataframe tbody tr th {\n",
       "        vertical-align: top;\n",
       "    }\n",
       "\n",
       "    .dataframe thead th {\n",
       "        text-align: right;\n",
       "    }\n",
       "</style>\n",
       "<table border=\"1\" class=\"dataframe\">\n",
       "  <thead>\n",
       "    <tr style=\"text-align: right;\">\n",
       "      <th></th>\n",
       "      <th>service_id</th>\n",
       "      <th>1</th>\n",
       "      <th>2</th>\n",
       "      <th>monday</th>\n",
       "      <th>tuesday</th>\n",
       "      <th>wednesday</th>\n",
       "      <th>thursday</th>\n",
       "      <th>friday</th>\n",
       "      <th>saturday</th>\n",
       "      <th>sunday</th>\n",
       "      <th>start_date</th>\n",
       "      <th>end_date</th>\n",
       "      <th>days_count</th>\n",
       "    </tr>\n",
       "  </thead>\n",
       "  <tbody>\n",
       "    <tr>\n",
       "      <th>0</th>\n",
       "      <td>14135</td>\n",
       "      <td>NaN</td>\n",
       "      <td>NaN</td>\n",
       "      <td>0</td>\n",
       "      <td>0</td>\n",
       "      <td>0</td>\n",
       "      <td>0</td>\n",
       "      <td>0</td>\n",
       "      <td>0</td>\n",
       "      <td>0</td>\n",
       "      <td>20210822</td>\n",
       "      <td>20210822</td>\n",
       "      <td>0.0</td>\n",
       "    </tr>\n",
       "    <tr>\n",
       "      <th>1</th>\n",
       "      <td>16728</td>\n",
       "      <td>2.0</td>\n",
       "      <td>NaN</td>\n",
       "      <td>0</td>\n",
       "      <td>0</td>\n",
       "      <td>0</td>\n",
       "      <td>0</td>\n",
       "      <td>0</td>\n",
       "      <td>0</td>\n",
       "      <td>1</td>\n",
       "      <td>20201224</td>\n",
       "      <td>20210103</td>\n",
       "      <td>4.0</td>\n",
       "    </tr>\n",
       "    <tr>\n",
       "      <th>2</th>\n",
       "      <td>3549</td>\n",
       "      <td>2.0</td>\n",
       "      <td>NaN</td>\n",
       "      <td>0</td>\n",
       "      <td>0</td>\n",
       "      <td>0</td>\n",
       "      <td>0</td>\n",
       "      <td>0</td>\n",
       "      <td>0</td>\n",
       "      <td>1</td>\n",
       "      <td>20201224</td>\n",
       "      <td>20210106</td>\n",
       "      <td>4.0</td>\n",
       "    </tr>\n",
       "    <tr>\n",
       "      <th>3</th>\n",
       "      <td>22645</td>\n",
       "      <td>2.0</td>\n",
       "      <td>NaN</td>\n",
       "      <td>0</td>\n",
       "      <td>0</td>\n",
       "      <td>0</td>\n",
       "      <td>0</td>\n",
       "      <td>0</td>\n",
       "      <td>0</td>\n",
       "      <td>1</td>\n",
       "      <td>20201225</td>\n",
       "      <td>20210103</td>\n",
       "      <td>4.0</td>\n",
       "    </tr>\n",
       "    <tr>\n",
       "      <th>4</th>\n",
       "      <td>8356</td>\n",
       "      <td>1.0</td>\n",
       "      <td>NaN</td>\n",
       "      <td>0</td>\n",
       "      <td>0</td>\n",
       "      <td>0</td>\n",
       "      <td>0</td>\n",
       "      <td>0</td>\n",
       "      <td>0</td>\n",
       "      <td>1</td>\n",
       "      <td>20201225</td>\n",
       "      <td>20210103</td>\n",
       "      <td>3.0</td>\n",
       "    </tr>\n",
       "  </tbody>\n",
       "</table>\n",
       "</div>"
      ],
      "text/plain": [
       "   service_id    1   2  monday  tuesday  wednesday  thursday  friday  \\\n",
       "0       14135  NaN NaN       0        0          0         0       0   \n",
       "1       16728  2.0 NaN       0        0          0         0       0   \n",
       "2        3549  2.0 NaN       0        0          0         0       0   \n",
       "3       22645  2.0 NaN       0        0          0         0       0   \n",
       "4        8356  1.0 NaN       0        0          0         0       0   \n",
       "\n",
       "   saturday  sunday  start_date  end_date  days_count  \n",
       "0         0       0    20210822  20210822         0.0  \n",
       "1         0       1    20201224  20210103         4.0  \n",
       "2         0       1    20201224  20210106         4.0  \n",
       "3         0       1    20201225  20210103         4.0  \n",
       "4         0       1    20201225  20210103         3.0  "
      ]
     },
     "execution_count": 10,
     "metadata": {},
     "output_type": "execute_result"
    }
   ],
   "source": [
    "calendar_df.head()"
   ]
  },
  {
   "cell_type": "markdown",
   "id": "836c7fa1-565c-440b-b0ec-d8dca1366703",
   "metadata": {
    "tags": []
   },
   "source": [
    "# Pick out routes"
   ]
  },
  {
   "cell_type": "code",
   "execution_count": 11,
   "id": "325d4895-ea19-49fa-9ca5-028f0ce63bc4",
   "metadata": {},
   "outputs": [],
   "source": [
    "fv_routes = pd.read_csv(zipfile.ZipFile(\"/home/jupyter-maita.schade/VW_Data_Hub/Gap_Map/raw/gtfs/2021/brosi_fv_211028.zip\"\n",
    "                        ).open(\"routes.txt\"))"
   ]
  },
  {
   "cell_type": "code",
   "execution_count": 12,
   "id": "52c7c155-1b9e-4c50-bd3c-001da32d2249",
   "metadata": {},
   "outputs": [
    {
     "data": {
      "text/html": [
       "<div>\n",
       "<style scoped>\n",
       "    .dataframe tbody tr th:only-of-type {\n",
       "        vertical-align: middle;\n",
       "    }\n",
       "\n",
       "    .dataframe tbody tr th {\n",
       "        vertical-align: top;\n",
       "    }\n",
       "\n",
       "    .dataframe thead th {\n",
       "        text-align: right;\n",
       "    }\n",
       "</style>\n",
       "<table border=\"1\" class=\"dataframe\">\n",
       "  <thead>\n",
       "    <tr style=\"text-align: right;\">\n",
       "      <th></th>\n",
       "      <th>route_long_name</th>\n",
       "      <th>route_short_name</th>\n",
       "      <th>agency_id</th>\n",
       "      <th>route_type</th>\n",
       "      <th>route_id</th>\n",
       "    </tr>\n",
       "  </thead>\n",
       "  <tbody>\n",
       "    <tr>\n",
       "      <th>0</th>\n",
       "      <td>EC</td>\n",
       "      <td>EC</td>\n",
       "      <td>1</td>\n",
       "      <td>2</td>\n",
       "      <td>6</td>\n",
       "    </tr>\n",
       "    <tr>\n",
       "      <th>1</th>\n",
       "      <td>EN</td>\n",
       "      <td>EN</td>\n",
       "      <td>1</td>\n",
       "      <td>2</td>\n",
       "      <td>10</td>\n",
       "    </tr>\n",
       "    <tr>\n",
       "      <th>2</th>\n",
       "      <td>EuroCity</td>\n",
       "      <td>EC</td>\n",
       "      <td>1</td>\n",
       "      <td>2</td>\n",
       "      <td>9</td>\n",
       "    </tr>\n",
       "    <tr>\n",
       "      <th>3</th>\n",
       "      <td>EuroCity-Express</td>\n",
       "      <td>ECE</td>\n",
       "      <td>1</td>\n",
       "      <td>2</td>\n",
       "      <td>8</td>\n",
       "    </tr>\n",
       "    <tr>\n",
       "      <th>4</th>\n",
       "      <td>EuroNight</td>\n",
       "      <td>EN</td>\n",
       "      <td>1</td>\n",
       "      <td>2</td>\n",
       "      <td>5</td>\n",
       "    </tr>\n",
       "    <tr>\n",
       "      <th>5</th>\n",
       "      <td>IC</td>\n",
       "      <td>IC</td>\n",
       "      <td>1</td>\n",
       "      <td>2</td>\n",
       "      <td>7</td>\n",
       "    </tr>\n",
       "    <tr>\n",
       "      <th>6</th>\n",
       "      <td>ICE</td>\n",
       "      <td>ICE</td>\n",
       "      <td>1</td>\n",
       "      <td>2</td>\n",
       "      <td>4</td>\n",
       "    </tr>\n",
       "    <tr>\n",
       "      <th>7</th>\n",
       "      <td>Intercity</td>\n",
       "      <td>IC</td>\n",
       "      <td>1</td>\n",
       "      <td>2</td>\n",
       "      <td>3</td>\n",
       "    </tr>\n",
       "    <tr>\n",
       "      <th>8</th>\n",
       "      <td>Intercity-Express</td>\n",
       "      <td>ICE</td>\n",
       "      <td>1</td>\n",
       "      <td>2</td>\n",
       "      <td>2</td>\n",
       "    </tr>\n",
       "    <tr>\n",
       "      <th>9</th>\n",
       "      <td>RJ</td>\n",
       "      <td>RJ</td>\n",
       "      <td>1</td>\n",
       "      <td>2</td>\n",
       "      <td>1</td>\n",
       "    </tr>\n",
       "  </tbody>\n",
       "</table>\n",
       "</div>"
      ],
      "text/plain": [
       "     route_long_name route_short_name  agency_id  route_type  route_id\n",
       "0                 EC               EC          1           2         6\n",
       "1                 EN               EN          1           2        10\n",
       "2           EuroCity               EC          1           2         9\n",
       "3   EuroCity-Express              ECE          1           2         8\n",
       "4          EuroNight               EN          1           2         5\n",
       "5                 IC               IC          1           2         7\n",
       "6                ICE              ICE          1           2         4\n",
       "7          Intercity               IC          1           2         3\n",
       "8  Intercity-Express              ICE          1           2         2\n",
       "9                 RJ               RJ          1           2         1"
      ]
     },
     "execution_count": 12,
     "metadata": {},
     "output_type": "execute_result"
    }
   ],
   "source": [
    "fv_routes"
   ]
  },
  {
   "cell_type": "code",
   "execution_count": 13,
   "id": "41f8cdb3-9be5-4fcb-9fea-8f211bebede8",
   "metadata": {},
   "outputs": [],
   "source": [
    "routes_df = pd.read_csv(zf.open(\"routes.txt\"))\n",
    "\n",
    "routes_df = fv_routes[[\"route_long_name\"]\n",
    "                ].merge(routes_df, how=\"inner\",on=\"route_long_name\"\n",
    "                ).sort_values(\"route_id\")"
   ]
  },
  {
   "cell_type": "code",
   "execution_count": 14,
   "id": "e45cac51-30d7-47f8-975e-27f636c61add",
   "metadata": {},
   "outputs": [
    {
     "data": {
      "text/html": [
       "<div>\n",
       "<style scoped>\n",
       "    .dataframe tbody tr th:only-of-type {\n",
       "        vertical-align: middle;\n",
       "    }\n",
       "\n",
       "    .dataframe tbody tr th {\n",
       "        vertical-align: top;\n",
       "    }\n",
       "\n",
       "    .dataframe thead th {\n",
       "        text-align: right;\n",
       "    }\n",
       "</style>\n",
       "<table border=\"1\" class=\"dataframe\">\n",
       "  <thead>\n",
       "    <tr style=\"text-align: right;\">\n",
       "      <th></th>\n",
       "      <th>route_long_name</th>\n",
       "      <th>route_short_name</th>\n",
       "      <th>agency_id</th>\n",
       "      <th>route_type</th>\n",
       "      <th>route_id</th>\n",
       "    </tr>\n",
       "  </thead>\n",
       "  <tbody>\n",
       "    <tr>\n",
       "      <th>1</th>\n",
       "      <td>EN</td>\n",
       "      <td>EN</td>\n",
       "      <td>280</td>\n",
       "      <td>2</td>\n",
       "      <td>181</td>\n",
       "    </tr>\n",
       "    <tr>\n",
       "      <th>0</th>\n",
       "      <td>EC</td>\n",
       "      <td>EC</td>\n",
       "      <td>280</td>\n",
       "      <td>2</td>\n",
       "      <td>1600</td>\n",
       "    </tr>\n",
       "    <tr>\n",
       "      <th>3</th>\n",
       "      <td>EuroCity-Express</td>\n",
       "      <td>ECE</td>\n",
       "      <td>280</td>\n",
       "      <td>2</td>\n",
       "      <td>3536</td>\n",
       "    </tr>\n",
       "    <tr>\n",
       "      <th>5</th>\n",
       "      <td>IC</td>\n",
       "      <td>IC</td>\n",
       "      <td>280</td>\n",
       "      <td>2</td>\n",
       "      <td>10647</td>\n",
       "    </tr>\n",
       "    <tr>\n",
       "      <th>4</th>\n",
       "      <td>EuroNight</td>\n",
       "      <td>EN</td>\n",
       "      <td>280</td>\n",
       "      <td>2</td>\n",
       "      <td>11365</td>\n",
       "    </tr>\n",
       "    <tr>\n",
       "      <th>2</th>\n",
       "      <td>EuroCity</td>\n",
       "      <td>EC</td>\n",
       "      <td>280</td>\n",
       "      <td>2</td>\n",
       "      <td>12518</td>\n",
       "    </tr>\n",
       "    <tr>\n",
       "      <th>8</th>\n",
       "      <td>Intercity-Express</td>\n",
       "      <td>ICE</td>\n",
       "      <td>280</td>\n",
       "      <td>2</td>\n",
       "      <td>15627</td>\n",
       "    </tr>\n",
       "    <tr>\n",
       "      <th>7</th>\n",
       "      <td>Intercity</td>\n",
       "      <td>IC</td>\n",
       "      <td>280</td>\n",
       "      <td>2</td>\n",
       "      <td>15690</td>\n",
       "    </tr>\n",
       "    <tr>\n",
       "      <th>9</th>\n",
       "      <td>RJ</td>\n",
       "      <td>RJ</td>\n",
       "      <td>280</td>\n",
       "      <td>2</td>\n",
       "      <td>16892</td>\n",
       "    </tr>\n",
       "    <tr>\n",
       "      <th>6</th>\n",
       "      <td>ICE</td>\n",
       "      <td>ICE</td>\n",
       "      <td>280</td>\n",
       "      <td>2</td>\n",
       "      <td>24429</td>\n",
       "    </tr>\n",
       "  </tbody>\n",
       "</table>\n",
       "</div>"
      ],
      "text/plain": [
       "     route_long_name route_short_name  agency_id  route_type  route_id\n",
       "1                 EN               EN        280           2       181\n",
       "0                 EC               EC        280           2      1600\n",
       "3   EuroCity-Express              ECE        280           2      3536\n",
       "5                 IC               IC        280           2     10647\n",
       "4          EuroNight               EN        280           2     11365\n",
       "2           EuroCity               EC        280           2     12518\n",
       "8  Intercity-Express              ICE        280           2     15627\n",
       "7          Intercity               IC        280           2     15690\n",
       "9                 RJ               RJ        280           2     16892\n",
       "6                ICE              ICE        280           2     24429"
      ]
     },
     "execution_count": 14,
     "metadata": {},
     "output_type": "execute_result"
    }
   ],
   "source": [
    "routes_df"
   ]
  },
  {
   "cell_type": "markdown",
   "id": "0af2ac02-c2b0-47cd-8477-ee00ce5b2f9f",
   "metadata": {
    "tags": []
   },
   "source": [
    "# Get things into database"
   ]
  },
  {
   "cell_type": "markdown",
   "id": "16a5af5d-b3a6-49bb-a85c-ac8cb16592c9",
   "metadata": {},
   "source": [
    "## calendar"
   ]
  },
  {
   "cell_type": "code",
   "execution_count": 15,
   "id": "9fce765a-5d77-4a57-85e8-cf3542ed2cd3",
   "metadata": {},
   "outputs": [],
   "source": [
    "calendar_df.to_sql(\"calendar\", 'sqlite:///' + outpath,\n",
    "          if_exists = 'replace')"
   ]
  },
  {
   "cell_type": "markdown",
   "id": "cffc28c1-a88e-42c9-b824-49bbade58cf2",
   "metadata": {},
   "source": [
    "## routes"
   ]
  },
  {
   "cell_type": "code",
   "execution_count": 16,
   "id": "696dd25f-15d5-4825-bc00-04455a815d28",
   "metadata": {},
   "outputs": [],
   "source": [
    "routes_df.to_sql(\"routes\", 'sqlite:///' + outpath,\n",
    "          if_exists = 'replace')"
   ]
  },
  {
   "cell_type": "markdown",
   "id": "5551edb3-0099-426d-a4c9-f2d1193761ba",
   "metadata": {},
   "source": [
    "## trips, stops, et al."
   ]
  },
  {
   "cell_type": "code",
   "execution_count": 17,
   "id": "a8ecf516-1d60-4a08-89b4-c7c3ffa4c3ae",
   "metadata": {},
   "outputs": [
    {
     "name": "stdout",
     "output_type": "stream",
     "text": [
      "stops\n",
      "trips\n",
      "stop_times\n",
      "CPU times: user 1h 23min 38s, sys: 1min 24s, total: 1h 25min 3s\n",
      "Wall time: 1h 31min 11s\n"
     ]
    }
   ],
   "source": [
    "%%time\n",
    "chunksize = 200000\n",
    "\n",
    "for table_name in ['stops','trips', 'stop_times']: #,'routes', 'calendar'\n",
    "    print(table_name)\n",
    "\n",
    "    j=0\n",
    "    for df in pd.read_csv(zf.open(table_name + \".txt\"),\n",
    "                          chunksize=chunksize, iterator=True, encoding='utf-8',\n",
    "                           dtype={'Unnamed: 0': 'float64',\n",
    "                           'drop_off_type': 'object',\n",
    "                           'pickup_type': 'object',\n",
    "                           'stop_sequence': 'object',\n",
    "                           'trip_id': 'object',\n",
    "                           'stop_headsign': 'object'}\n",
    "                         ):\n",
    "        j+=1\n",
    "        if j==1:\n",
    "            df.to_sql(table_name, dbout, if_exists='replace')\n",
    "        else:\n",
    "            df.to_sql(table_name, dbout, if_exists='append')"
   ]
  },
  {
   "cell_type": "markdown",
   "id": "2e744d98-5e0d-4019-ba94-d2e01c3b4da9",
   "metadata": {},
   "source": [
    "dd was supposed to parallelize this process, but it's actually just as slow, so let's not bother. "
   ]
  },
  {
   "cell_type": "code",
   "execution_count": null,
   "id": "4212927f-5da0-4f8d-8f0c-52ecb6886dcc",
   "metadata": {},
   "outputs": [],
   "source": [
    "# for table_name in ['stops','trips', 'routes']: #'stop_times','calendar'\n",
    "#     print(table_name)\n",
    "\n",
    "#     df = dd.read_csv(rawdatadir + table_name + \".txt\", dtype={'level_id': 'float64',\n",
    "#                                                               'parent_station': 'object',\n",
    "#                                                               'platform_code': 'object',\n",
    "#                                                               'stop_headsign': 'object',\n",
    "#                                                               'trip_short_name': 'object'\n",
    "#                                                               }\n",
    "\n",
    "#                                                               )\n",
    "    \n",
    "#     df.to_sql(table_name,'sqlite:///'+outpath,\n",
    "#           if_exists = 'replace')"
   ]
  },
  {
   "cell_type": "markdown",
   "id": "dd575cc3-cf33-4a19-ac72-afa4c9dd9e02",
   "metadata": {
    "jp-MarkdownHeadingCollapsed": true,
    "tags": []
   },
   "source": [
    "## Testing dd vs regular loop"
   ]
  },
  {
   "cell_type": "code",
   "execution_count": 22,
   "id": "1b224129-4ae5-4535-9765-9a0d3d926080",
   "metadata": {},
   "outputs": [
    {
     "name": "stdout",
     "output_type": "stream",
     "text": [
      "\t5 seconds: completed 2000000 rows\n",
      "\t10 seconds: completed 4000000 rows\n",
      "\t16 seconds: completed 6000000 rows\n",
      "\t22 seconds: completed 8000000 rows\n",
      "\t27 seconds: completed 10000000 rows\n",
      "\t33 seconds: completed 12000000 rows\n",
      "\t39 seconds: completed 14000000 rows\n",
      "\t44 seconds: completed 16000000 rows\n",
      "\t50 seconds: completed 18000000 rows\n",
      "CPU times: user 54.4 s, sys: 959 ms, total: 55.4 s\n",
      "Wall time: 55.5 s\n"
     ]
    }
   ],
   "source": [
    "%%time\n",
    "# loop--zip\n",
    "start = dt.datetime.now()\n",
    "chunksize = 200000\n",
    "j = 0\n",
    "\n",
    "for df in pd.read_csv(zf.open(\"trips.txt\"), chunksize=chunksize, iterator=True, encoding='utf-8'):\n",
    "    j+=1\n",
    "#     print(j)\n",
    "    if j%10==0:\n",
    "        print('\\t{} seconds: completed {} rows'.format((dt.datetime.now() - start).seconds, j*chunksize))\n",
    "\n",
    "#     print(\"\\t...\", len(result_df))\n",
    "    if j==1:\n",
    "        df.to_csv(outdir + \"trips_cp.txt\", mode = 'w')\n",
    "    else:\n",
    "        df.to_csv(outdir + \"trips_cp.txt\", mode = 'a')\n"
   ]
  },
  {
   "cell_type": "code",
   "execution_count": 27,
   "id": "1aa75e7c-e4f7-41bc-97cf-5ac272a88a90",
   "metadata": {},
   "outputs": [
    {
     "name": "stdout",
     "output_type": "stream",
     "text": [
      "\t27 seconds: completed 2000000 rows\n",
      "\t42 seconds: completed 4000000 rows\n",
      "\t57 seconds: completed 6000000 rows\n",
      "\t72 seconds: completed 8000000 rows\n",
      "\t87 seconds: completed 10000000 rows\n",
      "\t102 seconds: completed 12000000 rows\n",
      "\t117 seconds: completed 14000000 rows\n",
      "\t133 seconds: completed 16000000 rows\n",
      "\t148 seconds: completed 18000000 rows\n",
      "CPU times: user 2min 24s, sys: 9.81 s, total: 2min 33s\n",
      "Wall time: 2min 42s\n"
     ]
    }
   ],
   "source": [
    "%%time\n",
    "# loop--no zip\n",
    "start = dt.datetime.now()\n",
    "chunksize = 200000\n",
    "j = 0\n",
    "\n",
    "for df in pd.read_csv(rawdir + \"trips.txt\", chunksize=chunksize, iterator=True, encoding='utf-8'):\n",
    "    j+=1\n",
    "#     print(j)\n",
    "    if j%10==0:\n",
    "        print('\\t{} seconds: completed {} rows'.format((dt.datetime.now() - start).seconds, j*chunksize))\n",
    "\n",
    "#     print(\"\\t...\", len(result_df))\n",
    "    if j==1:\n",
    "        df.to_sql(\"trips\",\n",
    "          'sqlite:///'+outpath,\n",
    "          if_exists = 'replace') #.to_csv(outdir + \"trips_cp.txt\", mode = 'w')\n",
    "    else:\n",
    "        df.to_sql('trips',\n",
    "          'sqlite:///'+outpath,\n",
    "          if_exists = 'append') #.to_csv(outdir + \"trips_cp.txt\", mode = 'a')\n"
   ]
  },
  {
   "cell_type": "code",
   "execution_count": 25,
   "id": "566910f3-8b18-4822-8ea3-878d88344d4c",
   "metadata": {},
   "outputs": [
    {
     "name": "stdout",
     "output_type": "stream",
     "text": [
      "CPU times: user 2min 44s, sys: 20.4 s, total: 3min 4s\n",
      "Wall time: 3min\n"
     ]
    }
   ],
   "source": [
    "%%time\n",
    "table_name = 'trips'\n",
    "df = dd.read_csv(rawdir + table_name + \".txt\", \n",
    "                 dtype={'Unnamed: 0': 'float64',\n",
    "                       'drop_off_type': 'object',\n",
    "                       'pickup_type': 'object',\n",
    "                       'stop_sequence': 'object',\n",
    "                       'trip_id': 'object',\n",
    "                       'stop_headsign': 'object',\n",
    "                       'wheelchair_accessible': 'float64'}\n",
    "                )\n",
    "df.to_sql(table_name,\n",
    "          'sqlite:///'+outpath,\n",
    "          if_exists = 'replace')"
   ]
  },
  {
   "cell_type": "code",
   "execution_count": null,
   "id": "37f9bed1-d484-40ce-8d2e-601e58351f35",
   "metadata": {},
   "outputs": [],
   "source": [
    "%%time\n",
    "calendar_dd.size.compute()"
   ]
  },
  {
   "cell_type": "code",
   "execution_count": null,
   "id": "a10cfd06-35f4-4b86-95b6-840cce1dce17",
   "metadata": {},
   "outputs": [],
   "source": [
    "calendar_dd.to_sql(\"calendar\", 'sqlite:///' + outpath)"
   ]
  },
  {
   "cell_type": "markdown",
   "id": "69ba5ada-0fac-471f-9ba0-fa1a75d8e259",
   "metadata": {
    "tags": []
   },
   "source": [
    "# Database Merging"
   ]
  },
  {
   "cell_type": "markdown",
   "id": "639475f7-d3bb-4b47-b5e9-d717e4abc2f3",
   "metadata": {},
   "source": [
    "    CREATE TABLE n_stops AS\n",
    "       ...> SELECT stop_id, SUM(days_count)\n",
    "       ...> FROM stop_times\n",
    "       ...> LEFT JOIN trips ON trips.trip_id = stop_times.trip_id\n",
    "       ...> LEFT JOIN calendar ON trips.service_id = calendar.service_id\n",
    "       ...> GROUP BY stop_id;\n"
   ]
  },
  {
   "cell_type": "markdown",
   "id": "4afefaf1-db5d-4327-a878-fc033739d316",
   "metadata": {},
   "source": [
    "Create a separate trips table with only those included in selected routes."
   ]
  },
  {
   "cell_type": "code",
   "execution_count": 42,
   "id": "2b1443ab-ba14-493b-9725-04df57df1ab9",
   "metadata": {},
   "outputs": [
    {
     "name": "stdout",
     "output_type": "stream",
     "text": [
      "   sqlite:////home/maita/VW_Data_Hub/Gap_Map/out/delfi/20211015_fahrplaene_gesamtdeutschland_gtfs_test.db\n",
      " * sqlite:////home/maita/data/2021_reissue_2.db\n",
      "Done.\n"
     ]
    },
    {
     "data": {
      "text/plain": [
       "[]"
      ]
     },
     "execution_count": 42,
     "metadata": {},
     "output_type": "execute_result"
    }
   ],
   "source": [
    "# %%sql\n",
    "# CREATE TABLE trips_fv AS\n",
    "# SELECT routes.route_short_name, routes.route_id, trips.service_id, trips.trip_headsign, trips.direction_id, trips.trip_id\n",
    "# FROM routes\n",
    "# LEFT JOIN trips ON routes.route_id = trips.route_id"
   ]
  },
  {
   "cell_type": "markdown",
   "id": "9a1fde8a-154b-4e9b-8dc4-7351b0434908",
   "metadata": {},
   "source": [
    "Count all the stops at each stop"
   ]
  },
  {
   "cell_type": "code",
   "execution_count": null,
   "id": "2c132d39-45e6-405c-8c20-c66a158bc3cd",
   "metadata": {},
   "outputs": [
    {
     "name": "stdout",
     "output_type": "stream",
     "text": [
      " * sqlite:////home/jupyter-maita.schade/VW_Data_Hub/Gap_Map/out/delfi/20211015_fahrplaene_gesamtdeutschland_gtfs_test.db\n"
     ]
    }
   ],
   "source": [
    "# %%time\n",
    "# %%sql \n",
    "# CREATE TABLE n_stops AS \n",
    "# SELECT stop_id, SUM(days_count) \n",
    "# FROM stop_times \n",
    "# LEFT JOIN trips ON trips.trip_id = stop_times.trip_id \n",
    "# LEFT JOIN calendar \n",
    "# ON trips.service_id = calendar.service_id \n",
    "# GROUP BY stop_id;"
   ]
  },
  {
   "cell_type": "markdown",
   "id": "e51a2b53-e445-4589-b60e-e13dbe025654",
   "metadata": {},
   "source": [
    "Count only the fv-stops at each stop."
   ]
  },
  {
   "cell_type": "code",
   "execution_count": null,
   "id": "53b2d139-3aeb-4095-bae5-37b4c8473313",
   "metadata": {
    "tags": []
   },
   "outputs": [
    {
     "name": "stdout",
     "output_type": "stream",
     "text": [
      " * sqlite:////home/maita/data/2021_reissue_2.db\n"
     ]
    }
   ],
   "source": [
    "# %%time\n",
    "# %%sql \n",
    "# CREATE TABLE n_stops_fv AS \n",
    "# SELECT stop_id, SUM(days_count) AS n\n",
    "# FROM (\n",
    "#     SELECT routes.route_short_name, routes.route_id, trips.service_id, trips.trip_headsign, trips.direction_id, trips.trip_id\n",
    "#     FROM routes\n",
    "#     LEFT JOIN trips ON routes.route_id = trips.route_id) AS trips_fv\n",
    "# LEFT JOIN stop_times ON trips_fv.trip_id = stop_times.trip_id \n",
    "# LEFT JOIN calendar ON trips_fv.service_id = calendar.service_id \n",
    "# GROUP BY stop_id;"
   ]
  },
  {
   "cell_type": "markdown",
   "id": "e2a7e363-7f38-447f-b244-85d055b9b1c8",
   "metadata": {},
   "source": [
    "Without route filter:"
   ]
  },
  {
   "cell_type": "code",
   "execution_count": 51,
   "id": "650a5905-e425-436f-be27-7bf00195e119",
   "metadata": {},
   "outputs": [
    {
     "name": "stdout",
     "output_type": "stream",
     "text": [
      "2021-11-11 17:09:55.758944\n",
      "CPU times: user 1min 5s, sys: 17.2 s, total: 1min 23s\n",
      "Wall time: 1min 27s\n"
     ]
    }
   ],
   "source": [
    "%%time\n",
    "print(dt.datetime.now())\n",
    "\n",
    "out_df = pd.read_sql_query(\n",
    "    'SELECT n_stops.stop_id, n, stop_name, parent_station, stop_lat, stop_lon, location_type '\n",
    "    'FROM ('\n",
    "        'SELECT stop_id, SUM(days_count) AS n '\n",
    "        'FROM trips '\n",
    "        'LEFT JOIN stop_times ON trips.trip_id = stop_times.trip_id '\n",
    "        'LEFT JOIN calendar ON trips.service_id = calendar.service_id '\n",
    "        'GROUP BY stop_id '\n",
    "    ') AS n_stops '\n",
    "    'JOIN stops ON n_stops.stop_id = stops.stop_id',\n",
    "    dbout\n",
    ")"
   ]
  },
  {
   "cell_type": "markdown",
   "id": "413eab6e-a652-4985-9124-dc8223e68142",
   "metadata": {},
   "source": [
    "With route filter:"
   ]
  },
  {
   "cell_type": "code",
   "execution_count": 18,
   "id": "94d0407a-b04b-4bb8-8e7b-11f66ad220d6",
   "metadata": {},
   "outputs": [
    {
     "name": "stdout",
     "output_type": "stream",
     "text": [
      "2021-11-11 22:07:35.586156\n",
      "CPU times: user 8min 28s, sys: 6min 7s, total: 14min 36s\n",
      "Wall time: 15min 38s\n"
     ]
    }
   ],
   "source": [
    "%%time\n",
    "print(dt.datetime.now())\n",
    "\n",
    "out_df = pd.read_sql_query(\n",
    "    'SELECT n_stops.stop_id, n, stop_name, parent_station, stop_lat, stop_lon, location_type '\n",
    "    'FROM ('\n",
    "        'SELECT stop_id, SUM(days_count) AS n '\n",
    "        'FROM ('\n",
    "            'SELECT routes.route_short_name, routes.route_id, trips.service_id, trips.trip_headsign, trips.direction_id, trips.trip_id '\n",
    "            'FROM routes '\n",
    "            'LEFT JOIN trips ON routes.route_id = trips.route_id '\n",
    "        ') AS trips_fv '\n",
    "        'LEFT JOIN stop_times ON trips_fv.trip_id = stop_times.trip_id '\n",
    "        'LEFT JOIN calendar ON trips_fv.service_id = calendar.service_id '\n",
    "        'GROUP BY stop_id '\n",
    "    ') AS n_stops '\n",
    "    'JOIN stops ON n_stops.stop_id = stops.stop_id',\n",
    "    dbout\n",
    ")"
   ]
  },
  {
   "cell_type": "code",
   "execution_count": 19,
   "id": "b1461867-68a7-4088-8a8c-faa46c3c97f4",
   "metadata": {},
   "outputs": [
    {
     "data": {
      "text/html": [
       "<div>\n",
       "<style scoped>\n",
       "    .dataframe tbody tr th:only-of-type {\n",
       "        vertical-align: middle;\n",
       "    }\n",
       "\n",
       "    .dataframe tbody tr th {\n",
       "        vertical-align: top;\n",
       "    }\n",
       "\n",
       "    .dataframe thead th {\n",
       "        text-align: right;\n",
       "    }\n",
       "</style>\n",
       "<table border=\"1\" class=\"dataframe\">\n",
       "  <thead>\n",
       "    <tr style=\"text-align: right;\">\n",
       "      <th></th>\n",
       "      <th>stop_id</th>\n",
       "      <th>n</th>\n",
       "      <th>stop_name</th>\n",
       "      <th>parent_station</th>\n",
       "      <th>stop_lat</th>\n",
       "      <th>stop_lon</th>\n",
       "      <th>location_type</th>\n",
       "    </tr>\n",
       "  </thead>\n",
       "  <tbody>\n",
       "    <tr>\n",
       "      <th>149</th>\n",
       "      <td>366</td>\n",
       "      <td>2520.0</td>\n",
       "      <td>Dorfgastein</td>\n",
       "      <td>288785.0</td>\n",
       "      <td>47.238670</td>\n",
       "      <td>13.103062</td>\n",
       "      <td>None</td>\n",
       "    </tr>\n",
       "    <tr>\n",
       "      <th>313</th>\n",
       "      <td>2437</td>\n",
       "      <td>4102.0</td>\n",
       "      <td>Karlsruhe-Durlach</td>\n",
       "      <td>343405.0</td>\n",
       "      <td>49.002327</td>\n",
       "      <td>8.462822</td>\n",
       "      <td>None</td>\n",
       "    </tr>\n",
       "    <tr>\n",
       "      <th>361</th>\n",
       "      <td>2868</td>\n",
       "      <td>1858.0</td>\n",
       "      <td>Landquart</td>\n",
       "      <td>34315.0</td>\n",
       "      <td>46.967440</td>\n",
       "      <td>9.554045</td>\n",
       "      <td>None</td>\n",
       "    </tr>\n",
       "    <tr>\n",
       "      <th>32</th>\n",
       "      <td>5004</td>\n",
       "      <td>546.0</td>\n",
       "      <td>Aulendorf</td>\n",
       "      <td>741337.0</td>\n",
       "      <td>47.953053</td>\n",
       "      <td>9.644046</td>\n",
       "      <td>None</td>\n",
       "    </tr>\n",
       "    <tr>\n",
       "      <th>219</th>\n",
       "      <td>5248</td>\n",
       "      <td>11935.0</td>\n",
       "      <td>Gelsenkirchen Hbf</td>\n",
       "      <td>564842.0</td>\n",
       "      <td>51.504900</td>\n",
       "      <td>7.102455</td>\n",
       "      <td>None</td>\n",
       "    </tr>\n",
       "    <tr>\n",
       "      <th>...</th>\n",
       "      <td>...</td>\n",
       "      <td>...</td>\n",
       "      <td>...</td>\n",
       "      <td>...</td>\n",
       "      <td>...</td>\n",
       "      <td>...</td>\n",
       "      <td>...</td>\n",
       "    </tr>\n",
       "    <tr>\n",
       "      <th>411</th>\n",
       "      <td>1149075</td>\n",
       "      <td>NaN</td>\n",
       "      <td>Mainz-Kastel</td>\n",
       "      <td>376242.0</td>\n",
       "      <td>50.006580</td>\n",
       "      <td>8.283174</td>\n",
       "      <td>None</td>\n",
       "    </tr>\n",
       "    <tr>\n",
       "      <th>601</th>\n",
       "      <td>1149496</td>\n",
       "      <td>728.0</td>\n",
       "      <td>Szob</td>\n",
       "      <td>904910.0</td>\n",
       "      <td>47.821000</td>\n",
       "      <td>18.862057</td>\n",
       "      <td>None</td>\n",
       "    </tr>\n",
       "    <tr>\n",
       "      <th>438</th>\n",
       "      <td>1150010</td>\n",
       "      <td>716.0</td>\n",
       "      <td>Mürzzuschlag</td>\n",
       "      <td>248546.0</td>\n",
       "      <td>47.607950</td>\n",
       "      <td>15.677393</td>\n",
       "      <td>None</td>\n",
       "    </tr>\n",
       "    <tr>\n",
       "      <th>422</th>\n",
       "      <td>1150303</td>\n",
       "      <td>74.0</td>\n",
       "      <td>Mittenwald(Gr)</td>\n",
       "      <td>911504.0</td>\n",
       "      <td>47.398070</td>\n",
       "      <td>11.267441</td>\n",
       "      <td>None</td>\n",
       "    </tr>\n",
       "    <tr>\n",
       "      <th>264</th>\n",
       "      <td>1153701</td>\n",
       "      <td>367.0</td>\n",
       "      <td>Heppenheim(Bergstr)</td>\n",
       "      <td>680908.0</td>\n",
       "      <td>49.641552</td>\n",
       "      <td>8.633379</td>\n",
       "      <td>None</td>\n",
       "    </tr>\n",
       "  </tbody>\n",
       "</table>\n",
       "<p>702 rows × 7 columns</p>\n",
       "</div>"
      ],
      "text/plain": [
       "     stop_id        n            stop_name  parent_station   stop_lat  \\\n",
       "149      366   2520.0          Dorfgastein        288785.0  47.238670   \n",
       "313     2437   4102.0    Karlsruhe-Durlach        343405.0  49.002327   \n",
       "361     2868   1858.0            Landquart         34315.0  46.967440   \n",
       "32      5004    546.0            Aulendorf        741337.0  47.953053   \n",
       "219     5248  11935.0    Gelsenkirchen Hbf        564842.0  51.504900   \n",
       "..       ...      ...                  ...             ...        ...   \n",
       "411  1149075      NaN         Mainz-Kastel        376242.0  50.006580   \n",
       "601  1149496    728.0                 Szob        904910.0  47.821000   \n",
       "438  1150010    716.0         Mürzzuschlag        248546.0  47.607950   \n",
       "422  1150303     74.0       Mittenwald(Gr)        911504.0  47.398070   \n",
       "264  1153701    367.0  Heppenheim(Bergstr)        680908.0  49.641552   \n",
       "\n",
       "      stop_lon location_type  \n",
       "149  13.103062          None  \n",
       "313   8.462822          None  \n",
       "361   9.554045          None  \n",
       "32    9.644046          None  \n",
       "219   7.102455          None  \n",
       "..         ...           ...  \n",
       "411   8.283174          None  \n",
       "601  18.862057          None  \n",
       "438  15.677393          None  \n",
       "422  11.267441          None  \n",
       "264   8.633379          None  \n",
       "\n",
       "[702 rows x 7 columns]"
      ]
     },
     "execution_count": 19,
     "metadata": {},
     "output_type": "execute_result"
    }
   ],
   "source": [
    "out_df.sort_values(\"stop_id\")"
   ]
  },
  {
   "cell_type": "markdown",
   "id": "ba4b054c-f492-4f65-a090-e708caaa3311",
   "metadata": {},
   "source": [
    "# Wrap up and write out"
   ]
  },
  {
   "cell_type": "code",
   "execution_count": 20,
   "id": "b098aa70-2b2e-48e4-a8ee-e05eaef36da4",
   "metadata": {},
   "outputs": [],
   "source": [
    "out_df[\"n_day\"] = out_df.n/ndays"
   ]
  },
  {
   "cell_type": "code",
   "execution_count": 21,
   "id": "6918e5a6-bd94-4a7d-84be-8c52dedc12a1",
   "metadata": {},
   "outputs": [],
   "source": [
    "out_df.to_csv(outdir + zipname + \"fv.nstops.csv\")"
   ]
  },
  {
   "cell_type": "code",
   "execution_count": null,
   "id": "1382292a-a615-4779-ac83-31f9b7e1695d",
   "metadata": {},
   "outputs": [],
   "source": []
  }
 ],
 "metadata": {
  "kernelspec": {
   "display_name": "gapmap_ipython",
   "language": "python",
   "name": "gapmap_ipython"
  },
  "language_info": {
   "codemirror_mode": {
    "name": "ipython",
    "version": 3
   },
   "file_extension": ".py",
   "mimetype": "text/x-python",
   "name": "python",
   "nbconvert_exporter": "python",
   "pygments_lexer": "ipython3",
   "version": "3.8.12"
  }
 },
 "nbformat": 4,
 "nbformat_minor": 5
}
