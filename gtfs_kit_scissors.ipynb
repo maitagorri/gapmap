{
 "cells": [
  {
   "cell_type": "code",
   "execution_count": 4,
   "id": "c54e44b0",
   "metadata": {},
   "outputs": [],
   "source": [
    "import gtfs_kit as gk\n",
    "import os.path\n",
    "import pandas as pd\n",
    "import geopandas as gpd\n",
    "import geoplot as gplt\n",
    "import datetime as dt"
   ]
  },
  {
   "cell_type": "code",
   "execution_count": 5,
   "id": "98533087",
   "metadata": {},
   "outputs": [],
   "source": [
    "gtfs_dir = \"/mnt/c/Users/maita.schade/Nextcloud/Documents/Work/Gap_Map/raw/gtfs\"\n",
    "years = [2020, 2021]\n",
    "paths = {y: os.path.join(gtfs_dir,str(y),str(y)+\".zip\") for y in years}\n",
    "#feeds = {y: gk.read_feed(paths[y], dist_units='km') for y in years}"
   ]
  },
  {
   "cell_type": "markdown",
   "id": "a8673068",
   "metadata": {},
   "source": [
    "# TIME."
   ]
  },
  {
   "cell_type": "markdown",
   "id": "cf79f78f",
   "metadata": {},
   "source": [
    "need dates to cut by..."
   ]
  },
  {
   "cell_type": "code",
   "execution_count": 4,
   "id": "9f8759cc",
   "metadata": {},
   "outputs": [],
   "source": [
    "window = ('20200301','20200331')"
   ]
  },
  {
   "cell_type": "code",
   "execution_count": 211,
   "id": "0baefc1e",
   "metadata": {
    "scrolled": true
   },
   "outputs": [
    {
     "name": "stderr",
     "output_type": "stream",
     "text": [
      "/home/mschade/anaconda3/envs/gapmapbox/lib/python3.9/site-packages/IPython/core/interactiveshell.py:3437: DtypeWarning: Columns (9) have mixed types.Specify dtype option on import or set low_memory=False.\n",
      "  exec(code_obj, self.user_global_ns, self.user_ns)\n"
     ]
    }
   ],
   "source": [
    "gtf = gk.read_feed(paths[2020], dist_units='km')"
   ]
  },
  {
   "cell_type": "code",
   "execution_count": 212,
   "id": "f24b62af",
   "metadata": {},
   "outputs": [
    {
     "data": {
      "text/plain": [
       "Index(['stop_name', 'parent_station', 'stop_code', 'zone_id', 'stop_id',\n",
       "       'stop_lat', 'stop_lon', 'location_type', 'wheelchair_boarding',\n",
       "       'platform_code'],\n",
       "      dtype='object')"
      ]
     },
     "execution_count": 212,
     "metadata": {},
     "output_type": "execute_result"
    }
   ],
   "source": [
    "gtf.stops.columns"
   ]
  },
  {
   "cell_type": "code",
   "execution_count": 6,
   "id": "b94b2ef5",
   "metadata": {},
   "outputs": [
    {
     "data": {
      "text/plain": [
       "False"
      ]
     },
     "execution_count": 6,
     "metadata": {},
     "output_type": "execute_result"
    }
   ],
   "source": [
    "gtf.calendar_dates.date[1] < gtf.calendar.start_date[1]"
   ]
  },
  {
   "cell_type": "code",
   "execution_count": 7,
   "id": "92d6f79e",
   "metadata": {},
   "outputs": [
    {
     "data": {
      "text/plain": [
       "'20191215'"
      ]
     },
     "execution_count": 7,
     "metadata": {},
     "output_type": "execute_result"
    }
   ],
   "source": [
    "gtf.calendar.start_date[1]"
   ]
  },
  {
   "cell_type": "code",
   "execution_count": 8,
   "id": "38a90789",
   "metadata": {},
   "outputs": [
    {
     "data": {
      "text/plain": [
       "'20191218'"
      ]
     },
     "execution_count": 8,
     "metadata": {},
     "output_type": "execute_result"
    }
   ],
   "source": [
    "gtf.calendar_dates.date[1]"
   ]
  },
  {
   "cell_type": "code",
   "execution_count": 9,
   "id": "2470bebb",
   "metadata": {},
   "outputs": [
    {
     "data": {
      "text/plain": [
       "numpy.float64"
      ]
     },
     "execution_count": 9,
     "metadata": {},
     "output_type": "execute_result"
    }
   ],
   "source": [
    "type(gtf.calendar_dates.merge(gtf.calendar, on=\"service_id\", how='outer').loc[272249].exception_type)"
   ]
  },
  {
   "cell_type": "markdown",
   "id": "416228a1",
   "metadata": {},
   "source": [
    "Calculate the service windows\n",
    "\n",
    "THE FOLLOWING IS A BIT USELESS--COMBINING `CALENDAR` AND `CALENDAR_DATES` UNNECESSARY"
   ]
  },
  {
   "cell_type": "code",
   "execution_count": 10,
   "id": "95636370",
   "metadata": {},
   "outputs": [],
   "source": [
    "def first(s):\n",
    "    s[0]\n",
    "\n",
    "def safeMax(s):\n",
    "    if all(pd.isna(s)):\n",
    "        return pd.NA\n",
    "    else:\n",
    "        return s[~pd.isna(s)].max()\n",
    "    \n",
    "def safeMin(s):\n",
    "    if all(pd.isna(s)):\n",
    "        return pd.NA\n",
    "    else:\n",
    "        return s[~pd.isna(s)].min()\n",
    "    "
   ]
  },
  {
   "cell_type": "code",
   "execution_count": 11,
   "id": "40b88c8f",
   "metadata": {},
   "outputs": [],
   "source": [
    "service_windows = gtf.calendar_dates.merge(gtf.calendar, on=\"service_id\", how='outer').groupby(\"service_id\").agg(\n",
    "            min_exc=('date', safeMin),\n",
    "            max_exc=('date', safeMax),\n",
    "            start_date = (\"start_date\", 'first'),\n",
    "            end_date = (\"end_date\", 'first')\n",
    "    ).reset_index()"
   ]
  },
  {
   "cell_type": "code",
   "execution_count": 12,
   "id": "55f5956e",
   "metadata": {},
   "outputs": [
    {
     "data": {
      "text/html": [
       "<div>\n",
       "<style scoped>\n",
       "    .dataframe tbody tr th:only-of-type {\n",
       "        vertical-align: middle;\n",
       "    }\n",
       "\n",
       "    .dataframe tbody tr th {\n",
       "        vertical-align: top;\n",
       "    }\n",
       "\n",
       "    .dataframe thead th {\n",
       "        text-align: right;\n",
       "    }\n",
       "</style>\n",
       "<table border=\"1\" class=\"dataframe\">\n",
       "  <thead>\n",
       "    <tr style=\"text-align: right;\">\n",
       "      <th></th>\n",
       "      <th>service_id</th>\n",
       "      <th>min_exc</th>\n",
       "      <th>max_exc</th>\n",
       "      <th>start_date</th>\n",
       "      <th>end_date</th>\n",
       "    </tr>\n",
       "  </thead>\n",
       "  <tbody>\n",
       "    <tr>\n",
       "      <th>0</th>\n",
       "      <td>1</td>\n",
       "      <td>20191216</td>\n",
       "      <td>20201118</td>\n",
       "      <td>20200106</td>\n",
       "      <td>20201209</td>\n",
       "    </tr>\n",
       "    <tr>\n",
       "      <th>1</th>\n",
       "      <td>10</td>\n",
       "      <td>20191216</td>\n",
       "      <td>20201118</td>\n",
       "      <td>20200203</td>\n",
       "      <td>20201211</td>\n",
       "    </tr>\n",
       "    <tr>\n",
       "      <th>2</th>\n",
       "      <td>100</td>\n",
       "      <td>20200225</td>\n",
       "      <td>20201030</td>\n",
       "      <td>20200908</td>\n",
       "      <td>20200911</td>\n",
       "    </tr>\n",
       "    <tr>\n",
       "      <th>3</th>\n",
       "      <td>1000</td>\n",
       "      <td>20191220</td>\n",
       "      <td>20200611</td>\n",
       "      <td>20191216</td>\n",
       "      <td>20201211</td>\n",
       "    </tr>\n",
       "    <tr>\n",
       "      <th>4</th>\n",
       "      <td>10000</td>\n",
       "      <td>20200224</td>\n",
       "      <td>20200611</td>\n",
       "      <td>20200102</td>\n",
       "      <td>20200612</td>\n",
       "    </tr>\n",
       "    <tr>\n",
       "      <th>...</th>\n",
       "      <td>...</td>\n",
       "      <td>...</td>\n",
       "      <td>...</td>\n",
       "      <td>...</td>\n",
       "      <td>...</td>\n",
       "    </tr>\n",
       "    <tr>\n",
       "      <th>24767</th>\n",
       "      <td>9995</td>\n",
       "      <td>&lt;NA&gt;</td>\n",
       "      <td>&lt;NA&gt;</td>\n",
       "      <td>20200829</td>\n",
       "      <td>20201212</td>\n",
       "    </tr>\n",
       "    <tr>\n",
       "      <th>24768</th>\n",
       "      <td>9996</td>\n",
       "      <td>20191216</td>\n",
       "      <td>20200214</td>\n",
       "      <td>20200106</td>\n",
       "      <td>20200228</td>\n",
       "    </tr>\n",
       "    <tr>\n",
       "      <th>24769</th>\n",
       "      <td>9997</td>\n",
       "      <td>20191225</td>\n",
       "      <td>20200101</td>\n",
       "      <td>20191225</td>\n",
       "      <td>20200328</td>\n",
       "    </tr>\n",
       "    <tr>\n",
       "      <th>24770</th>\n",
       "      <td>9998</td>\n",
       "      <td>20200619</td>\n",
       "      <td>20201004</td>\n",
       "      <td>20200615</td>\n",
       "      <td>20201212</td>\n",
       "    </tr>\n",
       "    <tr>\n",
       "      <th>24771</th>\n",
       "      <td>9999</td>\n",
       "      <td>20191223</td>\n",
       "      <td>20200610</td>\n",
       "      <td>20191215</td>\n",
       "      <td>20201210</td>\n",
       "    </tr>\n",
       "  </tbody>\n",
       "</table>\n",
       "<p>24772 rows × 5 columns</p>\n",
       "</div>"
      ],
      "text/plain": [
       "      service_id   min_exc   max_exc start_date  end_date\n",
       "0              1  20191216  20201118   20200106  20201209\n",
       "1             10  20191216  20201118   20200203  20201211\n",
       "2            100  20200225  20201030   20200908  20200911\n",
       "3           1000  20191220  20200611   20191216  20201211\n",
       "4          10000  20200224  20200611   20200102  20200612\n",
       "...          ...       ...       ...        ...       ...\n",
       "24767       9995      <NA>      <NA>   20200829  20201212\n",
       "24768       9996  20191216  20200214   20200106  20200228\n",
       "24769       9997  20191225  20200101   20191225  20200328\n",
       "24770       9998  20200619  20201004   20200615  20201212\n",
       "24771       9999  20191223  20200610   20191215  20201210\n",
       "\n",
       "[24772 rows x 5 columns]"
      ]
     },
     "execution_count": 12,
     "metadata": {},
     "output_type": "execute_result"
    }
   ],
   "source": [
    "service_windows"
   ]
  },
  {
   "cell_type": "code",
   "execution_count": 13,
   "id": "9935ccae",
   "metadata": {},
   "outputs": [],
   "source": [
    "service_windows['first'] = service_windows.loc[:,'min_exc':'end_date'].apply(safeMin, axis=1) \n",
    "\n",
    "service_windows['last'] = service_windows.loc[:,'min_exc':'end_date'].apply(safeMax, axis=1)\n",
    "\n",
    "service_windows = service_windows[['service_id','first','last']]"
   ]
  },
  {
   "cell_type": "markdown",
   "id": "e44d6f9a",
   "metadata": {},
   "source": [
    "I don't think it actually makes sense to treat calendar and service together... what happens to an exception on an off day?\n",
    "Unfortunately, in the constellation we have here, every exception is supposed to belong to a specific service referenced in calendar"
   ]
  },
  {
   "cell_type": "code",
   "execution_count": 14,
   "id": "21b2d82c",
   "metadata": {},
   "outputs": [
    {
     "data": {
      "text/plain": [
       "0         True\n",
       "1        False\n",
       "2         True\n",
       "3         True\n",
       "4         True\n",
       "         ...  \n",
       "23732    False\n",
       "23733    False\n",
       "23734    False\n",
       "23735    False\n",
       "23736    False\n",
       "Name: service_id, Length: 23737, dtype: bool"
      ]
     },
     "execution_count": 14,
     "metadata": {},
     "output_type": "execute_result"
    }
   ],
   "source": [
    "gtf.calendar.service_id.isin(gtf.calendar_dates.service_id)"
   ]
  },
  {
   "cell_type": "code",
   "execution_count": 15,
   "id": "bc28bc19",
   "metadata": {},
   "outputs": [
    {
     "data": {
      "text/plain": [
       "0"
      ]
     },
     "execution_count": 15,
     "metadata": {},
     "output_type": "execute_result"
    }
   ],
   "source": [
    "(~gtf.calendar_dates.service_id.isin(gtf.calendar_dates.service_id)).sum()"
   ]
  },
  {
   "cell_type": "markdown",
   "id": "62325207",
   "metadata": {},
   "source": [
    "Pick applicable services"
   ]
  },
  {
   "cell_type": "code",
   "execution_count": 16,
   "id": "6836c2c4",
   "metadata": {},
   "outputs": [],
   "source": [
    "services = service_windows[\n",
    "    (service_windows['first'] < window[1]) & (service_windows['last'] > window[0])\n",
    "    ].service_id"
   ]
  },
  {
   "cell_type": "markdown",
   "id": "ab1833fd",
   "metadata": {},
   "source": [
    "Filter calendar, calendar_dates by service"
   ]
  },
  {
   "cell_type": "code",
   "execution_count": 17,
   "id": "cb7ef7dc",
   "metadata": {},
   "outputs": [],
   "source": [
    "calendar = gtf.calendar[gtf.calendar.service_id.isin(services)]"
   ]
  },
  {
   "cell_type": "code",
   "execution_count": 18,
   "id": "17420330",
   "metadata": {},
   "outputs": [],
   "source": [
    "calendar_dates = gtf.calendar_dates[gtf.calendar_dates.service_id.isin(services)]"
   ]
  },
  {
   "cell_type": "markdown",
   "id": "ba454f24",
   "metadata": {},
   "source": [
    "Adjust dates so max, min are ok"
   ]
  },
  {
   "cell_type": "markdown",
   "id": "8faa93af",
   "metadata": {},
   "source": [
    "First, the calendar itself"
   ]
  },
  {
   "cell_type": "code",
   "execution_count": 19,
   "id": "195ec1e7",
   "metadata": {},
   "outputs": [
    {
     "data": {
      "text/plain": [
       "monday               1\n",
       "tuesday              1\n",
       "wednesday            1\n",
       "thursday             1\n",
       "friday               1\n",
       "saturday             1\n",
       "sunday               1\n",
       "start_date    20201109\n",
       "end_date      20201212\n",
       "service_id        4142\n",
       "Name: 23716, dtype: object"
      ]
     },
     "execution_count": 19,
     "metadata": {},
     "output_type": "execute_result"
    }
   ],
   "source": [
    "calendar.loc[23716,:]"
   ]
  },
  {
   "cell_type": "code",
   "execution_count": 20,
   "id": "6c51be42",
   "metadata": {},
   "outputs": [
    {
     "data": {
      "text/html": [
       "<div>\n",
       "<style scoped>\n",
       "    .dataframe tbody tr th:only-of-type {\n",
       "        vertical-align: middle;\n",
       "    }\n",
       "\n",
       "    .dataframe tbody tr th {\n",
       "        vertical-align: top;\n",
       "    }\n",
       "\n",
       "    .dataframe thead th {\n",
       "        text-align: right;\n",
       "    }\n",
       "</style>\n",
       "<table border=\"1\" class=\"dataframe\">\n",
       "  <thead>\n",
       "    <tr style=\"text-align: right;\">\n",
       "      <th></th>\n",
       "      <th>service_id</th>\n",
       "      <th>exception_type</th>\n",
       "      <th>date</th>\n",
       "    </tr>\n",
       "  </thead>\n",
       "  <tbody>\n",
       "    <tr>\n",
       "      <th>0</th>\n",
       "      <td>1</td>\n",
       "      <td>1</td>\n",
       "      <td>20191216</td>\n",
       "    </tr>\n",
       "    <tr>\n",
       "      <th>1</th>\n",
       "      <td>1</td>\n",
       "      <td>1</td>\n",
       "      <td>20191218</td>\n",
       "    </tr>\n",
       "    <tr>\n",
       "      <th>2</th>\n",
       "      <td>1</td>\n",
       "      <td>2</td>\n",
       "      <td>20200210</td>\n",
       "    </tr>\n",
       "    <tr>\n",
       "      <th>3</th>\n",
       "      <td>1</td>\n",
       "      <td>2</td>\n",
       "      <td>20200212</td>\n",
       "    </tr>\n",
       "    <tr>\n",
       "      <th>4</th>\n",
       "      <td>1</td>\n",
       "      <td>2</td>\n",
       "      <td>20200217</td>\n",
       "    </tr>\n",
       "    <tr>\n",
       "      <th>...</th>\n",
       "      <td>...</td>\n",
       "      <td>...</td>\n",
       "      <td>...</td>\n",
       "    </tr>\n",
       "    <tr>\n",
       "      <th>267890</th>\n",
       "      <td>9999</td>\n",
       "      <td>2</td>\n",
       "      <td>20200412</td>\n",
       "    </tr>\n",
       "    <tr>\n",
       "      <th>267891</th>\n",
       "      <td>9999</td>\n",
       "      <td>2</td>\n",
       "      <td>20200430</td>\n",
       "    </tr>\n",
       "    <tr>\n",
       "      <th>267892</th>\n",
       "      <td>9999</td>\n",
       "      <td>2</td>\n",
       "      <td>20200520</td>\n",
       "    </tr>\n",
       "    <tr>\n",
       "      <th>267893</th>\n",
       "      <td>9999</td>\n",
       "      <td>2</td>\n",
       "      <td>20200531</td>\n",
       "    </tr>\n",
       "    <tr>\n",
       "      <th>267894</th>\n",
       "      <td>9999</td>\n",
       "      <td>2</td>\n",
       "      <td>20200610</td>\n",
       "    </tr>\n",
       "  </tbody>\n",
       "</table>\n",
       "<p>232652 rows × 3 columns</p>\n",
       "</div>"
      ],
      "text/plain": [
       "       service_id  exception_type      date\n",
       "0               1               1  20191216\n",
       "1               1               1  20191218\n",
       "2               1               2  20200210\n",
       "3               1               2  20200212\n",
       "4               1               2  20200217\n",
       "...           ...             ...       ...\n",
       "267890       9999               2  20200412\n",
       "267891       9999               2  20200430\n",
       "267892       9999               2  20200520\n",
       "267893       9999               2  20200531\n",
       "267894       9999               2  20200610\n",
       "\n",
       "[232652 rows x 3 columns]"
      ]
     },
     "execution_count": 20,
     "metadata": {},
     "output_type": "execute_result"
    }
   ],
   "source": [
    "calendar_dates"
   ]
  },
  {
   "cell_type": "code",
   "execution_count": 21,
   "id": "4eff1087",
   "metadata": {},
   "outputs": [],
   "source": [
    "def elementMax(s, e):\n",
    "    return s.apply(lambda e1: max(e1, e))"
   ]
  },
  {
   "cell_type": "code",
   "execution_count": 22,
   "id": "72a9d57a",
   "metadata": {},
   "outputs": [
    {
     "data": {
      "text/plain": [
       "0        20200301\n",
       "2        20200301\n",
       "7        20200301\n",
       "9        20200301\n",
       "10       20200301\n",
       "           ...   \n",
       "23633    20200925\n",
       "23676    20201101\n",
       "23678    20201101\n",
       "23705    20201107\n",
       "23716    20201109\n",
       "Name: start_date, Length: 14555, dtype: object"
      ]
     },
     "execution_count": 22,
     "metadata": {},
     "output_type": "execute_result"
    }
   ],
   "source": [
    "elementMax(calendar.start_date, window[0])"
   ]
  },
  {
   "cell_type": "markdown",
   "id": "c009b970",
   "metadata": {},
   "source": [
    "I think we need to...\n",
    "- filter calendar services by window\n",
    "- filter calendar_dates exceptions by window\n",
    "- for each orphaned exception of type 1\n",
    "    - create new calendar service of same ID and drop first exception\n",
    "    - if there is more than one, leave it as exception"
   ]
  },
  {
   "cell_type": "markdown",
   "id": "cdf5667d",
   "metadata": {},
   "source": [
    "- filter calendar services by window"
   ]
  },
  {
   "cell_type": "code",
   "execution_count": 23,
   "id": "c234a9df",
   "metadata": {},
   "outputs": [],
   "source": [
    "services = gtf.calendar[(gtf.calendar.start_date < window[1]) & (gtf.calendar.end_date > window[0])]"
   ]
  },
  {
   "cell_type": "markdown",
   "id": "c8da583f",
   "metadata": {},
   "source": [
    "- filter calendar_dates exceptions by window"
   ]
  },
  {
   "cell_type": "code",
   "execution_count": 24,
   "id": "a12f9797",
   "metadata": {},
   "outputs": [],
   "source": [
    "exceptions = gtf.calendar_dates[(gtf.calendar_dates.date < window[1]) & (gtf.calendar_dates.date > window[0])]"
   ]
  },
  {
   "cell_type": "markdown",
   "id": "b80a618d",
   "metadata": {},
   "source": [
    "- for each orphaned exception of type 1"
   ]
  },
  {
   "cell_type": "code",
   "execution_count": 25,
   "id": "fe49c46e",
   "metadata": {},
   "outputs": [],
   "source": [
    "exceptions = exceptions.sort_values(by=[\"service_id\", \"date\"])\n",
    "orphans = exceptions[(~exceptions.service_id.isin(services.service_id)) & # is not in new service calendar\n",
    "                     (exceptions.exception_type == 1)                     # and is ON\n",
    "                    ]\n",
    "\n",
    "first_orphans = orphans.groupby(\"service_id\").first().reset_index()"
   ]
  },
  {
   "cell_type": "markdown",
   "id": "c448eb32",
   "metadata": {},
   "source": [
    "    - create new calendar service of same ID"
   ]
  },
  {
   "cell_type": "code",
   "execution_count": 26,
   "id": "67d95e18",
   "metadata": {},
   "outputs": [],
   "source": [
    "def serviceFromException(r):\n",
    "    s = pd.Series( # create a service that has just one date, and is generally off\n",
    "        {\"monday\":0,\n",
    "         \"tuesday\":0,\n",
    "         \"wednesday\":0,\n",
    "         \"thursday\":0,\n",
    "         \"friday\":0,\n",
    "         \"saturday\":0,\n",
    "         \"sunday\":0,\n",
    "         \"start_date\": r.date,\n",
    "         \"end_date\": r.date,\n",
    "         \"service_id\": r.service_id\n",
    "        }) \n",
    "    d = dt.datetime.strptime(r.date, \"%Y%m%d\").weekday()\n",
    "    s[d] = r.exception_type # set the weekday of this exception's date to its type\n",
    "    return(s)"
   ]
  },
  {
   "cell_type": "code",
   "execution_count": 27,
   "id": "f969ac86",
   "metadata": {},
   "outputs": [],
   "source": [
    "services_expanded = services.append(\n",
    "    first_orphans.apply(serviceFromException, axis=1)\n",
    ")"
   ]
  },
  {
   "cell_type": "markdown",
   "id": "2658dfaf",
   "metadata": {},
   "source": [
    "    - drop first exception from exceptions\n",
    "    - if there is more than one, leave additional ones as exception"
   ]
  },
  {
   "cell_type": "code",
   "execution_count": 28,
   "id": "88d8fc84",
   "metadata": {},
   "outputs": [],
   "source": [
    "# find which ones are in both, and keep only the rest\n",
    "merge = exceptions.merge(first_orphans[['service_id', 'date']], how='outer', indicator='source') \n",
    "exceptions_reduced = merge[merge.source.eq('left_only')].drop('source', axis=1)"
   ]
  },
  {
   "cell_type": "markdown",
   "id": "d4940df2",
   "metadata": {},
   "source": [
    "Now, we ought to filter the rest of the feed.\n",
    "- `trips` by `service_id`\n",
    "- `routes` by `route_id`\n",
    "- `stop_times` by `trip_id`\n",
    "- `stops` by `stop_id`\n",
    "- `agency` by `agency_id`\n",
    "- `transfers` by `stop_id`"
   ]
  },
  {
   "cell_type": "markdown",
   "id": "2a8f9783",
   "metadata": {},
   "source": [
    "First, check that we actually have a list of all services in `services_expanded` now"
   ]
  },
  {
   "cell_type": "code",
   "execution_count": 29,
   "id": "28a9aca6",
   "metadata": {},
   "outputs": [
    {
     "data": {
      "text/plain": [
       "2450"
      ]
     },
     "execution_count": 29,
     "metadata": {},
     "output_type": "execute_result"
    }
   ],
   "source": [
    "sum(~exceptions.service_id.isin(services.service_id))"
   ]
  },
  {
   "cell_type": "code",
   "execution_count": 30,
   "id": "f2cc91e8",
   "metadata": {},
   "outputs": [
    {
     "data": {
      "text/plain": [
       "0"
      ]
     },
     "execution_count": 30,
     "metadata": {},
     "output_type": "execute_result"
    }
   ],
   "source": [
    "sum(~exceptions_reduced.service_id.isin(services_expanded.service_id))"
   ]
  },
  {
   "cell_type": "markdown",
   "id": "795751c6",
   "metadata": {},
   "source": [
    "- `trips` by `service_id`"
   ]
  },
  {
   "cell_type": "code",
   "execution_count": 31,
   "id": "696df542",
   "metadata": {},
   "outputs": [],
   "source": [
    "trips = gtf.trips[gtf.trips.service_id.isin(services_expanded.service_id)]"
   ]
  },
  {
   "cell_type": "code",
   "execution_count": 32,
   "id": "6d1fb8d6",
   "metadata": {},
   "outputs": [
    {
     "data": {
      "text/plain": [
       "0.4146328832572849"
      ]
     },
     "execution_count": 32,
     "metadata": {},
     "output_type": "execute_result"
    }
   ],
   "source": [
    "(len(gtf.trips)-len(trips))/len(gtf.trips)"
   ]
  },
  {
   "cell_type": "code",
   "execution_count": 33,
   "id": "a6787d4f",
   "metadata": {},
   "outputs": [
    {
     "data": {
      "text/plain": [
       "1130348"
      ]
     },
     "execution_count": 33,
     "metadata": {},
     "output_type": "execute_result"
    }
   ],
   "source": [
    "len(trips)"
   ]
  },
  {
   "cell_type": "markdown",
   "id": "fc9e7329",
   "metadata": {},
   "source": [
    "- `routes` by `route_id`"
   ]
  },
  {
   "cell_type": "code",
   "execution_count": 34,
   "id": "a8d6d1ba",
   "metadata": {},
   "outputs": [],
   "source": [
    "routes = gtf.routes[gtf.routes.route_id.isin(trips.route_id)]"
   ]
  },
  {
   "cell_type": "code",
   "execution_count": 35,
   "id": "38d21044",
   "metadata": {},
   "outputs": [
    {
     "data": {
      "text/plain": [
       "0.19689716312056738"
      ]
     },
     "execution_count": 35,
     "metadata": {},
     "output_type": "execute_result"
    }
   ],
   "source": [
    "(len(gtf.routes)-len(routes))/len(gtf.routes)"
   ]
  },
  {
   "cell_type": "markdown",
   "id": "1e44ac30",
   "metadata": {},
   "source": [
    "- `stop_times` by `trip_id`"
   ]
  },
  {
   "cell_type": "code",
   "execution_count": 36,
   "id": "29856d92",
   "metadata": {},
   "outputs": [],
   "source": [
    "stop_times = gtf.stop_times[gtf.stop_times.trip_id.isin(trips.trip_id)]"
   ]
  },
  {
   "cell_type": "code",
   "execution_count": 37,
   "id": "1d52177b",
   "metadata": {},
   "outputs": [
    {
     "data": {
      "text/plain": [
       "0.4194993363971053"
      ]
     },
     "execution_count": 37,
     "metadata": {},
     "output_type": "execute_result"
    }
   ],
   "source": [
    "(len(gtf.stop_times)-len(stop_times))/len(gtf.stop_times)"
   ]
  },
  {
   "cell_type": "markdown",
   "id": "181b6dde",
   "metadata": {},
   "source": [
    "- `stops` by `stop_id`\n",
    "    - here it's important to keep their parent stations, also!"
   ]
  },
  {
   "cell_type": "code",
   "execution_count": 38,
   "id": "265eca31",
   "metadata": {},
   "outputs": [],
   "source": [
    "stops = gtf.stops[gtf.stops.stop_id.isin(stop_times.stop_id)]\n",
    "\n",
    "stops = stops.append(gtf.stops[gtf.stops.stop_id.isin(stops.parent_station)])"
   ]
  },
  {
   "cell_type": "code",
   "execution_count": 39,
   "id": "88f9ab87",
   "metadata": {},
   "outputs": [
    {
     "data": {
      "text/plain": [
       "0.17743325319586997"
      ]
     },
     "execution_count": 39,
     "metadata": {},
     "output_type": "execute_result"
    }
   ],
   "source": [
    "(len(gtf.stops)-len(stops))/len(gtf.stops)"
   ]
  },
  {
   "cell_type": "markdown",
   "id": "a196d855",
   "metadata": {},
   "source": [
    "- `agency` by `agency_id` "
   ]
  },
  {
   "cell_type": "code",
   "execution_count": 40,
   "id": "51147705",
   "metadata": {},
   "outputs": [],
   "source": [
    "agency = gtf.agency[gtf.agency.agency_id.isin(routes.agency_id)]"
   ]
  },
  {
   "cell_type": "code",
   "execution_count": 41,
   "id": "dc0d0709",
   "metadata": {},
   "outputs": [
    {
     "data": {
      "text/plain": [
       "0.2635135135135135"
      ]
     },
     "execution_count": 41,
     "metadata": {},
     "output_type": "execute_result"
    }
   ],
   "source": [
    "(len(gtf.agency)-len(agency))/len(gtf.agency)"
   ]
  },
  {
   "cell_type": "markdown",
   "id": "ccc8e0ef",
   "metadata": {},
   "source": [
    "- `transfers` by `stop_id`"
   ]
  },
  {
   "cell_type": "code",
   "execution_count": 42,
   "id": "e789e43a",
   "metadata": {},
   "outputs": [
    {
     "data": {
      "text/plain": [
       "102197"
      ]
     },
     "execution_count": 42,
     "metadata": {},
     "output_type": "execute_result"
    }
   ],
   "source": [
    "sum((gtf.transfers.from_stop_id.isin(gtf.stops.stop_id)) & (gtf.transfers.to_stop_id.isin(gtf.stops.stop_id)))"
   ]
  },
  {
   "cell_type": "code",
   "execution_count": 43,
   "id": "6c6f7719",
   "metadata": {},
   "outputs": [
    {
     "data": {
      "text/plain": [
       "102197"
      ]
     },
     "execution_count": 43,
     "metadata": {},
     "output_type": "execute_result"
    }
   ],
   "source": [
    "len(gtf.transfers)"
   ]
  },
  {
   "cell_type": "code",
   "execution_count": 44,
   "id": "fa8b52aa",
   "metadata": {},
   "outputs": [],
   "source": [
    "transfers = gtf.transfers[(gtf.transfers.from_stop_id.isin(stops.stop_id)) & (gtf.transfers.to_stop_id.isin(stops.stop_id))]"
   ]
  },
  {
   "cell_type": "code",
   "execution_count": 45,
   "id": "4edfa856",
   "metadata": {},
   "outputs": [
    {
     "data": {
      "text/plain": [
       "0.9995107488478135"
      ]
     },
     "execution_count": 45,
     "metadata": {},
     "output_type": "execute_result"
    }
   ],
   "source": [
    "(len(gtf.transfers)-len(transfers))/len(gtf.transfers)"
   ]
  },
  {
   "cell_type": "code",
   "execution_count": 46,
   "id": "a0549e8c",
   "metadata": {},
   "outputs": [
    {
     "data": {
      "text/plain": [
       "50"
      ]
     },
     "execution_count": 46,
     "metadata": {},
     "output_type": "execute_result"
    }
   ],
   "source": [
    "len(transfers)"
   ]
  },
  {
   "cell_type": "markdown",
   "id": "2e80dc0e",
   "metadata": {},
   "source": [
    "And new feed_info"
   ]
  },
  {
   "cell_type": "code",
   "execution_count": 47,
   "id": "7e0afc31",
   "metadata": {},
   "outputs": [],
   "source": [
    "feed_info = pd.DataFrame({\n",
    "    'feed_publisher_name' : 'Agora Verkehrswende', \n",
    "    'feed_publisher_url' : 'https://www.agora-verkehrswende.de/',\n",
    "    'feed_lang' : 'de',\n",
    "    'feed_start_date' : window[0],\n",
    "    'feed_end_date' : window[1], \n",
    "    'feed_version' : gtf.feed_info.feed_version + \"_cut-\"+window[0]+\"--\"+window[1],\n",
    "    'feed_contact_email' : \"maita.schade@agora-verkehrswende.de\", \n",
    "    'feed_contact_url' : 'https://www.agora-verkehrswende.de/ueber-uns/team/maita/schade/'\n",
    "    }, \n",
    "    index=[0])"
   ]
  },
  {
   "cell_type": "code",
   "execution_count": 48,
   "id": "d581121d",
   "metadata": {},
   "outputs": [
    {
     "data": {
      "text/html": [
       "<div>\n",
       "<style scoped>\n",
       "    .dataframe tbody tr th:only-of-type {\n",
       "        vertical-align: middle;\n",
       "    }\n",
       "\n",
       "    .dataframe tbody tr th {\n",
       "        vertical-align: top;\n",
       "    }\n",
       "\n",
       "    .dataframe thead th {\n",
       "        text-align: right;\n",
       "    }\n",
       "</style>\n",
       "<table border=\"1\" class=\"dataframe\">\n",
       "  <thead>\n",
       "    <tr style=\"text-align: right;\">\n",
       "      <th></th>\n",
       "      <th>feed_publisher_name</th>\n",
       "      <th>feed_publisher_url</th>\n",
       "      <th>feed_lang</th>\n",
       "      <th>feed_start_date</th>\n",
       "      <th>feed_end_date</th>\n",
       "      <th>feed_version</th>\n",
       "      <th>feed_contact_email</th>\n",
       "      <th>feed_contact_url</th>\n",
       "    </tr>\n",
       "  </thead>\n",
       "  <tbody>\n",
       "    <tr>\n",
       "      <th>0</th>\n",
       "      <td>Agora Verkehrswende</td>\n",
       "      <td>https://www.agora-verkehrswende.de/</td>\n",
       "      <td>de</td>\n",
       "      <td>20200301</td>\n",
       "      <td>20200331</td>\n",
       "      <td>full-2020_cut-20200301--20200331</td>\n",
       "      <td>maita.schade@agora-verkehrswende.de</td>\n",
       "      <td>https://www.agora-verkehrswende.de/ueber-uns/t...</td>\n",
       "    </tr>\n",
       "  </tbody>\n",
       "</table>\n",
       "</div>"
      ],
      "text/plain": [
       "   feed_publisher_name                   feed_publisher_url feed_lang  \\\n",
       "0  Agora Verkehrswende  https://www.agora-verkehrswende.de/        de   \n",
       "\n",
       "  feed_start_date feed_end_date                      feed_version  \\\n",
       "0        20200301      20200331  full-2020_cut-20200301--20200331   \n",
       "\n",
       "                    feed_contact_email  \\\n",
       "0  maita.schade@agora-verkehrswende.de   \n",
       "\n",
       "                                    feed_contact_url  \n",
       "0  https://www.agora-verkehrswende.de/ueber-uns/t...  "
      ]
     },
     "execution_count": 48,
     "metadata": {},
     "output_type": "execute_result"
    }
   ],
   "source": [
    "feed_info"
   ]
  },
  {
   "cell_type": "code",
   "execution_count": 49,
   "id": "42192126",
   "metadata": {},
   "outputs": [],
   "source": [
    "gtf_cut = gk.feed.Feed(dist_units=gtf.dist_units,\n",
    "                       agency=agency,\n",
    "                       stops=stops,\n",
    "                       routes=routes,\n",
    "                       trips=trips,\n",
    "                       stop_times=stop_times,\n",
    "                       calendar=services_expanded,\n",
    "                       calendar_dates=exceptions_reduced,\n",
    "                       transfers=transfers,\n",
    "                       feed_info=feed_info\n",
    "                      )"
   ]
  },
  {
   "cell_type": "code",
   "execution_count": 50,
   "id": "5df19794",
   "metadata": {},
   "outputs": [
    {
     "data": {
      "text/html": [
       "<div>\n",
       "<style scoped>\n",
       "    .dataframe tbody tr th:only-of-type {\n",
       "        vertical-align: middle;\n",
       "    }\n",
       "\n",
       "    .dataframe tbody tr th {\n",
       "        vertical-align: top;\n",
       "    }\n",
       "\n",
       "    .dataframe thead th {\n",
       "        text-align: right;\n",
       "    }\n",
       "</style>\n",
       "<table border=\"1\" class=\"dataframe\">\n",
       "  <thead>\n",
       "    <tr style=\"text-align: right;\">\n",
       "      <th></th>\n",
       "      <th>type</th>\n",
       "      <th>message</th>\n",
       "      <th>table</th>\n",
       "      <th>rows</th>\n",
       "    </tr>\n",
       "  </thead>\n",
       "  <tbody>\n",
       "    <tr>\n",
       "      <th>0</th>\n",
       "      <td>warning</td>\n",
       "      <td>Feed expired</td>\n",
       "      <td>calendar/calendar_dates</td>\n",
       "      <td>[]</td>\n",
       "    </tr>\n",
       "    <tr>\n",
       "      <th>1</th>\n",
       "      <td>warning</td>\n",
       "      <td>Unrecognized column feed_contact_email</td>\n",
       "      <td>feed_info</td>\n",
       "      <td>[]</td>\n",
       "    </tr>\n",
       "    <tr>\n",
       "      <th>2</th>\n",
       "      <td>warning</td>\n",
       "      <td>Unrecognized column feed_contact_url</td>\n",
       "      <td>feed_info</td>\n",
       "      <td>[]</td>\n",
       "    </tr>\n",
       "    <tr>\n",
       "      <th>3</th>\n",
       "      <td>warning</td>\n",
       "      <td>Repeated pair (route_short_name, route_long_name)</td>\n",
       "      <td>routes</td>\n",
       "      <td>[1179, 1183, 1185, 1187, 1190, 1192, 1194, 119...</td>\n",
       "    </tr>\n",
       "    <tr>\n",
       "      <th>5</th>\n",
       "      <td>warning</td>\n",
       "      <td>Repeated pair (trip_id, departure_time)</td>\n",
       "      <td>stop_times</td>\n",
       "      <td>[31090762, 31090763, 31090764, 31090765, 31090...</td>\n",
       "    </tr>\n",
       "    <tr>\n",
       "      <th>4</th>\n",
       "      <td>warning</td>\n",
       "      <td>Unrecognized column platform_code</td>\n",
       "      <td>stops</td>\n",
       "      <td>[]</td>\n",
       "    </tr>\n",
       "  </tbody>\n",
       "</table>\n",
       "</div>"
      ],
      "text/plain": [
       "      type                                            message  \\\n",
       "0  warning                                       Feed expired   \n",
       "1  warning             Unrecognized column feed_contact_email   \n",
       "2  warning               Unrecognized column feed_contact_url   \n",
       "3  warning  Repeated pair (route_short_name, route_long_name)   \n",
       "5  warning            Repeated pair (trip_id, departure_time)   \n",
       "4  warning                  Unrecognized column platform_code   \n",
       "\n",
       "                     table                                               rows  \n",
       "0  calendar/calendar_dates                                                 []  \n",
       "1                feed_info                                                 []  \n",
       "2                feed_info                                                 []  \n",
       "3                   routes  [1179, 1183, 1185, 1187, 1190, 1192, 1194, 119...  \n",
       "5               stop_times  [31090762, 31090763, 31090764, 31090765, 31090...  \n",
       "4                    stops                                                 []  "
      ]
     },
     "execution_count": 50,
     "metadata": {},
     "output_type": "execute_result"
    }
   ],
   "source": [
    "gtf_cut.validate()"
   ]
  },
  {
   "cell_type": "code",
   "execution_count": 51,
   "id": "84f6c08b",
   "metadata": {},
   "outputs": [
    {
     "data": {
      "text/html": [
       "<div>\n",
       "<style scoped>\n",
       "    .dataframe tbody tr th:only-of-type {\n",
       "        vertical-align: middle;\n",
       "    }\n",
       "\n",
       "    .dataframe tbody tr th {\n",
       "        vertical-align: top;\n",
       "    }\n",
       "\n",
       "    .dataframe thead th {\n",
       "        text-align: right;\n",
       "    }\n",
       "</style>\n",
       "<table border=\"1\" class=\"dataframe\">\n",
       "  <thead>\n",
       "    <tr style=\"text-align: right;\">\n",
       "      <th></th>\n",
       "      <th>type</th>\n",
       "      <th>message</th>\n",
       "      <th>table</th>\n",
       "      <th>rows</th>\n",
       "    </tr>\n",
       "  </thead>\n",
       "  <tbody>\n",
       "    <tr>\n",
       "      <th>3</th>\n",
       "      <td>error</td>\n",
       "      <td>Invalid route_type; maybe has extra space char...</td>\n",
       "      <td>routes</td>\n",
       "      <td>[0, 1, 2, 3, 4, 5, 6, 7, 8, 9, 10, 11, 12, 13,...</td>\n",
       "    </tr>\n",
       "    <tr>\n",
       "      <th>0</th>\n",
       "      <td>warning</td>\n",
       "      <td>Feed expired</td>\n",
       "      <td>calendar/calendar_dates</td>\n",
       "      <td>[]</td>\n",
       "    </tr>\n",
       "    <tr>\n",
       "      <th>1</th>\n",
       "      <td>warning</td>\n",
       "      <td>Unrecognized column feed_contact_email</td>\n",
       "      <td>feed_info</td>\n",
       "      <td>[]</td>\n",
       "    </tr>\n",
       "    <tr>\n",
       "      <th>2</th>\n",
       "      <td>warning</td>\n",
       "      <td>Unrecognized column feed_contact_url</td>\n",
       "      <td>feed_info</td>\n",
       "      <td>[]</td>\n",
       "    </tr>\n",
       "    <tr>\n",
       "      <th>4</th>\n",
       "      <td>warning</td>\n",
       "      <td>Repeated pair (route_short_name, route_long_name)</td>\n",
       "      <td>routes</td>\n",
       "      <td>[1, 2, 18, 48, 65, 79, 80, 85, 114, 115, 130, ...</td>\n",
       "    </tr>\n",
       "    <tr>\n",
       "      <th>5</th>\n",
       "      <td>warning</td>\n",
       "      <td>Route has no trips</td>\n",
       "      <td>routes</td>\n",
       "      <td>[1022, 1279, 1642, 2053, 2089, 2111, 2164, 251...</td>\n",
       "    </tr>\n",
       "    <tr>\n",
       "      <th>8</th>\n",
       "      <td>warning</td>\n",
       "      <td>Repeated pair (trip_id, departure_time)</td>\n",
       "      <td>stop_times</td>\n",
       "      <td>[31090762, 31090763, 31090764, 31090765, 31090...</td>\n",
       "    </tr>\n",
       "    <tr>\n",
       "      <th>6</th>\n",
       "      <td>warning</td>\n",
       "      <td>Unrecognized column platform_code</td>\n",
       "      <td>stops</td>\n",
       "      <td>[]</td>\n",
       "    </tr>\n",
       "    <tr>\n",
       "      <th>7</th>\n",
       "      <td>warning</td>\n",
       "      <td>Stop has no stop times</td>\n",
       "      <td>stops</td>\n",
       "      <td>[3034, 3870, 4130, 4352, 4432, 4829, 4830, 685...</td>\n",
       "    </tr>\n",
       "  </tbody>\n",
       "</table>\n",
       "</div>"
      ],
      "text/plain": [
       "      type                                            message  \\\n",
       "3    error  Invalid route_type; maybe has extra space char...   \n",
       "0  warning                                       Feed expired   \n",
       "1  warning             Unrecognized column feed_contact_email   \n",
       "2  warning               Unrecognized column feed_contact_url   \n",
       "4  warning  Repeated pair (route_short_name, route_long_name)   \n",
       "5  warning                                 Route has no trips   \n",
       "8  warning            Repeated pair (trip_id, departure_time)   \n",
       "6  warning                  Unrecognized column platform_code   \n",
       "7  warning                             Stop has no stop times   \n",
       "\n",
       "                     table                                               rows  \n",
       "3                   routes  [0, 1, 2, 3, 4, 5, 6, 7, 8, 9, 10, 11, 12, 13,...  \n",
       "0  calendar/calendar_dates                                                 []  \n",
       "1                feed_info                                                 []  \n",
       "2                feed_info                                                 []  \n",
       "4                   routes  [1, 2, 18, 48, 65, 79, 80, 85, 114, 115, 130, ...  \n",
       "5                   routes  [1022, 1279, 1642, 2053, 2089, 2111, 2164, 251...  \n",
       "8               stop_times  [31090762, 31090763, 31090764, 31090765, 31090...  \n",
       "6                    stops                                                 []  \n",
       "7                    stops  [3034, 3870, 4130, 4352, 4432, 4829, 4830, 685...  "
      ]
     },
     "execution_count": 51,
     "metadata": {},
     "output_type": "execute_result"
    }
   ],
   "source": [
    "gtf.validate()"
   ]
  },
  {
   "cell_type": "markdown",
   "id": "f02f1a74",
   "metadata": {},
   "source": [
    "# SPACE."
   ]
  },
  {
   "cell_type": "markdown",
   "id": "b9960afa",
   "metadata": {},
   "source": [
    "First, get a shape to practice with"
   ]
  },
  {
   "cell_type": "code",
   "execution_count": 154,
   "id": "344eaac3",
   "metadata": {},
   "outputs": [],
   "source": [
    "kreise_gdf = gpd.read_file(\"/mnt/c/Users/maita.schade/Nextcloud/Documents/Work/Gap_Map/raw/geo/vg250-ew_12-31.utm32s.shape.ebenen/vg250-ew_ebenen_1231/VG250_KRS.shp\"\n",
    "                          ).to_crs(\"epsg:4326\")\n",
    "\n",
    "shape = kreise_gdf[kreise_gdf.GEN==\"Berlin\"]\n",
    "cut_name = \"Berlin\""
   ]
  },
  {
   "cell_type": "markdown",
   "id": "50fef936",
   "metadata": {},
   "source": [
    "Try cutting the stops"
   ]
  },
  {
   "cell_type": "code",
   "execution_count": 214,
   "id": "5a23b90a",
   "metadata": {},
   "outputs": [],
   "source": [
    "stops_gdf = gpd.GeoDataFrame(gtf.stops.copy(), \n",
    "                             geometry=gpd.points_from_xy(gtf.stops.stop_lon, gtf.stops.stop_lat),\n",
    "                             crs=\"epsg:4326\"\n",
    "                            )"
   ]
  },
  {
   "cell_type": "code",
   "execution_count": 215,
   "id": "5fe70aef",
   "metadata": {},
   "outputs": [
    {
     "data": {
      "text/plain": [
       "Index(['stop_name', 'parent_station', 'stop_code', 'zone_id', 'stop_id',\n",
       "       'stop_lat', 'stop_lon', 'location_type', 'wheelchair_boarding',\n",
       "       'platform_code'],\n",
       "      dtype='object')"
      ]
     },
     "execution_count": 215,
     "metadata": {},
     "output_type": "execute_result"
    }
   ],
   "source": [
    "gtf.stops.columns"
   ]
  },
  {
   "cell_type": "markdown",
   "id": "466076ec",
   "metadata": {},
   "source": [
    "Can it be that creating a geodataframe motifies the original dataframe in place?\n",
    "\n",
    "Note to self: it is good to copy a dataframe before making a gdf from it!"
   ]
  },
  {
   "cell_type": "code",
   "execution_count": 216,
   "id": "15cb6118",
   "metadata": {},
   "outputs": [],
   "source": [
    "stops = pd.DataFrame(gpd.sjoin(stops_gdf, shape[[\"geometry\"]], op=\"within\"\n",
    "                              )).drop(columns=['geometry', 'index_right'])"
   ]
  },
  {
   "cell_type": "markdown",
   "id": "467a095c",
   "metadata": {},
   "source": [
    "Make sure all parent stations are there... I think there are edge cases that get lost otherwise"
   ]
  },
  {
   "cell_type": "code",
   "execution_count": 217,
   "id": "9aea082e",
   "metadata": {},
   "outputs": [],
   "source": [
    "lost_parent_stations = stops[~stops.parent_station.isna() & ~stops.parent_station.isin(stops.stop_id)].parent_station.unique()"
   ]
  },
  {
   "cell_type": "code",
   "execution_count": 218,
   "id": "c77b69d9",
   "metadata": {},
   "outputs": [],
   "source": [
    "stops = stops.append(gtf.stops[gtf.stops.stop_id.isin(lost_parent_stations)])"
   ]
  },
  {
   "cell_type": "code",
   "execution_count": 219,
   "id": "37f5faf9",
   "metadata": {},
   "outputs": [
    {
     "data": {
      "text/plain": [
       "Index(['stop_name', 'parent_station', 'stop_code', 'zone_id', 'stop_id',\n",
       "       'stop_lat', 'stop_lon', 'location_type', 'wheelchair_boarding',\n",
       "       'platform_code'],\n",
       "      dtype='object')"
      ]
     },
     "execution_count": 219,
     "metadata": {},
     "output_type": "execute_result"
    }
   ],
   "source": [
    "stops.columns"
   ]
  },
  {
   "cell_type": "markdown",
   "id": "1729e33c",
   "metadata": {},
   "source": [
    "Now we have a reduced set of stops and should just be able to trickle our way through the other tables:\n",
    "- `stop_times` by `stop_id`\n",
    "- `trips` by `trip_id`\n",
    "- `calendar` and `calendar_dates` by `service_id`\n",
    "- `routes` by `route_id` \n",
    "- `agency` by `agency_id`\n",
    "- `transfers` by `stop_id`"
   ]
  },
  {
   "cell_type": "markdown",
   "id": "bfd2f184",
   "metadata": {},
   "source": [
    "- `stop_times` by `stop_id`\n"
   ]
  },
  {
   "cell_type": "code",
   "execution_count": 183,
   "id": "2c2a56cf",
   "metadata": {},
   "outputs": [],
   "source": [
    "stop_times = gtf.stop_times[gtf.stop_times.stop_id.isin(stops.stop_id)]"
   ]
  },
  {
   "cell_type": "code",
   "execution_count": 184,
   "id": "7df1eb8b",
   "metadata": {},
   "outputs": [
    {
     "data": {
      "text/plain": [
       "0.7922373614682496"
      ]
     },
     "execution_count": 184,
     "metadata": {},
     "output_type": "execute_result"
    }
   ],
   "source": [
    "(len(gtf.stop_times)-len(stop_times))/len(gtf.stop_times)"
   ]
  },
  {
   "cell_type": "markdown",
   "id": "fd7eb307",
   "metadata": {},
   "source": [
    "- `trips` by `trip_id`\n"
   ]
  },
  {
   "cell_type": "code",
   "execution_count": 185,
   "id": "b11f7d41",
   "metadata": {},
   "outputs": [],
   "source": [
    "trips = gtf.trips[gtf.trips.trip_id.isin(stop_times.trip_id)]"
   ]
  },
  {
   "cell_type": "code",
   "execution_count": 186,
   "id": "cc972078",
   "metadata": {},
   "outputs": [
    {
     "data": {
      "text/plain": [
       "0.8191746586107663"
      ]
     },
     "execution_count": 186,
     "metadata": {},
     "output_type": "execute_result"
    }
   ],
   "source": [
    "(len(gtf.trips)-len(trips))/len(gtf.trips)"
   ]
  },
  {
   "cell_type": "markdown",
   "id": "ab773e14",
   "metadata": {},
   "source": [
    "- `calendar` and `calendar_dates` by `service_id`\n"
   ]
  },
  {
   "cell_type": "code",
   "execution_count": 187,
   "id": "324938ce",
   "metadata": {},
   "outputs": [
    {
     "data": {
      "text/plain": [
       "0.8560053924253276"
      ]
     },
     "execution_count": 187,
     "metadata": {},
     "output_type": "execute_result"
    }
   ],
   "source": [
    "calendar = gtf.calendar[gtf.calendar.service_id.isin(trips.service_id)]\n",
    "\n",
    "(len(gtf.calendar)-len(calendar))/len(gtf.calendar)"
   ]
  },
  {
   "cell_type": "code",
   "execution_count": 188,
   "id": "9a9d4fa0",
   "metadata": {},
   "outputs": [],
   "source": [
    "calendar_dates = gtf.calendar_dates[gtf.calendar_dates.service_id.isin(trips.service_id)]"
   ]
  },
  {
   "cell_type": "code",
   "execution_count": 189,
   "id": "3c323f85",
   "metadata": {},
   "outputs": [
    {
     "data": {
      "text/plain": [
       "0.937811455980888"
      ]
     },
     "execution_count": 189,
     "metadata": {},
     "output_type": "execute_result"
    }
   ],
   "source": [
    "(len(gtf.calendar_dates)-len(calendar_dates))/len(gtf.calendar_dates)"
   ]
  },
  {
   "cell_type": "markdown",
   "id": "7740fa8e",
   "metadata": {},
   "source": [
    "- `routes` by `route_id` \n"
   ]
  },
  {
   "cell_type": "code",
   "execution_count": 190,
   "id": "c0fcdddf",
   "metadata": {},
   "outputs": [
    {
     "data": {
      "text/plain": [
       "0.9704787234042553"
      ]
     },
     "execution_count": 190,
     "metadata": {},
     "output_type": "execute_result"
    }
   ],
   "source": [
    "routes = gtf.routes[gtf.routes.route_id.isin(trips.route_id)]\n",
    "\n",
    "(len(gtf.routes)-len(routes))/len(gtf.routes)"
   ]
  },
  {
   "cell_type": "markdown",
   "id": "2261f09b",
   "metadata": {},
   "source": [
    "- `agency` by `agency_id`"
   ]
  },
  {
   "cell_type": "code",
   "execution_count": 191,
   "id": "1eb055c9",
   "metadata": {},
   "outputs": [
    {
     "data": {
      "text/plain": [
       "0.8986486486486487"
      ]
     },
     "execution_count": 191,
     "metadata": {},
     "output_type": "execute_result"
    }
   ],
   "source": [
    "agency = gtf.agency[gtf.agency.agency_id.isin(routes.agency_id)]\n",
    "\n",
    "(len(gtf.agency)-len(agency))/len(gtf.agency)"
   ]
  },
  {
   "cell_type": "markdown",
   "id": "d20db55e",
   "metadata": {},
   "source": [
    "- `transfers` by `stop_id`"
   ]
  },
  {
   "cell_type": "code",
   "execution_count": 192,
   "id": "2907c1b1",
   "metadata": {},
   "outputs": [
    {
     "data": {
      "text/plain": [
       "0.5229214164799358"
      ]
     },
     "execution_count": 192,
     "metadata": {},
     "output_type": "execute_result"
    }
   ],
   "source": [
    "transfers = gtf.transfers[(gtf.transfers.from_stop_id.isin(stops.stop_id)) & (gtf.transfers.to_stop_id.isin(stops.stop_id))]\n",
    "\n",
    "(len(gtf.transfers)-len(transfers))/len(gtf.transfers)"
   ]
  },
  {
   "cell_type": "markdown",
   "id": "e10ca5c9",
   "metadata": {},
   "source": [
    "So many transfers are in Berlin!!"
   ]
  },
  {
   "cell_type": "markdown",
   "id": "98c39193",
   "metadata": {},
   "source": [
    "And new feed_info"
   ]
  },
  {
   "cell_type": "code",
   "execution_count": 193,
   "id": "5eaecd8d",
   "metadata": {},
   "outputs": [],
   "source": [
    "feed_info = pd.DataFrame({\n",
    "    'feed_publisher_name' : 'Agora Verkehrswende', \n",
    "    'feed_publisher_url' : 'https://www.agora-verkehrswende.de/',\n",
    "    'feed_lang' : 'de',\n",
    "    'feed_start_date' : gtf.feed_info.feed_start_date,\n",
    "    'feed_end_date' : gtf.feed_info.feed_end_date, \n",
    "    'feed_version' : gtf.feed_info.feed_version + \"_cut-\"+cut_name,\n",
    "    'feed_contact_email' : \"maita.schade@agora-verkehrswende.de\", \n",
    "    'feed_contact_url' : 'https://www.agora-verkehrswende.de/ueber-uns/team/maita/schade/'\n",
    "    }, \n",
    "    index=[0])"
   ]
  },
  {
   "cell_type": "code",
   "execution_count": 194,
   "id": "7a869bb2",
   "metadata": {},
   "outputs": [],
   "source": [
    "gtf_cut = gk.feed.Feed(dist_units=gtf.dist_units,\n",
    "                       agency=agency,\n",
    "                       stops=stops,\n",
    "                       routes=routes,\n",
    "                       trips=trips,\n",
    "                       stop_times=stop_times,\n",
    "                       calendar=calendar,\n",
    "                       calendar_dates=calendar_dates,\n",
    "                       transfers=transfers,\n",
    "                       feed_info=feed_info\n",
    "                      )"
   ]
  },
  {
   "cell_type": "code",
   "execution_count": 195,
   "id": "4ac895e3",
   "metadata": {},
   "outputs": [
    {
     "data": {
      "text/html": [
       "<div>\n",
       "<style scoped>\n",
       "    .dataframe tbody tr th:only-of-type {\n",
       "        vertical-align: middle;\n",
       "    }\n",
       "\n",
       "    .dataframe tbody tr th {\n",
       "        vertical-align: top;\n",
       "    }\n",
       "\n",
       "    .dataframe thead th {\n",
       "        text-align: right;\n",
       "    }\n",
       "</style>\n",
       "<table border=\"1\" class=\"dataframe\">\n",
       "  <thead>\n",
       "    <tr style=\"text-align: right;\">\n",
       "      <th></th>\n",
       "      <th>type</th>\n",
       "      <th>message</th>\n",
       "      <th>table</th>\n",
       "      <th>rows</th>\n",
       "    </tr>\n",
       "  </thead>\n",
       "  <tbody>\n",
       "    <tr>\n",
       "      <th>3</th>\n",
       "      <td>error</td>\n",
       "      <td>Invalid route_type; maybe has extra space char...</td>\n",
       "      <td>routes</td>\n",
       "      <td>[4, 5, 6, 7, 8, 9, 10, 12, 13, 14, 15, 16, 17,...</td>\n",
       "    </tr>\n",
       "    <tr>\n",
       "      <th>0</th>\n",
       "      <td>warning</td>\n",
       "      <td>Feed expired</td>\n",
       "      <td>calendar/calendar_dates</td>\n",
       "      <td>[]</td>\n",
       "    </tr>\n",
       "    <tr>\n",
       "      <th>1</th>\n",
       "      <td>warning</td>\n",
       "      <td>Unrecognized column feed_contact_email</td>\n",
       "      <td>feed_info</td>\n",
       "      <td>[]</td>\n",
       "    </tr>\n",
       "    <tr>\n",
       "      <th>2</th>\n",
       "      <td>warning</td>\n",
       "      <td>Unrecognized column feed_contact_url</td>\n",
       "      <td>feed_info</td>\n",
       "      <td>[]</td>\n",
       "    </tr>\n",
       "    <tr>\n",
       "      <th>4</th>\n",
       "      <td>warning</td>\n",
       "      <td>Repeated pair (route_short_name, route_long_name)</td>\n",
       "      <td>routes</td>\n",
       "      <td>[114, 148, 402, 424, 447, 468, 500, 526, 536, ...</td>\n",
       "    </tr>\n",
       "    <tr>\n",
       "      <th>8</th>\n",
       "      <td>warning</td>\n",
       "      <td>Repeated pair (trip_id, departure_time)</td>\n",
       "      <td>stop_times</td>\n",
       "      <td>[8261502, 12005087, 8470822, 8470853, 15946788...</td>\n",
       "    </tr>\n",
       "    <tr>\n",
       "      <th>5</th>\n",
       "      <td>warning</td>\n",
       "      <td>Unrecognized column platform_code</td>\n",
       "      <td>stops</td>\n",
       "      <td>[]</td>\n",
       "    </tr>\n",
       "    <tr>\n",
       "      <th>6</th>\n",
       "      <td>warning</td>\n",
       "      <td>Unrecognized column geometry</td>\n",
       "      <td>stops</td>\n",
       "      <td>[]</td>\n",
       "    </tr>\n",
       "    <tr>\n",
       "      <th>7</th>\n",
       "      <td>warning</td>\n",
       "      <td>Stop has no stop times</td>\n",
       "      <td>stops</td>\n",
       "      <td>[65357, 555037, 555927, 555966, 556229]</td>\n",
       "    </tr>\n",
       "  </tbody>\n",
       "</table>\n",
       "</div>"
      ],
      "text/plain": [
       "      type                                            message  \\\n",
       "3    error  Invalid route_type; maybe has extra space char...   \n",
       "0  warning                                       Feed expired   \n",
       "1  warning             Unrecognized column feed_contact_email   \n",
       "2  warning               Unrecognized column feed_contact_url   \n",
       "4  warning  Repeated pair (route_short_name, route_long_name)   \n",
       "8  warning            Repeated pair (trip_id, departure_time)   \n",
       "5  warning                  Unrecognized column platform_code   \n",
       "6  warning                       Unrecognized column geometry   \n",
       "7  warning                             Stop has no stop times   \n",
       "\n",
       "                     table                                               rows  \n",
       "3                   routes  [4, 5, 6, 7, 8, 9, 10, 12, 13, 14, 15, 16, 17,...  \n",
       "0  calendar/calendar_dates                                                 []  \n",
       "1                feed_info                                                 []  \n",
       "2                feed_info                                                 []  \n",
       "4                   routes  [114, 148, 402, 424, 447, 468, 500, 526, 536, ...  \n",
       "8               stop_times  [8261502, 12005087, 8470822, 8470853, 15946788...  \n",
       "5                    stops                                                 []  \n",
       "6                    stops                                                 []  \n",
       "7                    stops            [65357, 555037, 555927, 555966, 556229]  "
      ]
     },
     "execution_count": 195,
     "metadata": {},
     "output_type": "execute_result"
    }
   ],
   "source": [
    "gtf_cut.validate()"
   ]
  },
  {
   "cell_type": "code",
   "execution_count": 227,
   "id": "ed0f8d00",
   "metadata": {},
   "outputs": [
    {
     "data": {
      "text/html": [
       "<div>\n",
       "<style scoped>\n",
       "    .dataframe tbody tr th:only-of-type {\n",
       "        vertical-align: middle;\n",
       "    }\n",
       "\n",
       "    .dataframe tbody tr th {\n",
       "        vertical-align: top;\n",
       "    }\n",
       "\n",
       "    .dataframe thead th {\n",
       "        text-align: right;\n",
       "    }\n",
       "</style>\n",
       "<table border=\"1\" class=\"dataframe\">\n",
       "  <thead>\n",
       "    <tr style=\"text-align: right;\">\n",
       "      <th></th>\n",
       "      <th>stop_name</th>\n",
       "      <th>parent_station</th>\n",
       "      <th>stop_code</th>\n",
       "      <th>zone_id</th>\n",
       "      <th>stop_id</th>\n",
       "      <th>stop_lat</th>\n",
       "      <th>stop_lon</th>\n",
       "      <th>location_type</th>\n",
       "      <th>wheelchair_boarding</th>\n",
       "      <th>platform_code</th>\n",
       "      <th>geometry</th>\n",
       "    </tr>\n",
       "  </thead>\n",
       "  <tbody>\n",
       "    <tr>\n",
       "      <th>65357</th>\n",
       "      <td>Berlin, Washingtonplatz/Hauptbahnhof</td>\n",
       "      <td>35740</td>\n",
       "      <td>NaN</td>\n",
       "      <td>NaN</td>\n",
       "      <td>415688</td>\n",
       "      <td>52.523968</td>\n",
       "      <td>13.370708</td>\n",
       "      <td>NaN</td>\n",
       "      <td>NaN</td>\n",
       "      <td>NaN</td>\n",
       "      <td>None</td>\n",
       "    </tr>\n",
       "    <tr>\n",
       "      <th>555037</th>\n",
       "      <td>S Mahlsdorf Bhf (Berlin)</td>\n",
       "      <td>292187</td>\n",
       "      <td>NaN</td>\n",
       "      <td>NaN</td>\n",
       "      <td>359476</td>\n",
       "      <td>52.512120</td>\n",
       "      <td>13.611230</td>\n",
       "      <td>NaN</td>\n",
       "      <td>NaN</td>\n",
       "      <td>NaN</td>\n",
       "      <td>None</td>\n",
       "    </tr>\n",
       "    <tr>\n",
       "      <th>555927</th>\n",
       "      <td>S+U Alexanderplatz Bhf (Berlin)</td>\n",
       "      <td>361316</td>\n",
       "      <td>NaN</td>\n",
       "      <td>NaN</td>\n",
       "      <td>489037</td>\n",
       "      <td>52.521510</td>\n",
       "      <td>13.411267</td>\n",
       "      <td>NaN</td>\n",
       "      <td>NaN</td>\n",
       "      <td>NaN</td>\n",
       "      <td>None</td>\n",
       "    </tr>\n",
       "    <tr>\n",
       "      <th>555966</th>\n",
       "      <td>S+U Berlin Hauptbahnhof (tief)</td>\n",
       "      <td>508163</td>\n",
       "      <td>NaN</td>\n",
       "      <td>NaN</td>\n",
       "      <td>64474</td>\n",
       "      <td>52.525043</td>\n",
       "      <td>13.369386</td>\n",
       "      <td>NaN</td>\n",
       "      <td>NaN</td>\n",
       "      <td>NaN</td>\n",
       "      <td>None</td>\n",
       "    </tr>\n",
       "    <tr>\n",
       "      <th>556229</th>\n",
       "      <td>S+U Potsdamer Platz Bhf (Berlin)</td>\n",
       "      <td>698350</td>\n",
       "      <td>NaN</td>\n",
       "      <td>NaN</td>\n",
       "      <td>336238</td>\n",
       "      <td>52.509340</td>\n",
       "      <td>13.376454</td>\n",
       "      <td>NaN</td>\n",
       "      <td>NaN</td>\n",
       "      <td>NaN</td>\n",
       "      <td>None</td>\n",
       "    </tr>\n",
       "  </tbody>\n",
       "</table>\n",
       "</div>"
      ],
      "text/plain": [
       "                                   stop_name parent_station stop_code zone_id  \\\n",
       "65357   Berlin, Washingtonplatz/Hauptbahnhof          35740       NaN     NaN   \n",
       "555037              S Mahlsdorf Bhf (Berlin)         292187       NaN     NaN   \n",
       "555927       S+U Alexanderplatz Bhf (Berlin)         361316       NaN     NaN   \n",
       "555966        S+U Berlin Hauptbahnhof (tief)         508163       NaN     NaN   \n",
       "556229      S+U Potsdamer Platz Bhf (Berlin)         698350       NaN     NaN   \n",
       "\n",
       "       stop_id   stop_lat   stop_lon  location_type  wheelchair_boarding  \\\n",
       "65357   415688  52.523968  13.370708            NaN                  NaN   \n",
       "555037  359476  52.512120  13.611230            NaN                  NaN   \n",
       "555927  489037  52.521510  13.411267            NaN                  NaN   \n",
       "555966   64474  52.525043  13.369386            NaN                  NaN   \n",
       "556229  336238  52.509340  13.376454            NaN                  NaN   \n",
       "\n",
       "       platform_code geometry  \n",
       "65357            NaN     None  \n",
       "555037           NaN     None  \n",
       "555927           NaN     None  \n",
       "555966           NaN     None  \n",
       "556229           NaN     None  "
      ]
     },
     "execution_count": 227,
     "metadata": {},
     "output_type": "execute_result"
    }
   ],
   "source": [
    "gtf_cut.stops.loc[[65357, 555037, 555927, 555966, 556229]]"
   ]
  },
  {
   "cell_type": "markdown",
   "id": "f1befab4",
   "metadata": {},
   "source": [
    "Looks like the seemingly abandoned stations show up in the transfers:"
   ]
  },
  {
   "cell_type": "code",
   "execution_count": 230,
   "id": "15ae2489",
   "metadata": {},
   "outputs": [],
   "source": [
    "zombie_stations = gtf_cut.stops.loc[[65357, 555037, 555927, 555966, 556229],[\"parent_station\",\"stop_id\"]]"
   ]
  },
  {
   "cell_type": "code",
   "execution_count": 233,
   "id": "7c7742a0",
   "metadata": {},
   "outputs": [
    {
     "data": {
      "text/html": [
       "<div>\n",
       "<style scoped>\n",
       "    .dataframe tbody tr th:only-of-type {\n",
       "        vertical-align: middle;\n",
       "    }\n",
       "\n",
       "    .dataframe tbody tr th {\n",
       "        vertical-align: top;\n",
       "    }\n",
       "\n",
       "    .dataframe thead th {\n",
       "        text-align: right;\n",
       "    }\n",
       "</style>\n",
       "<table border=\"1\" class=\"dataframe\">\n",
       "  <thead>\n",
       "    <tr style=\"text-align: right;\">\n",
       "      <th></th>\n",
       "      <th>from_stop_id</th>\n",
       "      <th>to_stop_id</th>\n",
       "      <th>transfer_type</th>\n",
       "      <th>min_transfer_time</th>\n",
       "    </tr>\n",
       "  </thead>\n",
       "  <tbody>\n",
       "    <tr>\n",
       "      <th>2178</th>\n",
       "      <td>11562</td>\n",
       "      <td>336238</td>\n",
       "      <td>2</td>\n",
       "      <td>240.0</td>\n",
       "    </tr>\n",
       "    <tr>\n",
       "      <th>2179</th>\n",
       "      <td>11562</td>\n",
       "      <td>336238</td>\n",
       "      <td>2</td>\n",
       "      <td>240.0</td>\n",
       "    </tr>\n",
       "    <tr>\n",
       "      <th>37655</th>\n",
       "      <td>336238</td>\n",
       "      <td>11562</td>\n",
       "      <td>2</td>\n",
       "      <td>240.0</td>\n",
       "    </tr>\n",
       "    <tr>\n",
       "      <th>37656</th>\n",
       "      <td>336238</td>\n",
       "      <td>11562</td>\n",
       "      <td>2</td>\n",
       "      <td>240.0</td>\n",
       "    </tr>\n",
       "    <tr>\n",
       "      <th>37657</th>\n",
       "      <td>336238</td>\n",
       "      <td>336238</td>\n",
       "      <td>2</td>\n",
       "      <td>240.0</td>\n",
       "    </tr>\n",
       "    <tr>\n",
       "      <th>...</th>\n",
       "      <td>...</td>\n",
       "      <td>...</td>\n",
       "      <td>...</td>\n",
       "      <td>...</td>\n",
       "    </tr>\n",
       "    <tr>\n",
       "      <th>90004</th>\n",
       "      <td>663925</td>\n",
       "      <td>336238</td>\n",
       "      <td>2</td>\n",
       "      <td>240.0</td>\n",
       "    </tr>\n",
       "    <tr>\n",
       "      <th>90005</th>\n",
       "      <td>663925</td>\n",
       "      <td>336238</td>\n",
       "      <td>2</td>\n",
       "      <td>240.0</td>\n",
       "    </tr>\n",
       "    <tr>\n",
       "      <th>92703</th>\n",
       "      <td>681301</td>\n",
       "      <td>489037</td>\n",
       "      <td>2</td>\n",
       "      <td>180.0</td>\n",
       "    </tr>\n",
       "    <tr>\n",
       "      <th>92704</th>\n",
       "      <td>681301</td>\n",
       "      <td>489037</td>\n",
       "      <td>2</td>\n",
       "      <td>180.0</td>\n",
       "    </tr>\n",
       "    <tr>\n",
       "      <th>93309</th>\n",
       "      <td>686639</td>\n",
       "      <td>359476</td>\n",
       "      <td>2</td>\n",
       "      <td>300.0</td>\n",
       "    </tr>\n",
       "  </tbody>\n",
       "</table>\n",
       "<p>67 rows × 4 columns</p>\n",
       "</div>"
      ],
      "text/plain": [
       "      from_stop_id to_stop_id  transfer_type  min_transfer_time\n",
       "2178         11562     336238              2              240.0\n",
       "2179         11562     336238              2              240.0\n",
       "37655       336238      11562              2              240.0\n",
       "37656       336238      11562              2              240.0\n",
       "37657       336238     336238              2              240.0\n",
       "...            ...        ...            ...                ...\n",
       "90004       663925     336238              2              240.0\n",
       "90005       663925     336238              2              240.0\n",
       "92703       681301     489037              2              180.0\n",
       "92704       681301     489037              2              180.0\n",
       "93309       686639     359476              2              300.0\n",
       "\n",
       "[67 rows x 4 columns]"
      ]
     },
     "execution_count": 233,
     "metadata": {},
     "output_type": "execute_result"
    }
   ],
   "source": [
    "gtf.transfers[gtf.transfers.from_stop_id.isin(zombie_stations.stop_id) | \n",
    "              gtf.transfers.to_stop_id.isin(zombie_stations.stop_id)]"
   ]
  },
  {
   "cell_type": "code",
   "execution_count": 234,
   "id": "d7fa2fc9",
   "metadata": {},
   "outputs": [
    {
     "data": {
      "text/html": [
       "<div>\n",
       "<style scoped>\n",
       "    .dataframe tbody tr th:only-of-type {\n",
       "        vertical-align: middle;\n",
       "    }\n",
       "\n",
       "    .dataframe tbody tr th {\n",
       "        vertical-align: top;\n",
       "    }\n",
       "\n",
       "    .dataframe thead th {\n",
       "        text-align: right;\n",
       "    }\n",
       "</style>\n",
       "<table border=\"1\" class=\"dataframe\">\n",
       "  <thead>\n",
       "    <tr style=\"text-align: right;\">\n",
       "      <th></th>\n",
       "      <th>parent_station</th>\n",
       "      <th>stop_id</th>\n",
       "    </tr>\n",
       "  </thead>\n",
       "  <tbody>\n",
       "    <tr>\n",
       "      <th>65357</th>\n",
       "      <td>35740</td>\n",
       "      <td>415688</td>\n",
       "    </tr>\n",
       "    <tr>\n",
       "      <th>555037</th>\n",
       "      <td>292187</td>\n",
       "      <td>359476</td>\n",
       "    </tr>\n",
       "    <tr>\n",
       "      <th>555927</th>\n",
       "      <td>361316</td>\n",
       "      <td>489037</td>\n",
       "    </tr>\n",
       "    <tr>\n",
       "      <th>555966</th>\n",
       "      <td>508163</td>\n",
       "      <td>64474</td>\n",
       "    </tr>\n",
       "    <tr>\n",
       "      <th>556229</th>\n",
       "      <td>698350</td>\n",
       "      <td>336238</td>\n",
       "    </tr>\n",
       "  </tbody>\n",
       "</table>\n",
       "</div>"
      ],
      "text/plain": [
       "       parent_station stop_id\n",
       "65357           35740  415688\n",
       "555037         292187  359476\n",
       "555927         361316  489037\n",
       "555966         508163   64474\n",
       "556229         698350  336238"
      ]
     },
     "execution_count": 234,
     "metadata": {},
     "output_type": "execute_result"
    }
   ],
   "source": [
    "zombie_stations[zombie_stations.stop_id.isin(gtf.transfers.from_stop_id) & \n",
    "                zombie_stations.stop_id.isin(gtf.transfers.to_stop_id)\n",
    "               ]"
   ]
  },
  {
   "cell_type": "markdown",
   "id": "8f148b50",
   "metadata": {},
   "source": [
    "A number of trips stop at multiple stops at the same time?!"
   ]
  },
  {
   "cell_type": "code",
   "execution_count": 224,
   "id": "7d8f31fe",
   "metadata": {},
   "outputs": [
    {
     "data": {
      "text/html": [
       "<div>\n",
       "<style scoped>\n",
       "    .dataframe tbody tr th:only-of-type {\n",
       "        vertical-align: middle;\n",
       "    }\n",
       "\n",
       "    .dataframe tbody tr th {\n",
       "        vertical-align: top;\n",
       "    }\n",
       "\n",
       "    .dataframe thead th {\n",
       "        text-align: right;\n",
       "    }\n",
       "</style>\n",
       "<table border=\"1\" class=\"dataframe\">\n",
       "  <thead>\n",
       "    <tr style=\"text-align: right;\">\n",
       "      <th></th>\n",
       "      <th>trip_id</th>\n",
       "      <th>arrival_time</th>\n",
       "      <th>departure_time</th>\n",
       "      <th>stop_id</th>\n",
       "      <th>stop_sequence</th>\n",
       "      <th>stop_headsign</th>\n",
       "      <th>pickup_type</th>\n",
       "      <th>drop_off_type</th>\n",
       "    </tr>\n",
       "  </thead>\n",
       "  <tbody>\n",
       "    <tr>\n",
       "      <th>8261501</th>\n",
       "      <td>100002</td>\n",
       "      <td>12:48:00</td>\n",
       "      <td>12:48:00</td>\n",
       "      <td>116779</td>\n",
       "      <td>0</td>\n",
       "      <td>NaN</td>\n",
       "      <td>NaN</td>\n",
       "      <td>NaN</td>\n",
       "    </tr>\n",
       "    <tr>\n",
       "      <th>8261502</th>\n",
       "      <td>100002</td>\n",
       "      <td>12:48:00</td>\n",
       "      <td>12:48:00</td>\n",
       "      <td>319858</td>\n",
       "      <td>1</td>\n",
       "      <td>NaN</td>\n",
       "      <td>NaN</td>\n",
       "      <td>NaN</td>\n",
       "    </tr>\n",
       "    <tr>\n",
       "      <th>12005086</th>\n",
       "      <td>100003</td>\n",
       "      <td>11:25:00</td>\n",
       "      <td>11:25:00</td>\n",
       "      <td>638475</td>\n",
       "      <td>10</td>\n",
       "      <td>Fahrt endet hier</td>\n",
       "      <td>NaN</td>\n",
       "      <td>NaN</td>\n",
       "    </tr>\n",
       "    <tr>\n",
       "      <th>12005087</th>\n",
       "      <td>100003</td>\n",
       "      <td>11:25:00</td>\n",
       "      <td>11:25:00</td>\n",
       "      <td>578739</td>\n",
       "      <td>11</td>\n",
       "      <td>Fahrt endet hier</td>\n",
       "      <td>NaN</td>\n",
       "      <td>NaN</td>\n",
       "    </tr>\n",
       "    <tr>\n",
       "      <th>8470821</th>\n",
       "      <td>1000061</td>\n",
       "      <td>14:48:00</td>\n",
       "      <td>14:48:00</td>\n",
       "      <td>196543</td>\n",
       "      <td>0</td>\n",
       "      <td>U Berliner Str.</td>\n",
       "      <td>NaN</td>\n",
       "      <td>NaN</td>\n",
       "    </tr>\n",
       "    <tr>\n",
       "      <th>...</th>\n",
       "      <td>...</td>\n",
       "      <td>...</td>\n",
       "      <td>...</td>\n",
       "      <td>...</td>\n",
       "      <td>...</td>\n",
       "      <td>...</td>\n",
       "      <td>...</td>\n",
       "      <td>...</td>\n",
       "    </tr>\n",
       "    <tr>\n",
       "      <th>32762325</th>\n",
       "      <td>999946</td>\n",
       "      <td>05:03:00</td>\n",
       "      <td>05:03:00</td>\n",
       "      <td>456236</td>\n",
       "      <td>19</td>\n",
       "      <td>U Theodor-Heuss-Platz</td>\n",
       "      <td>NaN</td>\n",
       "      <td>NaN</td>\n",
       "    </tr>\n",
       "    <tr>\n",
       "      <th>32762342</th>\n",
       "      <td>999946</td>\n",
       "      <td>05:21:00</td>\n",
       "      <td>05:21:00</td>\n",
       "      <td>265480</td>\n",
       "      <td>36</td>\n",
       "      <td>U Theodor-Heuss-Platz</td>\n",
       "      <td>NaN</td>\n",
       "      <td>NaN</td>\n",
       "    </tr>\n",
       "    <tr>\n",
       "      <th>32762343</th>\n",
       "      <td>999946</td>\n",
       "      <td>05:21:00</td>\n",
       "      <td>05:21:00</td>\n",
       "      <td>224209</td>\n",
       "      <td>37</td>\n",
       "      <td>U Theodor-Heuss-Platz</td>\n",
       "      <td>NaN</td>\n",
       "      <td>NaN</td>\n",
       "    </tr>\n",
       "    <tr>\n",
       "      <th>36554192</th>\n",
       "      <td>999998</td>\n",
       "      <td>15:26:00</td>\n",
       "      <td>15:26:00</td>\n",
       "      <td>373804</td>\n",
       "      <td>34</td>\n",
       "      <td>NaN</td>\n",
       "      <td>NaN</td>\n",
       "      <td>NaN</td>\n",
       "    </tr>\n",
       "    <tr>\n",
       "      <th>36554193</th>\n",
       "      <td>999998</td>\n",
       "      <td>15:26:00</td>\n",
       "      <td>15:26:00</td>\n",
       "      <td>373804</td>\n",
       "      <td>35</td>\n",
       "      <td>NaN</td>\n",
       "      <td>NaN</td>\n",
       "      <td>NaN</td>\n",
       "    </tr>\n",
       "  </tbody>\n",
       "</table>\n",
       "<p>282947 rows × 8 columns</p>\n",
       "</div>"
      ],
      "text/plain": [
       "          trip_id arrival_time departure_time stop_id  stop_sequence  \\\n",
       "8261501    100002     12:48:00       12:48:00  116779              0   \n",
       "8261502    100002     12:48:00       12:48:00  319858              1   \n",
       "12005086   100003     11:25:00       11:25:00  638475             10   \n",
       "12005087   100003     11:25:00       11:25:00  578739             11   \n",
       "8470821   1000061     14:48:00       14:48:00  196543              0   \n",
       "...           ...          ...            ...     ...            ...   \n",
       "32762325   999946     05:03:00       05:03:00  456236             19   \n",
       "32762342   999946     05:21:00       05:21:00  265480             36   \n",
       "32762343   999946     05:21:00       05:21:00  224209             37   \n",
       "36554192   999998     15:26:00       15:26:00  373804             34   \n",
       "36554193   999998     15:26:00       15:26:00  373804             35   \n",
       "\n",
       "                  stop_headsign  pickup_type  drop_off_type  \n",
       "8261501                     NaN          NaN            NaN  \n",
       "8261502                     NaN          NaN            NaN  \n",
       "12005086       Fahrt endet hier          NaN            NaN  \n",
       "12005087       Fahrt endet hier          NaN            NaN  \n",
       "8470821         U Berliner Str.          NaN            NaN  \n",
       "...                         ...          ...            ...  \n",
       "32762325  U Theodor-Heuss-Platz          NaN            NaN  \n",
       "32762342  U Theodor-Heuss-Platz          NaN            NaN  \n",
       "32762343  U Theodor-Heuss-Platz          NaN            NaN  \n",
       "36554192                    NaN          NaN            NaN  \n",
       "36554193                    NaN          NaN            NaN  \n",
       "\n",
       "[282947 rows x 8 columns]"
      ]
     },
     "execution_count": 224,
     "metadata": {},
     "output_type": "execute_result"
    }
   ],
   "source": [
    "pd.concat(g for _, g in gtf_cut.stop_times.groupby([\"trip_id\",\"departure_time\"]) if len(g) > 1)"
   ]
  },
  {
   "cell_type": "markdown",
   "id": "ff030bbd",
   "metadata": {},
   "source": [
    "Routes look like they're duped because they're in different agencies."
   ]
  },
  {
   "cell_type": "code",
   "execution_count": 223,
   "id": "b656b196",
   "metadata": {
    "scrolled": true
   },
   "outputs": [
    {
     "data": {
      "text/html": [
       "<div>\n",
       "<style scoped>\n",
       "    .dataframe tbody tr th:only-of-type {\n",
       "        vertical-align: middle;\n",
       "    }\n",
       "\n",
       "    .dataframe tbody tr th {\n",
       "        vertical-align: top;\n",
       "    }\n",
       "\n",
       "    .dataframe thead th {\n",
       "        text-align: right;\n",
       "    }\n",
       "</style>\n",
       "<table border=\"1\" class=\"dataframe\">\n",
       "  <thead>\n",
       "    <tr style=\"text-align: right;\">\n",
       "      <th></th>\n",
       "      <th>route_long_name</th>\n",
       "      <th>route_short_name</th>\n",
       "      <th>agency_id</th>\n",
       "      <th>route_type</th>\n",
       "      <th>route_id</th>\n",
       "    </tr>\n",
       "  </thead>\n",
       "  <tbody>\n",
       "    <tr>\n",
       "      <th>2188</th>\n",
       "      <td>12</td>\n",
       "      <td>12</td>\n",
       "      <td>134</td>\n",
       "      <td>3</td>\n",
       "      <td>11853</td>\n",
       "    </tr>\n",
       "    <tr>\n",
       "      <th>2194</th>\n",
       "      <td>12</td>\n",
       "      <td>12</td>\n",
       "      <td>157</td>\n",
       "      <td>0</td>\n",
       "      <td>13655</td>\n",
       "    </tr>\n",
       "    <tr>\n",
       "      <th>2203</th>\n",
       "      <td>12</td>\n",
       "      <td>12</td>\n",
       "      <td>195</td>\n",
       "      <td>2</td>\n",
       "      <td>3597</td>\n",
       "    </tr>\n",
       "    <tr>\n",
       "      <th>3270</th>\n",
       "      <td>16</td>\n",
       "      <td>16</td>\n",
       "      <td>134</td>\n",
       "      <td>3</td>\n",
       "      <td>11689</td>\n",
       "    </tr>\n",
       "    <tr>\n",
       "      <th>3274</th>\n",
       "      <td>16</td>\n",
       "      <td>16</td>\n",
       "      <td>157</td>\n",
       "      <td>0</td>\n",
       "      <td>4107</td>\n",
       "    </tr>\n",
       "    <tr>\n",
       "      <th>6214</th>\n",
       "      <td>27</td>\n",
       "      <td>27</td>\n",
       "      <td>157</td>\n",
       "      <td>0</td>\n",
       "      <td>1474</td>\n",
       "    </tr>\n",
       "    <tr>\n",
       "      <th>6221</th>\n",
       "      <td>27</td>\n",
       "      <td>27</td>\n",
       "      <td>195</td>\n",
       "      <td>2</td>\n",
       "      <td>7783</td>\n",
       "    </tr>\n",
       "    <tr>\n",
       "      <th>12383</th>\n",
       "      <td>60</td>\n",
       "      <td>60</td>\n",
       "      <td>157</td>\n",
       "      <td>0</td>\n",
       "      <td>15899</td>\n",
       "    </tr>\n",
       "    <tr>\n",
       "      <th>12384</th>\n",
       "      <td>60</td>\n",
       "      <td>60</td>\n",
       "      <td>157</td>\n",
       "      <td>3</td>\n",
       "      <td>13214</td>\n",
       "    </tr>\n",
       "    <tr>\n",
       "      <th>12611</th>\n",
       "      <td>61</td>\n",
       "      <td>61</td>\n",
       "      <td>157</td>\n",
       "      <td>0</td>\n",
       "      <td>9845</td>\n",
       "    </tr>\n",
       "    <tr>\n",
       "      <th>12612</th>\n",
       "      <td>61</td>\n",
       "      <td>61</td>\n",
       "      <td>157</td>\n",
       "      <td>3</td>\n",
       "      <td>5448</td>\n",
       "    </tr>\n",
       "    <tr>\n",
       "      <th>12893</th>\n",
       "      <td>62</td>\n",
       "      <td>62</td>\n",
       "      <td>157</td>\n",
       "      <td>0</td>\n",
       "      <td>19861</td>\n",
       "    </tr>\n",
       "    <tr>\n",
       "      <th>12894</th>\n",
       "      <td>62</td>\n",
       "      <td>62</td>\n",
       "      <td>157</td>\n",
       "      <td>3</td>\n",
       "      <td>22134</td>\n",
       "    </tr>\n",
       "    <tr>\n",
       "      <th>19938</th>\n",
       "      <td>M4</td>\n",
       "      <td>M4</td>\n",
       "      <td>157</td>\n",
       "      <td>0</td>\n",
       "      <td>15432</td>\n",
       "    </tr>\n",
       "    <tr>\n",
       "      <th>19939</th>\n",
       "      <td>M4</td>\n",
       "      <td>M4</td>\n",
       "      <td>157</td>\n",
       "      <td>3</td>\n",
       "      <td>7468</td>\n",
       "    </tr>\n",
       "    <tr>\n",
       "      <th>20067</th>\n",
       "      <td>N1</td>\n",
       "      <td>N1</td>\n",
       "      <td>134</td>\n",
       "      <td>3</td>\n",
       "      <td>11245</td>\n",
       "    </tr>\n",
       "    <tr>\n",
       "      <th>20070</th>\n",
       "      <td>N1</td>\n",
       "      <td>N1</td>\n",
       "      <td>157</td>\n",
       "      <td>3</td>\n",
       "      <td>19934</td>\n",
       "    </tr>\n",
       "    <tr>\n",
       "      <th>20175</th>\n",
       "      <td>N2</td>\n",
       "      <td>N2</td>\n",
       "      <td>134</td>\n",
       "      <td>3</td>\n",
       "      <td>11858</td>\n",
       "    </tr>\n",
       "    <tr>\n",
       "      <th>20176</th>\n",
       "      <td>N2</td>\n",
       "      <td>N2</td>\n",
       "      <td>157</td>\n",
       "      <td>3</td>\n",
       "      <td>4706</td>\n",
       "    </tr>\n",
       "    <tr>\n",
       "      <th>20247</th>\n",
       "      <td>N3</td>\n",
       "      <td>N3</td>\n",
       "      <td>134</td>\n",
       "      <td>3</td>\n",
       "      <td>13834</td>\n",
       "    </tr>\n",
       "    <tr>\n",
       "      <th>20250</th>\n",
       "      <td>N3</td>\n",
       "      <td>N3</td>\n",
       "      <td>157</td>\n",
       "      <td>3</td>\n",
       "      <td>17723</td>\n",
       "    </tr>\n",
       "    <tr>\n",
       "      <th>20362</th>\n",
       "      <td>N5</td>\n",
       "      <td>N5</td>\n",
       "      <td>134</td>\n",
       "      <td>3</td>\n",
       "      <td>17104</td>\n",
       "    </tr>\n",
       "    <tr>\n",
       "      <th>20364</th>\n",
       "      <td>N5</td>\n",
       "      <td>N5</td>\n",
       "      <td>157</td>\n",
       "      <td>3</td>\n",
       "      <td>16393</td>\n",
       "    </tr>\n",
       "    <tr>\n",
       "      <th>21111</th>\n",
       "      <td>RB24</td>\n",
       "      <td>RB24</td>\n",
       "      <td>195</td>\n",
       "      <td>2</td>\n",
       "      <td>12535</td>\n",
       "    </tr>\n",
       "    <tr>\n",
       "      <th>21112</th>\n",
       "      <td>RB24</td>\n",
       "      <td>RB24</td>\n",
       "      <td>195</td>\n",
       "      <td>3</td>\n",
       "      <td>1299</td>\n",
       "    </tr>\n",
       "    <tr>\n",
       "      <th>21113</th>\n",
       "      <td>RB25</td>\n",
       "      <td>RB25</td>\n",
       "      <td>195</td>\n",
       "      <td>2</td>\n",
       "      <td>16076</td>\n",
       "    </tr>\n",
       "    <tr>\n",
       "      <th>21115</th>\n",
       "      <td>RB25</td>\n",
       "      <td>RB25</td>\n",
       "      <td>38</td>\n",
       "      <td>3</td>\n",
       "      <td>18459</td>\n",
       "    </tr>\n",
       "    <tr>\n",
       "      <th>21209</th>\n",
       "      <td>RE1</td>\n",
       "      <td>RE1</td>\n",
       "      <td>195</td>\n",
       "      <td>2</td>\n",
       "      <td>7016</td>\n",
       "    </tr>\n",
       "    <tr>\n",
       "      <th>21210</th>\n",
       "      <td>RE1</td>\n",
       "      <td>RE1</td>\n",
       "      <td>195</td>\n",
       "      <td>3</td>\n",
       "      <td>2308</td>\n",
       "    </tr>\n",
       "    <tr>\n",
       "      <th>21620</th>\n",
       "      <td>S2</td>\n",
       "      <td>S2</td>\n",
       "      <td>78</td>\n",
       "      <td>2</td>\n",
       "      <td>20562</td>\n",
       "    </tr>\n",
       "    <tr>\n",
       "      <th>21621</th>\n",
       "      <td>S2</td>\n",
       "      <td>S2</td>\n",
       "      <td>78</td>\n",
       "      <td>3</td>\n",
       "      <td>16127</td>\n",
       "    </tr>\n",
       "    <tr>\n",
       "      <th>21671</th>\n",
       "      <td>S41</td>\n",
       "      <td>S41</td>\n",
       "      <td>78</td>\n",
       "      <td>2</td>\n",
       "      <td>18223</td>\n",
       "    </tr>\n",
       "    <tr>\n",
       "      <th>21672</th>\n",
       "      <td>S41</td>\n",
       "      <td>S41</td>\n",
       "      <td>78</td>\n",
       "      <td>3</td>\n",
       "      <td>2084</td>\n",
       "    </tr>\n",
       "    <tr>\n",
       "      <th>21674</th>\n",
       "      <td>S42</td>\n",
       "      <td>S42</td>\n",
       "      <td>78</td>\n",
       "      <td>2</td>\n",
       "      <td>6689</td>\n",
       "    </tr>\n",
       "    <tr>\n",
       "      <th>21675</th>\n",
       "      <td>S42</td>\n",
       "      <td>S42</td>\n",
       "      <td>78</td>\n",
       "      <td>3</td>\n",
       "      <td>6410</td>\n",
       "    </tr>\n",
       "    <tr>\n",
       "      <th>21687</th>\n",
       "      <td>S5</td>\n",
       "      <td>S5</td>\n",
       "      <td>78</td>\n",
       "      <td>2</td>\n",
       "      <td>21672</td>\n",
       "    </tr>\n",
       "    <tr>\n",
       "      <th>21688</th>\n",
       "      <td>S5</td>\n",
       "      <td>S5</td>\n",
       "      <td>78</td>\n",
       "      <td>3</td>\n",
       "      <td>14694</td>\n",
       "    </tr>\n",
       "    <tr>\n",
       "      <th>22278</th>\n",
       "      <td>U6</td>\n",
       "      <td>U6</td>\n",
       "      <td>157</td>\n",
       "      <td>1</td>\n",
       "      <td>7821</td>\n",
       "    </tr>\n",
       "    <tr>\n",
       "      <th>22279</th>\n",
       "      <td>U6</td>\n",
       "      <td>U6</td>\n",
       "      <td>157</td>\n",
       "      <td>3</td>\n",
       "      <td>15521</td>\n",
       "    </tr>\n",
       "  </tbody>\n",
       "</table>\n",
       "</div>"
      ],
      "text/plain": [
       "      route_long_name route_short_name agency_id  route_type route_id\n",
       "2188               12               12       134           3    11853\n",
       "2194               12               12       157           0    13655\n",
       "2203               12               12       195           2     3597\n",
       "3270               16               16       134           3    11689\n",
       "3274               16               16       157           0     4107\n",
       "6214               27               27       157           0     1474\n",
       "6221               27               27       195           2     7783\n",
       "12383              60               60       157           0    15899\n",
       "12384              60               60       157           3    13214\n",
       "12611              61               61       157           0     9845\n",
       "12612              61               61       157           3     5448\n",
       "12893              62               62       157           0    19861\n",
       "12894              62               62       157           3    22134\n",
       "19938              M4               M4       157           0    15432\n",
       "19939              M4               M4       157           3     7468\n",
       "20067              N1               N1       134           3    11245\n",
       "20070              N1               N1       157           3    19934\n",
       "20175              N2               N2       134           3    11858\n",
       "20176              N2               N2       157           3     4706\n",
       "20247              N3               N3       134           3    13834\n",
       "20250              N3               N3       157           3    17723\n",
       "20362              N5               N5       134           3    17104\n",
       "20364              N5               N5       157           3    16393\n",
       "21111            RB24             RB24       195           2    12535\n",
       "21112            RB24             RB24       195           3     1299\n",
       "21113            RB25             RB25       195           2    16076\n",
       "21115            RB25             RB25        38           3    18459\n",
       "21209             RE1              RE1       195           2     7016\n",
       "21210             RE1              RE1       195           3     2308\n",
       "21620              S2               S2        78           2    20562\n",
       "21621              S2               S2        78           3    16127\n",
       "21671             S41              S41        78           2    18223\n",
       "21672             S41              S41        78           3     2084\n",
       "21674             S42              S42        78           2     6689\n",
       "21675             S42              S42        78           3     6410\n",
       "21687              S5               S5        78           2    21672\n",
       "21688              S5               S5        78           3    14694\n",
       "22278              U6               U6       157           1     7821\n",
       "22279              U6               U6       157           3    15521"
      ]
     },
     "execution_count": 223,
     "metadata": {},
     "output_type": "execute_result"
    }
   ],
   "source": [
    "pd.concat(g for _, g in gtf_cut.routes.groupby([\"route_short_name\",\"route_long_name\"]) if len(g) > 1)"
   ]
  },
  {
   "cell_type": "markdown",
   "id": "39ecf815",
   "metadata": {},
   "source": [
    "Brosi has weird route_types!!"
   ]
  },
  {
   "cell_type": "code",
   "execution_count": 196,
   "id": "0a5ec7f7",
   "metadata": {},
   "outputs": [
    {
     "data": {
      "text/plain": [
       "array([ 700,  900,    3, 1000,  109,  400,    0,    2,    4,    1])"
      ]
     },
     "execution_count": 196,
     "metadata": {},
     "output_type": "execute_result"
    }
   ],
   "source": [
    "gtf_cut.routes.route_type.unique()"
   ]
  },
  {
   "cell_type": "markdown",
   "id": "dd6baa58",
   "metadata": {},
   "source": [
    "We have edge cases where parent stations get cut away!"
   ]
  },
  {
   "cell_type": "code",
   "execution_count": 198,
   "id": "1fe06fd8",
   "metadata": {},
   "outputs": [
    {
     "data": {
      "text/plain": [
       "stop_name              Stahnsdorfer Brücke\n",
       "parent_station                      166875\n",
       "stop_code                          SDBR 01\n",
       "zone_id                                NaN\n",
       "stop_id                             138897\n",
       "stop_lat                         52.391384\n",
       "stop_lon                         13.131384\n",
       "location_type                          NaN\n",
       "wheelchair_boarding                    NaN\n",
       "platform_code                          NaN\n",
       "geometry                              None\n",
       "Name: 605233, dtype: object"
      ]
     },
     "execution_count": 198,
     "metadata": {},
     "output_type": "execute_result"
    }
   ],
   "source": [
    "gtf_cut.stops.loc[605233]"
   ]
  },
  {
   "cell_type": "code",
   "execution_count": 199,
   "id": "e4a0742a",
   "metadata": {},
   "outputs": [
    {
     "data": {
      "text/html": [
       "<div>\n",
       "<style scoped>\n",
       "    .dataframe tbody tr th:only-of-type {\n",
       "        vertical-align: middle;\n",
       "    }\n",
       "\n",
       "    .dataframe tbody tr th {\n",
       "        vertical-align: top;\n",
       "    }\n",
       "\n",
       "    .dataframe thead th {\n",
       "        text-align: right;\n",
       "    }\n",
       "</style>\n",
       "<table border=\"1\" class=\"dataframe\">\n",
       "  <thead>\n",
       "    <tr style=\"text-align: right;\">\n",
       "      <th></th>\n",
       "      <th>stop_name</th>\n",
       "      <th>parent_station</th>\n",
       "      <th>stop_code</th>\n",
       "      <th>zone_id</th>\n",
       "      <th>stop_id</th>\n",
       "      <th>stop_lat</th>\n",
       "      <th>stop_lon</th>\n",
       "      <th>location_type</th>\n",
       "      <th>wheelchair_boarding</th>\n",
       "      <th>platform_code</th>\n",
       "      <th>geometry</th>\n",
       "    </tr>\n",
       "  </thead>\n",
       "  <tbody>\n",
       "  </tbody>\n",
       "</table>\n",
       "</div>"
      ],
      "text/plain": [
       "Empty DataFrame\n",
       "Columns: [stop_name, parent_station, stop_code, zone_id, stop_id, stop_lat, stop_lon, location_type, wheelchair_boarding, platform_code, geometry]\n",
       "Index: []"
      ]
     },
     "execution_count": 199,
     "metadata": {},
     "output_type": "execute_result"
    }
   ],
   "source": [
    "gtf_cut.stops[gtf_cut.stops.stop_id==166875]"
   ]
  },
  {
   "cell_type": "code",
   "execution_count": 200,
   "id": "6ce8f3a1",
   "metadata": {},
   "outputs": [
    {
     "data": {
      "text/html": [
       "<div>\n",
       "<style scoped>\n",
       "    .dataframe tbody tr th:only-of-type {\n",
       "        vertical-align: middle;\n",
       "    }\n",
       "\n",
       "    .dataframe tbody tr th {\n",
       "        vertical-align: top;\n",
       "    }\n",
       "\n",
       "    .dataframe thead th {\n",
       "        text-align: right;\n",
       "    }\n",
       "</style>\n",
       "<table border=\"1\" class=\"dataframe\">\n",
       "  <thead>\n",
       "    <tr style=\"text-align: right;\">\n",
       "      <th></th>\n",
       "      <th>stop_name</th>\n",
       "      <th>parent_station</th>\n",
       "      <th>stop_code</th>\n",
       "      <th>zone_id</th>\n",
       "      <th>stop_id</th>\n",
       "      <th>stop_lat</th>\n",
       "      <th>stop_lon</th>\n",
       "      <th>location_type</th>\n",
       "      <th>wheelchair_boarding</th>\n",
       "      <th>platform_code</th>\n",
       "      <th>geometry</th>\n",
       "    </tr>\n",
       "  </thead>\n",
       "  <tbody>\n",
       "    <tr>\n",
       "      <th>64756</th>\n",
       "      <td>Berlin, Stahnsdorfer Brücke</td>\n",
       "      <td>NaN</td>\n",
       "      <td>NaN</td>\n",
       "      <td>NaN</td>\n",
       "      <td>166875</td>\n",
       "      <td>52.391556</td>\n",
       "      <td>13.131558</td>\n",
       "      <td>1.0</td>\n",
       "      <td>NaN</td>\n",
       "      <td>NaN</td>\n",
       "      <td>POINT (13.13156 52.39156)</td>\n",
       "    </tr>\n",
       "  </tbody>\n",
       "</table>\n",
       "</div>"
      ],
      "text/plain": [
       "                         stop_name parent_station stop_code zone_id stop_id  \\\n",
       "64756  Berlin, Stahnsdorfer Brücke            NaN       NaN     NaN  166875   \n",
       "\n",
       "        stop_lat   stop_lon  location_type  wheelchair_boarding platform_code  \\\n",
       "64756  52.391556  13.131558            1.0                  NaN           NaN   \n",
       "\n",
       "                        geometry  \n",
       "64756  POINT (13.13156 52.39156)  "
      ]
     },
     "execution_count": 200,
     "metadata": {},
     "output_type": "execute_result"
    }
   ],
   "source": [
    "gtf.stops[gtf.stops.stop_id=='166875']"
   ]
  },
  {
   "cell_type": "markdown",
   "id": "b57bd03b",
   "metadata": {},
   "source": [
    "# Test:"
   ]
  },
  {
   "cell_type": "code",
   "execution_count": 1,
   "id": "ef6fd963",
   "metadata": {},
   "outputs": [],
   "source": [
    "import gtfs_kit_scissors as gks"
   ]
  },
  {
   "cell_type": "code",
   "execution_count": 6,
   "id": "1ab4b864",
   "metadata": {},
   "outputs": [],
   "source": [
    "gtf = gk.read_feed(paths[2021], dist_units='km')"
   ]
  },
  {
   "cell_type": "code",
   "execution_count": 7,
   "id": "641b922f",
   "metadata": {},
   "outputs": [],
   "source": [
    "kreise_gdf = gpd.read_file(\"/mnt/c/Users/maita.schade/Nextcloud/Documents/Work/Gap_Map/raw/geo/vg250-ew_12-31.utm32s.shape.ebenen/vg250-ew_ebenen_1231/VG250_KRS.shp\"\n",
    "                          ).to_crs(\"epsg:4326\")\n",
    "\n",
    "shape = kreise_gdf[kreise_gdf.GEN==\"Essen\"]"
   ]
  },
  {
   "cell_type": "code",
   "execution_count": 8,
   "id": "dc828eff",
   "metadata": {},
   "outputs": [
    {
     "data": {
      "text/html": [
       "<div>\n",
       "<style scoped>\n",
       "    .dataframe tbody tr th:only-of-type {\n",
       "        vertical-align: middle;\n",
       "    }\n",
       "\n",
       "    .dataframe tbody tr th {\n",
       "        vertical-align: top;\n",
       "    }\n",
       "\n",
       "    .dataframe thead th {\n",
       "        text-align: right;\n",
       "    }\n",
       "</style>\n",
       "<table border=\"1\" class=\"dataframe\">\n",
       "  <thead>\n",
       "    <tr style=\"text-align: right;\">\n",
       "      <th></th>\n",
       "      <th>ADE</th>\n",
       "      <th>GF</th>\n",
       "      <th>BSG</th>\n",
       "      <th>ARS</th>\n",
       "      <th>AGS</th>\n",
       "      <th>SDV_ARS</th>\n",
       "      <th>GEN</th>\n",
       "      <th>BEZ</th>\n",
       "      <th>IBZ</th>\n",
       "      <th>BEM</th>\n",
       "      <th>...</th>\n",
       "      <th>ARS_0</th>\n",
       "      <th>AGS_0</th>\n",
       "      <th>WSK</th>\n",
       "      <th>EWZ</th>\n",
       "      <th>KFL</th>\n",
       "      <th>DEBKG_ID</th>\n",
       "      <th>RS</th>\n",
       "      <th>SDV_RS</th>\n",
       "      <th>RS_0</th>\n",
       "      <th>geometry</th>\n",
       "    </tr>\n",
       "  </thead>\n",
       "  <tbody>\n",
       "    <tr>\n",
       "      <th>65</th>\n",
       "      <td>4</td>\n",
       "      <td>4</td>\n",
       "      <td>1</td>\n",
       "      <td>05113</td>\n",
       "      <td>05113</td>\n",
       "      <td>051130000000</td>\n",
       "      <td>Essen</td>\n",
       "      <td>Kreisfreie Stadt</td>\n",
       "      <td>40</td>\n",
       "      <td>--</td>\n",
       "      <td>...</td>\n",
       "      <td>051130000000</td>\n",
       "      <td>05113000</td>\n",
       "      <td>2006-10-01</td>\n",
       "      <td>582760</td>\n",
       "      <td>210.34</td>\n",
       "      <td>DEBKGDL20000E4ZN</td>\n",
       "      <td>05113</td>\n",
       "      <td>051130000000</td>\n",
       "      <td>051130000000</td>\n",
       "      <td>POLYGON ((7.01895 51.52054, 7.02071 51.51806, ...</td>\n",
       "    </tr>\n",
       "  </tbody>\n",
       "</table>\n",
       "<p>1 rows × 29 columns</p>\n",
       "</div>"
      ],
      "text/plain": [
       "    ADE  GF  BSG    ARS    AGS       SDV_ARS    GEN               BEZ  IBZ  \\\n",
       "65    4   4    1  05113  05113  051130000000  Essen  Kreisfreie Stadt   40   \n",
       "\n",
       "   BEM  ...         ARS_0     AGS_0         WSK     EWZ     KFL  \\\n",
       "65  --  ...  051130000000  05113000  2006-10-01  582760  210.34   \n",
       "\n",
       "            DEBKG_ID     RS        SDV_RS          RS_0  \\\n",
       "65  DEBKGDL20000E4ZN  05113  051130000000  051130000000   \n",
       "\n",
       "                                             geometry  \n",
       "65  POLYGON ((7.01895 51.52054, 7.02071 51.51806, ...  \n",
       "\n",
       "[1 rows x 29 columns]"
      ]
     },
     "execution_count": 8,
     "metadata": {},
     "output_type": "execute_result"
    }
   ],
   "source": [
    "shape"
   ]
  },
  {
   "cell_type": "code",
   "execution_count": 9,
   "id": "e1433f00",
   "metadata": {
    "scrolled": true
   },
   "outputs": [
    {
     "name": "stdout",
     "output_type": "stream",
     "text": [
      "Calendar reduction: 22.0%\n",
      "Calendar_dates reduction: 97.6%\n",
      "Trips reduction: 50.8%\n",
      "Routes reduction: 14.7%\n",
      "Stop_times reduction: 49.8%\n",
      "Stops reduction: 12.5%\n",
      "Agencies reduction: 11.7%\n"
     ]
    }
   ],
   "source": [
    "mar21_scissored = gks.cut_dates(gtf, [\"20210301\",\"20210331\"], validate=False)"
   ]
  },
  {
   "cell_type": "code",
   "execution_count": 10,
   "id": "dc5e33ec",
   "metadata": {},
   "outputs": [],
   "source": [
    "mar21_gtk = gtf.restrict_to_dates([\"20210301\",\"20210331\"])"
   ]
  },
  {
   "cell_type": "code",
   "execution_count": 13,
   "id": "ffff63f8",
   "metadata": {},
   "outputs": [
    {
     "data": {
      "text/html": [
       "<div>\n",
       "<style scoped>\n",
       "    .dataframe tbody tr th:only-of-type {\n",
       "        vertical-align: middle;\n",
       "    }\n",
       "\n",
       "    .dataframe tbody tr th {\n",
       "        vertical-align: top;\n",
       "    }\n",
       "\n",
       "    .dataframe thead th {\n",
       "        text-align: right;\n",
       "    }\n",
       "</style>\n",
       "<table border=\"1\" class=\"dataframe\">\n",
       "  <thead>\n",
       "    <tr style=\"text-align: right;\">\n",
       "      <th></th>\n",
       "      <th>route_long_name</th>\n",
       "      <th>route_short_name</th>\n",
       "      <th>agency_id</th>\n",
       "      <th>route_type</th>\n",
       "      <th>route_id</th>\n",
       "    </tr>\n",
       "  </thead>\n",
       "  <tbody>\n",
       "    <tr>\n",
       "      <th>0</th>\n",
       "      <td>0</td>\n",
       "      <td>0</td>\n",
       "      <td>252</td>\n",
       "      <td>0</td>\n",
       "      <td>7896</td>\n",
       "    </tr>\n",
       "    <tr>\n",
       "      <th>1</th>\n",
       "      <td>000</td>\n",
       "      <td>000</td>\n",
       "      <td>120</td>\n",
       "      <td>3</td>\n",
       "      <td>14654</td>\n",
       "    </tr>\n",
       "    <tr>\n",
       "      <th>3</th>\n",
       "      <td>001</td>\n",
       "      <td>001</td>\n",
       "      <td>120</td>\n",
       "      <td>3</td>\n",
       "      <td>6811</td>\n",
       "    </tr>\n",
       "    <tr>\n",
       "      <th>4</th>\n",
       "      <td>001</td>\n",
       "      <td>001</td>\n",
       "      <td>4</td>\n",
       "      <td>3</td>\n",
       "      <td>19387</td>\n",
       "    </tr>\n",
       "    <tr>\n",
       "      <th>5</th>\n",
       "      <td>002</td>\n",
       "      <td>002</td>\n",
       "      <td>120</td>\n",
       "      <td>3</td>\n",
       "      <td>17729</td>\n",
       "    </tr>\n",
       "    <tr>\n",
       "      <th>...</th>\n",
       "      <td>...</td>\n",
       "      <td>...</td>\n",
       "      <td>...</td>\n",
       "      <td>...</td>\n",
       "      <td>...</td>\n",
       "    </tr>\n",
       "    <tr>\n",
       "      <th>23758</th>\n",
       "      <td>n65</td>\n",
       "      <td>n65</td>\n",
       "      <td>97</td>\n",
       "      <td>3</td>\n",
       "      <td>6648</td>\n",
       "    </tr>\n",
       "    <tr>\n",
       "      <th>23760</th>\n",
       "      <td>n71</td>\n",
       "      <td>n71</td>\n",
       "      <td>97</td>\n",
       "      <td>3</td>\n",
       "      <td>16393</td>\n",
       "    </tr>\n",
       "    <tr>\n",
       "      <th>23761</th>\n",
       "      <td>n72</td>\n",
       "      <td>n72</td>\n",
       "      <td>97</td>\n",
       "      <td>3</td>\n",
       "      <td>13830</td>\n",
       "    </tr>\n",
       "    <tr>\n",
       "      <th>23763</th>\n",
       "      <td>n96</td>\n",
       "      <td>n96</td>\n",
       "      <td>97</td>\n",
       "      <td>3</td>\n",
       "      <td>13144</td>\n",
       "    </tr>\n",
       "    <tr>\n",
       "      <th>23764</th>\n",
       "      <td>~ E ~</td>\n",
       "      <td>~ E ~</td>\n",
       "      <td>85</td>\n",
       "      <td>3</td>\n",
       "      <td>19012</td>\n",
       "    </tr>\n",
       "  </tbody>\n",
       "</table>\n",
       "<p>20282 rows × 5 columns</p>\n",
       "</div>"
      ],
      "text/plain": [
       "      route_long_name route_short_name agency_id  route_type route_id\n",
       "0                   0                0       252           0     7896\n",
       "1                 000              000       120           3    14654\n",
       "3                 001              001       120           3     6811\n",
       "4                 001              001         4           3    19387\n",
       "5                 002              002       120           3    17729\n",
       "...               ...              ...       ...         ...      ...\n",
       "23758             n65              n65        97           3     6648\n",
       "23760             n71              n71        97           3    16393\n",
       "23761             n72              n72        97           3    13830\n",
       "23763             n96              n96        97           3    13144\n",
       "23764           ~ E ~            ~ E ~        85           3    19012\n",
       "\n",
       "[20282 rows x 5 columns]"
      ]
     },
     "execution_count": 13,
     "metadata": {},
     "output_type": "execute_result"
    }
   ],
   "source": [
    "mar21_scissored.routes"
   ]
  },
  {
   "cell_type": "code",
   "execution_count": 11,
   "id": "6f16275b",
   "metadata": {},
   "outputs": [
    {
     "data": {
      "text/html": [
       "<div>\n",
       "<style scoped>\n",
       "    .dataframe tbody tr th:only-of-type {\n",
       "        vertical-align: middle;\n",
       "    }\n",
       "\n",
       "    .dataframe tbody tr th {\n",
       "        vertical-align: top;\n",
       "    }\n",
       "\n",
       "    .dataframe thead th {\n",
       "        text-align: right;\n",
       "    }\n",
       "</style>\n",
       "<table border=\"1\" class=\"dataframe\">\n",
       "  <thead>\n",
       "    <tr style=\"text-align: right;\">\n",
       "      <th></th>\n",
       "      <th>route_long_name</th>\n",
       "      <th>route_short_name</th>\n",
       "      <th>agency_id</th>\n",
       "      <th>route_type</th>\n",
       "      <th>route_id</th>\n",
       "    </tr>\n",
       "  </thead>\n",
       "  <tbody>\n",
       "    <tr>\n",
       "      <th>0</th>\n",
       "      <td>0</td>\n",
       "      <td>0</td>\n",
       "      <td>252</td>\n",
       "      <td>0</td>\n",
       "      <td>7896</td>\n",
       "    </tr>\n",
       "    <tr>\n",
       "      <th>1</th>\n",
       "      <td>000</td>\n",
       "      <td>000</td>\n",
       "      <td>120</td>\n",
       "      <td>3</td>\n",
       "      <td>14654</td>\n",
       "    </tr>\n",
       "    <tr>\n",
       "      <th>3</th>\n",
       "      <td>001</td>\n",
       "      <td>001</td>\n",
       "      <td>120</td>\n",
       "      <td>3</td>\n",
       "      <td>6811</td>\n",
       "    </tr>\n",
       "    <tr>\n",
       "      <th>4</th>\n",
       "      <td>001</td>\n",
       "      <td>001</td>\n",
       "      <td>4</td>\n",
       "      <td>3</td>\n",
       "      <td>19387</td>\n",
       "    </tr>\n",
       "    <tr>\n",
       "      <th>5</th>\n",
       "      <td>002</td>\n",
       "      <td>002</td>\n",
       "      <td>120</td>\n",
       "      <td>3</td>\n",
       "      <td>17729</td>\n",
       "    </tr>\n",
       "    <tr>\n",
       "      <th>...</th>\n",
       "      <td>...</td>\n",
       "      <td>...</td>\n",
       "      <td>...</td>\n",
       "      <td>...</td>\n",
       "      <td>...</td>\n",
       "    </tr>\n",
       "    <tr>\n",
       "      <th>23758</th>\n",
       "      <td>n65</td>\n",
       "      <td>n65</td>\n",
       "      <td>97</td>\n",
       "      <td>3</td>\n",
       "      <td>6648</td>\n",
       "    </tr>\n",
       "    <tr>\n",
       "      <th>23760</th>\n",
       "      <td>n71</td>\n",
       "      <td>n71</td>\n",
       "      <td>97</td>\n",
       "      <td>3</td>\n",
       "      <td>16393</td>\n",
       "    </tr>\n",
       "    <tr>\n",
       "      <th>23761</th>\n",
       "      <td>n72</td>\n",
       "      <td>n72</td>\n",
       "      <td>97</td>\n",
       "      <td>3</td>\n",
       "      <td>13830</td>\n",
       "    </tr>\n",
       "    <tr>\n",
       "      <th>23763</th>\n",
       "      <td>n96</td>\n",
       "      <td>n96</td>\n",
       "      <td>97</td>\n",
       "      <td>3</td>\n",
       "      <td>13144</td>\n",
       "    </tr>\n",
       "    <tr>\n",
       "      <th>23764</th>\n",
       "      <td>~ E ~</td>\n",
       "      <td>~ E ~</td>\n",
       "      <td>85</td>\n",
       "      <td>3</td>\n",
       "      <td>19012</td>\n",
       "    </tr>\n",
       "  </tbody>\n",
       "</table>\n",
       "<p>18958 rows × 5 columns</p>\n",
       "</div>"
      ],
      "text/plain": [
       "      route_long_name route_short_name agency_id  route_type route_id\n",
       "0                   0                0       252           0     7896\n",
       "1                 000              000       120           3    14654\n",
       "3                 001              001       120           3     6811\n",
       "4                 001              001         4           3    19387\n",
       "5                 002              002       120           3    17729\n",
       "...               ...              ...       ...         ...      ...\n",
       "23758             n65              n65        97           3     6648\n",
       "23760             n71              n71        97           3    16393\n",
       "23761             n72              n72        97           3    13830\n",
       "23763             n96              n96        97           3    13144\n",
       "23764           ~ E ~            ~ E ~        85           3    19012\n",
       "\n",
       "[18958 rows x 5 columns]"
      ]
     },
     "execution_count": 11,
     "metadata": {},
     "output_type": "execute_result"
    }
   ],
   "source": [
    "mar21_gtk.routes"
   ]
  }
 ],
 "metadata": {
  "kernelspec": {
   "display_name": "Python 3",
   "language": "python",
   "name": "python3"
  },
  "language_info": {
   "codemirror_mode": {
    "name": "ipython",
    "version": 3
   },
   "file_extension": ".py",
   "mimetype": "text/x-python",
   "name": "python",
   "nbconvert_exporter": "python",
   "pygments_lexer": "ipython3",
   "version": "3.9.5"
  }
 },
 "nbformat": 4,
 "nbformat_minor": 5
}
