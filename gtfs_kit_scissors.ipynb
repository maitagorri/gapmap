{
 "cells": [
  {
   "cell_type": "code",
   "execution_count": 54,
   "id": "c7692c99",
   "metadata": {},
   "outputs": [],
   "source": [
    "import gtfs_kit as gk\n",
    "import os.path\n",
    "import pandas as pd\n",
    "import geopandas as gpd\n",
    "import geoplot as gplt\n",
    "import datetime as dt\n",
    "import gtfs_functions as gtfs"
   ]
  },
  {
   "cell_type": "code",
   "execution_count": 2,
   "id": "e0645aa0",
   "metadata": {},
   "outputs": [],
   "source": [
    "gtfs_dir = \"/mnt/c/Users/maita.schade/Nextcloud/Documents/Work/Gap_Map/raw/gtfs\"\n",
    "years = [2020, 2021]\n",
    "paths = {y: os.path.join(gtfs_dir,str(y),str(y)+\".zip\") for y in years}\n",
    "#feeds = {y: gk.read_feed(paths[y], dist_units='km') for y in years}"
   ]
  },
  {
   "cell_type": "markdown",
   "id": "922b06ae",
   "metadata": {},
   "source": [
    "1) Cut by time"
   ]
  },
  {
   "cell_type": "markdown",
   "id": "0b930f43",
   "metadata": {},
   "source": [
    "need dates to cut by..."
   ]
  },
  {
   "cell_type": "code",
   "execution_count": 34,
   "id": "bc4e58f5",
   "metadata": {},
   "outputs": [],
   "source": [
    "window = ('20200301','20200331')"
   ]
  },
  {
   "cell_type": "code",
   "execution_count": 4,
   "id": "008ac683",
   "metadata": {},
   "outputs": [
    {
     "name": "stderr",
     "output_type": "stream",
     "text": [
      "/home/mschade/anaconda3/envs/gapmapbox/lib/python3.9/site-packages/IPython/core/interactiveshell.py:3437: DtypeWarning: Columns (9) have mixed types.Specify dtype option on import or set low_memory=False.\n",
      "  exec(code_obj, self.user_global_ns, self.user_ns)\n"
     ]
    }
   ],
   "source": [
    "gtf = gk.read_feed(paths[2020], dist_units='km')"
   ]
  },
  {
   "cell_type": "code",
   "execution_count": 9,
   "id": "1d8a17f7",
   "metadata": {},
   "outputs": [
    {
     "data": {
      "text/plain": [
       "False"
      ]
     },
     "execution_count": 9,
     "metadata": {},
     "output_type": "execute_result"
    }
   ],
   "source": [
    "gtf.calendar_dates.date[1] < gtf.calendar.start_date[1]"
   ]
  },
  {
   "cell_type": "code",
   "execution_count": 10,
   "id": "ce1655ee",
   "metadata": {},
   "outputs": [
    {
     "data": {
      "text/plain": [
       "'20191215'"
      ]
     },
     "execution_count": 10,
     "metadata": {},
     "output_type": "execute_result"
    }
   ],
   "source": [
    "gtf.calendar.start_date[1]"
   ]
  },
  {
   "cell_type": "code",
   "execution_count": 11,
   "id": "09629f1f",
   "metadata": {},
   "outputs": [
    {
     "data": {
      "text/plain": [
       "'20191218'"
      ]
     },
     "execution_count": 11,
     "metadata": {},
     "output_type": "execute_result"
    }
   ],
   "source": [
    "gtf.calendar_dates.date[1]"
   ]
  },
  {
   "cell_type": "code",
   "execution_count": 78,
   "id": "68c427e9",
   "metadata": {},
   "outputs": [
    {
     "data": {
      "text/plain": [
       "numpy.float64"
      ]
     },
     "execution_count": 78,
     "metadata": {},
     "output_type": "execute_result"
    }
   ],
   "source": [
    "type(gtf.calendar_dates.merge(gtf.calendar, on=\"service_id\", how='outer').loc[272249].exception_type)"
   ]
  },
  {
   "cell_type": "markdown",
   "id": "3a2937ad",
   "metadata": {},
   "source": [
    "Calculate the service windows"
   ]
  },
  {
   "cell_type": "code",
   "execution_count": 69,
   "id": "0be41097",
   "metadata": {},
   "outputs": [
    {
     "data": {
      "text/plain": [
       "False"
      ]
     },
     "execution_count": 69,
     "metadata": {},
     "output_type": "execute_result"
    }
   ],
   "source": [
    "\"20200101\" > \"nan\""
   ]
  },
  {
   "cell_type": "code",
   "execution_count": 99,
   "id": "179f9b9f",
   "metadata": {},
   "outputs": [
    {
     "data": {
      "text/plain": [
       "0    False\n",
       "1    False\n",
       "dtype: bool"
      ]
     },
     "execution_count": 99,
     "metadata": {},
     "output_type": "execute_result"
    }
   ],
   "source": [
    "~pd.isna(s)"
   ]
  },
  {
   "cell_type": "code",
   "execution_count": 100,
   "id": "aa806e0d",
   "metadata": {},
   "outputs": [],
   "source": [
    "def first(s):\n",
    "    s[0]\n",
    "\n",
    "def safeMax(s):\n",
    "    if all(pd.isna(s)):\n",
    "        return pd.NA\n",
    "    else:\n",
    "        return s[~pd.isna(s)].max()\n",
    "    \n",
    "def safeMin(s):\n",
    "    if all(pd.isna(s)):\n",
    "        return pd.NA\n",
    "    else:\n",
    "        return s[~pd.isna(s)].min()\n",
    "    "
   ]
  },
  {
   "cell_type": "code",
   "execution_count": 101,
   "id": "c9424a06",
   "metadata": {},
   "outputs": [],
   "source": [
    "service_windows = gtf.calendar_dates.merge(gtf.calendar, on=\"service_id\", how='outer').groupby(\"service_id\").agg(\n",
    "            min_exc=('date', safeMin),\n",
    "            max_exc=('date', safeMax),\n",
    "            start_date = (\"start_date\", 'first'),\n",
    "            end_date = (\"end_date\", 'first')\n",
    "    ).reset_index()"
   ]
  },
  {
   "cell_type": "code",
   "execution_count": 102,
   "id": "711ebe94",
   "metadata": {},
   "outputs": [
    {
     "data": {
      "text/html": [
       "<div>\n",
       "<style scoped>\n",
       "    .dataframe tbody tr th:only-of-type {\n",
       "        vertical-align: middle;\n",
       "    }\n",
       "\n",
       "    .dataframe tbody tr th {\n",
       "        vertical-align: top;\n",
       "    }\n",
       "\n",
       "    .dataframe thead th {\n",
       "        text-align: right;\n",
       "    }\n",
       "</style>\n",
       "<table border=\"1\" class=\"dataframe\">\n",
       "  <thead>\n",
       "    <tr style=\"text-align: right;\">\n",
       "      <th></th>\n",
       "      <th>service_id</th>\n",
       "      <th>min_exc</th>\n",
       "      <th>max_exc</th>\n",
       "      <th>start_date</th>\n",
       "      <th>end_date</th>\n",
       "    </tr>\n",
       "  </thead>\n",
       "  <tbody>\n",
       "    <tr>\n",
       "      <th>0</th>\n",
       "      <td>1</td>\n",
       "      <td>20191216</td>\n",
       "      <td>20201118</td>\n",
       "      <td>20200106</td>\n",
       "      <td>20201209</td>\n",
       "    </tr>\n",
       "    <tr>\n",
       "      <th>1</th>\n",
       "      <td>10</td>\n",
       "      <td>20191216</td>\n",
       "      <td>20201118</td>\n",
       "      <td>20200203</td>\n",
       "      <td>20201211</td>\n",
       "    </tr>\n",
       "    <tr>\n",
       "      <th>2</th>\n",
       "      <td>100</td>\n",
       "      <td>20200225</td>\n",
       "      <td>20201030</td>\n",
       "      <td>20200908</td>\n",
       "      <td>20200911</td>\n",
       "    </tr>\n",
       "    <tr>\n",
       "      <th>3</th>\n",
       "      <td>1000</td>\n",
       "      <td>20191220</td>\n",
       "      <td>20200611</td>\n",
       "      <td>20191216</td>\n",
       "      <td>20201211</td>\n",
       "    </tr>\n",
       "    <tr>\n",
       "      <th>4</th>\n",
       "      <td>10000</td>\n",
       "      <td>20200224</td>\n",
       "      <td>20200611</td>\n",
       "      <td>20200102</td>\n",
       "      <td>20200612</td>\n",
       "    </tr>\n",
       "    <tr>\n",
       "      <th>...</th>\n",
       "      <td>...</td>\n",
       "      <td>...</td>\n",
       "      <td>...</td>\n",
       "      <td>...</td>\n",
       "      <td>...</td>\n",
       "    </tr>\n",
       "    <tr>\n",
       "      <th>24767</th>\n",
       "      <td>9995</td>\n",
       "      <td>&lt;NA&gt;</td>\n",
       "      <td>&lt;NA&gt;</td>\n",
       "      <td>20200829</td>\n",
       "      <td>20201212</td>\n",
       "    </tr>\n",
       "    <tr>\n",
       "      <th>24768</th>\n",
       "      <td>9996</td>\n",
       "      <td>20191216</td>\n",
       "      <td>20200214</td>\n",
       "      <td>20200106</td>\n",
       "      <td>20200228</td>\n",
       "    </tr>\n",
       "    <tr>\n",
       "      <th>24769</th>\n",
       "      <td>9997</td>\n",
       "      <td>20191225</td>\n",
       "      <td>20200101</td>\n",
       "      <td>20191225</td>\n",
       "      <td>20200328</td>\n",
       "    </tr>\n",
       "    <tr>\n",
       "      <th>24770</th>\n",
       "      <td>9998</td>\n",
       "      <td>20200619</td>\n",
       "      <td>20201004</td>\n",
       "      <td>20200615</td>\n",
       "      <td>20201212</td>\n",
       "    </tr>\n",
       "    <tr>\n",
       "      <th>24771</th>\n",
       "      <td>9999</td>\n",
       "      <td>20191223</td>\n",
       "      <td>20200610</td>\n",
       "      <td>20191215</td>\n",
       "      <td>20201210</td>\n",
       "    </tr>\n",
       "  </tbody>\n",
       "</table>\n",
       "<p>24772 rows × 5 columns</p>\n",
       "</div>"
      ],
      "text/plain": [
       "      service_id   min_exc   max_exc start_date  end_date\n",
       "0              1  20191216  20201118   20200106  20201209\n",
       "1             10  20191216  20201118   20200203  20201211\n",
       "2            100  20200225  20201030   20200908  20200911\n",
       "3           1000  20191220  20200611   20191216  20201211\n",
       "4          10000  20200224  20200611   20200102  20200612\n",
       "...          ...       ...       ...        ...       ...\n",
       "24767       9995      <NA>      <NA>   20200829  20201212\n",
       "24768       9996  20191216  20200214   20200106  20200228\n",
       "24769       9997  20191225  20200101   20191225  20200328\n",
       "24770       9998  20200619  20201004   20200615  20201212\n",
       "24771       9999  20191223  20200610   20191215  20201210\n",
       "\n",
       "[24772 rows x 5 columns]"
      ]
     },
     "execution_count": 102,
     "metadata": {},
     "output_type": "execute_result"
    }
   ],
   "source": [
    "service_windows"
   ]
  },
  {
   "cell_type": "code",
   "execution_count": 104,
   "id": "586cbb05",
   "metadata": {},
   "outputs": [],
   "source": [
    "service_windows['first'] = service_windows.loc[:,'min_exc':'end_date'].apply(safeMin, axis=1) \n",
    "\n",
    "service_windows['last'] = service_windows.loc[:,'min_exc':'end_date'].apply(safeMax, axis=1)\n",
    "\n",
    "service_windows = service_windows[['service_id','first','last']]"
   ]
  },
  {
   "cell_type": "markdown",
   "id": "96d28321",
   "metadata": {},
   "source": [
    "I don't think it actually makes sense to treat calendar and service together... what happens to an exception on an off day?\n",
    "Unfortunately, in the constellation we have here, every exception is supposed to belong to a specific service referenced in calendar"
   ]
  },
  {
   "cell_type": "code",
   "execution_count": 107,
   "id": "58ba3160",
   "metadata": {},
   "outputs": [
    {
     "data": {
      "text/plain": [
       "0         True\n",
       "1        False\n",
       "2         True\n",
       "3         True\n",
       "4         True\n",
       "         ...  \n",
       "23732    False\n",
       "23733    False\n",
       "23734    False\n",
       "23735    False\n",
       "23736    False\n",
       "Name: service_id, Length: 23737, dtype: bool"
      ]
     },
     "execution_count": 107,
     "metadata": {},
     "output_type": "execute_result"
    }
   ],
   "source": [
    "gtf.calendar.service_id.isin(gtf.calendar_dates.service_id)"
   ]
  },
  {
   "cell_type": "code",
   "execution_count": 110,
   "id": "e14c6c4a",
   "metadata": {},
   "outputs": [
    {
     "data": {
      "text/plain": [
       "0"
      ]
     },
     "execution_count": 110,
     "metadata": {},
     "output_type": "execute_result"
    }
   ],
   "source": [
    "(~gtf.calendar_dates.service_id.isin(gtf.calendar_dates.service_id)).sum()"
   ]
  },
  {
   "cell_type": "markdown",
   "id": "ca6f7536",
   "metadata": {},
   "source": [
    "Pick applicable services"
   ]
  },
  {
   "cell_type": "code",
   "execution_count": 37,
   "id": "7a2dbc78",
   "metadata": {},
   "outputs": [],
   "source": [
    "services = service_windows[\n",
    "    (service_windows['first'] < window[1]) & (service_windows['last'] > window[0])\n",
    "    ].service_id"
   ]
  },
  {
   "cell_type": "markdown",
   "id": "4892d21c",
   "metadata": {},
   "source": [
    "Filter calendar, calendar_dates by service"
   ]
  },
  {
   "cell_type": "code",
   "execution_count": 38,
   "id": "e1287c15",
   "metadata": {},
   "outputs": [],
   "source": [
    "calendar = gtf.calendar[gtf.calendar.service_id.isin(services)]"
   ]
  },
  {
   "cell_type": "code",
   "execution_count": 40,
   "id": "2a575ce5",
   "metadata": {},
   "outputs": [],
   "source": [
    "calendar_dates = gtf.calendar_dates[gtf.calendar_dates.service_id.isin(services)]"
   ]
  },
  {
   "cell_type": "markdown",
   "id": "17500717",
   "metadata": {},
   "source": [
    "Adjust dates so max, min are ok"
   ]
  },
  {
   "cell_type": "markdown",
   "id": "5592b43e",
   "metadata": {},
   "source": [
    "First, the calendar itself"
   ]
  },
  {
   "cell_type": "code",
   "execution_count": 48,
   "id": "fdb82e64",
   "metadata": {},
   "outputs": [
    {
     "data": {
      "text/plain": [
       "monday               1\n",
       "tuesday              1\n",
       "wednesday            1\n",
       "thursday             1\n",
       "friday               1\n",
       "saturday             1\n",
       "sunday               1\n",
       "start_date    20201109\n",
       "end_date      20201212\n",
       "service_id        4142\n",
       "Name: 23716, dtype: object"
      ]
     },
     "execution_count": 48,
     "metadata": {},
     "output_type": "execute_result"
    }
   ],
   "source": [
    "calendar.loc[23716,:]"
   ]
  },
  {
   "cell_type": "code",
   "execution_count": null,
   "id": "d8b913a8",
   "metadata": {},
   "outputs": [],
   "source": [
    "calendar_dates"
   ]
  },
  {
   "cell_type": "code",
   "execution_count": 46,
   "id": "13ba7766",
   "metadata": {},
   "outputs": [],
   "source": [
    "def elementMax(s, e):\n",
    "    return s.apply(lambda e1: max(e1, e))"
   ]
  },
  {
   "cell_type": "code",
   "execution_count": 47,
   "id": "03b7dec2",
   "metadata": {},
   "outputs": [
    {
     "data": {
      "text/plain": [
       "0        20200301\n",
       "2        20200301\n",
       "7        20200301\n",
       "9        20200301\n",
       "10       20200301\n",
       "           ...   \n",
       "23633    20200925\n",
       "23676    20201101\n",
       "23678    20201101\n",
       "23705    20201107\n",
       "23716    20201109\n",
       "Name: start_date, Length: 13456, dtype: object"
      ]
     },
     "execution_count": 47,
     "metadata": {},
     "output_type": "execute_result"
    }
   ],
   "source": [
    "elementMax(calendar.start_date, window[0])"
   ]
  },
  {
   "cell_type": "code",
   "execution_count": null,
   "id": "20573035",
   "metadata": {},
   "outputs": [],
   "source": []
  }
 ],
 "metadata": {
  "kernelspec": {
   "display_name": "Python 3",
   "language": "python",
   "name": "python3"
  },
  "language_info": {
   "codemirror_mode": {
    "name": "ipython",
    "version": 3
   },
   "file_extension": ".py",
   "mimetype": "text/x-python",
   "name": "python",
   "nbconvert_exporter": "python",
   "pygments_lexer": "ipython3",
   "version": "3.9.5"
  }
 },
 "nbformat": 4,
 "nbformat_minor": 5
}
